{
 "cells": [
  {
   "cell_type": "markdown",
   "id": "4bf332ce",
   "metadata": {},
   "source": [
    "#### Activating Virtual Environment\n",
    "\n",
    "virtualenv venv\n",
    "python3 -m venv venv\n",
    "source venv/bin/activate\n",
    "pip3 install -r requirements.txt "
   ]
  },
  {
   "cell_type": "code",
   "execution_count": 2,
   "id": "0f301e7e",
   "metadata": {
    "ExecuteTime": {
     "end_time": "2025-01-22T20:12:43.833136Z",
     "start_time": "2025-01-22T20:12:43.746778Z"
    }
   },
   "outputs": [
    {
     "name": "stderr",
     "output_type": "stream",
     "text": [
      "'virtualenv' is not recognized as an internal or external command,\n",
      "operable program or batch file.\n"
     ]
    }
   ],
   "source": [
    "!virtualenv venv"
   ]
  },
  {
   "cell_type": "code",
   "execution_count": null,
   "id": "c580f1b4",
   "metadata": {},
   "outputs": [],
   "source": []
  }
 ],
 "metadata": {
  "kernelspec": {
   "display_name": "Python 3 (ipykernel)",
   "language": "python",
   "name": "python3"
  },
  "language_info": {
   "codemirror_mode": {
    "name": "ipython",
    "version": 3
   },
   "file_extension": ".py",
   "mimetype": "text/x-python",
   "name": "python",
   "nbconvert_exporter": "python",
   "pygments_lexer": "ipython3",
   "version": "3.9.6"
  }
 },
 "nbformat": 4,
 "nbformat_minor": 5
}
