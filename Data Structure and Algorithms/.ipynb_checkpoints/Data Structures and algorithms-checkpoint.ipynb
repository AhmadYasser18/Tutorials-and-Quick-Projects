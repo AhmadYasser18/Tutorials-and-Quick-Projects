{
 "cells": [
  {
   "cell_type": "markdown",
   "id": "b1e579d8",
   "metadata": {},
   "source": [
    "While comparing/analyzing algorithms their certain factors that determine how good it is:\n",
    "\n",
    "**Efficiency**:used could be represented by many metrics, some are:<br>\n",
    "<ul><li>Memory space\n",
    "    <li>Runtime\n",
    "    <li>number of swaps/comparisons [for sorting algorithms]\n",
    "</ul>        \n",
    "<b>Runtime:</b> the simple definition is that refers to the amount of time it takes to solve a problem using an algorithm.<br>\n",
    "&emsp;&emsp;&emsp;&emsp; <b>Primitive Operations:</b> operations that take one time unit.<br>\n",
    "&emsp;&emsp;&emsp;&emsp; As such the runtime could be defined as the number of primitive operations needed to solve the problem. "
   ]
  },
  {
   "cell_type": "code",
   "execution_count": null,
   "id": "cc9afb76",
   "metadata": {},
   "outputs": [],
   "source": []
  }
 ],
 "metadata": {
  "kernelspec": {
   "display_name": "Python 3 (ipykernel)",
   "language": "python",
   "name": "python3"
  },
  "language_info": {
   "codemirror_mode": {
    "name": "ipython",
    "version": 3
   },
   "file_extension": ".py",
   "mimetype": "text/x-python",
   "name": "python",
   "nbconvert_exporter": "python",
   "pygments_lexer": "ipython3",
   "version": "3.9.6"
  }
 },
 "nbformat": 4,
 "nbformat_minor": 5
}
