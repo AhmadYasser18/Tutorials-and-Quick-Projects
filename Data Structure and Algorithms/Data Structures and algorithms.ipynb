{
 "cells": [
  {
   "cell_type": "markdown",
   "id": "dc33a3bc",
   "metadata": {},
   "source": [
    "<dev>\n",
    "    <h2>Data Structure:</h2>\n",
    "\n",
    "is a data organization, managementand storage format that enables efficient access and modification [Access, Insertion, Deletion, Search]. \n",
    "<br>\n",
    "    <h3>Types:</h3>\n",
    "    <ul>\n",
    "        <li>Primitve Data structures:\n",
    "            <ul>\n",
    "                <li>interger\n",
    "                <li>float\n",
    "                <li>character\n",
    "                <li>pointers\n",
    "            </ul> \n",
    "        <li>Non-Primitve Data structures:\n",
    "            <ul>\n",
    "                <li>Linear Data structures:\n",
    "                    <ul>\n",
    "                        <li>Array\n",
    "                        <li>Linked List\n",
    "                        <li>Stack\n",
    "                        <li>Queue\n",
    "                    </ul>\n",
    "                <li>Non-linear Data structures:\n",
    "                    <ul>\n",
    "                        <li>Trees\n",
    "                        <li>Graphs\n",
    "                    </ul>\n",
    "            </ul>\n",
    "    </ul>\n",
    "</dev>\n",
    "<dev>\n",
    "    <h2>Algorithms</h2>\n",
    "    \n",
    "      While comparing/analyzing algorithms their certain factors that determine how good it is:\n",
    "\n",
    "**Efficiency**:used could be represented by many metrics, some are:\n",
    "    <ul>\n",
    "    <li>Memory space\n",
    "    <li>Runtime\n",
    "    <li>number of swaps/comparisons [for sorting algorithms]\n",
    "</ul>        \n",
    "<b>Runtime:</b> the simple definition is that refers to the amount of time it takes to solve a problem using an algorithm<br>\n",
    "&emsp;&emsp;&emsp;&emsp; <b>Primitive Operations:</b> operations that take one time unit.<br>\n",
    "&emsp;&emsp;&emsp;&emsp; As such the runtime could be defined as the number of primitive operations needed to solve the problem. \n",
    "<br>    \n",
    "    <h3>Complexity</h3>\n",
    "    \n",
    "When searching for an element one of three cases could be faced:\n",
    "        \n",
    "    - Best Case [Omega Notation]\n",
    "    - Average/Middle Case [Theta Notation]\n",
    "    - Worst Case [Big O Notation]\n",
    "The main focus when comparing algorithms is the Big O notation. \n",
    "    <h4>Big O notation:</h4>\n",
    "O(1) < O(log n) < O(n) < O(n log n) < O(n^2) < O(2^n) < O(n!) \n",
    "    \n",
    "<b>Example (1):</b>\n",
    "    \n",
    "    i = 0                                1\n",
    "    while i < n:                         n\n",
    "        print(i)                        \n",
    "        i+=1\n",
    "                \n",
    "    for j in range(n):                   n\n",
    "        for k in range(n):               n\n",
    "                print(j+k)               __\n",
    "                                        1 + n +n*n\n",
    "    Complexity: O(n^2)\n",
    "    \n",
    "<b>Example (2):</b>\n",
    "    \n",
    "    i = 1                              1\n",
    "    while i < n:                        \n",
    "        print(i)\n",
    "        i*=2                           log n [base 2]\n",
    "                                       _______\n",
    "                                 \n",
    "    Complexity: O(log n)\n",
    "                \n",
    "\n",
    "<b>Example (3):</b>\n",
    "    \n",
    "    i = j = 0                          1\n",
    "    while i < n:                        \n",
    "        while j < n:\n",
    "            print(i+j)\n",
    "            j*=3                       log n [base 3]\n",
    "        i+=1                           n    \n",
    "                                       _______\n",
    "                                       1 + n * log n \n",
    "    Complexity: O(n log n)\n",
    "    \n",
    "    \n",
    "</dev>\n"
   ]
  },
  {
   "cell_type": "markdown",
   "id": "d4efcc84",
   "metadata": {
    "ExecuteTime": {
     "end_time": "2025-01-24T18:33:23.515235Z",
     "start_time": "2025-01-24T18:33:23.420241Z"
    }
   },
   "source": [
    "- Stack \n",
    "- f\n"
   ]
  },
  {
   "cell_type": "code",
   "execution_count": null,
   "id": "8f141b54",
   "metadata": {},
   "outputs": [],
   "source": []
  },
  {
   "cell_type": "markdown",
   "id": "f97aec61",
   "metadata": {},
   "source": [
    "## 1)Stacks\n",
    "[LIFO] Last in First Out\n",
    "\n",
    "Some Applicaions: Undo; going back in webpages ..."
   ]
  },
  {
   "cell_type": "code",
   "execution_count": 80,
   "id": "d9dcb1f2",
   "metadata": {
    "ExecuteTime": {
     "end_time": "2025-01-24T19:36:38.622394Z",
     "start_time": "2025-01-24T19:36:38.607398Z"
    }
   },
   "outputs": [],
   "source": [
    "class stack():\n",
    "    def __init__(self):\n",
    "        self.array = []\n",
    "    \n",
    "    def push(self, val):\n",
    "        self.array.append(val)\n",
    "    \n",
    "    def pop_stack(self):\n",
    "        if self.isEmpty():\n",
    "            print(\"Stack is empty!\")\n",
    "        else:\n",
    "            return self.array.pop(-1)\n",
    "    \n",
    "    def get_top(self):\n",
    "        if self.isEmpty():\n",
    "            print(\"Stack is empty!\")\n",
    "        else:\n",
    "            return self.array[-1]\n",
    "    \n",
    "    def isEmpty(self):\n",
    "        return len(self.array)==0\n",
    "        \n"
   ]
  },
  {
   "cell_type": "code",
   "execution_count": 81,
   "id": "add344fc",
   "metadata": {
    "ExecuteTime": {
     "end_time": "2025-01-24T19:36:39.371700Z",
     "start_time": "2025-01-24T19:36:39.356682Z"
    }
   },
   "outputs": [],
   "source": [
    "a = stack()"
   ]
  },
  {
   "cell_type": "code",
   "execution_count": 82,
   "id": "56afcc42",
   "metadata": {
    "ExecuteTime": {
     "end_time": "2025-01-24T19:36:39.696077Z",
     "start_time": "2025-01-24T19:36:39.676073Z"
    }
   },
   "outputs": [],
   "source": [
    "a.push(25)\n",
    "a.push(22)\n",
    "a.push(2)"
   ]
  },
  {
   "cell_type": "code",
   "execution_count": 83,
   "id": "228b5834",
   "metadata": {
    "ExecuteTime": {
     "end_time": "2025-01-24T19:36:40.203237Z",
     "start_time": "2025-01-24T19:36:40.178236Z"
    }
   },
   "outputs": [
    {
     "data": {
      "text/plain": [
       "False"
      ]
     },
     "execution_count": 83,
     "metadata": {},
     "output_type": "execute_result"
    }
   ],
   "source": [
    "a.isEmpty()"
   ]
  },
  {
   "cell_type": "code",
   "execution_count": 89,
   "id": "91f05e60",
   "metadata": {
    "ExecuteTime": {
     "end_time": "2025-01-24T19:36:46.542636Z",
     "start_time": "2025-01-24T19:36:46.532633Z"
    }
   },
   "outputs": [
    {
     "name": "stdout",
     "output_type": "stream",
     "text": [
      "Stack is empty!\n"
     ]
    }
   ],
   "source": [
    "a.get_top()"
   ]
  },
  {
   "cell_type": "code",
   "execution_count": 91,
   "id": "c46b4e5e",
   "metadata": {
    "ExecuteTime": {
     "end_time": "2025-01-24T19:36:51.377100Z",
     "start_time": "2025-01-24T19:36:51.357096Z"
    }
   },
   "outputs": [
    {
     "name": "stdout",
     "output_type": "stream",
     "text": [
      "Stack is empty!\n"
     ]
    }
   ],
   "source": [
    "a.pop_stack()"
   ]
  },
  {
   "cell_type": "code",
   "execution_count": null,
   "id": "09254e73",
   "metadata": {},
   "outputs": [],
   "source": []
  }
 ],
 "metadata": {
  "kernelspec": {
   "display_name": "Python 3 (ipykernel)",
   "language": "python",
   "name": "python3"
  },
  "language_info": {
   "codemirror_mode": {
    "name": "ipython",
    "version": 3
   },
   "file_extension": ".py",
   "mimetype": "text/x-python",
   "name": "python",
   "nbconvert_exporter": "python",
   "pygments_lexer": "ipython3",
   "version": "3.9.6"
  }
 },
 "nbformat": 4,
 "nbformat_minor": 5
}
