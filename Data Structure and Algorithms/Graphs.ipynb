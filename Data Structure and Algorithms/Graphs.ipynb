{
 "cells": [
  {
   "cell_type": "markdown",
   "id": "c6c39a8f",
   "metadata": {},
   "source": [
    "# Graphs\n",
    "- non-linear aggregation of **nodes** and **edges**\n",
    "- Node: also known as *vertex*; may contain data\n",
    "- Edge: connection between two nodes\n",
    "\n",
    "**Types of graphs**\n",
    "- Undirected\n",
    "- Directed\n",
    "\n",
    "Graphs are represented either by: **adjacency matrix** or **adjacency list** "
   ]
  },
  {
   "cell_type": "markdown",
   "id": "e80b1519",
   "metadata": {},
   "source": []
  }
 ],
 "metadata": {
  "kernelspec": {
   "display_name": "pytorch",
   "language": "python",
   "name": "python3"
  },
  "language_info": {
   "name": "python",
   "version": "3.13.2"
  }
 },
 "nbformat": 4,
 "nbformat_minor": 5
}
