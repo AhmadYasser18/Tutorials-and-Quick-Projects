{
 "cells": [
  {
   "cell_type": "markdown",
   "id": "d3b5839f",
   "metadata": {},
   "source": [
    "# Hash Tables/Maps\n",
    "referred to as a dictionary in *Python* stored info **values** and pairs them with **keys**.\n",
    "- used improves readability for big systems\n",
    "- allow for search in O(1)s"
   ]
  }
 ],
 "metadata": {
  "kernelspec": {
   "display_name": "pytorch",
   "language": "python",
   "name": "python3"
  },
  "language_info": {
   "name": "python",
   "version": "3.13.2"
  }
 },
 "nbformat": 4,
 "nbformat_minor": 5
}
