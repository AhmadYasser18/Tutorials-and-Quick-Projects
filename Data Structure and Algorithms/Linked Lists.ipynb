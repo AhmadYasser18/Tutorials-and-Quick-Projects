{
 "cells": [
  {
   "cell_type": "markdown",
   "id": "2af83016",
   "metadata": {},
   "source": [
    "# Linked Lists\n",
    "\n",
    "## Comparison with arrays\n",
    "For arrays/lists elements are stored in contiguous memory location, arrays are great at randomly accessing elements because they have an index but they're not so great at inserting or deleting elements especially when those elements are closer to the beginning of the array.  \n",
    "Example: suppose i need to insert a new element at index three since this element is already occupied with a value i would need to shift my elements to the right in order to accommodate room for this new element so the process of shifting is cumbersome but once this element is empty then I can insert a new value so it's not that big of a deal if i have a small dataset but imagine if i had one million elements, i would need to shift my data up to that many times depending on the location of the insertion and the same concept applies with deletion as well we would shift our elements to the left to close the gap.\n",
    "\n",
    "While arrays have difficulty inserting and deleting, linked lists actually have the advantage. A linked list is made up of a long chain of **nodes**, each node contains two parts: some *data* that we need to store and an *address* to the next node in line also referred to as a **pointer**. Linked lists do not have an index the same way that arrays do but each node contains an address to where the next node is located so these nodes are non-contiguous they can really be anywhere within the computer's memory."
   ]
  },
  {
   "cell_type": "markdown",
   "id": "580123c0",
   "metadata": {},
   "source": [
    "We know when we reach the end of our linked list when we check that address our pointer and it has a value of null that means we're at the tail.\n",
    "\n",
    "## Inserting and Deleting\n",
    "Inserting a node is easy in a linked list since there's no shifting of elements involved. Wherever we need to place a new node we take the address stored in the previous node and assign the address of our new node with the address from the previous node so that our new node is pointing to the next node in line then we can take and replace the address in the previous node with an address that points to our new node.  \n",
    "\n",
    "We're completing our chain simply by inserting a node at a given location there's only a few steps involved no shifting of elements required.\n",
    "\n",
    "Wherever we need to delete a node we have the previous node point instead to the next node in line again no shifting of elements is necessary.\n",
    "\n",
    "## Searching\n",
    "This is where linked lists tend to be inferior to arrays, they are bad at searching. We can randomly access an element of an array because we have an index, with a linked list that is not the case. To locate an element we need to begin at the head and work our way towards the tail until we find the element that we are looking for this itself takes time in fact it would take linear time but making the insertion or deletion of a node is constant. \n",
    "\n",
    "This variation of a linked list is a singly linked list, there are single links to each node. However there's another variation called a doubly linked list. A doubly linked list requires even more memory to store two addresses in each node not just one which is the case with a singly linked list one address for the next node and another for the previous node in our chain. The benefit of a doubly linked list is that we can traverse our doubly linked list from head to tail or from tail to head in reverse, each node knows where the next and previous note is but the downside is that a doubly linked list uses even more memory than a singly linked list."
   ]
  },
  {
   "cell_type": "code",
   "execution_count": 6,
   "id": "c365e17e",
   "metadata": {
    "ExecuteTime": {
     "end_time": "2025-03-14T08:29:43.651300Z",
     "start_time": "2025-03-14T08:29:43.642942Z"
    }
   },
   "outputs": [],
   "source": [
    "class Node():\n",
    "    def __init__(self, value, prev=None, next_=None):\n",
    "        self.value = value\n",
    "        self.prev = prev\n",
    "        self.next_ = next_\n",
    "        \n",
    "    def __repr__(self):\n",
    "        return f\"Node({self.value})\"\n",
    "    \n",
    "    def has_prev(self):\n",
    "        return self.prev is not None\n",
    "        \n",
    "    def has_next(self):\n",
    "        return self.next_ is not None"
   ]
  },
  {
   "cell_type": "code",
   "execution_count": 14,
   "id": "4cec6a74",
   "metadata": {
    "ExecuteTime": {
     "end_time": "2025-03-14T08:33:00.128724Z",
     "start_time": "2025-03-14T08:33:00.085169Z"
    }
   },
   "outputs": [],
   "source": [
    "class LinkedList():\n",
    "    def __init__(self):\n",
    "        self.head = None\n",
    "        self.tail = None\n",
    "        \n",
    "    def __repr__(self):\n",
    "        self.display()\n",
    "    \n",
    "    def add_node(self,node, prev = None):\n",
    "        if self.is_Empty():\n",
    "            self.add_head(node)\n",
    "            \n",
    "        elif prev is None:\n",
    "            self.add_tail(node) #node will be added at the end\n",
    "        \n",
    "        else:\n",
    "            node.next_ = prev.next_\n",
    "            if prev.next_ is not None:\n",
    "                prev.next_.prev = node\n",
    "            prev.next_, node.prev = node, prev\n",
    "    \n",
    "    def add_head(self, new_head):\n",
    "        if self.head:\n",
    "            self.head.prev = new_head\n",
    "            new_head.next_ = self.head \n",
    "        else: #list is empty\n",
    "            self.tail = new_head    \n",
    "        self.head = new_head\n",
    "    \n",
    "    def add_tail(self, new_tail):\n",
    "        if self.tail:\n",
    "            self.tail.next_ = new_tail\n",
    "            new_tail.prev = self.tail \n",
    "        else: #list is empty\n",
    "            self.head = new_tail    \n",
    "        self.tail = new_tail\n",
    "    \n",
    "    def delete_node(self, node):\n",
    "        if node.prev is not None: #node is not head\n",
    "            if node.next_ is not None:\n",
    "                node.next_.prev = node.prev\n",
    "            \n",
    "            else: #node is tail\n",
    "                self.tail = node.prev\n",
    "        \n",
    "            node.prev.next_ = node.next_\n",
    "            \n",
    "        elif node.next_ is not None: #node is head #check if it's also tail\n",
    "            node.next_.prev = None #make next node head\n",
    "            self.head = node.next_\n",
    "        \n",
    "        else: #node is head and tail\n",
    "            self.head = self.tail = None    \n",
    "        \n",
    "        node.prev = node.next_= None\n",
    "        \n",
    "    def elements_num(self):\n",
    "        num = 0\n",
    "        c = self.head\n",
    "        while c:\n",
    "            num+=1\n",
    "            c = c.next_\n",
    "        return num\n",
    "    \n",
    "    def display(self):\n",
    "        elements = []\n",
    "        c = self.head\n",
    "        while c:\n",
    "            elements.append(c)\n",
    "            c = c.next_\n",
    "        return elements\n",
    "        \n",
    "    \n",
    "    def is_Empty(self):\n",
    "        return self.head is None"
   ]
  },
  {
   "cell_type": "code",
   "execution_count": 15,
   "id": "bb84a799",
   "metadata": {
    "ExecuteTime": {
     "end_time": "2025-03-14T08:33:00.409834Z",
     "start_time": "2025-03-14T08:33:00.377577Z"
    }
   },
   "outputs": [],
   "source": [
    "n1 = Node(5)\n",
    "n2 = Node(4)\n",
    "n3 = Node(3)\n",
    "n4 = Node(2)\n",
    "n5 = Node(1)\n",
    "n6 = Node(0)\n",
    "\n",
    "\n",
    "l1 = LinkedList()"
   ]
  },
  {
   "cell_type": "code",
   "execution_count": 16,
   "id": "12988d74",
   "metadata": {
    "ExecuteTime": {
     "end_time": "2025-03-14T08:33:01.055037Z",
     "start_time": "2025-03-14T08:33:01.045126Z"
    }
   },
   "outputs": [],
   "source": [
    "l1.add_node(n1)"
   ]
  },
  {
   "cell_type": "code",
   "execution_count": 18,
   "id": "951e082b",
   "metadata": {
    "ExecuteTime": {
     "end_time": "2025-03-14T08:33:08.614796Z",
     "start_time": "2025-03-14T08:33:08.602504Z"
    }
   },
   "outputs": [
    {
     "data": {
      "text/plain": [
       "[Node(5)]"
      ]
     },
     "execution_count": 18,
     "metadata": {},
     "output_type": "execute_result"
    }
   ],
   "source": [
    "l1.display()"
   ]
  },
  {
   "cell_type": "code",
   "execution_count": null,
   "id": "6d95b87f",
   "metadata": {},
   "outputs": [],
   "source": []
  }
 ],
 "metadata": {
  "kernelspec": {
   "display_name": "Python 3 (ipykernel)",
   "language": "python",
   "name": "python3"
  },
  "language_info": {
   "codemirror_mode": {
    "name": "ipython",
    "version": 3
   },
   "file_extension": ".py",
   "mimetype": "text/x-python",
   "name": "python",
   "nbconvert_exporter": "python",
   "pygments_lexer": "ipython3",
   "version": "3.9.6"
  }
 },
 "nbformat": 4,
 "nbformat_minor": 5
}
