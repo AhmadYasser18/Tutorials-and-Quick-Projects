{
 "cells": [
  {
   "cell_type": "markdown",
   "id": "13f4d4da",
   "metadata": {},
   "source": [
    "# Queue"
   ]
  },
  {
   "cell_type": "markdown",
   "id": "193e2e30",
   "metadata": {},
   "source": [
    "**FIFO data stucture; First In First Out  \n",
    "A collection designed for holding elements prior to processing   \n",
    "Linear data structure  \n",
    "add: enqueue, offer()  \n",
    "remove: dequeue, poll()**\n",
    "\n",
    "**Applications of Queues:**\n",
    "1. Keyboard buffer\n",
    "2. Printer Queue\n",
    "3. Used in:\n",
    "    - Linked List\n",
    "    - Priority Queues\n",
    "    - Breadth First Search"
   ]
  },
  {
   "cell_type": "code",
   "execution_count": 1,
   "id": "1f476125",
   "metadata": {
    "ExecuteTime": {
     "end_time": "2025-03-09T21:26:17.937016Z",
     "start_time": "2025-03-09T21:26:17.905036Z"
    }
   },
   "outputs": [],
   "source": [
    "class Queue:\n",
    "    def __init__(self, queue_list = None):\n",
    "        if queue_list is None:\n",
    "            self.queue_list=[]\n",
    "        else:\n",
    "            self.queue_list = queue_list\n",
    "    \n",
    "    def enqueue(self, item):\n",
    "        self.queue_list.append(item)\n",
    "    \n",
    "    def dequeue(self):\n",
    "        if self.is_Empty():\n",
    "            print('Queue is Empty')\n",
    "            \n",
    "        else:\n",
    "            return self.queue_list.pop(0)\n",
    "    \n",
    "    def head(self):\n",
    "        if self.is_Empty():\n",
    "            print('Queue is Empty')\n",
    "            \n",
    "        else:\n",
    "            return self.queue_list[0]\n",
    "        \n",
    "    def tail(self):\n",
    "        if self.is_Empty():\n",
    "            print('Queue is Empty')\n",
    "            \n",
    "        else:\n",
    "            return self.queue_list[-1]\n",
    "        \n",
    "    def size(self):\n",
    "        return len(self.queue_list)\n",
    "    \n",
    "    def contains(self, item):\n",
    "        return item in self.queue_list\n",
    "        \n",
    "    def is_Empty(self):\n",
    "        return len(self.queue_list)==0"
   ]
  },
  {
   "cell_type": "code",
   "execution_count": 47,
   "id": "77a59763",
   "metadata": {
    "ExecuteTime": {
     "end_time": "2025-03-06T15:23:09.304433Z",
     "start_time": "2025-03-06T15:23:09.285444Z"
    }
   },
   "outputs": [],
   "source": [
    "q1 = Queue([1,2,3,4])"
   ]
  },
  {
   "cell_type": "code",
   "execution_count": 48,
   "id": "b7744b87",
   "metadata": {
    "ExecuteTime": {
     "end_time": "2025-03-06T15:23:10.021591Z",
     "start_time": "2025-03-06T15:23:10.004602Z"
    }
   },
   "outputs": [
    {
     "data": {
      "text/plain": [
       "1"
      ]
     },
     "execution_count": 48,
     "metadata": {},
     "output_type": "execute_result"
    }
   ],
   "source": [
    "q1.head()"
   ]
  },
  {
   "cell_type": "code",
   "execution_count": 49,
   "id": "5b10be03",
   "metadata": {
    "ExecuteTime": {
     "end_time": "2025-03-06T15:23:10.274736Z",
     "start_time": "2025-03-06T15:23:10.251331Z"
    }
   },
   "outputs": [
    {
     "data": {
      "text/plain": [
       "4"
      ]
     },
     "execution_count": 49,
     "metadata": {},
     "output_type": "execute_result"
    }
   ],
   "source": [
    "q1.tail()"
   ]
  },
  {
   "cell_type": "code",
   "execution_count": 50,
   "id": "3ca39906",
   "metadata": {
    "ExecuteTime": {
     "end_time": "2025-03-06T15:23:11.028941Z",
     "start_time": "2025-03-06T15:23:11.015945Z"
    }
   },
   "outputs": [
    {
     "data": {
      "text/plain": [
       "4"
      ]
     },
     "execution_count": 50,
     "metadata": {},
     "output_type": "execute_result"
    }
   ],
   "source": [
    "q1.size()"
   ]
  },
  {
   "cell_type": "code",
   "execution_count": 51,
   "id": "1c709f48",
   "metadata": {
    "ExecuteTime": {
     "end_time": "2025-03-06T15:23:11.636761Z",
     "start_time": "2025-03-06T15:23:11.613599Z"
    }
   },
   "outputs": [
    {
     "data": {
      "text/plain": [
       "1"
      ]
     },
     "execution_count": 51,
     "metadata": {},
     "output_type": "execute_result"
    }
   ],
   "source": [
    "q1.dequeue()"
   ]
  },
  {
   "cell_type": "code",
   "execution_count": 52,
   "id": "c63dcbd9",
   "metadata": {
    "ExecuteTime": {
     "end_time": "2025-03-06T15:23:13.322030Z",
     "start_time": "2025-03-06T15:23:13.304041Z"
    }
   },
   "outputs": [
    {
     "data": {
      "text/plain": [
       "2"
      ]
     },
     "execution_count": 52,
     "metadata": {},
     "output_type": "execute_result"
    }
   ],
   "source": [
    "q1.head()"
   ]
  },
  {
   "cell_type": "code",
   "execution_count": 53,
   "id": "23bb7d46",
   "metadata": {
    "ExecuteTime": {
     "end_time": "2025-03-06T15:23:14.190660Z",
     "start_time": "2025-03-06T15:23:14.179684Z"
    }
   },
   "outputs": [
    {
     "data": {
      "text/plain": [
       "[2, 3, 4]"
      ]
     },
     "execution_count": 53,
     "metadata": {},
     "output_type": "execute_result"
    }
   ],
   "source": [
    "q1.queue_list"
   ]
  },
  {
   "cell_type": "code",
   "execution_count": 54,
   "id": "b2d4c9b1",
   "metadata": {
    "ExecuteTime": {
     "end_time": "2025-03-06T15:23:23.190856Z",
     "start_time": "2025-03-06T15:23:23.181860Z"
    }
   },
   "outputs": [
    {
     "data": {
      "text/plain": [
       "False"
      ]
     },
     "execution_count": 54,
     "metadata": {},
     "output_type": "execute_result"
    }
   ],
   "source": [
    "q1.contains(1)"
   ]
  },
  {
   "cell_type": "code",
   "execution_count": 55,
   "id": "715183ba",
   "metadata": {
    "ExecuteTime": {
     "end_time": "2025-03-06T15:23:31.559549Z",
     "start_time": "2025-03-06T15:23:31.536558Z"
    }
   },
   "outputs": [
    {
     "data": {
      "text/plain": [
       "True"
      ]
     },
     "execution_count": 55,
     "metadata": {},
     "output_type": "execute_result"
    }
   ],
   "source": [
    "q1.contains(4)"
   ]
  },
  {
   "cell_type": "code",
   "execution_count": 40,
   "id": "6407692e",
   "metadata": {
    "ExecuteTime": {
     "end_time": "2025-03-06T15:21:55.708130Z",
     "start_time": "2025-03-06T15:21:55.694135Z"
    }
   },
   "outputs": [
    {
     "data": {
      "text/plain": [
       "2"
      ]
     },
     "execution_count": 40,
     "metadata": {},
     "output_type": "execute_result"
    }
   ],
   "source": [
    "q1.dequeue()"
   ]
  },
  {
   "cell_type": "code",
   "execution_count": 41,
   "id": "34b9dec0",
   "metadata": {
    "ExecuteTime": {
     "end_time": "2025-03-06T15:21:56.217843Z",
     "start_time": "2025-03-06T15:21:56.207848Z"
    }
   },
   "outputs": [
    {
     "data": {
      "text/plain": [
       "3"
      ]
     },
     "execution_count": 41,
     "metadata": {},
     "output_type": "execute_result"
    }
   ],
   "source": [
    "q1.dequeue()"
   ]
  },
  {
   "cell_type": "code",
   "execution_count": 42,
   "id": "48079b5f",
   "metadata": {
    "ExecuteTime": {
     "end_time": "2025-03-06T15:21:56.639865Z",
     "start_time": "2025-03-06T15:21:56.626992Z"
    }
   },
   "outputs": [
    {
     "data": {
      "text/plain": [
       "4"
      ]
     },
     "execution_count": 42,
     "metadata": {},
     "output_type": "execute_result"
    }
   ],
   "source": [
    "q1.dequeue()"
   ]
  },
  {
   "cell_type": "code",
   "execution_count": 43,
   "id": "a74a3680",
   "metadata": {
    "ExecuteTime": {
     "end_time": "2025-03-06T15:21:57.010941Z",
     "start_time": "2025-03-06T15:21:57.003771Z"
    }
   },
   "outputs": [
    {
     "name": "stdout",
     "output_type": "stream",
     "text": [
      "Queue is Empty\n"
     ]
    }
   ],
   "source": [
    "q1.dequeue()"
   ]
  },
  {
   "cell_type": "code",
   "execution_count": 44,
   "id": "2c61c629",
   "metadata": {
    "ExecuteTime": {
     "end_time": "2025-03-06T15:21:58.320297Z",
     "start_time": "2025-03-06T15:21:58.311302Z"
    }
   },
   "outputs": [
    {
     "name": "stdout",
     "output_type": "stream",
     "text": [
      "Queue is Empty\n"
     ]
    }
   ],
   "source": [
    "q1.dequeue()"
   ]
  },
  {
   "cell_type": "code",
   "execution_count": 45,
   "id": "64060a78",
   "metadata": {
    "ExecuteTime": {
     "end_time": "2025-03-06T15:22:05.464490Z",
     "start_time": "2025-03-06T15:22:05.448497Z"
    }
   },
   "outputs": [
    {
     "data": {
      "text/plain": [
       "True"
      ]
     },
     "execution_count": 45,
     "metadata": {},
     "output_type": "execute_result"
    }
   ],
   "source": [
    "q1.is_Empty()"
   ]
  },
  {
   "cell_type": "markdown",
   "id": "fcf25c51",
   "metadata": {},
   "source": [
    "# Priority Queue"
   ]
  },
  {
   "cell_type": "markdown",
   "id": "6ece283f",
   "metadata": {},
   "source": [
    "**A FIFO data stucture that serves elements with the highest priorities first before elements with lower priorities.     \n",
    "Linear data structure**\n",
    "\n",
    "**Applications of Queues:**\n",
    "1. Keyboard buffer\n",
    "2. Printer Queue\n",
    "3. Used in:\n",
    "    - Linked List\n",
    "    - Priority Queues\n",
    "    - Breadth First Search"
   ]
  },
  {
   "cell_type": "code",
   "execution_count": 56,
   "id": "35455271",
   "metadata": {
    "ExecuteTime": {
     "end_time": "2025-03-06T19:53:21.066879Z",
     "start_time": "2025-03-06T19:53:21.046891Z"
    }
   },
   "outputs": [],
   "source": [
    "from queue import PriorityQueue"
   ]
  },
  {
   "cell_type": "code",
   "execution_count": 57,
   "id": "d1877e75",
   "metadata": {
    "ExecuteTime": {
     "end_time": "2025-03-06T19:53:31.330736Z",
     "start_time": "2025-03-06T19:53:31.281767Z"
    }
   },
   "outputs": [
    {
     "name": "stdout",
     "output_type": "stream",
     "text": [
      "Help on class PriorityQueue in module queue:\n",
      "\n",
      "class PriorityQueue(Queue)\n",
      " |  PriorityQueue(maxsize=0)\n",
      " |  \n",
      " |  Variant of Queue that retrieves open entries in priority order (lowest first).\n",
      " |  \n",
      " |  Entries are typically tuples of the form:  (priority number, data).\n",
      " |  \n",
      " |  Method resolution order:\n",
      " |      PriorityQueue\n",
      " |      Queue\n",
      " |      builtins.object\n",
      " |  \n",
      " |  Methods inherited from Queue:\n",
      " |  \n",
      " |  __init__(self, maxsize=0)\n",
      " |      Initialize self.  See help(type(self)) for accurate signature.\n",
      " |  \n",
      " |  empty(self)\n",
      " |      Return True if the queue is empty, False otherwise (not reliable!).\n",
      " |      \n",
      " |      This method is likely to be removed at some point.  Use qsize() == 0\n",
      " |      as a direct substitute, but be aware that either approach risks a race\n",
      " |      condition where a queue can grow before the result of empty() or\n",
      " |      qsize() can be used.\n",
      " |      \n",
      " |      To create code that needs to wait for all queued tasks to be\n",
      " |      completed, the preferred technique is to use the join() method.\n",
      " |  \n",
      " |  full(self)\n",
      " |      Return True if the queue is full, False otherwise (not reliable!).\n",
      " |      \n",
      " |      This method is likely to be removed at some point.  Use qsize() >= n\n",
      " |      as a direct substitute, but be aware that either approach risks a race\n",
      " |      condition where a queue can shrink before the result of full() or\n",
      " |      qsize() can be used.\n",
      " |  \n",
      " |  get(self, block=True, timeout=None)\n",
      " |      Remove and return an item from the queue.\n",
      " |      \n",
      " |      If optional args 'block' is true and 'timeout' is None (the default),\n",
      " |      block if necessary until an item is available. If 'timeout' is\n",
      " |      a non-negative number, it blocks at most 'timeout' seconds and raises\n",
      " |      the Empty exception if no item was available within that time.\n",
      " |      Otherwise ('block' is false), return an item if one is immediately\n",
      " |      available, else raise the Empty exception ('timeout' is ignored\n",
      " |      in that case).\n",
      " |  \n",
      " |  get_nowait(self)\n",
      " |      Remove and return an item from the queue without blocking.\n",
      " |      \n",
      " |      Only get an item if one is immediately available. Otherwise\n",
      " |      raise the Empty exception.\n",
      " |  \n",
      " |  join(self)\n",
      " |      Blocks until all items in the Queue have been gotten and processed.\n",
      " |      \n",
      " |      The count of unfinished tasks goes up whenever an item is added to the\n",
      " |      queue. The count goes down whenever a consumer thread calls task_done()\n",
      " |      to indicate the item was retrieved and all work on it is complete.\n",
      " |      \n",
      " |      When the count of unfinished tasks drops to zero, join() unblocks.\n",
      " |  \n",
      " |  put(self, item, block=True, timeout=None)\n",
      " |      Put an item into the queue.\n",
      " |      \n",
      " |      If optional args 'block' is true and 'timeout' is None (the default),\n",
      " |      block if necessary until a free slot is available. If 'timeout' is\n",
      " |      a non-negative number, it blocks at most 'timeout' seconds and raises\n",
      " |      the Full exception if no free slot was available within that time.\n",
      " |      Otherwise ('block' is false), put an item on the queue if a free slot\n",
      " |      is immediately available, else raise the Full exception ('timeout'\n",
      " |      is ignored in that case).\n",
      " |  \n",
      " |  put_nowait(self, item)\n",
      " |      Put an item into the queue without blocking.\n",
      " |      \n",
      " |      Only enqueue the item if a free slot is immediately available.\n",
      " |      Otherwise raise the Full exception.\n",
      " |  \n",
      " |  qsize(self)\n",
      " |      Return the approximate size of the queue (not reliable!).\n",
      " |  \n",
      " |  task_done(self)\n",
      " |      Indicate that a formerly enqueued task is complete.\n",
      " |      \n",
      " |      Used by Queue consumer threads.  For each get() used to fetch a task,\n",
      " |      a subsequent call to task_done() tells the queue that the processing\n",
      " |      on the task is complete.\n",
      " |      \n",
      " |      If a join() is currently blocking, it will resume when all items\n",
      " |      have been processed (meaning that a task_done() call was received\n",
      " |      for every item that had been put() into the queue).\n",
      " |      \n",
      " |      Raises a ValueError if called more times than there were items\n",
      " |      placed in the queue.\n",
      " |  \n",
      " |  ----------------------------------------------------------------------\n",
      " |  Class methods inherited from Queue:\n",
      " |  \n",
      " |  __class_getitem__ = GenericAlias(...) from builtins.type\n",
      " |      Represent a PEP 585 generic type\n",
      " |      \n",
      " |      E.g. for t = list[int], t.__origin__ is list and t.__args__ is (int,).\n",
      " |  \n",
      " |  ----------------------------------------------------------------------\n",
      " |  Data descriptors inherited from Queue:\n",
      " |  \n",
      " |  __dict__\n",
      " |      dictionary for instance variables (if defined)\n",
      " |  \n",
      " |  __weakref__\n",
      " |      list of weak references to the object (if defined)\n",
      "\n"
     ]
    }
   ],
   "source": [
    "help(PriorityQueue)"
   ]
  },
  {
   "cell_type": "code",
   "execution_count": 44,
   "id": "f6d37923",
   "metadata": {
    "ExecuteTime": {
     "end_time": "2025-03-09T21:52:43.064782Z",
     "start_time": "2025-03-09T21:52:43.048784Z"
    }
   },
   "outputs": [],
   "source": [
    "class Priority_Queue(Queue):\n",
    "    def __init__(self):\n",
    "        super().__init__()\n",
    "        self.queue_list = []\n",
    "    \n",
    "    def enqueue(self, priority,item ):\n",
    "        self.queue_list.append((priority,item))\n",
    "    \n",
    "    def dequeue(self):\n",
    "        if self.is_empty():\n",
    "            print('Queue is Empty')\n",
    "            return None\n",
    "        \n",
    "        self.queue_list.sort(key=lambda p: p[0])\n",
    "        return self.queue_list.pop(0)[1]\n",
    "\n",
    "            \n",
    "    def contains(self, item):\n",
    "        for i,j in self.queue_list:\n",
    "            if j == item:\n",
    "                return (i)\n",
    "        else:\n",
    "            return None"
   ]
  },
  {
   "cell_type": "code",
   "execution_count": 45,
   "id": "742fd2b6",
   "metadata": {
    "ExecuteTime": {
     "end_time": "2025-03-09T21:52:43.323850Z",
     "start_time": "2025-03-09T21:52:43.307852Z"
    }
   },
   "outputs": [],
   "source": [
    "pq = Priority_Queue()"
   ]
  },
  {
   "cell_type": "code",
   "execution_count": 46,
   "id": "0b6ed538",
   "metadata": {
    "ExecuteTime": {
     "end_time": "2025-03-09T21:52:43.544606Z",
     "start_time": "2025-03-09T21:52:43.517886Z"
    }
   },
   "outputs": [
    {
     "data": {
      "text/plain": [
       "True"
      ]
     },
     "execution_count": 46,
     "metadata": {},
     "output_type": "execute_result"
    }
   ],
   "source": [
    "pq.is_Empty()"
   ]
  },
  {
   "cell_type": "code",
   "execution_count": 47,
   "id": "5e8f4f2f",
   "metadata": {
    "ExecuteTime": {
     "end_time": "2025-03-09T21:52:43.764300Z",
     "start_time": "2025-03-09T21:52:43.748300Z"
    }
   },
   "outputs": [],
   "source": [
    "pq.enqueue(2,4)\n",
    "pq.enqueue(4,4)\n",
    "pq.enqueue(4,2)\n",
    "pq.enqueue(1,5)\n",
    "pq.enqueue(3,2)\n",
    "pq.enqueue(1,1)\n",
    "pq.enqueue(3,1)\n"
   ]
  },
  {
   "cell_type": "code",
   "execution_count": 48,
   "id": "c3d7ec05",
   "metadata": {
    "ExecuteTime": {
     "end_time": "2025-03-09T21:52:44.308863Z",
     "start_time": "2025-03-09T21:52:44.284839Z"
    }
   },
   "outputs": [
    {
     "data": {
      "text/plain": [
       "[(1, 5), (1, 1), (2, 4), (3, 2), (3, 1), (4, 4), (4, 2)]"
      ]
     },
     "execution_count": 48,
     "metadata": {},
     "output_type": "execute_result"
    }
   ],
   "source": [
    "pq.queue_list"
   ]
  },
  {
   "cell_type": "code",
   "execution_count": 49,
   "id": "7b407fe8",
   "metadata": {
    "ExecuteTime": {
     "end_time": "2025-03-09T21:52:44.637817Z",
     "start_time": "2025-03-09T21:52:44.621801Z"
    }
   },
   "outputs": [
    {
     "data": {
      "text/plain": [
       "(1, 5)"
      ]
     },
     "execution_count": 49,
     "metadata": {},
     "output_type": "execute_result"
    }
   ],
   "source": [
    "pq.dequeue()"
   ]
  },
  {
   "cell_type": "code",
   "execution_count": 50,
   "id": "50487385",
   "metadata": {
    "ExecuteTime": {
     "end_time": "2025-03-09T21:52:44.928939Z",
     "start_time": "2025-03-09T21:52:44.920943Z"
    }
   },
   "outputs": [
    {
     "data": {
      "text/plain": [
       "(1, 1)"
      ]
     },
     "execution_count": 50,
     "metadata": {},
     "output_type": "execute_result"
    }
   ],
   "source": [
    "pq.head()"
   ]
  },
  {
   "cell_type": "code",
   "execution_count": 51,
   "id": "abaff9fb",
   "metadata": {
    "ExecuteTime": {
     "end_time": "2025-03-09T21:52:57.692857Z",
     "start_time": "2025-03-09T21:52:57.676864Z"
    }
   },
   "outputs": [
    {
     "data": {
      "text/plain": [
       "'Found. Priority: 2'"
      ]
     },
     "execution_count": 51,
     "metadata": {},
     "output_type": "execute_result"
    }
   ],
   "source": [
    "pq.contains(4)"
   ]
  },
  {
   "cell_type": "code",
   "execution_count": null,
   "id": "150548a0",
   "metadata": {},
   "outputs": [],
   "source": []
  }
 ],
 "metadata": {
  "kernelspec": {
   "display_name": "Python 3 (ipykernel)",
   "language": "python",
   "name": "python3"
  },
  "language_info": {
   "codemirror_mode": {
    "name": "ipython",
    "version": 3
   },
   "file_extension": ".py",
   "mimetype": "text/x-python",
   "name": "python",
   "nbconvert_exporter": "python",
   "pygments_lexer": "ipython3",
   "version": "3.9.6"
  }
 },
 "nbformat": 4,
 "nbformat_minor": 5
}
