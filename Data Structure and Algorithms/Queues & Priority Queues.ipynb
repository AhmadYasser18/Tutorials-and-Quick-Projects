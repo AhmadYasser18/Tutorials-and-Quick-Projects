{
 "cells": [
  {
   "cell_type": "markdown",
   "id": "ca7a750f",
   "metadata": {},
   "source": [
    "# Queue"
   ]
  },
  {
   "cell_type": "markdown",
   "id": "2c6a3c17",
   "metadata": {},
   "source": [
    "**FIFO data stucture; First In First Out  \n",
    "A collection designed for holding elements prior to processing   \n",
    "Linear data structure  \n",
    "add: enqueue, offer()  \n",
    "remove: dequeue, poll()**\n",
    "\n",
    "**Applications of Queues:**\n",
    "1. Keyboard buffer\n",
    "2. Printer Queue\n",
    "3. Used in:\n",
    "    - Linked List\n",
    "    - Priority Queues\n",
    "    - Breadth First Search"
   ]
  },
  {
   "cell_type": "code",
   "execution_count": 46,
   "id": "d009be9d",
   "metadata": {
    "ExecuteTime": {
     "end_time": "2025-03-06T15:23:08.610642Z",
     "start_time": "2025-03-06T15:23:08.591654Z"
    }
   },
   "outputs": [],
   "source": [
    "class Queue:\n",
    "    def __init__(self, queue_list = None):\n",
    "        if queue_list is None:\n",
    "            self.queue_list=[]\n",
    "        else:\n",
    "            self.queue_list = queue_list\n",
    "    \n",
    "    def enqueue(self, item):\n",
    "        self.queue_list.append(item)\n",
    "    \n",
    "    def dequeue(self):\n",
    "        if self.is_Empty():\n",
    "            print('Queue is Empty')\n",
    "            \n",
    "        else:\n",
    "            return self.queue_list.pop(0)\n",
    "    \n",
    "    def head(self):\n",
    "        if self.is_Empty():\n",
    "            print('Queue is Empty')\n",
    "            \n",
    "        else:\n",
    "            return self.queue_list[0]\n",
    "        \n",
    "    def tail(self):\n",
    "        if self.is_Empty():\n",
    "            print('Queue is Empty')\n",
    "            \n",
    "        else:\n",
    "            return self.queue_list[-1]\n",
    "        \n",
    "    def size(self):\n",
    "        return len(self.queue_list)\n",
    "    \n",
    "    def contains(self, item):\n",
    "        return item in self.queue_list\n",
    "        \n",
    "    def is_Empty(self):\n",
    "        return len(self.queue_list)==0"
   ]
  },
  {
   "cell_type": "code",
   "execution_count": 47,
   "id": "434a3728",
   "metadata": {
    "ExecuteTime": {
     "end_time": "2025-03-06T15:23:09.304433Z",
     "start_time": "2025-03-06T15:23:09.285444Z"
    }
   },
   "outputs": [],
   "source": [
    "q1 = Queue([1,2,3,4])"
   ]
  },
  {
   "cell_type": "code",
   "execution_count": 48,
   "id": "8df14a53",
   "metadata": {
    "ExecuteTime": {
     "end_time": "2025-03-06T15:23:10.021591Z",
     "start_time": "2025-03-06T15:23:10.004602Z"
    }
   },
   "outputs": [
    {
     "data": {
      "text/plain": [
       "1"
      ]
     },
     "execution_count": 48,
     "metadata": {},
     "output_type": "execute_result"
    }
   ],
   "source": [
    "q1.head()"
   ]
  },
  {
   "cell_type": "code",
   "execution_count": 49,
   "id": "55cc93c2",
   "metadata": {
    "ExecuteTime": {
     "end_time": "2025-03-06T15:23:10.274736Z",
     "start_time": "2025-03-06T15:23:10.251331Z"
    }
   },
   "outputs": [
    {
     "data": {
      "text/plain": [
       "4"
      ]
     },
     "execution_count": 49,
     "metadata": {},
     "output_type": "execute_result"
    }
   ],
   "source": [
    "q1.tail()"
   ]
  },
  {
   "cell_type": "code",
   "execution_count": 50,
   "id": "2d7d9f1e",
   "metadata": {
    "ExecuteTime": {
     "end_time": "2025-03-06T15:23:11.028941Z",
     "start_time": "2025-03-06T15:23:11.015945Z"
    }
   },
   "outputs": [
    {
     "data": {
      "text/plain": [
       "4"
      ]
     },
     "execution_count": 50,
     "metadata": {},
     "output_type": "execute_result"
    }
   ],
   "source": [
    "q1.size()"
   ]
  },
  {
   "cell_type": "code",
   "execution_count": 51,
   "id": "c6a259b5",
   "metadata": {
    "ExecuteTime": {
     "end_time": "2025-03-06T15:23:11.636761Z",
     "start_time": "2025-03-06T15:23:11.613599Z"
    }
   },
   "outputs": [
    {
     "data": {
      "text/plain": [
       "1"
      ]
     },
     "execution_count": 51,
     "metadata": {},
     "output_type": "execute_result"
    }
   ],
   "source": [
    "q1.dequeue()"
   ]
  },
  {
   "cell_type": "code",
   "execution_count": 52,
   "id": "3a0ae47c",
   "metadata": {
    "ExecuteTime": {
     "end_time": "2025-03-06T15:23:13.322030Z",
     "start_time": "2025-03-06T15:23:13.304041Z"
    }
   },
   "outputs": [
    {
     "data": {
      "text/plain": [
       "2"
      ]
     },
     "execution_count": 52,
     "metadata": {},
     "output_type": "execute_result"
    }
   ],
   "source": [
    "q1.head()"
   ]
  },
  {
   "cell_type": "code",
   "execution_count": 53,
   "id": "5a32aa80",
   "metadata": {
    "ExecuteTime": {
     "end_time": "2025-03-06T15:23:14.190660Z",
     "start_time": "2025-03-06T15:23:14.179684Z"
    }
   },
   "outputs": [
    {
     "data": {
      "text/plain": [
       "[2, 3, 4]"
      ]
     },
     "execution_count": 53,
     "metadata": {},
     "output_type": "execute_result"
    }
   ],
   "source": [
    "q1.queue_list"
   ]
  },
  {
   "cell_type": "code",
   "execution_count": 54,
   "id": "e40fdd1b",
   "metadata": {
    "ExecuteTime": {
     "end_time": "2025-03-06T15:23:23.190856Z",
     "start_time": "2025-03-06T15:23:23.181860Z"
    }
   },
   "outputs": [
    {
     "data": {
      "text/plain": [
       "False"
      ]
     },
     "execution_count": 54,
     "metadata": {},
     "output_type": "execute_result"
    }
   ],
   "source": [
    "q1.contains(1)"
   ]
  },
  {
   "cell_type": "code",
   "execution_count": 55,
   "id": "29526496",
   "metadata": {
    "ExecuteTime": {
     "end_time": "2025-03-06T15:23:31.559549Z",
     "start_time": "2025-03-06T15:23:31.536558Z"
    }
   },
   "outputs": [
    {
     "data": {
      "text/plain": [
       "True"
      ]
     },
     "execution_count": 55,
     "metadata": {},
     "output_type": "execute_result"
    }
   ],
   "source": [
    "q1.contains(4)"
   ]
  },
  {
   "cell_type": "code",
   "execution_count": 40,
   "id": "9a3e2f5a",
   "metadata": {
    "ExecuteTime": {
     "end_time": "2025-03-06T15:21:55.708130Z",
     "start_time": "2025-03-06T15:21:55.694135Z"
    }
   },
   "outputs": [
    {
     "data": {
      "text/plain": [
       "2"
      ]
     },
     "execution_count": 40,
     "metadata": {},
     "output_type": "execute_result"
    }
   ],
   "source": [
    "q1.dequeue()"
   ]
  },
  {
   "cell_type": "code",
   "execution_count": 41,
   "id": "8bb3ef9b",
   "metadata": {
    "ExecuteTime": {
     "end_time": "2025-03-06T15:21:56.217843Z",
     "start_time": "2025-03-06T15:21:56.207848Z"
    }
   },
   "outputs": [
    {
     "data": {
      "text/plain": [
       "3"
      ]
     },
     "execution_count": 41,
     "metadata": {},
     "output_type": "execute_result"
    }
   ],
   "source": [
    "q1.dequeue()"
   ]
  },
  {
   "cell_type": "code",
   "execution_count": 42,
   "id": "57c72e6c",
   "metadata": {
    "ExecuteTime": {
     "end_time": "2025-03-06T15:21:56.639865Z",
     "start_time": "2025-03-06T15:21:56.626992Z"
    }
   },
   "outputs": [
    {
     "data": {
      "text/plain": [
       "4"
      ]
     },
     "execution_count": 42,
     "metadata": {},
     "output_type": "execute_result"
    }
   ],
   "source": [
    "q1.dequeue()"
   ]
  },
  {
   "cell_type": "code",
   "execution_count": 43,
   "id": "82f38a3a",
   "metadata": {
    "ExecuteTime": {
     "end_time": "2025-03-06T15:21:57.010941Z",
     "start_time": "2025-03-06T15:21:57.003771Z"
    }
   },
   "outputs": [
    {
     "name": "stdout",
     "output_type": "stream",
     "text": [
      "Queue is Empty\n"
     ]
    }
   ],
   "source": [
    "q1.dequeue()"
   ]
  },
  {
   "cell_type": "code",
   "execution_count": 44,
   "id": "dbb38b0e",
   "metadata": {
    "ExecuteTime": {
     "end_time": "2025-03-06T15:21:58.320297Z",
     "start_time": "2025-03-06T15:21:58.311302Z"
    }
   },
   "outputs": [
    {
     "name": "stdout",
     "output_type": "stream",
     "text": [
      "Queue is Empty\n"
     ]
    }
   ],
   "source": [
    "q1.dequeue()"
   ]
  },
  {
   "cell_type": "code",
   "execution_count": 45,
   "id": "320185d4",
   "metadata": {
    "ExecuteTime": {
     "end_time": "2025-03-06T15:22:05.464490Z",
     "start_time": "2025-03-06T15:22:05.448497Z"
    }
   },
   "outputs": [
    {
     "data": {
      "text/plain": [
       "True"
      ]
     },
     "execution_count": 45,
     "metadata": {},
     "output_type": "execute_result"
    }
   ],
   "source": [
    "q1.is_Empty()"
   ]
  },
  {
   "cell_type": "markdown",
   "id": "946d3166",
   "metadata": {},
   "source": [
    "# Priority Queue"
   ]
  },
  {
   "cell_type": "code",
   "execution_count": null,
   "id": "a632465a",
   "metadata": {},
   "outputs": [],
   "source": []
  }
 ],
 "metadata": {
  "kernelspec": {
   "display_name": "Python 3 (ipykernel)",
   "language": "python",
   "name": "python3"
  },
  "language_info": {
   "codemirror_mode": {
    "name": "ipython",
    "version": 3
   },
   "file_extension": ".py",
   "mimetype": "text/x-python",
   "name": "python",
   "nbconvert_exporter": "python",
   "pygments_lexer": "ipython3",
   "version": "3.9.6"
  }
 },
 "nbformat": 4,
 "nbformat_minor": 5
}
