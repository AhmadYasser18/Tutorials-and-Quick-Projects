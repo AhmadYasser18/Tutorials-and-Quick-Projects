{
 "cells": [
  {
   "cell_type": "code",
   "execution_count": 31,
   "id": "74ebcbad",
   "metadata": {},
   "outputs": [],
   "source": [
    "from datetime import datetime\n",
    "import random\n",
    "\n",
    "def sort_results(search_funcs, size=10):\n",
    "\n",
    "    l2= [random.randint(1, 50) for i in range(size)] #array to be sorted\n",
    "    \n",
    "    times = {}\n",
    "\n",
    "    print(f'Original List: {l2}')\n",
    "\n",
    "    for func in search_funcs:\n",
    "        times[func.__doc__] = []\n",
    "        \n",
    "        print(f'\\n--------------------\\nSorting using for {func.__doc__}.')\n",
    "        \n",
    "        start_t = datetime.now()\n",
    "        func(l2)\n",
    "        end_t = datetime.now() \n",
    "        delta = end_t - start_t\n",
    "\n",
    "        times[func.__doc__].append((f'Array Length: {size}', delta.microseconds))\n",
    "        print('Done')\n",
    "    \n",
    "    return times    "
   ]
  },
  {
   "cell_type": "markdown",
   "id": "2482ba32",
   "metadata": {},
   "source": [
    "# Bubble Sort\n",
    "- compares adjacent elements and switches them if needed\n",
    "- O(n^2)\n",
    " - inefficient for large datasets"
   ]
  },
  {
   "cell_type": "code",
   "execution_count": 32,
   "id": "23f8ee30",
   "metadata": {},
   "outputs": [],
   "source": [
    "def bubble_sort(arr):\n",
    "    \"\"\"Bubble Sort\"\"\"\n",
    "    for j in range(len(arr)-1):\n",
    "        for i in range(len(arr)-1-j):\n",
    "            if arr[i] >  arr[i+1]:\n",
    "                arr[i], arr[i+1] = arr[i+1], arr[i]\n",
    "                print(arr)\n",
    "\n",
    "    return arr"
   ]
  },
  {
   "cell_type": "code",
   "execution_count": 33,
   "id": "ec1fe7c0",
   "metadata": {},
   "outputs": [
    {
     "data": {
      "text/plain": [
       "[40, 7, 1, 17, 15, 14, 8, 6, 34, 5]"
      ]
     },
     "execution_count": 33,
     "metadata": {},
     "output_type": "execute_result"
    }
   ],
   "source": [
    "import random\n",
    "\n",
    "random.seed(42)\n",
    "\n",
    "l1 = random.sample(range(50), 10)\n",
    "l1"
   ]
  },
  {
   "cell_type": "code",
   "execution_count": 34,
   "id": "d769208c",
   "metadata": {},
   "outputs": [
    {
     "name": "stdout",
     "output_type": "stream",
     "text": [
      "[7, 40, 1, 17, 15, 14, 8, 6, 34, 5]\n",
      "[7, 1, 40, 17, 15, 14, 8, 6, 34, 5]\n",
      "[7, 1, 17, 40, 15, 14, 8, 6, 34, 5]\n",
      "[7, 1, 17, 15, 40, 14, 8, 6, 34, 5]\n",
      "[7, 1, 17, 15, 14, 40, 8, 6, 34, 5]\n",
      "[7, 1, 17, 15, 14, 8, 40, 6, 34, 5]\n",
      "[7, 1, 17, 15, 14, 8, 6, 40, 34, 5]\n",
      "[7, 1, 17, 15, 14, 8, 6, 34, 40, 5]\n",
      "[7, 1, 17, 15, 14, 8, 6, 34, 5, 40]\n",
      "[1, 7, 17, 15, 14, 8, 6, 34, 5, 40]\n",
      "[1, 7, 15, 17, 14, 8, 6, 34, 5, 40]\n",
      "[1, 7, 15, 14, 17, 8, 6, 34, 5, 40]\n",
      "[1, 7, 15, 14, 8, 17, 6, 34, 5, 40]\n",
      "[1, 7, 15, 14, 8, 6, 17, 34, 5, 40]\n",
      "[1, 7, 15, 14, 8, 6, 17, 5, 34, 40]\n",
      "[1, 7, 14, 15, 8, 6, 17, 5, 34, 40]\n",
      "[1, 7, 14, 8, 15, 6, 17, 5, 34, 40]\n",
      "[1, 7, 14, 8, 6, 15, 17, 5, 34, 40]\n",
      "[1, 7, 14, 8, 6, 15, 5, 17, 34, 40]\n",
      "[1, 7, 8, 14, 6, 15, 5, 17, 34, 40]\n",
      "[1, 7, 8, 6, 14, 15, 5, 17, 34, 40]\n",
      "[1, 7, 8, 6, 14, 5, 15, 17, 34, 40]\n",
      "[1, 7, 6, 8, 14, 5, 15, 17, 34, 40]\n",
      "[1, 7, 6, 8, 5, 14, 15, 17, 34, 40]\n",
      "[1, 6, 7, 8, 5, 14, 15, 17, 34, 40]\n",
      "[1, 6, 7, 5, 8, 14, 15, 17, 34, 40]\n",
      "[1, 6, 5, 7, 8, 14, 15, 17, 34, 40]\n",
      "[1, 5, 6, 7, 8, 14, 15, 17, 34, 40]\n"
     ]
    },
    {
     "data": {
      "text/plain": [
       "[1, 5, 6, 7, 8, 14, 15, 17, 34, 40]"
      ]
     },
     "execution_count": 34,
     "metadata": {},
     "output_type": "execute_result"
    }
   ],
   "source": [
    "bubble_sort(l1)"
   ]
  },
  {
   "cell_type": "code",
   "execution_count": 35,
   "id": "5609466d",
   "metadata": {},
   "outputs": [
    {
     "name": "stdout",
     "output_type": "stream",
     "text": [
      "Original List: [38, 28, 3, 2, 6, 14, 15, 33, 39, 2]\n",
      "\n",
      "--------------------\n",
      "Sorting using for Bubble Sort.\n",
      "[28, 38, 3, 2, 6, 14, 15, 33, 39, 2]\n",
      "[28, 3, 38, 2, 6, 14, 15, 33, 39, 2]\n",
      "[28, 3, 2, 38, 6, 14, 15, 33, 39, 2]\n",
      "[28, 3, 2, 6, 38, 14, 15, 33, 39, 2]\n",
      "[28, 3, 2, 6, 14, 38, 15, 33, 39, 2]\n",
      "[28, 3, 2, 6, 14, 15, 38, 33, 39, 2]\n",
      "[28, 3, 2, 6, 14, 15, 33, 38, 39, 2]\n",
      "[28, 3, 2, 6, 14, 15, 33, 38, 2, 39]\n",
      "[3, 28, 2, 6, 14, 15, 33, 38, 2, 39]\n",
      "[3, 2, 28, 6, 14, 15, 33, 38, 2, 39]\n",
      "[3, 2, 6, 28, 14, 15, 33, 38, 2, 39]\n",
      "[3, 2, 6, 14, 28, 15, 33, 38, 2, 39]\n",
      "[3, 2, 6, 14, 15, 28, 33, 38, 2, 39]\n",
      "[3, 2, 6, 14, 15, 28, 33, 2, 38, 39]\n",
      "[2, 3, 6, 14, 15, 28, 33, 2, 38, 39]\n",
      "[2, 3, 6, 14, 15, 28, 2, 33, 38, 39]\n",
      "[2, 3, 6, 14, 15, 2, 28, 33, 38, 39]\n",
      "[2, 3, 6, 14, 2, 15, 28, 33, 38, 39]\n",
      "[2, 3, 6, 2, 14, 15, 28, 33, 38, 39]\n",
      "[2, 3, 2, 6, 14, 15, 28, 33, 38, 39]\n",
      "[2, 2, 3, 6, 14, 15, 28, 33, 38, 39]\n",
      "Done\n"
     ]
    },
    {
     "data": {
      "text/plain": [
       "{'Bubble Sort': [('Array Length: 10', 596)]}"
      ]
     },
     "execution_count": 35,
     "metadata": {},
     "output_type": "execute_result"
    }
   ],
   "source": [
    "sort_results([bubble_sort])"
   ]
  },
  {
   "cell_type": "markdown",
   "id": "f9793dc3",
   "metadata": {},
   "source": [
    "# Selection Sort\n",
    "- in place comparison sorting algorithm\n",
    "- keeps track of minimum value during each iteration\n",
    "-O(n^2)\n"
   ]
  },
  {
   "cell_type": "code",
   "execution_count": 36,
   "id": "34a78f2e",
   "metadata": {},
   "outputs": [],
   "source": [
    "def selection_sort(arr):\n",
    "    \"\"\"Selection Sort\"\"\"\n",
    "    \n",
    "    for i in range(len(arr)-1):\n",
    "        print(arr)\n",
    "        min = float('inf')\n",
    "        min_idx = None\n",
    "        for j in range(i,len(arr)-1):\n",
    "            \n",
    "            if arr[j] < min:\n",
    "                min = arr[j]\n",
    "                min_idx = j\n",
    "\n",
    "        arr[i], arr[min_idx] = arr[min_idx], arr[i] \n",
    "                \n",
    "    return arr"
   ]
  },
  {
   "cell_type": "code",
   "execution_count": 37,
   "id": "c7b7c451",
   "metadata": {},
   "outputs": [
    {
     "name": "stdout",
     "output_type": "stream",
     "text": [
      "[5, 7, 4, 10, 20]\n",
      "[4, 7, 5, 10, 20]\n",
      "[4, 5, 7, 10, 20]\n",
      "[4, 5, 7, 10, 20]\n"
     ]
    },
    {
     "data": {
      "text/plain": [
       "[4, 5, 7, 10, 20]"
      ]
     },
     "execution_count": 37,
     "metadata": {},
     "output_type": "execute_result"
    }
   ],
   "source": [
    "selection_sort([5,7, 4, 10, 20])"
   ]
  },
  {
   "cell_type": "code",
   "execution_count": 38,
   "id": "499186d7",
   "metadata": {},
   "outputs": [
    {
     "name": "stdout",
     "output_type": "stream",
     "text": [
      "Original List: [36, 13, 46, 42, 45, 35, 27, 15, 29, 38]\n",
      "\n",
      "--------------------\n",
      "Sorting using for Selection Sort.\n",
      "[36, 13, 46, 42, 45, 35, 27, 15, 29, 38]\n",
      "[13, 36, 46, 42, 45, 35, 27, 15, 29, 38]\n",
      "[13, 15, 46, 42, 45, 35, 27, 36, 29, 38]\n",
      "[13, 15, 27, 42, 45, 35, 46, 36, 29, 38]\n",
      "[13, 15, 27, 29, 45, 35, 46, 36, 42, 38]\n",
      "[13, 15, 27, 29, 35, 45, 46, 36, 42, 38]\n",
      "[13, 15, 27, 29, 35, 36, 46, 45, 42, 38]\n",
      "[13, 15, 27, 29, 35, 36, 42, 45, 46, 38]\n",
      "[13, 15, 27, 29, 35, 36, 42, 45, 46, 38]\n",
      "Done\n",
      "\n",
      "--------------------\n",
      "Sorting using for Bubble Sort.\n",
      "[13, 15, 27, 29, 35, 36, 42, 45, 38, 46]\n",
      "[13, 15, 27, 29, 35, 36, 42, 38, 45, 46]\n",
      "[13, 15, 27, 29, 35, 36, 38, 42, 45, 46]\n",
      "Done\n"
     ]
    },
    {
     "data": {
      "text/plain": [
       "{'Selection Sort': [('Array Length: 10', 219)],\n",
       " 'Bubble Sort': [('Array Length: 10', 80)]}"
      ]
     },
     "execution_count": 38,
     "metadata": {},
     "output_type": "execute_result"
    }
   ],
   "source": [
    "sort_results([selection_sort, bubble_sort])"
   ]
  },
  {
   "cell_type": "markdown",
   "id": "b8460f30",
   "metadata": {},
   "source": [
    "# Insertion Sort"
   ]
  },
  {
   "cell_type": "code",
   "execution_count": null,
   "id": "1824e782",
   "metadata": {},
   "outputs": [],
   "source": []
  }
 ],
 "metadata": {
  "kernelspec": {
   "display_name": "pytorch",
   "language": "python",
   "name": "python3"
  },
  "language_info": {
   "codemirror_mode": {
    "name": "ipython",
    "version": 3
   },
   "file_extension": ".py",
   "mimetype": "text/x-python",
   "name": "python",
   "nbconvert_exporter": "python",
   "pygments_lexer": "ipython3",
   "version": "3.13.2"
  }
 },
 "nbformat": 4,
 "nbformat_minor": 5
}
