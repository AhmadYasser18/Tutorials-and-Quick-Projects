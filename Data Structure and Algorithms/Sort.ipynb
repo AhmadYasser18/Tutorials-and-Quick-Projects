{
 "cells": [
  {
   "cell_type": "code",
   "execution_count": 1,
   "id": "74ebcbad",
   "metadata": {},
   "outputs": [],
   "source": [
    "from datetime import datetime\n",
    "import random\n",
    "\n",
    "def sort_results(search_funcs, size=10):\n",
    "\n",
    "    l2= [random.randint(1, 50) for i in range(size)] #array to be sorted\n",
    "    \n",
    "    times = {}\n",
    "\n",
    "    print(f'Original List: {l2}')\n",
    "\n",
    "    for func in search_funcs:\n",
    "        times[func.__doc__] = []\n",
    "        \n",
    "        print(f'\\n--------------------\\nSorting using for {func.__doc__}.')\n",
    "        \n",
    "        start_t = datetime.now()\n",
    "        func(l2)\n",
    "        end_t = datetime.now() \n",
    "        delta = end_t - start_t\n",
    "\n",
    "        times[func.__doc__].append((f'Array Length: {size}', delta.microseconds))\n",
    "        print('Done')\n",
    "    \n",
    "    return times    "
   ]
  },
  {
   "cell_type": "markdown",
   "id": "2482ba32",
   "metadata": {},
   "source": [
    "# Bubble Sort\n",
    "- compares adjacent elements and switches them if needed\n",
    "- O(n^2)\n",
    " - inefficient for large datasets"
   ]
  },
  {
   "cell_type": "code",
   "execution_count": 2,
   "id": "23f8ee30",
   "metadata": {},
   "outputs": [],
   "source": [
    "def bubble_sort(arr):\n",
    "    \"\"\"Bubble Sort\"\"\"\n",
    "    for i in range(len(arr)-1):\n",
    "        for j in range(len(arr)-1-i):\n",
    "            if arr[j] >  arr[j+1]:\n",
    "                arr[j], arr[j+1] = arr[j+1], arr[j]\n",
    "                print(arr)\n",
    "\n",
    "    return arr"
   ]
  },
  {
   "cell_type": "code",
   "execution_count": 3,
   "id": "ec1fe7c0",
   "metadata": {},
   "outputs": [
    {
     "data": {
      "text/plain": [
       "[40, 7, 1, 17, 15, 14, 8, 6, 34, 5]"
      ]
     },
     "execution_count": 3,
     "metadata": {},
     "output_type": "execute_result"
    }
   ],
   "source": [
    "import random\n",
    "\n",
    "random.seed(42)\n",
    "\n",
    "l1 = random.sample(range(50), 10)\n",
    "l1"
   ]
  },
  {
   "cell_type": "code",
   "execution_count": 4,
   "id": "d769208c",
   "metadata": {},
   "outputs": [
    {
     "name": "stdout",
     "output_type": "stream",
     "text": [
      "[7, 40, 1, 17, 15, 14, 8, 6, 34, 5]\n",
      "[7, 1, 40, 17, 15, 14, 8, 6, 34, 5]\n",
      "[7, 1, 17, 40, 15, 14, 8, 6, 34, 5]\n",
      "[7, 1, 17, 15, 40, 14, 8, 6, 34, 5]\n",
      "[7, 1, 17, 15, 14, 40, 8, 6, 34, 5]\n",
      "[7, 1, 17, 15, 14, 8, 40, 6, 34, 5]\n",
      "[7, 1, 17, 15, 14, 8, 6, 40, 34, 5]\n",
      "[7, 1, 17, 15, 14, 8, 6, 34, 40, 5]\n",
      "[7, 1, 17, 15, 14, 8, 6, 34, 5, 40]\n",
      "[1, 7, 17, 15, 14, 8, 6, 34, 5, 40]\n",
      "[1, 7, 15, 17, 14, 8, 6, 34, 5, 40]\n",
      "[1, 7, 15, 14, 17, 8, 6, 34, 5, 40]\n",
      "[1, 7, 15, 14, 8, 17, 6, 34, 5, 40]\n",
      "[1, 7, 15, 14, 8, 6, 17, 34, 5, 40]\n",
      "[1, 7, 15, 14, 8, 6, 17, 5, 34, 40]\n",
      "[1, 7, 14, 15, 8, 6, 17, 5, 34, 40]\n",
      "[1, 7, 14, 8, 15, 6, 17, 5, 34, 40]\n",
      "[1, 7, 14, 8, 6, 15, 17, 5, 34, 40]\n",
      "[1, 7, 14, 8, 6, 15, 5, 17, 34, 40]\n",
      "[1, 7, 8, 14, 6, 15, 5, 17, 34, 40]\n",
      "[1, 7, 8, 6, 14, 15, 5, 17, 34, 40]\n",
      "[1, 7, 8, 6, 14, 5, 15, 17, 34, 40]\n",
      "[1, 7, 6, 8, 14, 5, 15, 17, 34, 40]\n",
      "[1, 7, 6, 8, 5, 14, 15, 17, 34, 40]\n",
      "[1, 6, 7, 8, 5, 14, 15, 17, 34, 40]\n",
      "[1, 6, 7, 5, 8, 14, 15, 17, 34, 40]\n",
      "[1, 6, 5, 7, 8, 14, 15, 17, 34, 40]\n",
      "[1, 5, 6, 7, 8, 14, 15, 17, 34, 40]\n"
     ]
    },
    {
     "data": {
      "text/plain": [
       "[1, 5, 6, 7, 8, 14, 15, 17, 34, 40]"
      ]
     },
     "execution_count": 4,
     "metadata": {},
     "output_type": "execute_result"
    }
   ],
   "source": [
    "bubble_sort(l1)"
   ]
  },
  {
   "cell_type": "code",
   "execution_count": 5,
   "id": "5609466d",
   "metadata": {},
   "outputs": [
    {
     "name": "stdout",
     "output_type": "stream",
     "text": [
      "Original List: [38, 28, 3, 2, 6, 14, 15, 33, 39, 2]\n",
      "\n",
      "--------------------\n",
      "Sorting using for Bubble Sort.\n",
      "[28, 38, 3, 2, 6, 14, 15, 33, 39, 2]\n",
      "[28, 3, 38, 2, 6, 14, 15, 33, 39, 2]\n",
      "[28, 3, 2, 38, 6, 14, 15, 33, 39, 2]\n",
      "[28, 3, 2, 6, 38, 14, 15, 33, 39, 2]\n",
      "[28, 3, 2, 6, 14, 38, 15, 33, 39, 2]\n",
      "[28, 3, 2, 6, 14, 15, 38, 33, 39, 2]\n",
      "[28, 3, 2, 6, 14, 15, 33, 38, 39, 2]\n",
      "[28, 3, 2, 6, 14, 15, 33, 38, 2, 39]\n",
      "[3, 28, 2, 6, 14, 15, 33, 38, 2, 39]\n",
      "[3, 2, 28, 6, 14, 15, 33, 38, 2, 39]\n",
      "[3, 2, 6, 28, 14, 15, 33, 38, 2, 39]\n",
      "[3, 2, 6, 14, 28, 15, 33, 38, 2, 39]\n",
      "[3, 2, 6, 14, 15, 28, 33, 38, 2, 39]\n",
      "[3, 2, 6, 14, 15, 28, 33, 2, 38, 39]\n",
      "[2, 3, 6, 14, 15, 28, 33, 2, 38, 39]\n",
      "[2, 3, 6, 14, 15, 28, 2, 33, 38, 39]\n",
      "[2, 3, 6, 14, 15, 2, 28, 33, 38, 39]\n",
      "[2, 3, 6, 14, 2, 15, 28, 33, 38, 39]\n",
      "[2, 3, 6, 2, 14, 15, 28, 33, 38, 39]\n",
      "[2, 3, 2, 6, 14, 15, 28, 33, 38, 39]\n",
      "[2, 2, 3, 6, 14, 15, 28, 33, 38, 39]\n",
      "Done\n"
     ]
    },
    {
     "data": {
      "text/plain": [
       "{'Bubble Sort': [('Array Length: 10', 532)]}"
      ]
     },
     "execution_count": 5,
     "metadata": {},
     "output_type": "execute_result"
    }
   ],
   "source": [
    "sort_results([bubble_sort])"
   ]
  },
  {
   "cell_type": "markdown",
   "id": "f9793dc3",
   "metadata": {},
   "source": [
    "# Selection Sort\n",
    "- in place comparison sorting algorithm\n",
    "- keeps track of minimum value during each iteration\n",
    "- O(n^2)\n"
   ]
  },
  {
   "cell_type": "code",
   "execution_count": 6,
   "id": "34a78f2e",
   "metadata": {},
   "outputs": [],
   "source": [
    "def selection_sort(arr):\n",
    "    \"\"\"Selection Sort\"\"\"\n",
    "    \n",
    "    for i in range(len(arr)-1):\n",
    "        print(arr)\n",
    "        min_idx = i\n",
    "        for j in range(i,len(arr)):\n",
    "            \n",
    "            if arr[j] < arr[min_idx]:\n",
    "                min_idx = j\n",
    "\n",
    "        arr[i], arr[min_idx] = arr[min_idx], arr[i] \n",
    "                \n",
    "    return arr"
   ]
  },
  {
   "cell_type": "code",
   "execution_count": 7,
   "id": "c7b7c451",
   "metadata": {},
   "outputs": [
    {
     "name": "stdout",
     "output_type": "stream",
     "text": [
      "[5, 7, 4, 10, 20]\n",
      "[4, 7, 5, 10, 20]\n",
      "[4, 5, 7, 10, 20]\n",
      "[4, 5, 7, 10, 20]\n"
     ]
    },
    {
     "data": {
      "text/plain": [
       "[4, 5, 7, 10, 20]"
      ]
     },
     "execution_count": 7,
     "metadata": {},
     "output_type": "execute_result"
    }
   ],
   "source": [
    "selection_sort([5,7, 4, 10, 20])"
   ]
  },
  {
   "cell_type": "code",
   "execution_count": 8,
   "id": "499186d7",
   "metadata": {},
   "outputs": [
    {
     "name": "stdout",
     "output_type": "stream",
     "text": [
      "Original List: [36, 13, 46, 42, 45, 35, 27, 15, 29, 38]\n",
      "\n",
      "--------------------\n",
      "Sorting using for Selection Sort.\n",
      "[36, 13, 46, 42, 45, 35, 27, 15, 29, 38]\n",
      "[13, 36, 46, 42, 45, 35, 27, 15, 29, 38]\n",
      "[13, 15, 46, 42, 45, 35, 27, 36, 29, 38]\n",
      "[13, 15, 27, 42, 45, 35, 46, 36, 29, 38]\n",
      "[13, 15, 27, 29, 45, 35, 46, 36, 42, 38]\n",
      "[13, 15, 27, 29, 35, 45, 46, 36, 42, 38]\n",
      "[13, 15, 27, 29, 35, 36, 46, 45, 42, 38]\n",
      "[13, 15, 27, 29, 35, 36, 38, 45, 42, 46]\n",
      "[13, 15, 27, 29, 35, 36, 38, 42, 45, 46]\n",
      "Done\n",
      "\n",
      "--------------------\n",
      "Sorting using for Bubble Sort.\n",
      "Done\n"
     ]
    },
    {
     "data": {
      "text/plain": [
       "{'Selection Sort': [('Array Length: 10', 227)],\n",
       " 'Bubble Sort': [('Array Length: 10', 23)]}"
      ]
     },
     "execution_count": 8,
     "metadata": {},
     "output_type": "execute_result"
    }
   ],
   "source": [
    "sort_results([selection_sort, bubble_sort])"
   ]
  },
  {
   "cell_type": "markdown",
   "id": "b8460f30",
   "metadata": {},
   "source": [
    "# Insertion Sort\n",
    "- staring from index [1], all elements to the left are examined to check if any is larger which is then shifted to the right\n",
    "- O(n^6) "
   ]
  },
  {
   "cell_type": "code",
   "execution_count": 9,
   "id": "1824e782",
   "metadata": {},
   "outputs": [],
   "source": [
    "def insertion_sort(arr):\n",
    "    \"\"\"Insertion Sort\"\"\"\n",
    "    for i in range(1, len(arr)):\n",
    "        temp = arr[i]\n",
    "        j= i -1\n",
    "        print(i, temp)\n",
    "        while j>=0 and arr[j]>temp:\n",
    "            arr[j+1] = arr[j]            \n",
    "            j-=1\n",
    "            print(arr)\n",
    "        arr[j+1] =temp \n",
    "\n",
    "    return arr"
   ]
  },
  {
   "cell_type": "code",
   "execution_count": 10,
   "id": "3c23d1fd",
   "metadata": {},
   "outputs": [
    {
     "name": "stdout",
     "output_type": "stream",
     "text": [
      "1 2\n",
      "[6, 6, 1, 0, 3, 4, 10, 54, 25]\n",
      "2 1\n",
      "[2, 6, 6, 0, 3, 4, 10, 54, 25]\n",
      "[2, 2, 6, 0, 3, 4, 10, 54, 25]\n",
      "3 0\n",
      "[1, 2, 6, 6, 3, 4, 10, 54, 25]\n",
      "[1, 2, 2, 6, 3, 4, 10, 54, 25]\n",
      "[1, 1, 2, 6, 3, 4, 10, 54, 25]\n",
      "4 3\n",
      "[0, 1, 2, 6, 6, 4, 10, 54, 25]\n",
      "5 4\n",
      "[0, 1, 2, 3, 6, 6, 10, 54, 25]\n",
      "6 10\n",
      "7 54\n",
      "8 25\n",
      "[0, 1, 2, 3, 4, 6, 10, 54, 54]\n"
     ]
    },
    {
     "data": {
      "text/plain": [
       "[0, 1, 2, 3, 4, 6, 10, 25, 54]"
      ]
     },
     "execution_count": 10,
     "metadata": {},
     "output_type": "execute_result"
    }
   ],
   "source": [
    "l3 = [6,2,1,0,3,4,10,54,25]\n",
    "\n",
    "insertion_sort(l3)"
   ]
  },
  {
   "cell_type": "code",
   "execution_count": 11,
   "id": "94499b69",
   "metadata": {},
   "outputs": [
    {
     "name": "stdout",
     "output_type": "stream",
     "text": [
      "Original List: [18, 1, 49, 11, 45, 28, 22, 18, 10, 14]\n",
      "\n",
      "--------------------\n",
      "Sorting using for Insertion Sort.\n",
      "1 1\n",
      "[18, 18, 49, 11, 45, 28, 22, 18, 10, 14]\n",
      "2 49\n",
      "3 11\n",
      "[1, 18, 49, 49, 45, 28, 22, 18, 10, 14]\n",
      "[1, 18, 18, 49, 45, 28, 22, 18, 10, 14]\n",
      "4 45\n",
      "[1, 11, 18, 49, 49, 28, 22, 18, 10, 14]\n",
      "5 28\n",
      "[1, 11, 18, 45, 49, 49, 22, 18, 10, 14]\n",
      "[1, 11, 18, 45, 45, 49, 22, 18, 10, 14]\n",
      "6 22\n",
      "[1, 11, 18, 28, 45, 49, 49, 18, 10, 14]\n",
      "[1, 11, 18, 28, 45, 45, 49, 18, 10, 14]\n",
      "[1, 11, 18, 28, 28, 45, 49, 18, 10, 14]\n",
      "7 18\n",
      "[1, 11, 18, 22, 28, 45, 49, 49, 10, 14]\n",
      "[1, 11, 18, 22, 28, 45, 45, 49, 10, 14]\n",
      "[1, 11, 18, 22, 28, 28, 45, 49, 10, 14]\n",
      "[1, 11, 18, 22, 22, 28, 45, 49, 10, 14]\n",
      "8 10\n",
      "[1, 11, 18, 18, 22, 28, 45, 49, 49, 14]\n",
      "[1, 11, 18, 18, 22, 28, 45, 45, 49, 14]\n",
      "[1, 11, 18, 18, 22, 28, 28, 45, 49, 14]\n",
      "[1, 11, 18, 18, 22, 22, 28, 45, 49, 14]\n",
      "[1, 11, 18, 18, 18, 22, 28, 45, 49, 14]\n",
      "[1, 11, 18, 18, 18, 22, 28, 45, 49, 14]\n",
      "[1, 11, 11, 18, 18, 22, 28, 45, 49, 14]\n",
      "9 14\n",
      "[1, 10, 11, 18, 18, 22, 28, 45, 49, 49]\n",
      "[1, 10, 11, 18, 18, 22, 28, 45, 45, 49]\n",
      "[1, 10, 11, 18, 18, 22, 28, 28, 45, 49]\n",
      "[1, 10, 11, 18, 18, 22, 22, 28, 45, 49]\n",
      "[1, 10, 11, 18, 18, 18, 22, 28, 45, 49]\n",
      "[1, 10, 11, 18, 18, 18, 22, 28, 45, 49]\n",
      "Done\n",
      "\n",
      "--------------------\n",
      "Sorting using for Selection Sort.\n",
      "[1, 10, 11, 14, 18, 18, 22, 28, 45, 49]\n",
      "[1, 10, 11, 14, 18, 18, 22, 28, 45, 49]\n",
      "[1, 10, 11, 14, 18, 18, 22, 28, 45, 49]\n",
      "[1, 10, 11, 14, 18, 18, 22, 28, 45, 49]\n",
      "[1, 10, 11, 14, 18, 18, 22, 28, 45, 49]\n",
      "[1, 10, 11, 14, 18, 18, 22, 28, 45, 49]\n",
      "[1, 10, 11, 14, 18, 18, 22, 28, 45, 49]\n",
      "[1, 10, 11, 14, 18, 18, 22, 28, 45, 49]\n",
      "[1, 10, 11, 14, 18, 18, 22, 28, 45, 49]\n",
      "Done\n",
      "\n",
      "--------------------\n",
      "Sorting using for Bubble Sort.\n",
      "Done\n"
     ]
    },
    {
     "data": {
      "text/plain": [
       "{'Insertion Sort': [('Array Length: 10', 1392)],\n",
       " 'Selection Sort': [('Array Length: 10', 284)],\n",
       " 'Bubble Sort': [('Array Length: 10', 20)]}"
      ]
     },
     "execution_count": 11,
     "metadata": {},
     "output_type": "execute_result"
    }
   ],
   "source": [
    "sort_results([insertion_sort, selection_sort, bubble_sort])"
   ]
  },
  {
   "cell_type": "markdown",
   "id": "418ec0ef",
   "metadata": {},
   "source": [
    "# Recusrion\n",
    "- can be a substitute for iteration\n",
    "- divide a problem into sub-problems of the same type as the original\n",
    "- easier to read/write/debug\n",
    "- sometimes slower\n",
    "- takes more memory"
   ]
  },
  {
   "cell_type": "markdown",
   "id": "ceb5433a",
   "metadata": {},
   "source": [
    "# Merge Sort\n",
    "- divide and conquer\n",
    "- recursive\n",
    "- O(n log n)\n",
    "- uses more space compared to other"
   ]
  },
  {
   "cell_type": "code",
   "execution_count": 31,
   "id": "f234f9d4",
   "metadata": {},
   "outputs": [],
   "source": [
    "def merge(r_arr, l_arr, arr):\n",
    "    \"Merge Function\"\n",
    "    idx = r_idx = l_idx =0\n",
    "    \n",
    "    while l_idx<len(l_arr) and r_idx<len(r_arr):\n",
    "        if l_arr[l_idx] <= r_arr[r_idx]:\n",
    "            arr[idx] = l_arr[l_idx]\n",
    "            l_idx+=1\n",
    "        else:\n",
    "            arr[idx] = r_arr[r_idx]\n",
    "            r_idx+=1\n",
    "            \n",
    "        idx+=1\n",
    "    \n",
    "    while r_idx < len(r_arr):\n",
    "        arr[idx] = r_arr[r_idx]\n",
    "        idx+=1\n",
    "        r_idx+=1\n",
    "\n",
    "    while l_idx < len(l_arr):\n",
    "        arr[idx] = l_arr[l_idx] \n",
    "        idx+=1\n",
    "        l_idx+=1\n",
    "\n",
    "\n",
    "    return arr\n",
    "\n",
    "\n",
    "    \n",
    "def merge_sort(arr):\n",
    "    \"\"\"Merge Sort\"\"\"\n",
    "    if len(arr) <=1:\n",
    "        return\n",
    "    \n",
    "    middle = len(arr)//2\n",
    "    l_arr = arr[:middle]\n",
    "    r_arr = arr[middle:]\n",
    "\n",
    "    merge_sort(l_arr)\n",
    "    merge_sort(r_arr)\n",
    "\n",
    "    merge(l_arr, r_arr, arr)\n",
    "\n",
    "    return arr"
   ]
  },
  {
   "cell_type": "code",
   "execution_count": 32,
   "id": "bf9af933",
   "metadata": {},
   "outputs": [
    {
     "data": {
      "text/plain": [
       "[0, 1, 2, 3, 4, 6, 10, 25, 54]"
      ]
     },
     "execution_count": 32,
     "metadata": {},
     "output_type": "execute_result"
    }
   ],
   "source": [
    "l3 = [6,2,1,0,3,4,10,54,25]\n",
    "\n",
    "merge_sort(l3)"
   ]
  },
  {
   "cell_type": "code",
   "execution_count": 33,
   "id": "88ffe22c",
   "metadata": {},
   "outputs": [
    {
     "name": "stdout",
     "output_type": "stream",
     "text": [
      "Original List: [49, 22, 7, 6, 25, 7, 23, 23, 39, 17]\n",
      "\n",
      "--------------------\n",
      "Sorting using for Merge Sort.\n",
      "Done\n",
      "\n",
      "--------------------\n",
      "Sorting using for Insertion Sort.\n",
      "1 7\n",
      "2 7\n",
      "3 17\n",
      "4 22\n",
      "5 23\n",
      "6 23\n",
      "7 25\n",
      "8 39\n",
      "9 49\n",
      "Done\n",
      "\n",
      "--------------------\n",
      "Sorting using for Selection Sort.\n",
      "[6, 7, 7, 17, 22, 23, 23, 25, 39, 49]\n",
      "[6, 7, 7, 17, 22, 23, 23, 25, 39, 49]\n",
      "[6, 7, 7, 17, 22, 23, 23, 25, 39, 49]\n",
      "[6, 7, 7, 17, 22, 23, 23, 25, 39, 49]\n",
      "[6, 7, 7, 17, 22, 23, 23, 25, 39, 49]\n",
      "[6, 7, 7, 17, 22, 23, 23, 25, 39, 49]\n",
      "[6, 7, 7, 17, 22, 23, 23, 25, 39, 49]\n",
      "[6, 7, 7, 17, 22, 23, 23, 25, 39, 49]\n",
      "[6, 7, 7, 17, 22, 23, 23, 25, 39, 49]\n",
      "Done\n",
      "\n",
      "--------------------\n",
      "Sorting using for Bubble Sort.\n",
      "Done\n"
     ]
    },
    {
     "data": {
      "text/plain": [
       "{'Merge Sort': [('Array Length: 10', 36)],\n",
       " 'Insertion Sort': [('Array Length: 10', 136)],\n",
       " 'Selection Sort': [('Array Length: 10', 94)],\n",
       " 'Bubble Sort': [('Array Length: 10', 9)]}"
      ]
     },
     "execution_count": 33,
     "metadata": {},
     "output_type": "execute_result"
    }
   ],
   "source": [
    "sort_results([merge_sort, insertion_sort, selection_sort, bubble_sort])"
   ]
  },
  {
   "cell_type": "code",
   "execution_count": null,
   "id": "2709205a",
   "metadata": {},
   "outputs": [],
   "source": []
  }
 ],
 "metadata": {
  "kernelspec": {
   "display_name": "pytorch",
   "language": "python",
   "name": "python3"
  },
  "language_info": {
   "codemirror_mode": {
    "name": "ipython",
    "version": 3
   },
   "file_extension": ".py",
   "mimetype": "text/x-python",
   "name": "python",
   "nbconvert_exporter": "python",
   "pygments_lexer": "ipython3",
   "version": "3.13.2"
  }
 },
 "nbformat": 4,
 "nbformat_minor": 5
}
