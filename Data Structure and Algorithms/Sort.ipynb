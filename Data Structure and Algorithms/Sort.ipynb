{
 "cells": [
  {
   "cell_type": "code",
   "execution_count": 27,
   "id": "74ebcbad",
   "metadata": {},
   "outputs": [],
   "source": [
    "from datetime import datetime\n",
    "import random\n",
    "\n",
    "def sort_results(search_funcs, size=10):\n",
    "\n",
    "    l2= [random.randint(1, 50) for i in range(size)] #array to be sorted\n",
    "    \n",
    "    times = {}\n",
    "\n",
    "    for func in search_funcs:\n",
    "        times[func.__doc__] = []\n",
    "        \n",
    "        print(f'\\n--------------------\\nSorting using for {func.__doc__}.')\n",
    "        \n",
    "        start_t = datetime.now()\n",
    "        func(l2)\n",
    "        end_t = datetime.now() \n",
    "        delta = end_t - start_t\n",
    "\n",
    "        times[func.__doc__].append((f'Array Length: {size}', delta.microseconds))\n",
    "        print('Done')\n",
    "    \n",
    "    return times    "
   ]
  },
  {
   "cell_type": "markdown",
   "id": "2482ba32",
   "metadata": {},
   "source": [
    "# Bubble Sort\n",
    "- compares adjacent elements and switches them if needed\n",
    "- O(n^2)"
   ]
  },
  {
   "cell_type": "code",
   "execution_count": 26,
   "id": "23f8ee30",
   "metadata": {},
   "outputs": [],
   "source": [
    "def bubble_sort(arr):\n",
    "    \"\"\"Bubble Sort\"\"\"\n",
    "    for j in range(len(arr)-1):\n",
    "        for i in range(len(arr)-1-j):\n",
    "            if arr[i] >  arr[i+1]:\n",
    "                arr[i], arr[i+1] = arr[i+1], arr[i]\n",
    "                print(arr)\n",
    "\n",
    "    return arr"
   ]
  },
  {
   "cell_type": "code",
   "execution_count": 21,
   "id": "ec1fe7c0",
   "metadata": {},
   "outputs": [
    {
     "data": {
      "text/plain": [
       "[40, 7, 1, 17, 15, 14, 8, 6, 34, 5]"
      ]
     },
     "execution_count": 21,
     "metadata": {},
     "output_type": "execute_result"
    }
   ],
   "source": [
    "import random\n",
    "\n",
    "random.seed(42)\n",
    "\n",
    "l1 = random.sample(range(50), 10)\n",
    "l1"
   ]
  },
  {
   "cell_type": "code",
   "execution_count": 28,
   "id": "d769208c",
   "metadata": {},
   "outputs": [
    {
     "data": {
      "text/plain": [
       "[1, 5, 6, 7, 8, 14, 15, 17, 34, 40]"
      ]
     },
     "execution_count": 28,
     "metadata": {},
     "output_type": "execute_result"
    }
   ],
   "source": [
    "bubble_sort(l1)"
   ]
  },
  {
   "cell_type": "code",
   "execution_count": 29,
   "id": "5609466d",
   "metadata": {},
   "outputs": [
    {
     "name": "stdout",
     "output_type": "stream",
     "text": [
      "\n",
      "--------------------\n",
      "Sorting using for Bubble Sort.\n",
      "[22, 49, 7, 6, 25, 7, 23, 23, 39, 17]\n",
      "[22, 7, 49, 6, 25, 7, 23, 23, 39, 17]\n",
      "[22, 7, 6, 49, 25, 7, 23, 23, 39, 17]\n",
      "[22, 7, 6, 25, 49, 7, 23, 23, 39, 17]\n",
      "[22, 7, 6, 25, 7, 49, 23, 23, 39, 17]\n",
      "[22, 7, 6, 25, 7, 23, 49, 23, 39, 17]\n",
      "[22, 7, 6, 25, 7, 23, 23, 49, 39, 17]\n",
      "[22, 7, 6, 25, 7, 23, 23, 39, 49, 17]\n",
      "[22, 7, 6, 25, 7, 23, 23, 39, 17, 49]\n",
      "[7, 22, 6, 25, 7, 23, 23, 39, 17, 49]\n",
      "[7, 6, 22, 25, 7, 23, 23, 39, 17, 49]\n",
      "[7, 6, 22, 7, 25, 23, 23, 39, 17, 49]\n",
      "[7, 6, 22, 7, 23, 25, 23, 39, 17, 49]\n",
      "[7, 6, 22, 7, 23, 23, 25, 39, 17, 49]\n",
      "[7, 6, 22, 7, 23, 23, 25, 17, 39, 49]\n",
      "[6, 7, 22, 7, 23, 23, 25, 17, 39, 49]\n",
      "[6, 7, 7, 22, 23, 23, 25, 17, 39, 49]\n",
      "[6, 7, 7, 22, 23, 23, 17, 25, 39, 49]\n",
      "[6, 7, 7, 22, 23, 17, 23, 25, 39, 49]\n",
      "[6, 7, 7, 22, 17, 23, 23, 25, 39, 49]\n",
      "[6, 7, 7, 17, 22, 23, 23, 25, 39, 49]\n",
      "Done\n"
     ]
    },
    {
     "data": {
      "text/plain": [
       "{'Bubble Sort': [('Array Length: 10', 428)]}"
      ]
     },
     "execution_count": 29,
     "metadata": {},
     "output_type": "execute_result"
    }
   ],
   "source": [
    "sort_results([bubble_sort])"
   ]
  },
  {
   "cell_type": "code",
   "execution_count": null,
   "id": "34a78f2e",
   "metadata": {},
   "outputs": [],
   "source": []
  }
 ],
 "metadata": {
  "kernelspec": {
   "display_name": "pytorch",
   "language": "python",
   "name": "python3"
  },
  "language_info": {
   "codemirror_mode": {
    "name": "ipython",
    "version": 3
   },
   "file_extension": ".py",
   "mimetype": "text/x-python",
   "name": "python",
   "nbconvert_exporter": "python",
   "pygments_lexer": "ipython3",
   "version": "3.13.2"
  }
 },
 "nbformat": 4,
 "nbformat_minor": 5
}
