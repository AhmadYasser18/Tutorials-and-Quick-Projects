{
 "cells": [
  {
   "cell_type": "code",
   "execution_count": 13,
   "id": "08a89cb9",
   "metadata": {
    "ExecuteTime": {
     "end_time": "2025-01-28T19:47:38.807123Z",
     "start_time": "2025-01-28T19:47:38.797309Z"
    }
   },
   "outputs": [],
   "source": [
    "from datetime import datetime\n",
    "\n",
    "def trying(func):\n",
    "    start = datetime.now()\n",
    "    \n",
    "    trial_l = [i for i in range(10000,1, -1)]\n",
    "    \n",
    "    sorted_list = func(trial_l)\n",
    "    \n",
    "    end = datetime.now()    \n",
    "    \n",
    "    return end - start "
   ]
  },
  {
   "cell_type": "markdown",
   "id": "b1742392",
   "metadata": {},
   "source": [
    "## Bubble Sort\n",
    "Complexity: O(n^2)\n",
    "\n",
    "Note: not the most efficient"
   ]
  },
  {
   "cell_type": "code",
   "execution_count": 5,
   "id": "2c6d597c",
   "metadata": {
    "ExecuteTime": {
     "end_time": "2025-01-28T19:45:31.821970Z",
     "start_time": "2025-01-28T19:45:31.806225Z"
    }
   },
   "outputs": [],
   "source": [
    "def bubble(l):\n",
    "\n",
    "    for i in range(len(l)):\n",
    "        for j in range(len(l)-i-1):\n",
    "            if l[j] > l[j+1]:\n",
    "                l[j], l[j+1] = l[j+1], l[j]\n",
    "    return l"
   ]
  },
  {
   "cell_type": "code",
   "execution_count": 46,
   "id": "272af3c4",
   "metadata": {
    "ExecuteTime": {
     "end_time": "2025-01-25T18:58:58.148440Z",
     "start_time": "2025-01-25T18:58:31.478349Z"
    }
   },
   "outputs": [],
   "source": [
    "start = datetime.now()\n",
    "\n",
    "trial_l = [i for i in range(10000,1, -1)]\n",
    "\n",
    "sorted_list = bubble(trial_l)\n",
    "\n",
    "end = datetime.now()"
   ]
  },
  {
   "cell_type": "code",
   "execution_count": 47,
   "id": "74f437a9",
   "metadata": {
    "ExecuteTime": {
     "end_time": "2025-01-25T18:58:58.169562Z",
     "start_time": "2025-01-25T18:58:58.153442Z"
    }
   },
   "outputs": [
    {
     "data": {
      "text/plain": [
       "datetime.timedelta(seconds=26, microseconds=658981)"
      ]
     },
     "execution_count": 47,
     "metadata": {},
     "output_type": "execute_result"
    }
   ],
   "source": [
    "end - start"
   ]
  },
  {
   "cell_type": "code",
   "execution_count": 14,
   "id": "bf1e4c58",
   "metadata": {
    "ExecuteTime": {
     "end_time": "2025-01-28T19:48:16.419116Z",
     "start_time": "2025-01-28T19:47:52.663380Z"
    }
   },
   "outputs": [
    {
     "data": {
      "text/plain": [
       "datetime.timedelta(seconds=23, microseconds=738591)"
      ]
     },
     "execution_count": 14,
     "metadata": {},
     "output_type": "execute_result"
    }
   ],
   "source": [
    "trying(bubble)"
   ]
  },
  {
   "cell_type": "markdown",
   "id": "6f95b3d4",
   "metadata": {},
   "source": [
    "## Selection Sort\n",
    "\n",
    "Complexity: O(n^2)"
   ]
  },
  {
   "cell_type": "code",
   "execution_count": 24,
   "id": "40837e70",
   "metadata": {
    "ExecuteTime": {
     "end_time": "2025-01-28T19:56:34.761543Z",
     "start_time": "2025-01-28T19:56:34.743235Z"
    }
   },
   "outputs": [],
   "source": [
    "def selection(l):\n",
    "    for i in range(len(l)):\n",
    "        min_val = l[i]\n",
    "        min_index = i\n",
    "        for j in range(i,len(l)-i):\n",
    "            if l[j]< min_val:\n",
    "                min_val = l[j]\n",
    "                min_index = j\n",
    "        l[i],l[min_index] = l[min_index],l[i]\n",
    "        \n",
    "        \n",
    "    return l            "
   ]
  },
  {
   "cell_type": "code",
   "execution_count": 26,
   "id": "88d7264d",
   "metadata": {
    "ExecuteTime": {
     "end_time": "2025-01-28T19:57:02.463189Z",
     "start_time": "2025-01-28T19:56:58.356602Z"
    }
   },
   "outputs": [
    {
     "data": {
      "text/plain": [
       "datetime.timedelta(seconds=4, microseconds=93379)"
      ]
     },
     "execution_count": 26,
     "metadata": {},
     "output_type": "execute_result"
    }
   ],
   "source": [
    "trying(selection)"
   ]
  },
  {
   "cell_type": "code",
   "execution_count": null,
   "id": "4aaa5e59",
   "metadata": {},
   "outputs": [],
   "source": []
  }
 ],
 "metadata": {
  "kernelspec": {
   "display_name": "Python 3 (ipykernel)",
   "language": "python",
   "name": "python3"
  },
  "language_info": {
   "codemirror_mode": {
    "name": "ipython",
    "version": 3
   },
   "file_extension": ".py",
   "mimetype": "text/x-python",
   "name": "python",
   "nbconvert_exporter": "python",
   "pygments_lexer": "ipython3",
   "version": "3.9.6"
  }
 },
 "nbformat": 4,
 "nbformat_minor": 5
}
