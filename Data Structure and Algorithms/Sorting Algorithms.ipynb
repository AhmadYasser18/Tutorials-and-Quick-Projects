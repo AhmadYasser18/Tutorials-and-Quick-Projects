{
 "cells": [
  {
   "cell_type": "code",
   "execution_count": 24,
   "id": "08a89cb9",
   "metadata": {
    "ExecuteTime": {
     "end_time": "2025-01-25T18:55:06.926001Z",
     "start_time": "2025-01-25T18:55:06.906556Z"
    }
   },
   "outputs": [],
   "source": [
    "from datetime import datetime"
   ]
  },
  {
   "cell_type": "markdown",
   "id": "b1742392",
   "metadata": {},
   "source": [
    "## Bubble Sort\n",
    "Complexity: O(n^2)\n",
    "\n",
    "Note: not the most efficient"
   ]
  },
  {
   "cell_type": "code",
   "execution_count": 25,
   "id": "2c6d597c",
   "metadata": {
    "ExecuteTime": {
     "end_time": "2025-01-25T18:55:06.943989Z",
     "start_time": "2025-01-25T18:55:06.933826Z"
    }
   },
   "outputs": [],
   "source": [
    "def bubble(l):\n",
    "\n",
    "    for i in range(len(l)):\n",
    "        for j in range(len(l)-i-1):\n",
    "            if l[j] > l[j+1]:\n",
    "                l[j], l[j+1] = l[j+1], l[j]\n",
    "    return l"
   ]
  },
  {
   "cell_type": "code",
   "execution_count": 46,
   "id": "272af3c4",
   "metadata": {
    "ExecuteTime": {
     "end_time": "2025-01-25T18:58:58.148440Z",
     "start_time": "2025-01-25T18:58:31.478349Z"
    }
   },
   "outputs": [],
   "source": [
    "start = datetime.now()\n",
    "\n",
    "trial_l = [i for i in range(10000,1, -1)]\n",
    "\n",
    "sorted_list = bubble(trial_l)\n",
    "\n",
    "end = datetime.now()"
   ]
  },
  {
   "cell_type": "code",
   "execution_count": 47,
   "id": "74f437a9",
   "metadata": {
    "ExecuteTime": {
     "end_time": "2025-01-25T18:58:58.169562Z",
     "start_time": "2025-01-25T18:58:58.153442Z"
    }
   },
   "outputs": [
    {
     "data": {
      "text/plain": [
       "datetime.timedelta(seconds=26, microseconds=658981)"
      ]
     },
     "execution_count": 47,
     "metadata": {},
     "output_type": "execute_result"
    }
   ],
   "source": [
    "end - start"
   ]
  },
  {
   "cell_type": "markdown",
   "id": "6f95b3d4",
   "metadata": {},
   "source": [
    "## Selection Sort"
   ]
  },
  {
   "cell_type": "code",
   "execution_count": null,
   "id": "1304efd4",
   "metadata": {},
   "outputs": [],
   "source": []
  }
 ],
 "metadata": {
  "kernelspec": {
   "display_name": "Python 3 (ipykernel)",
   "language": "python",
   "name": "python3"
  },
  "language_info": {
   "codemirror_mode": {
    "name": "ipython",
    "version": 3
   },
   "file_extension": ".py",
   "mimetype": "text/x-python",
   "name": "python",
   "nbconvert_exporter": "python",
   "pygments_lexer": "ipython3",
   "version": "3.9.6"
  }
 },
 "nbformat": 4,
 "nbformat_minor": 5
}
