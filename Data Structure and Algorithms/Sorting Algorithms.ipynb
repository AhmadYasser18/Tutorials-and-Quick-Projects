{
 "cells": [
  {
   "cell_type": "code",
   "execution_count": 11,
   "id": "08a89cb9",
   "metadata": {
    "ExecuteTime": {
     "end_time": "2025-01-30T21:17:13.202801Z",
     "start_time": "2025-01-30T21:17:13.185736Z"
    }
   },
   "outputs": [],
   "source": [
    "#Writing function to compare runtime for each algorithm\n",
    "from datetime import datetime\n",
    "\n",
    "def trying(func):\n",
    "    start = datetime.now()\n",
    "    \n",
    "    trial_l = [i for i in range(10000,1, -1)]\n",
    "    \n",
    "    sorted_list = func(trial_l)\n",
    "    \n",
    "    end = datetime.now()    \n",
    "    \n",
    "    return end - start "
   ]
  },
  {
   "cell_type": "markdown",
   "id": "b1742392",
   "metadata": {},
   "source": [
    "## Bubble Sort\n",
    "Complexity: O(n^2)\n",
    "\n",
    "Note: not the most efficient"
   ]
  },
  {
   "cell_type": "code",
   "execution_count": 5,
   "id": "2c6d597c",
   "metadata": {
    "ExecuteTime": {
     "end_time": "2025-01-28T19:45:31.821970Z",
     "start_time": "2025-01-28T19:45:31.806225Z"
    }
   },
   "outputs": [],
   "source": [
    "def bubble(l):\n",
    "\n",
    "    for i in range(len(l)):\n",
    "        for j in range(len(l)-i-1):\n",
    "            if l[j] > l[j+1]:\n",
    "                l[j], l[j+1] = l[j+1], l[j]\n",
    "    return l"
   ]
  },
  {
   "cell_type": "code",
   "execution_count": 46,
   "id": "272af3c4",
   "metadata": {
    "ExecuteTime": {
     "end_time": "2025-01-25T18:58:58.148440Z",
     "start_time": "2025-01-25T18:58:31.478349Z"
    }
   },
   "outputs": [],
   "source": [
    "start = datetime.now()\n",
    "\n",
    "trial_l = [i for i in range(10000,1, -1)]\n",
    "\n",
    "sorted_list = bubble(trial_l)\n",
    "\n",
    "end = datetime.now()"
   ]
  },
  {
   "cell_type": "code",
   "execution_count": 47,
   "id": "74f437a9",
   "metadata": {
    "ExecuteTime": {
     "end_time": "2025-01-25T18:58:58.169562Z",
     "start_time": "2025-01-25T18:58:58.153442Z"
    }
   },
   "outputs": [
    {
     "data": {
      "text/plain": [
       "datetime.timedelta(seconds=26, microseconds=658981)"
      ]
     },
     "execution_count": 47,
     "metadata": {},
     "output_type": "execute_result"
    }
   ],
   "source": [
    "end - start"
   ]
  },
  {
   "cell_type": "code",
   "execution_count": 14,
   "id": "22890f6a",
   "metadata": {
    "ExecuteTime": {
     "end_time": "2025-01-28T19:48:16.419116Z",
     "start_time": "2025-01-28T19:47:52.663380Z"
    }
   },
   "outputs": [
    {
     "data": {
      "text/plain": [
       "datetime.timedelta(seconds=23, microseconds=738591)"
      ]
     },
     "execution_count": 14,
     "metadata": {},
     "output_type": "execute_result"
    }
   ],
   "source": [
    "trying(bubble)"
   ]
  },
  {
   "cell_type": "markdown",
   "id": "6f95b3d4",
   "metadata": {},
   "source": [
    "## Selection Sort\n",
    "\n",
    "Complexity: O(n^2)"
   ]
  },
  {
   "cell_type": "code",
   "execution_count": 24,
   "id": "d2cc89ca",
   "metadata": {
    "ExecuteTime": {
     "end_time": "2025-01-28T19:56:34.761543Z",
     "start_time": "2025-01-28T19:56:34.743235Z"
    }
   },
   "outputs": [],
   "source": [
    "def selection(l):\n",
    "    for i in range(len(l)):\n",
    "        min_val = l[i]\n",
    "        min_index = i\n",
    "        for j in range(i,len(l)-i):\n",
    "            if l[j]< min_val:\n",
    "                min_val = l[j]\n",
    "                min_index = j\n",
    "        l[i],l[min_index] = l[min_index],l[i]\n",
    "        \n",
    "        \n",
    "    return l            "
   ]
  },
  {
   "cell_type": "code",
   "execution_count": 26,
   "id": "365a17c8",
   "metadata": {
    "ExecuteTime": {
     "end_time": "2025-01-28T19:57:02.463189Z",
     "start_time": "2025-01-28T19:56:58.356602Z"
    }
   },
   "outputs": [
    {
     "data": {
      "text/plain": [
       "datetime.timedelta(seconds=4, microseconds=93379)"
      ]
     },
     "execution_count": 26,
     "metadata": {},
     "output_type": "execute_result"
    }
   ],
   "source": [
    "trying(selection)"
   ]
  },
  {
   "cell_type": "markdown",
   "id": "0151e1cc",
   "metadata": {},
   "source": [
    "## Insertion Sort\n"
   ]
  },
  {
   "cell_type": "code",
   "execution_count": 27,
   "id": "261b46a7",
   "metadata": {
    "ExecuteTime": {
     "end_time": "2025-01-28T20:08:13.048825Z",
     "start_time": "2025-01-28T20:08:13.037014Z"
    }
   },
   "outputs": [],
   "source": [
    "def insertion(l):\n",
    "    \n",
    "    for i in range(1,len(l)):\n",
    "        val = l[i]\n",
    "        j = i\n",
    "        while j>0 and l[j-1]>val:\n",
    "            l[j] > l[j-1]\n",
    "            j-=1\n",
    "        l[j] = val\n",
    "    return l            "
   ]
  },
  {
   "cell_type": "code",
   "execution_count": 2,
   "id": "e07057c0",
   "metadata": {
    "ExecuteTime": {
     "end_time": "2025-01-29T19:47:16.972177Z",
     "start_time": "2025-01-29T19:47:16.944674Z"
    }
   },
   "outputs": [
    {
     "data": {
      "text/plain": [
       "[2, 3, 4, 5]"
      ]
     },
     "execution_count": 2,
     "metadata": {},
     "output_type": "execute_result"
    }
   ],
   "source": [
    "\n",
    "insertion([5,4,3,2])"
   ]
  },
  {
   "cell_type": "code",
   "execution_count": 1,
   "id": "3825912e",
   "metadata": {
    "ExecuteTime": {
     "end_time": "2025-01-29T19:47:14.224355Z",
     "start_time": "2025-01-29T19:47:14.180502Z"
    }
   },
   "outputs": [],
   "source": [
    "def insertion(l):\n",
    "    for i in range(1, len(l)):\n",
    "        while l[i-1] > l[i] and i > 0:\n",
    "            l[i-1], l[i] = l[i], l[i-1]\n",
    "            i -= 1\n",
    "    return l"
   ]
  },
  {
   "cell_type": "markdown",
   "id": "043f444b",
   "metadata": {},
   "source": [
    "## Merge Sort\n",
    "Divide & Conquer Algorithm\n",
    "\n",
    "Complexity: O(n log n)"
   ]
  },
  {
   "cell_type": "code",
   "execution_count": 6,
   "id": "4422ebdf",
   "metadata": {
    "ExecuteTime": {
     "end_time": "2025-01-30T21:16:31.730030Z",
     "start_time": "2025-01-30T21:16:31.704183Z"
    }
   },
   "outputs": [],
   "source": [
    "def merge_sort(l):\n",
    "    if len(l)<2:\n",
    "        return l\n",
    "    \n",
    "    middle_idx = len(l)//2 \n",
    "    \n",
    "    left = l[:middle_idx]\n",
    "    right = l[middle_idx:]\n",
    "    \n",
    "    merge_sort(left)\n",
    "    merge_sort(right)\n",
    "    \n",
    "    i=j=k=0\n",
    "    \n",
    "    while i< len(left) and j < len(right):\n",
    "        if left[i] < right[i]:\n",
    "            l[k] = left[i]\n",
    "            i+=1\n",
    "        else:\n",
    "            l[k] = right[j]\n",
    "            j+=1\n",
    "        k+=1\n",
    "        \n",
    "    while i < len(left):\n",
    "        l[k] = left[i]\n",
    "        i+=1\n",
    "        k+=1\n",
    "        \n",
    "    while j < len(right):\n",
    "        l[k]+= right[j]\n",
    "        j+=1\n",
    "        k+=1\n",
    "        \n",
    "    return l"
   ]
  },
  {
   "cell_type": "code",
   "execution_count": 10,
   "id": "1b0cb4b5",
   "metadata": {
    "ExecuteTime": {
     "end_time": "2025-01-30T21:17:08.099871Z",
     "start_time": "2025-01-30T21:17:07.551415Z"
    }
   },
   "outputs": [
    {
     "data": {
      "text/plain": [
       "datetime.timedelta(microseconds=526191)"
      ]
     },
     "execution_count": 10,
     "metadata": {},
     "output_type": "execute_result"
    }
   ],
   "source": [
    "trying(merge_sort)"
   ]
  },
  {
   "cell_type": "code",
   "execution_count": null,
   "id": "e52712d4",
   "metadata": {},
   "outputs": [],
   "source": []
  }
 ],
 "metadata": {
  "kernelspec": {
   "display_name": "Python 3 (ipykernel)",
   "language": "python",
   "name": "python3"
  },
  "language_info": {
   "codemirror_mode": {
    "name": "ipython",
    "version": 3
   },
   "file_extension": ".py",
   "mimetype": "text/x-python",
   "name": "python",
   "nbconvert_exporter": "python",
   "pygments_lexer": "ipython3",
   "version": "3.9.6"
  }
 },
 "nbformat": 4,
 "nbformat_minor": 5
}
