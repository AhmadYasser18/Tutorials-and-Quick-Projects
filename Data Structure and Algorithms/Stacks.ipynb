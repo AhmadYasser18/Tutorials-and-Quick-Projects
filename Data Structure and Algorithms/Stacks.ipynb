{
 "cells": [
  {
   "cell_type": "markdown",
   "id": "236476d2",
   "metadata": {},
   "source": [
    "**LIFO data stucture; Last In First Out  \n",
    "Stores objects into a sort of  a \"vertical tower\"  \n",
    "push() to add to top  \n",
    "pop() to remove from the top**\n",
    "\n",
    "**Applications of Stacks:**\n",
    "1. Undo/Redo features\n",
    "2. Moving back/forward through browser history\n",
    "3. backtracking algoritms (maze, file directories)\n",
    "4. calling functions"
   ]
  },
  {
   "cell_type": "code",
   "execution_count": 40,
   "id": "bee572d9",
   "metadata": {
    "ExecuteTime": {
     "end_time": "2025-03-05T20:57:30.594546Z",
     "start_time": "2025-03-05T20:57:30.566562Z"
    }
   },
   "outputs": [],
   "source": [
    "class Stack():\n",
    "    def __init__(self, stack_list=None):\n",
    "        if stack_list is None:\n",
    "             self.stack_list = []\n",
    "        else:\n",
    "            self.stack_list = stack_list\n",
    "        \n",
    "    def push(self, item):\n",
    "        self.stack_list.append(item)\n",
    "        \n",
    "    def pop(self):\n",
    "        if self.is_Empty():\n",
    "            print('Stack is Empty')\n",
    "            \n",
    "        else:\n",
    "            return self.stack_list.pop()\n",
    "    \n",
    "    def top(self):\n",
    "        if not self.is_Empty():\n",
    "            return self.stack_list[-1]\n",
    "        else:\n",
    "            print('Stack is Empty')\n",
    "    \n",
    "    def is_Empty(self):\n",
    "        return len(self.stack_list) == 0\n",
    "    \n",
    "    def search(self, item):\n",
    "        if not self.is_Empty():\n",
    "            for i, j in enumerate(self.stack_list):\n",
    "                if j == item:\n",
    "                    print(f'Found! Position is {len(self.stack_list) - i}')\n",
    "                    return\n",
    "            \n",
    "            print('Not Found')\n",
    "            return\n",
    "        \n",
    "        else:\n",
    "            print('Stack is Empty')"
   ]
  },
  {
   "cell_type": "code",
   "execution_count": 41,
   "id": "36a5ed4b",
   "metadata": {
    "ExecuteTime": {
     "end_time": "2025-03-05T20:57:30.980675Z",
     "start_time": "2025-03-05T20:57:30.971678Z"
    }
   },
   "outputs": [],
   "source": [
    "S1= Stack([1,3,5,7,9])"
   ]
  },
  {
   "cell_type": "code",
   "execution_count": 42,
   "id": "5c5da5cc",
   "metadata": {
    "ExecuteTime": {
     "end_time": "2025-03-05T20:57:31.260064Z",
     "start_time": "2025-03-05T20:57:31.249076Z"
    }
   },
   "outputs": [
    {
     "data": {
      "text/plain": [
       "9"
      ]
     },
     "execution_count": 42,
     "metadata": {},
     "output_type": "execute_result"
    }
   ],
   "source": [
    "S1.top()"
   ]
  },
  {
   "cell_type": "code",
   "execution_count": 43,
   "id": "65dc73fb",
   "metadata": {
    "ExecuteTime": {
     "end_time": "2025-03-05T20:57:31.515230Z",
     "start_time": "2025-03-05T20:57:31.495689Z"
    }
   },
   "outputs": [
    {
     "name": "stdout",
     "output_type": "stream",
     "text": [
      "Found! Position is 4\n"
     ]
    }
   ],
   "source": [
    "S1.search(3)"
   ]
  },
  {
   "cell_type": "code",
   "execution_count": 44,
   "id": "fdfe0491",
   "metadata": {
    "ExecuteTime": {
     "end_time": "2025-03-05T20:57:31.839183Z",
     "start_time": "2025-03-05T20:57:31.823253Z"
    }
   },
   "outputs": [],
   "source": [
    "s2 = Stack()"
   ]
  },
  {
   "cell_type": "code",
   "execution_count": 45,
   "id": "22e6b029",
   "metadata": {
    "ExecuteTime": {
     "end_time": "2025-03-05T20:57:32.324386Z",
     "start_time": "2025-03-05T20:57:32.300319Z"
    }
   },
   "outputs": [
    {
     "data": {
      "text/plain": [
       "True"
      ]
     },
     "execution_count": 45,
     "metadata": {},
     "output_type": "execute_result"
    }
   ],
   "source": [
    "s2.is_Empty()"
   ]
  },
  {
   "cell_type": "code",
   "execution_count": 46,
   "id": "2756fe06",
   "metadata": {
    "ExecuteTime": {
     "end_time": "2025-03-05T20:57:33.520147Z",
     "start_time": "2025-03-05T20:57:33.501153Z"
    }
   },
   "outputs": [],
   "source": [
    "s2.push(2)"
   ]
  },
  {
   "cell_type": "code",
   "execution_count": 47,
   "id": "30fa116a",
   "metadata": {
    "ExecuteTime": {
     "end_time": "2025-03-05T20:57:34.593826Z",
     "start_time": "2025-03-05T20:57:34.573838Z"
    }
   },
   "outputs": [
    {
     "data": {
      "text/plain": [
       "[2]"
      ]
     },
     "execution_count": 47,
     "metadata": {},
     "output_type": "execute_result"
    }
   ],
   "source": [
    "s2.stack_list"
   ]
  },
  {
   "cell_type": "code",
   "execution_count": 48,
   "id": "f5220d2b",
   "metadata": {
    "ExecuteTime": {
     "end_time": "2025-03-05T20:57:35.009852Z",
     "start_time": "2025-03-05T20:57:34.999802Z"
    }
   },
   "outputs": [],
   "source": [
    "s2.push(4)"
   ]
  },
  {
   "cell_type": "code",
   "execution_count": 49,
   "id": "a35cd92f",
   "metadata": {
    "ExecuteTime": {
     "end_time": "2025-03-05T20:57:35.342275Z",
     "start_time": "2025-03-05T20:57:35.321064Z"
    }
   },
   "outputs": [
    {
     "data": {
      "text/plain": [
       "[2, 4]"
      ]
     },
     "execution_count": 49,
     "metadata": {},
     "output_type": "execute_result"
    }
   ],
   "source": [
    "s2.stack_list"
   ]
  },
  {
   "cell_type": "code",
   "execution_count": 50,
   "id": "74c7070f",
   "metadata": {
    "ExecuteTime": {
     "end_time": "2025-03-05T20:57:35.799784Z",
     "start_time": "2025-03-05T20:57:35.792315Z"
    }
   },
   "outputs": [
    {
     "name": "stdout",
     "output_type": "stream",
     "text": [
      "Found! Position is 2\n"
     ]
    }
   ],
   "source": [
    "s2.search(2)"
   ]
  },
  {
   "cell_type": "code",
   "execution_count": 51,
   "id": "99fc0eae",
   "metadata": {
    "ExecuteTime": {
     "end_time": "2025-03-05T20:57:36.929926Z",
     "start_time": "2025-03-05T20:57:36.922927Z"
    }
   },
   "outputs": [],
   "source": [
    "new_stack = Stack()"
   ]
  },
  {
   "cell_type": "code",
   "execution_count": 52,
   "id": "e8143cc0",
   "metadata": {
    "ExecuteTime": {
     "end_time": "2025-03-05T20:57:37.290114Z",
     "start_time": "2025-03-05T20:57:37.269938Z"
    }
   },
   "outputs": [
    {
     "name": "stdout",
     "output_type": "stream",
     "text": [
      "Stack is Empty\n"
     ]
    }
   ],
   "source": [
    "new_stack.top()"
   ]
  },
  {
   "cell_type": "code",
   "execution_count": 53,
   "id": "4e5fb8e9",
   "metadata": {
    "ExecuteTime": {
     "end_time": "2025-03-05T20:57:38.291899Z",
     "start_time": "2025-03-05T20:57:38.275907Z"
    }
   },
   "outputs": [
    {
     "data": {
      "text/plain": [
       "[]"
      ]
     },
     "execution_count": 53,
     "metadata": {},
     "output_type": "execute_result"
    }
   ],
   "source": [
    "new_stack.stack_list"
   ]
  }
 ],
 "metadata": {
  "kernelspec": {
   "display_name": "Python 3 (ipykernel)",
   "language": "python",
   "name": "python3"
  },
  "language_info": {
   "codemirror_mode": {
    "name": "ipython",
    "version": 3
   },
   "file_extension": ".py",
   "mimetype": "text/x-python",
   "name": "python",
   "nbconvert_exporter": "python",
   "pygments_lexer": "ipython3",
   "version": "3.9.6"
  }
 },
 "nbformat": 4,
 "nbformat_minor": 5
}
