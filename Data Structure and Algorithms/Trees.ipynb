{
 "cells": [
  {
   "cell_type": "markdown",
   "id": "9939fd8e",
   "metadata": {},
   "source": [
    "# Tree\n",
    "\n",
    "- non-linear data structure where nodes are organized in a hierarchy\n",
    "- Applications:\n",
    "    - File explorer\n",
    "    - Databases\n",
    "    - DNS\n",
    "    - HTML DOM\n",
    "- **Terminology**:\n",
    "    - The top of the tree is called the *root* node and it doesn't have any incoming edges.\n",
    "    - Any node at the bottom of the tree is called a *leaf* node. They don't have outgoing edges.\n",
    "    - *Branch* Nodes are in the middle and have both incoming and outgoing edges. \n",
    "    - Nodes having an outgoing edge are called *parents* while those with incoming are called *children*. Nodes with same parents are called *siblings*.\n",
    "    - A **subtree** is a samller tree held within a larger tree.\n",
    "    - The **size** of a tree is based on the number of nodes.\n",
    "    - The **depth** of a node is the number of edges below the root node. The root node node has a depth of zero while its child one and so on.\n",
    "    - The **height** of a node is the number of edges above the furthest leaf node."
   ]
  },
  {
   "cell_type": "markdown",
   "id": "e94f0150",
   "metadata": {},
   "source": []
  }
 ],
 "metadata": {
  "kernelspec": {
   "display_name": "tfod",
   "language": "python",
   "name": "tfod"
  },
  "language_info": {
   "name": "python",
   "version": "3.9.6"
  }
 },
 "nbformat": 4,
 "nbformat_minor": 5
}
