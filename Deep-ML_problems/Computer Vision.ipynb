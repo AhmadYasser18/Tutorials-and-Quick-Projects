{
 "cells": [
  {
   "cell_type": "markdown",
   "id": "f370ced3",
   "metadata": {},
   "source": [
    "# Calculate Image Brightness\n",
    "\n",
    "Task: Image Brightness Calculator\n",
    "In this task, you will implement a function calculate_brightness(img) that calculates the average brightness of a grayscale image. The image is represented as a 2D matrix, where each element represents a pixel value between 0 (black) and 255 (white).\n",
    "\n",
    "Your Task:\n",
    "Implement the function calculate_brightness(img) to:\n",
    "\n",
    "Return the average brightness of the image rounded to two decimal places.\n",
    "Handle edge cases:\n",
    "- If the image matrix is empty.\n",
    "- If the rows in the matrix have inconsistent lengths.\n",
    "- If any pixel values are outside the valid range (0-255).  \n",
    "\n",
    "For any of these edge cases, the function should return -1."
   ]
  },
  {
   "cell_type": "code",
   "execution_count": 4,
   "id": "03c8e82a",
   "metadata": {},
   "outputs": [],
   "source": [
    "import numpy as np\n",
    "\n",
    "def calculate_brightness(img):\n",
    "\t# Write your code here\n",
    "    for i in range(1, len(img)):\n",
    "        if len(img[i-1]) != len(img[i]):\n",
    "            return -1\n",
    "    if len(img) < 1:\n",
    "        return -1\n",
    "    exceed = [[1 if i > 250 or i < 0 else 0 for i in row] for row in img]\n",
    "    if np.sum(exceed):\n",
    "        return -1\n",
    "    \n",
    "    return np.mean(img)"
   ]
  },
  {
   "cell_type": "code",
   "execution_count": 6,
   "id": "d01c08dd",
   "metadata": {},
   "outputs": [
    {
     "name": "stdout",
     "output_type": "stream",
     "text": [
      "125.0\n"
     ]
    }
   ],
   "source": [
    "img = [[100, 200], [50, 150]]\n",
    "print(calculate_brightness(img))"
   ]
  }
 ],
 "metadata": {
  "kernelspec": {
   "display_name": "tfod",
   "language": "python",
   "name": "tfod"
  },
  "language_info": {
   "codemirror_mode": {
    "name": "ipython",
    "version": 3
   },
   "file_extension": ".py",
   "mimetype": "text/x-python",
   "name": "python",
   "nbconvert_exporter": "python",
   "pygments_lexer": "ipython3",
   "version": "3.9.6"
  }
 },
 "nbformat": 4,
 "nbformat_minor": 5
}
