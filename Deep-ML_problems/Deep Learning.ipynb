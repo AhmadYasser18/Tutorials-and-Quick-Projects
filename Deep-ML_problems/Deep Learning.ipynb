{
 "cells": [
  {
   "cell_type": "markdown",
   "id": "cf4db3e9",
   "metadata": {},
   "source": [
    "# Implement the Hard Sigmoid Activation Function\n",
    "\n",
    "Implement the Hard Sigmoid activation function, a computationally efficient approximation of the standard sigmoid function. Your function should take a single input value and return the corresponding output based on the Hard Sigmoid definition.\n",
    "\n",
    "The input 0.0 falls in the linear region of the Hard Sigmoid function. Using the formula   \n",
    "HardSigmoid(x)=0.2x+0.5, the output is 0.2 × 0.0 + 0.5 = 0.5"
   ]
  },
  {
   "cell_type": "code",
   "execution_count": null,
   "id": "fbbf555a",
   "metadata": {},
   "outputs": [],
   "source": [
    "import numpy as np\n",
    "\n",
    "def hard_sigmoid(x):\n",
    "\t\"\"\"\n",
    "\tImplements the Hard Sigmoid activation function.\n",
    "\n",
    "\tArgs:\n",
    "\t\tx (float): Input value\n",
    "\n",
    "\tReturns:\n",
    "\t\tfloat: The Hard Sigmoid of the input\n",
    "\t\"\"\"\n",
    "\t# Your code here\n",
    "\tif x <= -2.5:\n",
    "\t\treturn 0.0\n",
    "\n",
    "\telif x >= 2.5:\n",
    "\t\treturn 1.0\n",
    "\t\n",
    "\telse:\n",
    "\t\treturn x*0.2 +0.5"
   ]
  },
  {
   "cell_type": "code",
   "execution_count": 2,
   "id": "f732608f",
   "metadata": {},
   "outputs": [
    {
     "data": {
      "text/plain": [
       "0.5"
      ]
     },
     "execution_count": 2,
     "metadata": {},
     "output_type": "execute_result"
    }
   ],
   "source": [
    "hard_sigmoid(0.0)"
   ]
  },
  {
   "cell_type": "markdown",
   "id": "9040890e",
   "metadata": {},
   "source": []
  }
 ],
 "metadata": {
  "kernelspec": {
   "display_name": "tfod",
   "language": "python",
   "name": "tfod"
  },
  "language_info": {
   "codemirror_mode": {
    "name": "ipython",
    "version": 3
   },
   "file_extension": ".py",
   "mimetype": "text/x-python",
   "name": "python",
   "nbconvert_exporter": "python",
   "pygments_lexer": "ipython3",
   "version": "3.9.6"
  }
 },
 "nbformat": 4,
 "nbformat_minor": 5
}
