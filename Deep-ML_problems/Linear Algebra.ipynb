{
 "cells": [
  {
   "cell_type": "markdown",
   "id": "b830f31d",
   "metadata": {},
   "source": [
    "# Matrix-Vector Dot Product\n",
    "\n",
    "Write a Python function that computes the dot product of a matrix and a vector. The function should return a list representing the resulting vector if the operation is valid, or -1 if the matrix and vector dimensions are incompatible. A matrix (a list of lists) can be dotted with a vector (a list) only if the number of columns in the matrix equals the length of the vector. For example, an n x m matrix requires a vector of length m."
   ]
  },
  {
   "cell_type": "code",
   "execution_count": 2,
   "id": "b0a655ea",
   "metadata": {},
   "outputs": [],
   "source": [
    "def matrix_dot_vector(a, b):\n",
    "\t# Return a list where each element is the dot product of a row of 'a' with 'b'.\n",
    "\t# If the number of columns in 'a' does not match the length of 'b', return -1.\n",
    "\tif len(a[0]) != len(b): \n",
    "\t    return -1\n",
    "\t\n",
    "\tresult = []   \n",
    "\t \n",
    "\tfor r in a:\n",
    "\t    res = 0\n",
    "\t    for i,n in enumerate(r):\n",
    "\t        res+= n * b[i]\n",
    "\t        \n",
    "\t    result.append(res)\n",
    "\n",
    "\treturn result"
   ]
  },
  {
   "cell_type": "code",
   "execution_count": 3,
   "id": "2ef6ac5c",
   "metadata": {},
   "outputs": [
    {
     "name": "stdout",
     "output_type": "stream",
     "text": [
      "[5, 10]\n"
     ]
    }
   ],
   "source": [
    "a = [[1, 2], [2, 4]]\n",
    "b = [1, 2]\n",
    "\n",
    "print(matrix_dot_vector(a, b))"
   ]
  },
  {
   "cell_type": "markdown",
   "id": "dd05842b",
   "metadata": {},
   "source": [
    "# Transpose of a Matrix"
   ]
  },
  {
   "cell_type": "code",
   "execution_count": 10,
   "id": "aec23bc9",
   "metadata": {},
   "outputs": [],
   "source": [
    "def transpose_matrix(a):\n",
    "    rows,cols = len(a), len(a[0])\n",
    "    b = [[] for i in range(cols)]\n",
    "    \n",
    "    for i in range(rows):\n",
    "        for j in range(cols):\n",
    "            b[j].append(a[i][j])\n",
    "            \n",
    "    return b"
   ]
  },
  {
   "cell_type": "code",
   "execution_count": 13,
   "id": "15997cf4",
   "metadata": {},
   "outputs": [
    {
     "name": "stdout",
     "output_type": "stream",
     "text": [
      "[[1, 4], [2, 5], [3, 6]]\n"
     ]
    }
   ],
   "source": [
    "a = [[1,2,3],[4,5,6]]\n",
    "\n",
    "print(transpose_matrix(a))"
   ]
  },
  {
   "cell_type": "code",
   "execution_count": 12,
   "id": "b01389d7",
   "metadata": {},
   "outputs": [],
   "source": [
    "def transpose_solution(a):\n",
    "    return [list(i) for i in zip(*a)]"
   ]
  },
  {
   "cell_type": "code",
   "execution_count": 14,
   "id": "b5522cc2",
   "metadata": {},
   "outputs": [
    {
     "name": "stdout",
     "output_type": "stream",
     "text": [
      "[[1, 4], [2, 5], [3, 6]]\n"
     ]
    }
   ],
   "source": [
    "a = [[1,2,3],[4,5,6]]\n",
    "\n",
    "print(transpose_solution(a))"
   ]
  },
  {
   "cell_type": "markdown",
   "id": "117e90ea",
   "metadata": {},
   "source": [
    "# Reshape Matrix\n",
    "\n",
    "Write a Python function that reshapes a given matrix into a specified shape. if it cant be reshaped return back an empty list [ ]"
   ]
  },
  {
   "cell_type": "code",
   "execution_count": 5,
   "id": "f774a39c",
   "metadata": {},
   "outputs": [],
   "source": [
    "import numpy as np\n",
    "\n",
    "def reshape_matrix(a, new_shape):\n",
    "\t#Write your code here and return a python list after reshaping by using numpy's tolist() method\n",
    "    reshaped_matrix = []\n",
    "    if new_shape[0]*new_shape[1] != len(a[0])*len(a):\n",
    "        return reshaped_matrix\n",
    "\n",
    "    reshaped_matrix = np.reshape(a,new_shape)\n",
    "    return reshaped_matrix.tolist()\n"
   ]
  },
  {
   "cell_type": "code",
   "execution_count": 6,
   "id": "dfb5ba1a",
   "metadata": {},
   "outputs": [
    {
     "name": "stdout",
     "output_type": "stream",
     "text": [
      "[[1, 2], [3, 4], [5, 6], [7, 8]]\n"
     ]
    }
   ],
   "source": [
    "a = [[1,2,3,4],[5,6,7,8]]\n",
    "new_shape = (4, 2)\n",
    "\n",
    "print(reshape_matrix(a, new_shape))"
   ]
  },
  {
   "cell_type": "markdown",
   "id": "8f013a16",
   "metadata": {},
   "source": [
    "# Calculate Mean by Row or Column\n",
    "\n",
    "Write a Python function that calculates the mean of a matrix either by row or by column, based on a given mode. The function should take a matrix (list of lists) and a mode ('row' or 'column') as input and return a list of means according to the specified mode."
   ]
  },
  {
   "cell_type": "code",
   "execution_count": 7,
   "id": "cdf7c845",
   "metadata": {},
   "outputs": [],
   "source": [
    "def calculate_matrix_mean(matrix, mode):\n",
    "\t\n",
    "    if mode == 'column':\n",
    "        means = [0 for i in range(len(matrix[0]))]\n",
    "        for row in matrix:\n",
    "            for j in range(len(row)):\n",
    "                means[j] += row[j]\n",
    "        \n",
    "        means = [m/len(matrix) for m in means]\n",
    "        \n",
    "    elif mode == 'row':\n",
    "        means = [0 for i in range(len(matrix))]\n",
    "\n",
    "        for i in range(len(matrix)):\n",
    "            for num in matrix[i]:\n",
    "                means[i] += num\n",
    "        \n",
    "        means = [m/len(matrix[0]) for m in means]\n",
    "        \n",
    "        \n",
    "    else: return None    \n",
    "    return means"
   ]
  },
  {
   "cell_type": "code",
   "execution_count": 8,
   "id": "76507831",
   "metadata": {},
   "outputs": [],
   "source": [
    "def calculate_matrix_mean_solution(matrix, mode):\n",
    "    if mode == 'column':\n",
    "        return [sum(col) / len(matrix) for col in zip(*matrix)]\n",
    "    elif mode == 'row':\n",
    "        return [sum(row) / len(row) for row in matrix]\n",
    "    else:\n",
    "        raise ValueError(\"Mode must be 'row' or 'column'\")"
   ]
  },
  {
   "cell_type": "code",
   "execution_count": 9,
   "id": "8b3f275c",
   "metadata": {},
   "outputs": [
    {
     "data": {
      "text/plain": [
       "([4.0, 5.0, 6.0], [4.0, 5.0, 6.0])"
      ]
     },
     "execution_count": 9,
     "metadata": {},
     "output_type": "execute_result"
    }
   ],
   "source": [
    "matrix = [[1, 2, 3], [4, 5, 6], [7, 8, 9]]\n",
    "mode = 'column'\n",
    "\n",
    "calculate_matrix_mean(matrix, mode), calculate_matrix_mean_solution(matrix, mode)"
   ]
  },
  {
   "cell_type": "markdown",
   "id": "9a40a3ee",
   "metadata": {},
   "source": [
    "# Scalar Multiplication of a Matrix\n",
    "\n",
    "Write a Python function that multiplies a matrix by a scalar and returns the result."
   ]
  },
  {
   "cell_type": "code",
   "execution_count": 1,
   "id": "e771d306",
   "metadata": {},
   "outputs": [],
   "source": [
    "def scalar_multiply(matrix, scalar):\n",
    "    for i in range(len(matrix)):\n",
    "        \n",
    "        matrix[i] = [num*scalar for num in matrix[i]]\n",
    "        \n",
    "    return matrix"
   ]
  },
  {
   "cell_type": "code",
   "execution_count": 2,
   "id": "2b9fd1fa",
   "metadata": {},
   "outputs": [
    {
     "data": {
      "text/plain": [
       "[[2, 4], [6, 8]]"
      ]
     },
     "execution_count": 2,
     "metadata": {},
     "output_type": "execute_result"
    }
   ],
   "source": [
    "matrix = [[1, 2], [3, 4]]\n",
    "scalar = 2\n",
    "\n",
    "scalar_multiply(matrix, scalar)"
   ]
  },
  {
   "cell_type": "markdown",
   "id": "805c77a9",
   "metadata": {},
   "source": [
    "# Calculate Eigenvalues of a Matrix\n",
    "\n",
    "Write a Python function that calculates the eigenvalues of a 2x2 matrix. The function should return a list containing the eigenvalues, sort values from highest to lowest.\n",
    "\n",
    "\n",
    "The eigenvalues of the matrix are calculated using the characteristic equation of the matrix, which for a 2x2 matrix is  \n",
    "λ^2 −trace(A)λ + det(A)=0, where λ are the eigenvalues."
   ]
  },
  {
   "cell_type": "code",
   "execution_count": 3,
   "id": "a514900c",
   "metadata": {},
   "outputs": [],
   "source": [
    "def calculate_eigenvalues(matrix):\n",
    "    trace = matrix[0][0] + matrix[1][1]\n",
    "    det = matrix[0][0]*matrix[1][1] - matrix[0][1]*matrix[1][0]\n",
    "    eigen1 = (trace + (trace**2 - 4*det)**0.5)/2\n",
    "    eigen2 = (trace - (trace**2 - 4*det)**0.5)/2\n",
    "    \n",
    "    return sorted([eigen1, eigen2], reverse=True)"
   ]
  },
  {
   "cell_type": "code",
   "execution_count": 4,
   "id": "29235441",
   "metadata": {},
   "outputs": [
    {
     "data": {
      "text/plain": [
       "[3.0, 1.0]"
      ]
     },
     "execution_count": 4,
     "metadata": {},
     "output_type": "execute_result"
    }
   ],
   "source": [
    "matrix = [[2, 1], [1, 2]]\n",
    "calculate_eigenvalues(matrix)"
   ]
  },
  {
   "cell_type": "code",
   "execution_count": null,
   "id": "469269ca",
   "metadata": {},
   "outputs": [],
   "source": []
  }
 ],
 "metadata": {
  "kernelspec": {
   "display_name": "tfod",
   "language": "python",
   "name": "tfod"
  },
  "language_info": {
   "codemirror_mode": {
    "name": "ipython",
    "version": 3
   },
   "file_extension": ".py",
   "mimetype": "text/x-python",
   "name": "python",
   "nbconvert_exporter": "python",
   "pygments_lexer": "ipython3",
   "version": "3.9.6"
  }
 },
 "nbformat": 4,
 "nbformat_minor": 5
}
