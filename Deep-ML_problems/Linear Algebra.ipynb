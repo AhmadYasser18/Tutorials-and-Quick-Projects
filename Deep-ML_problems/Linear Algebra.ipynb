{
 "cells": [
  {
   "cell_type": "markdown",
   "id": "b830f31d",
   "metadata": {},
   "source": [
    "# Matrix-Vector Dot Product\n",
    "\n",
    "Write a Python function that computes the dot product of a matrix and a vector. The function should return a list representing the resulting vector if the operation is valid, or -1 if the matrix and vector dimensions are incompatible. A matrix (a list of lists) can be dotted with a vector (a list) only if the number of columns in the matrix equals the length of the vector. For example, an n x m matrix requires a vector of length m."
   ]
  },
  {
   "cell_type": "code",
   "execution_count": 2,
   "id": "b0a655ea",
   "metadata": {},
   "outputs": [],
   "source": [
    "def matrix_dot_vector(a, b):\n",
    "\t# Return a list where each element is the dot product of a row of 'a' with 'b'.\n",
    "\t# If the number of columns in 'a' does not match the length of 'b', return -1.\n",
    "\tif len(a[0]) != len(b): \n",
    "\t    return -1\n",
    "\t\n",
    "\tresult = []   \n",
    "\t \n",
    "\tfor r in a:\n",
    "\t    res = 0\n",
    "\t    for i,n in enumerate(r):\n",
    "\t        res+= n * b[i]\n",
    "\t        \n",
    "\t    result.append(res)\n",
    "\n",
    "\treturn result"
   ]
  },
  {
   "cell_type": "code",
   "execution_count": 3,
   "id": "2ef6ac5c",
   "metadata": {},
   "outputs": [
    {
     "name": "stdout",
     "output_type": "stream",
     "text": [
      "[5, 10]\n"
     ]
    }
   ],
   "source": [
    "a = [[1, 2], [2, 4]]\n",
    "b = [1, 2]\n",
    "\n",
    "print(matrix_dot_vector(a, b))"
   ]
  },
  {
   "cell_type": "markdown",
   "id": "dd05842b",
   "metadata": {},
   "source": [
    "# Transpose of a Matrix"
   ]
  },
  {
   "cell_type": "code",
   "execution_count": 10,
   "id": "aec23bc9",
   "metadata": {},
   "outputs": [],
   "source": [
    "def transpose_matrix(a):\n",
    "    rows,cols = len(a), len(a[0])\n",
    "    b = [[] for i in range(cols)]\n",
    "    \n",
    "    for i in range(rows):\n",
    "        for j in range(cols):\n",
    "            b[j].append(a[i][j])\n",
    "            \n",
    "    return b"
   ]
  },
  {
   "cell_type": "code",
   "execution_count": 13,
   "id": "15997cf4",
   "metadata": {},
   "outputs": [
    {
     "name": "stdout",
     "output_type": "stream",
     "text": [
      "[[1, 4], [2, 5], [3, 6]]\n"
     ]
    }
   ],
   "source": [
    "a = [[1,2,3],[4,5,6]]\n",
    "\n",
    "print(transpose_matrix(a))"
   ]
  },
  {
   "cell_type": "code",
   "execution_count": 12,
   "id": "b01389d7",
   "metadata": {},
   "outputs": [],
   "source": [
    "def transpose_solution(a):\n",
    "    return [list(i) for i in zip(*a)]"
   ]
  },
  {
   "cell_type": "code",
   "execution_count": 14,
   "id": "b5522cc2",
   "metadata": {},
   "outputs": [
    {
     "name": "stdout",
     "output_type": "stream",
     "text": [
      "[[1, 4], [2, 5], [3, 6]]\n"
     ]
    }
   ],
   "source": [
    "a = [[1,2,3],[4,5,6]]\n",
    "\n",
    "print(transpose_solution(a))"
   ]
  },
  {
   "cell_type": "code",
   "execution_count": null,
   "id": "f774a39c",
   "metadata": {},
   "outputs": [],
   "source": []
  }
 ],
 "metadata": {
  "kernelspec": {
   "display_name": "tfod",
   "language": "python",
   "name": "tfod"
  },
  "language_info": {
   "codemirror_mode": {
    "name": "ipython",
    "version": 3
   },
   "file_extension": ".py",
   "mimetype": "text/x-python",
   "name": "python",
   "nbconvert_exporter": "python",
   "pygments_lexer": "ipython3",
   "version": "3.9.6"
  }
 },
 "nbformat": 4,
 "nbformat_minor": 5
}
