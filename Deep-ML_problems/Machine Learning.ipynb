{
 "cells": [
  {
   "cell_type": "markdown",
   "id": "57022778",
   "metadata": {},
   "source": [
    "# Calculate R-squared for Regression Analysis\n",
    "\n",
    "**Task: Compute the R-squared Value in Regression Analysis**\n",
    "- R-squared, also known as the coefficient of determination, is a measure that indicates how well the independent variables explain the variability of the dependent variable in a regression model.\n",
    "\n",
    "- Your Task: To implement the function r_squared(y_true, y_pred) that calculates the R-squared value, given arrays of true values y_true and predicted values y_pred.\n",
    "\n",
    "[Link](https://www.deep-ml.com/problems/69)"
   ]
  },
  {
   "cell_type": "code",
   "execution_count": null,
   "id": "ad5eb3a2",
   "metadata": {},
   "outputs": [],
   "source": [
    "import numpy as np\n",
    "\n",
    "def r_squared(y_true, y_pred):\n",
    "\t# Write your code here\n",
    "    SSR = sum((y_true - y_pred)**2) #Sum of Squared Residuals: The sum of the squares of the differences between the actual values and the predicted values.\n",
    "    SST = sum((y_true - np.mean(y_true))**2) # Total Sum of Squares: The sum of the squares of the differences between the actual values and the mean of the actual values.\n",
    "    \n",
    "    return 1-  SSR/SST\n"
   ]
  },
  {
   "cell_type": "code",
   "execution_count": 18,
   "id": "8932f989",
   "metadata": {},
   "outputs": [
    {
     "name": "stdout",
     "output_type": "stream",
     "text": [
      "0.989\n"
     ]
    }
   ],
   "source": [
    "y_true = np.array([1, 2, 3, 4, 5])\n",
    "y_pred = np.array([1.1, 2.1, 2.9, 4.2, 4.8])\n",
    "print(r_squared(y_true, y_pred))"
   ]
  }
 ],
 "metadata": {
  "kernelspec": {
   "display_name": "tfod",
   "language": "python",
   "name": "tfod"
  },
  "language_info": {
   "codemirror_mode": {
    "name": "ipython",
    "version": 3
   },
   "file_extension": ".py",
   "mimetype": "text/x-python",
   "name": "python",
   "nbconvert_exporter": "python",
   "pygments_lexer": "ipython3",
   "version": "3.9.6"
  }
 },
 "nbformat": 4,
 "nbformat_minor": 5
}
