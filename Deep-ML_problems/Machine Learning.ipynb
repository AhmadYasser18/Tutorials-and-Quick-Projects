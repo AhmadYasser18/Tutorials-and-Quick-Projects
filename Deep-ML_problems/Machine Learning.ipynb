{
 "cells": [
  {
   "cell_type": "markdown",
   "id": "8ef62060",
   "metadata": {},
   "source": [
    "# Linear Regression Using Normal Equation\n",
    "\n",
    "Write a Python function that performs linear regression using the normal equation. The function should take a matrix X (features) and a vector y (target) as input, and return the coefficients of the linear regression model. Round your answer to four decimal places, -0.0 is a valid result for rounding a very small number."
   ]
  },
  {
   "cell_type": "code",
   "execution_count": 21,
   "id": "47a7faa1",
   "metadata": {},
   "outputs": [],
   "source": [
    "import numpy as np\n",
    "def linear_regression_normal_equation(X, y):\n",
    "\t# Your code here, make sure to round\n",
    "\tX = np.array(X)\n",
    "\ty = np.array(y)\n",
    "\ttheta = np.linalg.inv(X.T @ X) @ X.T @ y\n",
    "    \n",
    "\treturn np.round(theta, 4)"
   ]
  },
  {
   "cell_type": "code",
   "execution_count": 23,
   "id": "74973025",
   "metadata": {},
   "outputs": [
    {
     "data": {
      "text/plain": [
       "array([-0.,  1.])"
      ]
     },
     "execution_count": 23,
     "metadata": {},
     "output_type": "execute_result"
    }
   ],
   "source": [
    "X = [[1, 1], [1, 2], [1, 3]]\n",
    "y = [1, 2, 3]\n",
    "\n",
    "linear_regression_normal_equation(X, y)"
   ]
  },
  {
   "cell_type": "markdown",
   "id": "57022778",
   "metadata": {},
   "source": [
    "# Calculate R-squared for Regression Analysis\n",
    "\n",
    "**Task: Compute the R-squared Value in Regression Analysis**\n",
    "- R-squared, also known as the coefficient of determination, is a measure that indicates how well the independent variables explain the variability of the dependent variable in a regression model.\n",
    "\n",
    "- Your Task: To implement the function r_squared(y_true, y_pred) that calculates the R-squared value, given arrays of true values y_true and predicted values y_pred.\n",
    "\n",
    "[Link](https://www.deep-ml.com/problems/69)"
   ]
  },
  {
   "cell_type": "code",
   "execution_count": null,
   "id": "ad5eb3a2",
   "metadata": {},
   "outputs": [],
   "source": [
    "import numpy as np\n",
    "\n",
    "def r_squared(y_true, y_pred):\n",
    "\t# Write your code here\n",
    "    SSR = sum((y_true - y_pred)**2) #Sum of Squared Residuals: The sum of the squares of the differences between the actual values and the predicted values.\n",
    "    SST = sum((y_true - np.mean(y_true))**2) # Total Sum of Squares: The sum of the squares of the differences between the actual values and the mean of the actual values.\n",
    "    \n",
    "    return 1-  SSR/SST\n"
   ]
  },
  {
   "cell_type": "code",
   "execution_count": 18,
   "id": "8932f989",
   "metadata": {},
   "outputs": [
    {
     "name": "stdout",
     "output_type": "stream",
     "text": [
      "0.989\n"
     ]
    }
   ],
   "source": [
    "y_true = np.array([1, 2, 3, 4, 5])\n",
    "y_pred = np.array([1.1, 2.1, 2.9, 4.2, 4.8])\n",
    "print(r_squared(y_true, y_pred))"
   ]
  },
  {
   "cell_type": "markdown",
   "id": "dae982f7",
   "metadata": {},
   "source": [
    "# Measure Disorder in Apple Colors\n",
    "\n",
    "Implement a function that calculates the disorder in a basket of apples based on their colors, where each apple color is represented by an integer. The disorder must be 0 if all apples are the same color and must increase as the variety of colors increases. In particular:\n",
    "\n",
    "- [0,0,0,0] should yield 0.\n",
    "- [1,1,0,0] should have a higher disorder than [0,0,0,0].\n",
    "- [0,1,2,3] should have a higher disorder than [1,1,0,0].\n",
    "- [0,0,1,1,2,2,3,3] should have a higher disorder than [0,0,0,0,0,1,2,3].\n",
    "\n",
    "You may use any method to measure disorder as long as these properties are satisfied.\n",
    "\n",
    "[Link: containing Gini Impurity](https://www.deep-ml.com/problems/108)"
   ]
  },
  {
   "cell_type": "code",
   "execution_count": null,
   "id": "47f78bbb",
   "metadata": {},
   "outputs": [],
   "source": [
    "def disorder(apples):\n",
    "\t\"\"\"\n",
    "\tCompute the disorder in a basket of apples.\n",
    "\t\"\"\"\n",
    "\t# Your code here\n",
    "\ttotal = len(apples)\n",
    "    colors = {color:0 for color in apples}\n",
    "    \n",
    "    for apple in apples:\n",
    "        colors[apple]+=1\n",
    "    \n",
    "    g = 1 - sum((i/ total)**2 for i in colors.values())\n",
    "        \n",
    "    \n",
    "    return g"
   ]
  }
 ],
 "metadata": {
  "kernelspec": {
   "display_name": "tfod",
   "language": "python",
   "name": "tfod"
  },
  "language_info": {
   "codemirror_mode": {
    "name": "ipython",
    "version": 3
   },
   "file_extension": ".py",
   "mimetype": "text/x-python",
   "name": "python",
   "nbconvert_exporter": "python",
   "pygments_lexer": "ipython3",
   "version": "3.9.6"
  }
 },
 "nbformat": 4,
 "nbformat_minor": 5
}
