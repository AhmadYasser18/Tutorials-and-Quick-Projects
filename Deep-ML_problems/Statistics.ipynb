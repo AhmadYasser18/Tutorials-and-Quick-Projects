{
 "cells": [
  {
   "cell_type": "markdown",
   "id": "b632ade4",
   "metadata": {},
   "source": [
    "# Descriptive Statistics Calculator\n",
    "\n",
    "Write a Python function to calculate various descriptive statistics metrics for a given dataset. The function should take a list or NumPy array of numerical values and return a dictionary containing mean, median, mode, variance, standard deviation, percentiles (25th, 50th, 75th), and interquartile range (IQR)."
   ]
  },
  {
   "cell_type": "code",
   "execution_count": 55,
   "id": "bcc7851b",
   "metadata": {},
   "outputs": [
    {
     "name": "stdout",
     "output_type": "stream",
     "text": [
      "{'mean': 30.0, 'median': 30.0, 'mode': 10, 'variance': 200.0, 'standard_deviation': 14.1421, '25th_percentile': 20.0, '50th_percentile': 30.0, '75th_percentile': 40.0, 'interquartile_range': 20.0}\n"
     ]
    }
   ],
   "source": [
    "import numpy as np \n",
    "def descriptive_statistics(data):\n",
    "    # Your code here\n",
    "    mean = np.mean(data)\n",
    "    median = np.median(data)\n",
    "    \n",
    "    mode =  {i:0 for i in data}\n",
    "    for k in data:\n",
    "        mode[k]+=1\n",
    "\n",
    "    mode  = sorted(mode, reverse= True, key= mode.get)[0]\n",
    "\n",
    "\n",
    "    variance = np.var(data)\n",
    "    std_dev = variance**0.5\n",
    "    percentiles = np.percentile(data, [25, 50, 75])\n",
    "    iqr = percentiles[2] - percentiles[0]\n",
    "\n",
    "    stats_dict = {\n",
    "        \"mean\": mean,\n",
    "        \"median\": median,\n",
    "        \"mode\": mode,\n",
    "        \"variance\": np.round(variance,4),\n",
    "        \"standard_deviation\": np.round(std_dev,4),\n",
    "        \"25th_percentile\": percentiles[0],\n",
    "        \"50th_percentile\": percentiles[1],\n",
    "        \"75th_percentile\": percentiles[2],\n",
    "        \"interquartile_range\": iqr\n",
    "    }\n",
    "\n",
    "    return stats_dict\n",
    "\n",
    "data = [10,  20, 30, 40, 50]\n",
    "\n",
    "print(descriptive_statistics(data))"
   ]
  },
  {
   "cell_type": "code",
   "execution_count": 37,
   "id": "9da146df",
   "metadata": {},
   "outputs": [
    {
     "name": "stdout",
     "output_type": "stream",
     "text": [
      "{1: 1, 2: 2, 3: 1, 4: 3, 5: 1}\n",
      "{'mean': 3.125, 'median': 3.5, 'mode': 1, 'variance': 1.6094, 'standard_deviation': 1.2686, '25th_percentile': 2.0, '50th_percentile': 3.5, '75th_percentile': 4.0, 'interquartile_range': 2.0}\n"
     ]
    }
   ],
   "source": [
    "print(descriptive_statistics([1, 2, 2, 3, 4, 4, 4, 5]))"
   ]
  },
  {
   "cell_type": "code",
   "execution_count": null,
   "id": "c64b67f2",
   "metadata": {},
   "outputs": [],
   "source": [
    "# Mode\n",
    "unique, counts = np.unique(data, return_counts=True)\n",
    "mode = unique[np.argmax(counts)] if len(data) > 0 else None"
   ]
  },
  {
   "cell_type": "markdown",
   "id": "d5d947eb",
   "metadata": {},
   "source": []
  }
 ],
 "metadata": {
  "kernelspec": {
   "display_name": "tfod",
   "language": "python",
   "name": "tfod"
  },
  "language_info": {
   "codemirror_mode": {
    "name": "ipython",
    "version": 3
   },
   "file_extension": ".py",
   "mimetype": "text/x-python",
   "name": "python",
   "nbconvert_exporter": "python",
   "pygments_lexer": "ipython3",
   "version": "3.9.6"
  }
 },
 "nbformat": 4,
 "nbformat_minor": 5
}
