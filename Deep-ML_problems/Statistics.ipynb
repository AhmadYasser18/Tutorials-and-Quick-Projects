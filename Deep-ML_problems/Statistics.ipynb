{
 "cells": [
  {
   "cell_type": "markdown",
   "id": "b632ade4",
   "metadata": {},
   "source": [
    "# Descriptive Statistics Calculator\n",
    "\n",
    "Write a Python function to calculate various descriptive statistics metrics for a given dataset. The function should take a list or NumPy array of numerical values and return a dictionary containing mean, median, mode, variance, standard deviation, percentiles (25th, 50th, 75th), and interquartile range (IQR)."
   ]
  },
  {
   "cell_type": "code",
   "execution_count": null,
   "id": "bcc7851b",
   "metadata": {},
   "outputs": [
    {
     "ename": "SyntaxError",
     "evalue": "invalid syntax (858212576.py, line 6)",
     "output_type": "error",
     "traceback": [
      "\u001b[1;36m  File \u001b[1;32m\"C:\\Users\\HP 15\\AppData\\Local\\Temp\\ipykernel_15528\\858212576.py\"\u001b[1;36m, line \u001b[1;32m6\u001b[0m\n\u001b[1;33m    mode =\u001b[0m\n\u001b[1;37m           ^\u001b[0m\n\u001b[1;31mSyntaxError\u001b[0m\u001b[1;31m:\u001b[0m invalid syntax\n"
     ]
    }
   ],
   "source": [
    "import numpy as np \n",
    "def descriptive_statistics(data):\n",
    "    # Your code here\n",
    "    mean = np.mean(data)\n",
    "    median = np.median(data)\n",
    "    mode = \n",
    "    variance = \n",
    "    std_dev = variance**0.5\n",
    "    precentiles = \n",
    "    iqr = percentiles[2] - percentiles[0]\n",
    "\n",
    "    return stats_dict\n",
    "\n",
    "data = [10, 20, 30, 40, 50]\n",
    "print(descriptive_statistics(data))"
   ]
  },
  {
   "cell_type": "code",
   "execution_count": null,
   "id": "51f8124e",
   "metadata": {},
   "outputs": [],
   "source": [
    "stats_dict = {\n",
    "        \"mean\": mean,\n",
    "        \"median\": median,\n",
    "        \"mode\": mode,\n",
    "        \"variance\": np.round(variance,4),\n",
    "        \"standard_deviation\": np.round(std_dev,4),\n",
    "        \"25th_percentile\": percentiles[0],\n",
    "        \"50th_percentile\": percentiles[1],\n",
    "        \"75th_percentile\": percentiles[2],\n",
    "        \"interquartile_range\": iqr\n",
    "    }"
   ]
  }
 ],
 "metadata": {
  "kernelspec": {
   "display_name": "tfod",
   "language": "python",
   "name": "tfod"
  },
  "language_info": {
   "codemirror_mode": {
    "name": "ipython",
    "version": 3
   },
   "file_extension": ".py",
   "mimetype": "text/x-python",
   "name": "python",
   "nbconvert_exporter": "python",
   "pygments_lexer": "ipython3",
   "version": "3.9.6"
  }
 },
 "nbformat": 4,
 "nbformat_minor": 5
}
