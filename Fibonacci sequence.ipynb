{
 "cells": [
  {
   "cell_type": "code",
   "execution_count": 3,
   "id": "3bdec12f",
   "metadata": {
    "ExecuteTime": {
     "end_time": "2025-01-24T16:45:46.826200Z",
     "start_time": "2025-01-24T16:45:46.816829Z"
    }
   },
   "outputs": [],
   "source": [
    "def Fib(n):\n",
    "    if n==0:\n",
    "        return 0\n",
    "    elif n<2:\n",
    "        return n\n",
    "    else:\n",
    "        return Fib(n-1) + Fib(n-2)\n"
   ]
  },
  {
   "cell_type": "code",
   "execution_count": 7,
   "id": "5ede927a",
   "metadata": {
    "ExecuteTime": {
     "end_time": "2025-01-24T16:46:12.275597Z",
     "start_time": "2025-01-24T16:46:12.265541Z"
    }
   },
   "outputs": [
    {
     "name": "stdout",
     "output_type": "stream",
     "text": [
      "2\n"
     ]
    }
   ],
   "source": [
    "print(Fib(3))"
   ]
  },
  {
   "cell_type": "code",
   "execution_count": null,
   "id": "5c1959ac",
   "metadata": {},
   "outputs": [],
   "source": []
  }
 ],
 "metadata": {
  "kernelspec": {
   "display_name": "Python 3 (ipykernel)",
   "language": "python",
   "name": "python3"
  },
  "language_info": {
   "codemirror_mode": {
    "name": "ipython",
    "version": 3
   },
   "file_extension": ".py",
   "mimetype": "text/x-python",
   "name": "python",
   "nbconvert_exporter": "python",
   "pygments_lexer": "ipython3",
   "version": "3.9.6"
  }
 },
 "nbformat": 4,
 "nbformat_minor": 5
}
