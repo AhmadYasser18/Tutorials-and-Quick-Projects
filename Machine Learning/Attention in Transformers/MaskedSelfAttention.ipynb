{
 "cells": [
  {
   "cell_type": "code",
   "execution_count": 1,
   "metadata": {},
   "outputs": [],
   "source": [
    "import torch\n",
    "import torch.nn as nn\n",
    "import torch.nn.functional as F"
   ]
  },
  {
   "cell_type": "code",
   "execution_count": null,
   "metadata": {},
   "outputs": [],
   "source": [
    "class MaskedSelfAttention(nn.Module):\n",
    "    def __init__(self, dim_model=2, row_dim = 0, col_dim=1): \n",
    "        #dim_model: num of Word Embeddings per token\n",
    "        # row_dim, col_dim: rows/columns indices\n",
    "        super().__init__()\n",
    "        self.q_weights = nn.Linear(in_features= dim_model, out_features= dim_model, bias = False)\n",
    "\n",
    "        self.k_weights = nn.Linear(in_features= dim_model, out_features= dim_model, bias = False)\n",
    "\n",
    "        self.v_weights = nn.Linear(in_features= dim_model, out_features= dim_model, bias = False)\n",
    "\n",
    "        self.row_dim = row_dim\n",
    "        self.col_dim = col_dim\n",
    "\n",
    "    def forward(self, token_encodings, mask=None):\n",
    "        q = self.q_weights(token_encodings)\n",
    "        k = self.k_weights(token_encodings)\n",
    "        v = self.v_weights(token_encodings)\n",
    "\n",
    "        similarities = torch.matmul(q, k.transpose(dim0=self.row_dim, dim1=self.col_dim)) #multiplying Q K\n",
    "        scaled_similarities = similarities/torch.tensor(k.size(self.col_dim)**0.5) # dividing by root d\n",
    "        attention_percents = F.softmax(scaled_similarities, dim= self.col_dim) #applying softmax\n",
    "        attention_scores = torch.matmul(attention_percents, v)\n",
    "        \n",
    "        return attention_scores           \n",
    "\n",
    "\n"
   ]
  },
  {
   "cell_type": "code",
   "execution_count": null,
   "metadata": {},
   "outputs": [
    {
     "data": {
      "text/plain": [
       "tensor([[ 1.1600,  0.2300],\n",
       "        [ 0.5700,  1.3600],\n",
       "        [ 4.4100, -2.1600]])"
      ]
     },
     "metadata": {},
     "output_type": "display_data"
    }
   ],
   "source": [
    "encodings_mat = torch.tensor([[1.16, 0.23],\n",
    "                              [0.57, 1.36],\n",
    "                              [4.41, -2.16]])\n",
    "\n",
    "encodings_mat"
   ]
  },
  {
   "cell_type": "code",
   "execution_count": null,
   "metadata": {},
   "outputs": [
    {
     "data": {
      "text/plain": [
       "<torch._C.Generator at 0x1590d5b5390>"
      ]
     },
     "metadata": {},
     "output_type": "display_data"
    }
   ],
   "source": [
    "torch.manual_seed(42)"
   ]
  },
  {
   "cell_type": "code",
   "execution_count": null,
   "metadata": {},
   "outputs": [
    {
     "data": {
      "text/plain": [
       "tensor([[1.0100, 1.0641],\n",
       "        [0.2040, 0.7057],\n",
       "        [3.4989, 2.2427]], grad_fn=<MmBackward0>)"
      ]
     },
     "metadata": {},
     "output_type": "display_data"
    }
   ],
   "source": [
    "masked_self_attention = MaskedSelfAttention(dim_model=2, row_dim=0, col_dim=1)\n",
    "\n",
    "masked_self_attention(encodings_mat)"
   ]
  },
  {
   "cell_type": "code",
   "execution_count": null,
   "metadata": {},
   "outputs": [
    {
     "name": "stdout",
     "output_type": "stream",
     "text": [
      "Q Weights: tensor([[ 0.5406, -0.1657],\n",
      "        [ 0.5869,  0.6496]], grad_fn=<TransposeBackward0>)\n",
      "K Weights: tensor([[-0.1549, -0.3443],\n",
      "        [ 0.1427,  0.4153]], grad_fn=<TransposeBackward0>)\n",
      "V Weights: tensor([[ 0.6233,  0.6146],\n",
      "        [-0.5188,  0.1323]], grad_fn=<TransposeBackward0>)\n"
     ]
    }
   ],
   "source": [
    "print(f\"\"\"Q Weights: {masked_self_attention.q_weights.weight.transpose(0,1)}\n",
    "K Weights: {masked_self_attention.k_weights.weight.transpose(0,1)}\n",
    "V Weights: {masked_self_attention.v_weights.weight.transpose(0,1)}\"\"\")"
   ]
  }
 ],
 "metadata": {
  "kernelspec": {
   "display_name": "tfodj",
   "language": "python",
   "name": "Main Kernel"
  },
  "language_info": {
   "codemirror_mode": {
    "name": "ipython",
    "version": 3
   },
   "file_extension": ".py",
   "mimetype": "text/x-python",
   "name": "python",
   "nbconvert_exporter": "python",
   "pygments_lexer": "ipython3",
   "version": "3.9.6"
  }
 },
 "nbformat": 4,
 "nbformat_minor": 2
}
