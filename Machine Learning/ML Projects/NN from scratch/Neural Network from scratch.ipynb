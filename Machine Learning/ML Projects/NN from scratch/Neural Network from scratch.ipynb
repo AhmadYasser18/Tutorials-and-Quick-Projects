{
 "cells": [
  {
   "cell_type": "markdown",
   "id": "0713ac11",
   "metadata": {},
   "source": [
    "Youtube tutorial Link: https://www.youtube.com/watch?v=w8yWXqWQYmU"
   ]
  },
  {
   "cell_type": "code",
   "execution_count": 5,
   "id": "0408c6ac",
   "metadata": {
    "ExecuteTime": {
     "end_time": "2025-03-15T15:00:54.733348Z",
     "start_time": "2025-03-15T15:00:51.194452Z"
    }
   },
   "outputs": [],
   "source": [
    "import numpy as np\n",
    "import pandas as pd\n",
    "import matplotlib.pyplot as plt"
   ]
  },
  {
   "cell_type": "code",
   "execution_count": null,
   "id": "2d303a0c",
   "metadata": {
    "ExecuteTime": {
     "end_time": "2025-03-15T15:01:07.432429Z",
     "start_time": "2025-03-15T15:01:01.923989Z"
    }
   },
   "outputs": [],
   "source": [
    "#getting the dataset using pytorch\n",
    "from torchvision import datasets, transforms  \n",
    "\n",
    "# Download MNIST dataset  \n",
    "mnist_train = datasets.MNIST(root=\"./data\", train=True, download=True)#transform=transforms.ToTensor())  \n",
    "mnist_test = datasets.MNIST(root=\"./data\", train=False, download=True)#, transform=transforms.ToTensor())  \n",
    "\n",
    "# Check dataset length  \n",
    "print(len(mnist_train), len(mnist_test)) "
   ]
  },
  {
   "cell_type": "code",
   "execution_count": 7,
   "id": "85abab33",
   "metadata": {
    "ExecuteTime": {
     "end_time": "2025-03-15T15:01:40.900779Z",
     "start_time": "2025-03-15T15:01:20.110805Z"
    }
   },
   "outputs": [],
   "source": [
    "from tensorflow.keras.datasets import mnist  \n",
    "\n",
    "# Load MNIST dataset  \n",
    "(x_train, y_train), (x_test, y_test) = mnist.load_data() "
   ]
  },
  {
   "cell_type": "code",
   "execution_count": 8,
   "id": "61e4422e",
   "metadata": {
    "ExecuteTime": {
     "end_time": "2025-03-15T15:01:41.193682Z",
     "start_time": "2025-03-15T15:01:40.959442Z"
    }
   },
   "outputs": [
    {
     "data": {
      "text/plain": [
       "(47040000,)"
      ]
     },
     "execution_count": 8,
     "metadata": {},
     "output_type": "execute_result"
    }
   ],
   "source": [
    "x_train.flatten().shape"
   ]
  },
  {
   "cell_type": "code",
   "execution_count": 9,
   "id": "0c7d3b83",
   "metadata": {
    "ExecuteTime": {
     "end_time": "2025-03-15T15:01:41.233722Z",
     "start_time": "2025-03-15T15:01:41.208930Z"
    }
   },
   "outputs": [
    {
     "data": {
      "text/plain": [
       "(28, 28)"
      ]
     },
     "execution_count": 9,
     "metadata": {},
     "output_type": "execute_result"
    }
   ],
   "source": [
    "x_train[0].shape"
   ]
  },
  {
   "cell_type": "code",
   "execution_count": 10,
   "id": "863552ee",
   "metadata": {
    "ExecuteTime": {
     "end_time": "2025-03-15T15:01:41.279176Z",
     "start_time": "2025-03-15T15:01:41.256472Z"
    }
   },
   "outputs": [],
   "source": [
    "x_train = x_train.reshape((60000, 784)).transpose()\n",
    "x_test = x_test.reshape((10000, 784)).transpose()"
   ]
  },
  {
   "cell_type": "code",
   "execution_count": 11,
   "id": "b6352724",
   "metadata": {
    "ExecuteTime": {
     "end_time": "2025-03-15T15:01:41.318969Z",
     "start_time": "2025-03-15T15:01:41.288793Z"
    }
   },
   "outputs": [
    {
     "data": {
      "text/plain": [
       "(784,)"
      ]
     },
     "execution_count": 11,
     "metadata": {},
     "output_type": "execute_result"
    }
   ],
   "source": [
    "#Now each column is a 28x28 image\n",
    "x_train[:,0].shape"
   ]
  },
  {
   "cell_type": "code",
   "execution_count": 14,
   "id": "7b8c0cab",
   "metadata": {
    "ExecuteTime": {
     "end_time": "2025-03-15T15:19:35.731629Z",
     "start_time": "2025-03-15T15:19:35.701947Z"
    }
   },
   "outputs": [],
   "source": [
    "def initialzing_params():\n",
    "    W1 = np.random.rand(10, 784) - 0.25\n",
    "    b1 = np.random.rand(10, 784) - 0.25\n",
    "    \n",
    "    W2 = np.random.rand(10, 10) - 0.25\n",
    "    b2 = np.random.rand(10, 10) - 0.25\n",
    "    \n",
    "    return W1, b1, W2, b2\n",
    "\n",
    "def ReLU(Z):\n",
    "    return np.maximum(0, Z)\n",
    "\n",
    "def softmax(Z2):\n",
    "    return np.exp(Z2) / np.sum(np.exp(Z2))\n",
    "    \n",
    "def f_prop(W1, b1, W2, b2, X):\n",
    "    Z1 = W1.dot(X) + b1\n",
    "    A1 = ReLU(Z1)\n",
    "    \n",
    "    Z2 = W2.dot(A1) + b2\n",
    "    A2 = softmax(Z2)\n",
    "    \n",
    "    return Z1, A1, Z2, A2\n",
    "\n",
    "def one_hot(Y):\n",
    "    one_hot_y = np.zeros(Y.size, Y.max()+1)\n",
    "    one_hot_y[np.arange(Y.size), Y] =1\n",
    "    return one_hot_y.T\n",
    "\n",
    "def b_prop(Z1, A1, Z2, A2, W2, Y):\n",
    "    one_hot_y = one_hot(Y)\n",
    "    m = Y.size\n",
    "    deriv_ReLU = Z1>0\n",
    "    \n",
    "    dZ2 = A2 - one_hot_y\n",
    "    dW2 = 1/m *dZ2.dot(A1.T)\n",
    "    db2 = 1/m * np.sum(dZ2, 2)\n",
    "    \n",
    "    dZ1 = W2.T.dot(dZ2) * deriv_ReLU\n",
    "    dW1 = 1/m * dZ1.dot(A1.T)\n",
    "    db1 = 1/m * np.sum(dZ1, 2)\n",
    "    \n",
    "    return dW1, db1, dW2, db2\n",
    "\n",
    "def update_params(W1, b1, W2, b2, dW1, db1, dW2, db2, alpha = 0.01):\n",
    "    W1 = W1 - aplha*dW1\n",
    "    b1 = b1 - aplha*db1\n",
    "    \n",
    "    W2 = W2 - aplha*dW2\n",
    "    b2 = b2 - aplha*db2\n",
    "    \n",
    "    return W1, b1, W2, b2 \n",
    "    "
   ]
  },
  {
   "cell_type": "code",
   "execution_count": null,
   "id": "eeb47f68",
   "metadata": {},
   "outputs": [],
   "source": [
    "def gradient_descent()"
   ]
  }
 ],
 "metadata": {
  "kernelspec": {
   "display_name": "Python 3 (ipykernel)",
   "language": "python",
   "name": "python3"
  },
  "language_info": {
   "codemirror_mode": {
    "name": "ipython",
    "version": 3
   },
   "file_extension": ".py",
   "mimetype": "text/x-python",
   "name": "python",
   "nbconvert_exporter": "python",
   "pygments_lexer": "ipython3",
   "version": "3.9.6"
  }
 },
 "nbformat": 4,
 "nbformat_minor": 5
}
