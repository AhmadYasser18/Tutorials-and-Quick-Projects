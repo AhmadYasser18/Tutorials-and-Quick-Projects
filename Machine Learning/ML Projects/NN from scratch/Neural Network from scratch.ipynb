{
 "cells": [
  {
   "cell_type": "code",
   "execution_count": 28,
   "id": "0408c6ac",
   "metadata": {
    "ExecuteTime": {
     "end_time": "2025-03-10T21:16:33.100888Z",
     "start_time": "2025-03-10T21:16:33.084889Z"
    }
   },
   "outputs": [],
   "source": [
    "import numpy as np\n",
    "import pandas as pd\n",
    "import matplotlib.pyplot as plt"
   ]
  },
  {
   "cell_type": "code",
   "execution_count": 4,
   "id": "2522ce5b",
   "metadata": {
    "ExecuteTime": {
     "end_time": "2025-03-10T21:02:59.935760Z",
     "start_time": "2025-03-10T21:02:59.919745Z"
    }
   },
   "outputs": [],
   "source": [
    "#getting the dataset using pytorch\n",
    "from torchvision import datasets, transforms  \n",
    "\n",
    "# Download MNIST dataset  \n",
    "mnist_train = datasets.MNIST(root=\"./data\", train=True, download=True)#transform=transforms.ToTensor())  \n",
    "mnist_test = datasets.MNIST(root=\"./data\", train=False, download=True)#, transform=transforms.ToTensor())  \n",
    "\n",
    "# Check dataset length  \n",
    "print(len(mnist_train), len(mnist_test)) "
   ]
  },
  {
   "cell_type": "code",
   "execution_count": 3,
   "id": "85abab33",
   "metadata": {
    "ExecuteTime": {
     "end_time": "2025-03-10T21:01:29.099088Z",
     "start_time": "2025-03-10T21:01:05.352295Z"
    }
   },
   "outputs": [
    {
     "name": "stdout",
     "output_type": "stream",
     "text": [
      "Downloading data from https://storage.googleapis.com/tensorflow/tf-keras-datasets/mnist.npz\n",
      "11493376/11490434 [==============================] - 8s 1us/step\n",
      "11501568/11490434 [==============================] - 8s 1us/step\n"
     ]
    }
   ],
   "source": [
    "from tensorflow.keras.datasets import mnist  \n",
    "\n",
    "# Load MNIST dataset  \n",
    "(x_train, y_train), (x_test, y_test) = mnist.load_data() "
   ]
  },
  {
   "cell_type": "code",
   "execution_count": 11,
   "id": "61e4422e",
   "metadata": {
    "ExecuteTime": {
     "end_time": "2025-03-10T21:05:48.424511Z",
     "start_time": "2025-03-10T21:05:48.360425Z"
    }
   },
   "outputs": [
    {
     "data": {
      "text/plain": [
       "(47040000,)"
      ]
     },
     "execution_count": 11,
     "metadata": {},
     "output_type": "execute_result"
    }
   ],
   "source": [
    "x_train.flatten().shape"
   ]
  },
  {
   "cell_type": "code",
   "execution_count": 15,
   "id": "0c7d3b83",
   "metadata": {
    "ExecuteTime": {
     "end_time": "2025-03-10T21:08:03.610808Z",
     "start_time": "2025-03-10T21:08:03.586810Z"
    }
   },
   "outputs": [
    {
     "data": {
      "text/plain": [
       "(28, 28)"
      ]
     },
     "execution_count": 15,
     "metadata": {},
     "output_type": "execute_result"
    }
   ],
   "source": [
    "x_train[0].shape"
   ]
  },
  {
   "cell_type": "code",
   "execution_count": 25,
   "id": "863552ee",
   "metadata": {
    "ExecuteTime": {
     "end_time": "2025-03-10T21:14:35.735247Z",
     "start_time": "2025-03-10T21:14:35.715825Z"
    }
   },
   "outputs": [],
   "source": [
    "x_train = x_train.reshape((60000, 784)).transpose()\n",
    "x_test = x_test.reshape((10000, 784)).transpose()"
   ]
  },
  {
   "cell_type": "code",
   "execution_count": 27,
   "id": "b6352724",
   "metadata": {
    "ExecuteTime": {
     "end_time": "2025-03-10T21:14:44.421405Z",
     "start_time": "2025-03-10T21:14:44.397307Z"
    }
   },
   "outputs": [
    {
     "data": {
      "text/plain": [
       "(784,)"
      ]
     },
     "execution_count": 27,
     "metadata": {},
     "output_type": "execute_result"
    }
   ],
   "source": [
    "#Now each column is a 28x28 image\n",
    "x_train[:,0].shape"
   ]
  },
  {
   "cell_type": "code",
   "execution_count": null,
   "id": "7b8c0cab",
   "metadata": {},
   "outputs": [],
   "source": [
    "def initialzing_params():\n",
    "    W1 = np.random.rand(10, 784) - 0.25\n",
    "    b1 = np.random.rand(10, 784) - 0.25\n",
    "    \n",
    "    W2 = np.random.rand(10, 10) - 0.25\n",
    "    b2 = np.random.rand(10, 10) - 0.25\n",
    "    \n",
    "    return W1, b1, W2, b2\n",
    "\n",
    "def f_prop(W1, b1, W2, b2, X):"
   ]
  }
 ],
 "metadata": {
  "kernelspec": {
   "display_name": "Python 3 (ipykernel)",
   "language": "python",
   "name": "python3"
  },
  "language_info": {
   "codemirror_mode": {
    "name": "ipython",
    "version": 3
   },
   "file_extension": ".py",
   "mimetype": "text/x-python",
   "name": "python",
   "nbconvert_exporter": "python",
   "pygments_lexer": "ipython3",
   "version": "3.9.6"
  }
 },
 "nbformat": 4,
 "nbformat_minor": 5
}
