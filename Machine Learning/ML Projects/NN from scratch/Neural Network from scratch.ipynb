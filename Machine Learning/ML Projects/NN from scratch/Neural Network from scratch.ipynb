{
 "cells": [
  {
   "cell_type": "markdown",
   "id": "3f3e9b9d",
   "metadata": {},
   "source": [
    "Youtube tutorial Link: https://www.youtube.com/watch?v=w8yWXqWQYmU  \n",
    "Author's kaggle notebook: https://www.kaggle.com/code/wwsalmon/simple-mnist-nn-from-scratch-numpy-no-tf-keras"
   ]
  },
  {
   "cell_type": "code",
   "execution_count": 5,
   "id": "0408c6ac",
   "metadata": {
    "ExecuteTime": {
     "end_time": "2025-03-15T15:00:54.733348Z",
     "start_time": "2025-03-15T15:00:51.194452Z"
    }
   },
   "outputs": [],
   "source": [
    "import numpy as np\n",
    "import pandas as pd\n",
    "import matplotlib.pyplot as plt"
   ]
  },
  {
   "cell_type": "code",
   "execution_count": null,
   "id": "798eb512",
   "metadata": {
    "ExecuteTime": {
     "end_time": "2025-03-15T15:01:07.432429Z",
     "start_time": "2025-03-15T15:01:01.923989Z"
    }
   },
   "outputs": [],
   "source": [
    "#getting the dataset using pytorch\n",
    "from torchvision import datasets, transforms  \n",
    "\n",
    "# Download MNIST dataset  \n",
    "mnist_train = datasets.MNIST(root=\"./data\", train=True, download=True)#transform=transforms.ToTensor())  \n",
    "mnist_test = datasets.MNIST(root=\"./data\", train=False, download=True)#, transform=transforms.ToTensor())  \n",
    "\n",
    "# Check dataset length  \n",
    "print(len(mnist_train), len(mnist_test)) "
   ]
  },
  {
   "cell_type": "code",
   "execution_count": 7,
   "id": "85abab33",
   "metadata": {
    "ExecuteTime": {
     "end_time": "2025-03-15T15:01:40.900779Z",
     "start_time": "2025-03-15T15:01:20.110805Z"
    }
   },
   "outputs": [],
   "source": [
    "from tensorflow.keras.datasets import mnist  \n",
    "\n",
    "# Load MNIST dataset  \n",
    "(x_train, y_train), (x_test, y_test) = mnist.load_data() "
   ]
  },
  {
   "cell_type": "code",
   "execution_count": 8,
   "id": "61e4422e",
   "metadata": {
    "ExecuteTime": {
     "end_time": "2025-03-15T15:01:41.193682Z",
     "start_time": "2025-03-15T15:01:40.959442Z"
    }
   },
   "outputs": [
    {
     "data": {
      "text/plain": [
       "(47040000,)"
      ]
     },
     "execution_count": 8,
     "metadata": {},
     "output_type": "execute_result"
    }
   ],
   "source": [
    "x_train.flatten().shape"
   ]
  },
  {
   "cell_type": "code",
   "execution_count": 9,
   "id": "0c7d3b83",
   "metadata": {
    "ExecuteTime": {
     "end_time": "2025-03-15T15:01:41.233722Z",
     "start_time": "2025-03-15T15:01:41.208930Z"
    }
   },
   "outputs": [
    {
     "data": {
      "text/plain": [
       "(28, 28)"
      ]
     },
     "execution_count": 9,
     "metadata": {},
     "output_type": "execute_result"
    }
   ],
   "source": [
    "x_train[0].shape"
   ]
  },
  {
   "cell_type": "code",
   "execution_count": 10,
   "id": "863552ee",
   "metadata": {
    "ExecuteTime": {
     "end_time": "2025-03-15T15:01:41.279176Z",
     "start_time": "2025-03-15T15:01:41.256472Z"
    }
   },
   "outputs": [],
   "source": [
    "x_train = x_train.reshape((60000, 784)).transpose()\n",
    "x_test = x_test.reshape((10000, 784)).transpose()"
   ]
  },
  {
   "cell_type": "code",
   "execution_count": 11,
   "id": "b6352724",
   "metadata": {
    "ExecuteTime": {
     "end_time": "2025-03-15T15:01:41.318969Z",
     "start_time": "2025-03-15T15:01:41.288793Z"
    }
   },
   "outputs": [
    {
     "data": {
      "text/plain": [
       "(784,)"
      ]
     },
     "execution_count": 11,
     "metadata": {},
     "output_type": "execute_result"
    }
   ],
   "source": [
    "#Now each column is a 28x28 image\n",
    "x_train[:,0].shape"
   ]
  },
  {
   "cell_type": "code",
   "execution_count": 70,
   "id": "7b8c0cab",
   "metadata": {
    "ExecuteTime": {
     "end_time": "2025-03-15T15:51:37.443483Z",
     "start_time": "2025-03-15T15:51:37.425598Z"
    }
   },
   "outputs": [],
   "source": [
    "def initialzing_params():\n",
    "    W1 = np.random.rand(10, 784) - 0.5\n",
    "    b1 = np.random.rand(10, 1) - 0.5\n",
    "    \n",
    "    W2 = np.random.rand(10, 10) - 0.5\n",
    "    b2 = np.random.rand(10, 1) - 0.5\n",
    "    \n",
    "    return W1, b1, W2, b2\n",
    "\n",
    "def ReLU(Z):\n",
    "    return np.maximum(0, Z)\n",
    "\n",
    "def softmax(Z2):\n",
    "    return np.exp(Z2) / np.sum(np.exp(Z2))\n",
    "    \n",
    "def f_prop(W1, b1, W2, b2, X):\n",
    "    Z1 = W1.dot(X) + b1\n",
    "    A1 = ReLU(Z1)\n",
    "    \n",
    "    Z2 = W2.dot(A1) + b2\n",
    "    A2 = softmax(Z2)\n",
    "    \n",
    "    return Z1, A1, Z2, A2\n",
    "\n",
    "def one_hot(Y):\n",
    "    one_hot_Y = np.zeros((Y.size, Y.max() + 1))\n",
    "    one_hot_Y[np.arange(Y.size), Y] = 1\n",
    "    one_hot_Y = one_hot_Y.T\n",
    "    return one_hot_Y\n",
    "\n",
    "def b_prop(Z1, A1, Z2, A2, W1, W2, Y):\n",
    "    m = Y.size\n",
    "    deriv_ReLU = Z1>0\n",
    "    one_hot_y = one_hot(Y)\n",
    "    \n",
    "    one_hot_Y = one_hot(Y)\n",
    "    dZ2 = A2 - one_hot_Y\n",
    "    dW2 = 1 / m * dZ2.dot(A1.T)\n",
    "    db2 = 1 / m * np.sum(dZ2)\n",
    "    dZ1 = W2.T.dot(dZ2) * deriv_ReLU\n",
    "    dW1 = 1 / m * dZ1.dot(A1.T)\n",
    "    db1 = 1 / m * np.sum(dZ1)\n",
    "    return dW1, db1, dW2, db2\n",
    "\n",
    "def update_params(W1, b1, W2, b2, dW1, db1, dW2, db2, alpha):\n",
    "    W1 = W1 - alpha*dW1\n",
    "    b1 = b1 - alpha*db1\n",
    "    \n",
    "    W2 = W2 - alpha*dW2\n",
    "    b2 = b2 - alpha*db2\n",
    "    \n",
    "    return W1, b1, W2, b2 \n",
    "    "
   ]
  },
  {
   "cell_type": "code",
   "execution_count": 75,
   "id": "a120d9cb",
   "metadata": {
    "ExecuteTime": {
     "end_time": "2025-03-15T16:02:09.765343Z",
     "start_time": "2025-03-15T16:02:09.749599Z"
    }
   },
   "outputs": [],
   "source": [
    "def predict(A2):\n",
    "    return np.argmax(A2, 0)\n",
    "\n",
    "def get_accuracy(preds, Y):\n",
    "    print(preds, Y)\n",
    "    return np.sum(preds==Y)/ Y.size"
   ]
  },
  {
   "cell_type": "code",
   "execution_count": 76,
   "id": "f517d44f",
   "metadata": {
    "ExecuteTime": {
     "end_time": "2025-03-15T16:02:10.096608Z",
     "start_time": "2025-03-15T16:02:10.066271Z"
    }
   },
   "outputs": [],
   "source": [
    "def gradient_descent(X, Y, iterations, alpha = 0.01):\n",
    "    W1, b1, W2, b2 = initialzing_params()\n",
    "    \n",
    "    for i in range(iterations):\n",
    "        Z1, A1, Z2, A2 = f_prop(W1, b1, W2, b2, X)\n",
    "        dW1, db1, dW2, db2 = b_prop(Z1, A1, Z2, A2, W1, W2, Y)\n",
    "        W1, b1, W2, b2 = update_params(W1, b1, W2, b2, dW1, db1, dW2, db2, alpha)\n",
    "        \n",
    "        if i%10 == 0:\n",
    "            print(f'Iteration: {i}')\n",
    "            accuracy = get_accuracy(predict(A2), Y)\n",
    "            print(f'Accuracy: {accuracy}')\n",
    "            \n",
    "    return W1, b1, W2, b2, accuracy"
   ]
  },
  {
   "cell_type": "code",
   "execution_count": 77,
   "id": "cb78bf99",
   "metadata": {
    "ExecuteTime": {
     "end_time": "2025-03-15T16:02:13.691104Z",
     "start_time": "2025-03-15T16:02:11.974079Z"
    }
   },
   "outputs": [
    {
     "name": "stderr",
     "output_type": "stream",
     "text": [
      "C:\\Users\\HP 15\\AppData\\Local\\Temp\\ipykernel_13832\\3962810796.py:12: RuntimeWarning: overflow encountered in exp\n",
      "  A = np.exp(Z) / sum(np.exp(Z))\n",
      "C:\\Users\\HP 15\\AppData\\Local\\Temp\\ipykernel_13832\\3962810796.py:12: RuntimeWarning: invalid value encountered in true_divide\n",
      "  A = np.exp(Z) / sum(np.exp(Z))\n"
     ]
    },
    {
     "ename": "ValueError",
     "evalue": "operands could not be broadcast together with shapes (10,784) (10,10) ",
     "output_type": "error",
     "traceback": [
      "\u001b[1;31m---------------------------------------------------------------------------\u001b[0m",
      "\u001b[1;31mValueError\u001b[0m                                Traceback (most recent call last)",
      "\u001b[1;32m~\\AppData\\Local\\Temp\\ipykernel_13832\\505079580.py\u001b[0m in \u001b[0;36m<module>\u001b[1;34m\u001b[0m\n\u001b[1;32m----> 1\u001b[1;33m \u001b[0mW1\u001b[0m\u001b[1;33m,\u001b[0m \u001b[0mb1\u001b[0m\u001b[1;33m,\u001b[0m \u001b[0mW2\u001b[0m\u001b[1;33m,\u001b[0m \u001b[0mb2\u001b[0m\u001b[1;33m,\u001b[0m \u001b[0maccuracy\u001b[0m \u001b[1;33m=\u001b[0m \u001b[0mgradient_descent\u001b[0m\u001b[1;33m(\u001b[0m\u001b[0mx_train\u001b[0m\u001b[1;33m,\u001b[0m \u001b[0my_train\u001b[0m\u001b[1;33m,\u001b[0m \u001b[1;36m100\u001b[0m\u001b[1;33m)\u001b[0m\u001b[1;33m\u001b[0m\u001b[1;33m\u001b[0m\u001b[0m\n\u001b[0m",
      "\u001b[1;32m~\\AppData\\Local\\Temp\\ipykernel_13832\\997591748.py\u001b[0m in \u001b[0;36mgradient_descent\u001b[1;34m(X, Y, iterations, alpha)\u001b[0m\n\u001b[0;32m      5\u001b[0m         \u001b[0mZ1\u001b[0m\u001b[1;33m,\u001b[0m \u001b[0mA1\u001b[0m\u001b[1;33m,\u001b[0m \u001b[0mZ2\u001b[0m\u001b[1;33m,\u001b[0m \u001b[0mA2\u001b[0m \u001b[1;33m=\u001b[0m \u001b[0mf_prop\u001b[0m\u001b[1;33m(\u001b[0m\u001b[0mW1\u001b[0m\u001b[1;33m,\u001b[0m \u001b[0mb1\u001b[0m\u001b[1;33m,\u001b[0m \u001b[0mW2\u001b[0m\u001b[1;33m,\u001b[0m \u001b[0mb2\u001b[0m\u001b[1;33m,\u001b[0m \u001b[0mX\u001b[0m\u001b[1;33m)\u001b[0m\u001b[1;33m\u001b[0m\u001b[1;33m\u001b[0m\u001b[0m\n\u001b[0;32m      6\u001b[0m         \u001b[0mdW1\u001b[0m\u001b[1;33m,\u001b[0m \u001b[0mdb1\u001b[0m\u001b[1;33m,\u001b[0m \u001b[0mdW2\u001b[0m\u001b[1;33m,\u001b[0m \u001b[0mdb2\u001b[0m \u001b[1;33m=\u001b[0m \u001b[0mb_prop\u001b[0m\u001b[1;33m(\u001b[0m\u001b[0mZ1\u001b[0m\u001b[1;33m,\u001b[0m \u001b[0mA1\u001b[0m\u001b[1;33m,\u001b[0m \u001b[0mZ2\u001b[0m\u001b[1;33m,\u001b[0m \u001b[0mA2\u001b[0m\u001b[1;33m,\u001b[0m \u001b[0mW1\u001b[0m\u001b[1;33m,\u001b[0m \u001b[0mW2\u001b[0m\u001b[1;33m,\u001b[0m \u001b[0mY\u001b[0m\u001b[1;33m)\u001b[0m\u001b[1;33m\u001b[0m\u001b[1;33m\u001b[0m\u001b[0m\n\u001b[1;32m----> 7\u001b[1;33m         \u001b[0mW1\u001b[0m\u001b[1;33m,\u001b[0m \u001b[0mb1\u001b[0m\u001b[1;33m,\u001b[0m \u001b[0mW2\u001b[0m\u001b[1;33m,\u001b[0m \u001b[0mb2\u001b[0m \u001b[1;33m=\u001b[0m \u001b[0mupdate_params\u001b[0m\u001b[1;33m(\u001b[0m\u001b[0mW1\u001b[0m\u001b[1;33m,\u001b[0m \u001b[0mb1\u001b[0m\u001b[1;33m,\u001b[0m \u001b[0mW2\u001b[0m\u001b[1;33m,\u001b[0m \u001b[0mb2\u001b[0m\u001b[1;33m,\u001b[0m \u001b[0mdW1\u001b[0m\u001b[1;33m,\u001b[0m \u001b[0mdb1\u001b[0m\u001b[1;33m,\u001b[0m \u001b[0mdW2\u001b[0m\u001b[1;33m,\u001b[0m \u001b[0mdb2\u001b[0m\u001b[1;33m,\u001b[0m \u001b[0malpha\u001b[0m\u001b[1;33m)\u001b[0m\u001b[1;33m\u001b[0m\u001b[1;33m\u001b[0m\u001b[0m\n\u001b[0m\u001b[0;32m      8\u001b[0m \u001b[1;33m\u001b[0m\u001b[0m\n\u001b[0;32m      9\u001b[0m         \u001b[1;32mif\u001b[0m \u001b[0mi\u001b[0m\u001b[1;33m%\u001b[0m\u001b[1;36m10\u001b[0m \u001b[1;33m==\u001b[0m \u001b[1;36m0\u001b[0m\u001b[1;33m:\u001b[0m\u001b[1;33m\u001b[0m\u001b[1;33m\u001b[0m\u001b[0m\n",
      "\u001b[1;32m~\\AppData\\Local\\Temp\\ipykernel_13832\\3962810796.py\u001b[0m in \u001b[0;36mupdate_params\u001b[1;34m(W1, b1, W2, b2, dW1, db1, dW2, db2, alpha)\u001b[0m\n\u001b[0;32m     40\u001b[0m \u001b[1;33m\u001b[0m\u001b[0m\n\u001b[0;32m     41\u001b[0m \u001b[1;32mdef\u001b[0m \u001b[0mupdate_params\u001b[0m\u001b[1;33m(\u001b[0m\u001b[0mW1\u001b[0m\u001b[1;33m,\u001b[0m \u001b[0mb1\u001b[0m\u001b[1;33m,\u001b[0m \u001b[0mW2\u001b[0m\u001b[1;33m,\u001b[0m \u001b[0mb2\u001b[0m\u001b[1;33m,\u001b[0m \u001b[0mdW1\u001b[0m\u001b[1;33m,\u001b[0m \u001b[0mdb1\u001b[0m\u001b[1;33m,\u001b[0m \u001b[0mdW2\u001b[0m\u001b[1;33m,\u001b[0m \u001b[0mdb2\u001b[0m\u001b[1;33m,\u001b[0m \u001b[0malpha\u001b[0m\u001b[1;33m)\u001b[0m\u001b[1;33m:\u001b[0m\u001b[1;33m\u001b[0m\u001b[1;33m\u001b[0m\u001b[0m\n\u001b[1;32m---> 42\u001b[1;33m     \u001b[0mW1\u001b[0m \u001b[1;33m=\u001b[0m \u001b[0mW1\u001b[0m \u001b[1;33m-\u001b[0m \u001b[0malpha\u001b[0m \u001b[1;33m*\u001b[0m \u001b[0mdW1\u001b[0m\u001b[1;33m\u001b[0m\u001b[1;33m\u001b[0m\u001b[0m\n\u001b[0m\u001b[0;32m     43\u001b[0m     \u001b[0mb1\u001b[0m \u001b[1;33m=\u001b[0m \u001b[0mb1\u001b[0m \u001b[1;33m-\u001b[0m \u001b[0malpha\u001b[0m \u001b[1;33m*\u001b[0m \u001b[0mdb1\u001b[0m\u001b[1;33m\u001b[0m\u001b[1;33m\u001b[0m\u001b[0m\n\u001b[0;32m     44\u001b[0m     \u001b[0mW2\u001b[0m \u001b[1;33m=\u001b[0m \u001b[0mW2\u001b[0m \u001b[1;33m-\u001b[0m \u001b[0malpha\u001b[0m \u001b[1;33m*\u001b[0m \u001b[0mdW2\u001b[0m\u001b[1;33m\u001b[0m\u001b[1;33m\u001b[0m\u001b[0m\n",
      "\u001b[1;31mValueError\u001b[0m: operands could not be broadcast together with shapes (10,784) (10,10) "
     ]
    }
   ],
   "source": [
    "W1, b1, W2, b2, accuracy = gradient_descent(x_train, y_train, 100)"
   ]
  },
  {
   "cell_type": "code",
   "execution_count": null,
   "id": "1ccd6fe3",
   "metadata": {},
   "outputs": [],
   "source": []
  }
 ],
 "metadata": {
  "kernelspec": {
   "display_name": "Python 3 (ipykernel)",
   "language": "python",
   "name": "python3"
  },
  "language_info": {
   "codemirror_mode": {
    "name": "ipython",
    "version": 3
   },
   "file_extension": ".py",
   "mimetype": "text/x-python",
   "name": "python",
   "nbconvert_exporter": "python",
   "pygments_lexer": "ipython3",
   "version": "3.9.6"
  }
 },
 "nbformat": 4,
 "nbformat_minor": 5
}
