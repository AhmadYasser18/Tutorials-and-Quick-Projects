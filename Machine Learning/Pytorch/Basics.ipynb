{
 "cells": [
  {
   "cell_type": "code",
   "execution_count": 35,
   "id": "18730866",
   "metadata": {
    "ExecuteTime": {
     "end_time": "2025-03-06T21:18:15.741459Z",
     "start_time": "2025-03-06T21:18:15.724820Z"
    }
   },
   "outputs": [],
   "source": [
    "import torch\n",
    "import numpy as np"
   ]
  },
  {
   "cell_type": "markdown",
   "id": "57a0655b",
   "metadata": {},
   "source": [
    "A tensor contains elements of a single data type.  \n",
    "When dealing with real numbers, the tensor type could either be a float tensor or a double tensor."
   ]
  },
  {
   "cell_type": "markdown",
   "id": "38d46ca9",
   "metadata": {},
   "source": [
    "When dealing with unsigned integers that are used in 8 bit images, the tensor type is a byte tensor."
   ]
  },
  {
   "cell_type": "code",
   "execution_count": 3,
   "id": "345c5421",
   "metadata": {
    "ExecuteTime": {
     "end_time": "2025-03-06T21:02:17.534350Z",
     "start_time": "2025-03-06T21:02:17.490158Z"
    }
   },
   "outputs": [
    {
     "data": {
      "text/plain": [
       "torch.int64"
      ]
     },
     "execution_count": 3,
     "metadata": {},
     "output_type": "execute_result"
    }
   ],
   "source": [
    "a0 = torch.tensor([0, 1, 3, 4])\n",
    "a0.dtype"
   ]
  },
  {
   "cell_type": "code",
   "execution_count": 4,
   "id": "1a4371f4",
   "metadata": {
    "ExecuteTime": {
     "end_time": "2025-03-06T21:02:18.050913Z",
     "start_time": "2025-03-06T21:02:17.999695Z"
    }
   },
   "outputs": [
    {
     "data": {
      "text/plain": [
       "tensor(0)"
      ]
     },
     "execution_count": 4,
     "metadata": {},
     "output_type": "execute_result"
    }
   ],
   "source": [
    "a0[0]"
   ]
  },
  {
   "cell_type": "code",
   "execution_count": 12,
   "id": "ec6ff333",
   "metadata": {
    "ExecuteTime": {
     "end_time": "2025-03-06T21:04:40.880426Z",
     "start_time": "2025-03-06T21:04:40.870427Z"
    }
   },
   "outputs": [
    {
     "data": {
      "text/plain": [
       "(torch.int32, 'torch.IntTensor')"
      ]
     },
     "execution_count": 12,
     "metadata": {},
     "output_type": "execute_result"
    }
   ],
   "source": [
    "#to set type\n",
    "a1 = torch.tensor([0, 1, 3, 4], dtype=torch.int32)\n",
    "a1.dtype, a1.type() "
   ]
  },
  {
   "cell_type": "code",
   "execution_count": 11,
   "id": "fe9276dc",
   "metadata": {
    "ExecuteTime": {
     "end_time": "2025-03-06T21:04:11.302843Z",
     "start_time": "2025-03-06T21:04:11.290703Z"
    }
   },
   "outputs": [
    {
     "data": {
      "text/plain": [
       "'torch.FloatTensor'"
      ]
     },
     "execution_count": 11,
     "metadata": {},
     "output_type": "execute_result"
    }
   ],
   "source": [
    "a2 = torch.tensor([0, 1, 3, 4], dtype=torch.float32)\n",
    "a2.type()"
   ]
  },
  {
   "cell_type": "code",
   "execution_count": 7,
   "id": "e3ef52d1",
   "metadata": {
    "ExecuteTime": {
     "end_time": "2025-03-06T21:02:29.528162Z",
     "start_time": "2025-03-06T21:02:29.440480Z"
    }
   },
   "outputs": [
    {
     "data": {
      "text/plain": [
       "tensor([0., 1., 3., 4.])"
      ]
     },
     "execution_count": 7,
     "metadata": {},
     "output_type": "execute_result"
    }
   ],
   "source": [
    "a2"
   ]
  },
  {
   "cell_type": "code",
   "execution_count": 8,
   "id": "3982960e",
   "metadata": {
    "ExecuteTime": {
     "end_time": "2025-03-06T21:03:19.514379Z",
     "start_time": "2025-03-06T21:03:19.502163Z"
    }
   },
   "outputs": [
    {
     "data": {
      "text/plain": [
       "torch.float32"
      ]
     },
     "execution_count": 8,
     "metadata": {},
     "output_type": "execute_result"
    }
   ],
   "source": [
    "a2_2 = torch.FloatTensor([0,1,2,3])\n",
    "a2_2.dtype"
   ]
  },
  {
   "cell_type": "code",
   "execution_count": 9,
   "id": "ea28ecb1",
   "metadata": {
    "ExecuteTime": {
     "end_time": "2025-03-06T21:03:23.611576Z",
     "start_time": "2025-03-06T21:03:23.599540Z"
    }
   },
   "outputs": [
    {
     "data": {
      "text/plain": [
       "tensor([0., 1., 2., 3.])"
      ]
     },
     "execution_count": 9,
     "metadata": {},
     "output_type": "execute_result"
    }
   ],
   "source": [
    "a2_2"
   ]
  },
  {
   "cell_type": "code",
   "execution_count": 13,
   "id": "4a668e47",
   "metadata": {
    "ExecuteTime": {
     "end_time": "2025-03-06T21:06:12.552994Z",
     "start_time": "2025-03-06T21:06:12.532615Z"
    }
   },
   "outputs": [
    {
     "data": {
      "text/plain": [
       "'torch.IntTensor'"
      ]
     },
     "execution_count": 13,
     "metadata": {},
     "output_type": "execute_result"
    }
   ],
   "source": [
    "a1.type()"
   ]
  },
  {
   "cell_type": "code",
   "execution_count": 14,
   "id": "2e2276e3",
   "metadata": {
    "ExecuteTime": {
     "end_time": "2025-03-06T21:06:40.784217Z",
     "start_time": "2025-03-06T21:06:40.774950Z"
    }
   },
   "outputs": [],
   "source": [
    "a1 = a1.type(torch.FloatTensor)"
   ]
  },
  {
   "cell_type": "code",
   "execution_count": 15,
   "id": "5ce31d5e",
   "metadata": {
    "ExecuteTime": {
     "end_time": "2025-03-06T21:06:49.298346Z",
     "start_time": "2025-03-06T21:06:49.276234Z"
    }
   },
   "outputs": [
    {
     "data": {
      "text/plain": [
       "torch.float32"
      ]
     },
     "execution_count": 15,
     "metadata": {},
     "output_type": "execute_result"
    }
   ],
   "source": [
    "a1.dtype"
   ]
  },
  {
   "cell_type": "code",
   "execution_count": 16,
   "id": "db0782cf",
   "metadata": {
    "ExecuteTime": {
     "end_time": "2025-03-06T21:07:16.492831Z",
     "start_time": "2025-03-06T21:07:16.480838Z"
    }
   },
   "outputs": [
    {
     "data": {
      "text/plain": [
       "torch.Size([4])"
      ]
     },
     "execution_count": 16,
     "metadata": {},
     "output_type": "execute_result"
    }
   ],
   "source": [
    "a1.size()"
   ]
  },
  {
   "cell_type": "code",
   "execution_count": 17,
   "id": "e519a54b",
   "metadata": {
    "ExecuteTime": {
     "end_time": "2025-03-06T21:07:45.057877Z",
     "start_time": "2025-03-06T21:07:45.043884Z"
    }
   },
   "outputs": [
    {
     "data": {
      "text/plain": [
       "1"
      ]
     },
     "execution_count": 17,
     "metadata": {},
     "output_type": "execute_result"
    }
   ],
   "source": [
    "#Rank or dimension\n",
    "a1.ndimension()"
   ]
  },
  {
   "cell_type": "code",
   "execution_count": 19,
   "id": "59c711a0",
   "metadata": {
    "ExecuteTime": {
     "end_time": "2025-03-06T21:08:53.025400Z",
     "start_time": "2025-03-06T21:08:53.010394Z"
    }
   },
   "outputs": [
    {
     "data": {
      "text/plain": [
       "(torch.Size([2, 2]), 2)"
      ]
     },
     "execution_count": 19,
     "metadata": {},
     "output_type": "execute_result"
    }
   ],
   "source": [
    "a11 = torch.Tensor([[1,2],[3,4]])\n",
    "\n",
    "a11.size(), a11.ndimension()"
   ]
  },
  {
   "cell_type": "markdown",
   "id": "597f4113",
   "metadata": {},
   "source": [
    "**Converting 1d to 2d**"
   ]
  },
  {
   "cell_type": "code",
   "execution_count": 20,
   "id": "0728f812",
   "metadata": {
    "ExecuteTime": {
     "end_time": "2025-03-06T21:10:26.237571Z",
     "start_time": "2025-03-06T21:10:26.211726Z"
    }
   },
   "outputs": [
    {
     "data": {
      "text/plain": [
       "tensor([[0.],\n",
       "        [1.],\n",
       "        [3.],\n",
       "        [4.]])"
      ]
     },
     "execution_count": 20,
     "metadata": {},
     "output_type": "execute_result"
    }
   ],
   "source": [
    "a1_col = a1.view(4,1)\n",
    "a1_col"
   ]
  },
  {
   "cell_type": "code",
   "execution_count": 23,
   "id": "168a32dd",
   "metadata": {
    "ExecuteTime": {
     "end_time": "2025-03-06T21:10:44.183315Z",
     "start_time": "2025-03-06T21:10:44.167398Z"
    }
   },
   "outputs": [
    {
     "data": {
      "text/plain": [
       "2"
      ]
     },
     "execution_count": 23,
     "metadata": {},
     "output_type": "execute_result"
    }
   ],
   "source": [
    "a1_col.ndim"
   ]
  },
  {
   "cell_type": "code",
   "execution_count": 25,
   "id": "1f066490",
   "metadata": {
    "ExecuteTime": {
     "end_time": "2025-03-06T21:11:02.647057Z",
     "start_time": "2025-03-06T21:11:02.629509Z"
    }
   },
   "outputs": [
    {
     "data": {
      "text/plain": [
       "torch.Size([4, 1])"
      ]
     },
     "execution_count": 25,
     "metadata": {},
     "output_type": "execute_result"
    }
   ],
   "source": [
    "a1_col.size()"
   ]
  },
  {
   "cell_type": "code",
   "execution_count": 26,
   "id": "715862ef",
   "metadata": {
    "ExecuteTime": {
     "end_time": "2025-03-06T21:12:57.218425Z",
     "start_time": "2025-03-06T21:12:57.196250Z"
    }
   },
   "outputs": [
    {
     "data": {
      "text/plain": [
       "tensor([[0.],\n",
       "        [1.],\n",
       "        [3.],\n",
       "        [4.]])"
      ]
     },
     "execution_count": 26,
     "metadata": {},
     "output_type": "execute_result"
    }
   ],
   "source": [
    "#if num of elements is unknown\n",
    "a1.view(-1,1) #-1 --> num of elements as rows, 1 column"
   ]
  },
  {
   "cell_type": "code",
   "execution_count": 34,
   "id": "a2108cde",
   "metadata": {
    "ExecuteTime": {
     "end_time": "2025-03-06T21:14:06.077882Z",
     "start_time": "2025-03-06T21:14:06.065234Z"
    }
   },
   "outputs": [
    {
     "data": {
      "text/plain": [
       "tensor([[[0.]],\n",
       "\n",
       "        [[1.]],\n",
       "\n",
       "        [[3.]],\n",
       "\n",
       "        [[4.]]])"
      ]
     },
     "execution_count": 34,
     "metadata": {},
     "output_type": "execute_result"
    }
   ],
   "source": [
    "a1.view(-1,1,1)"
   ]
  },
  {
   "cell_type": "markdown",
   "id": "1c4f0f11",
   "metadata": {},
   "source": [
    "**From - to numpy array**"
   ]
  },
  {
   "cell_type": "code",
   "execution_count": 46,
   "id": "e5abc1e0",
   "metadata": {
    "ExecuteTime": {
     "end_time": "2025-03-06T21:21:32.229763Z",
     "start_time": "2025-03-06T21:21:32.216086Z"
    }
   },
   "outputs": [
    {
     "data": {
      "text/plain": [
       "array([0, 1, 2, 3])"
      ]
     },
     "execution_count": 46,
     "metadata": {},
     "output_type": "execute_result"
    }
   ],
   "source": [
    "arr = np.array([0,1,2,3])\n",
    "arr"
   ]
  },
  {
   "cell_type": "code",
   "execution_count": 47,
   "id": "fceda54d",
   "metadata": {
    "ExecuteTime": {
     "end_time": "2025-03-06T21:21:32.621337Z",
     "start_time": "2025-03-06T21:21:32.604754Z"
    }
   },
   "outputs": [
    {
     "data": {
      "text/plain": [
       "tensor([0, 1, 2, 3], dtype=torch.int32)"
      ]
     },
     "execution_count": 47,
     "metadata": {},
     "output_type": "execute_result"
    }
   ],
   "source": [
    "tensor_arr = torch.from_numpy(arr)\n",
    "tensor_arr"
   ]
  },
  {
   "cell_type": "code",
   "execution_count": 48,
   "id": "cbb9102b",
   "metadata": {
    "ExecuteTime": {
     "end_time": "2025-03-06T21:21:33.005629Z",
     "start_time": "2025-03-06T21:21:32.987330Z"
    }
   },
   "outputs": [
    {
     "data": {
      "text/plain": [
       "array([0, 1, 2, 3])"
      ]
     },
     "execution_count": 48,
     "metadata": {},
     "output_type": "execute_result"
    }
   ],
   "source": [
    "back_numpy = tensor_arr.numpy()\n",
    "back_numpy"
   ]
  },
  {
   "cell_type": "code",
   "execution_count": 49,
   "id": "8db70e20",
   "metadata": {
    "ExecuteTime": {
     "end_time": "2025-03-06T21:21:33.520519Z",
     "start_time": "2025-03-06T21:21:33.501008Z"
    }
   },
   "outputs": [
    {
     "data": {
      "text/plain": [
       "2"
      ]
     },
     "execution_count": 49,
     "metadata": {},
     "output_type": "execute_result"
    }
   ],
   "source": [
    "back_numpy[2]"
   ]
  },
  {
   "cell_type": "code",
   "execution_count": 50,
   "id": "828c80c6",
   "metadata": {
    "ExecuteTime": {
     "end_time": "2025-03-06T21:21:36.169423Z",
     "start_time": "2025-03-06T21:21:36.152309Z"
    }
   },
   "outputs": [],
   "source": [
    "arr[2]= 10"
   ]
  },
  {
   "cell_type": "code",
   "execution_count": 51,
   "id": "6ac85196",
   "metadata": {
    "ExecuteTime": {
     "end_time": "2025-03-06T21:21:36.669340Z",
     "start_time": "2025-03-06T21:21:36.647867Z"
    }
   },
   "outputs": [
    {
     "data": {
      "text/plain": [
       "tensor(10, dtype=torch.int32)"
      ]
     },
     "execution_count": 51,
     "metadata": {},
     "output_type": "execute_result"
    }
   ],
   "source": [
    "tensor_arr[2]"
   ]
  },
  {
   "cell_type": "code",
   "execution_count": 52,
   "id": "95aaa231",
   "metadata": {
    "ExecuteTime": {
     "end_time": "2025-03-06T21:21:37.104020Z",
     "start_time": "2025-03-06T21:21:37.087411Z"
    }
   },
   "outputs": [
    {
     "data": {
      "text/plain": [
       "10"
      ]
     },
     "execution_count": 52,
     "metadata": {},
     "output_type": "execute_result"
    }
   ],
   "source": [
    "back_numpy[2]"
   ]
  },
  {
   "cell_type": "code",
   "execution_count": null,
   "id": "b2ec79ac",
   "metadata": {},
   "outputs": [],
   "source": [
    "tensor_df = torch.from_numpy(series.values)"
   ]
  },
  {
   "cell_type": "code",
   "execution_count": 53,
   "id": "9ca9dfe8",
   "metadata": {
    "ExecuteTime": {
     "end_time": "2025-03-06T21:23:42.138328Z",
     "start_time": "2025-03-06T21:23:42.125970Z"
    }
   },
   "outputs": [
    {
     "data": {
      "text/plain": [
       "[0, 1, 10, 3]"
      ]
     },
     "execution_count": 53,
     "metadata": {},
     "output_type": "execute_result"
    }
   ],
   "source": [
    "list_tensor = tensor_arr.tolist()\n",
    "list_tensor"
   ]
  },
  {
   "cell_type": "code",
   "execution_count": 54,
   "id": "59df9054",
   "metadata": {
    "ExecuteTime": {
     "end_time": "2025-03-06T21:24:05.300502Z",
     "start_time": "2025-03-06T21:24:05.279545Z"
    }
   },
   "outputs": [
    {
     "data": {
      "text/plain": [
       "tensor([ 0,  1, 10,  3], dtype=torch.int32)"
      ]
     },
     "execution_count": 54,
     "metadata": {},
     "output_type": "execute_result"
    }
   ],
   "source": [
    "list_tensor[1]=45\n",
    "tensor_arr"
   ]
  },
  {
   "cell_type": "code",
   "execution_count": 55,
   "id": "33b0af9e",
   "metadata": {
    "ExecuteTime": {
     "end_time": "2025-03-06T21:24:27.964883Z",
     "start_time": "2025-03-06T21:24:27.946260Z"
    }
   },
   "outputs": [
    {
     "data": {
      "text/plain": [
       "([0, 45, 10, 3],\n",
       " tensor([ 0,  1, 10,  3], dtype=torch.int32),\n",
       " array([ 0,  1, 10,  3]),\n",
       " array([ 0,  1, 10,  3]))"
      ]
     },
     "execution_count": 55,
     "metadata": {},
     "output_type": "execute_result"
    }
   ],
   "source": [
    "list_tensor, tensor_arr, back_numpy, arr"
   ]
  },
  {
   "cell_type": "code",
   "execution_count": 56,
   "id": "e66b84f6",
   "metadata": {
    "ExecuteTime": {
     "end_time": "2025-03-06T21:24:46.010066Z",
     "start_time": "2025-03-06T21:24:46.002067Z"
    }
   },
   "outputs": [],
   "source": [
    "arr[1]=55"
   ]
  },
  {
   "cell_type": "code",
   "execution_count": 57,
   "id": "77e76317",
   "metadata": {
    "ExecuteTime": {
     "end_time": "2025-03-06T21:24:50.813089Z",
     "start_time": "2025-03-06T21:24:50.799464Z"
    }
   },
   "outputs": [
    {
     "data": {
      "text/plain": [
       "([0, 45, 10, 3],\n",
       " tensor([ 0, 55, 10,  3], dtype=torch.int32),\n",
       " array([ 0, 55, 10,  3]),\n",
       " array([ 0, 55, 10,  3]))"
      ]
     },
     "execution_count": 57,
     "metadata": {},
     "output_type": "execute_result"
    }
   ],
   "source": [
    "list_tensor, tensor_arr, back_numpy, arr"
   ]
  },
  {
   "cell_type": "markdown",
   "id": "4c7eeb94",
   "metadata": {},
   "source": [
    "**Note that individual values of a tensor are also tensors.**"
   ]
  },
  {
   "cell_type": "code",
   "execution_count": 58,
   "id": "8442062f",
   "metadata": {
    "ExecuteTime": {
     "end_time": "2025-03-06T21:25:46.970922Z",
     "start_time": "2025-03-06T21:25:46.960929Z"
    }
   },
   "outputs": [
    {
     "data": {
      "text/plain": [
       "tensor(0, dtype=torch.int32)"
      ]
     },
     "execution_count": 58,
     "metadata": {},
     "output_type": "execute_result"
    }
   ],
   "source": [
    "tensor_arr[0]"
   ]
  },
  {
   "cell_type": "code",
   "execution_count": 59,
   "id": "84fe0394",
   "metadata": {
    "ExecuteTime": {
     "end_time": "2025-03-06T21:26:17.433765Z",
     "start_time": "2025-03-06T21:26:17.422773Z"
    }
   },
   "outputs": [
    {
     "data": {
      "text/plain": [
       "0"
      ]
     },
     "execution_count": 59,
     "metadata": {},
     "output_type": "execute_result"
    }
   ],
   "source": [
    "#to return number\n",
    "tensor_arr[0].item()"
   ]
  },
  {
   "cell_type": "markdown",
   "id": "00fc2668",
   "metadata": {},
   "source": [
    "### Basic Operations"
   ]
  },
  {
   "cell_type": "code",
   "execution_count": 68,
   "id": "c114e3d6",
   "metadata": {
    "ExecuteTime": {
     "end_time": "2025-03-06T21:34:45.104666Z",
     "start_time": "2025-03-06T21:34:45.093023Z"
    }
   },
   "outputs": [],
   "source": [
    "u = torch.tensor([1, 0], dtype=torch.int32)\n",
    "v = torch.tensor([0, 1], dtype=torch.int32)"
   ]
  },
  {
   "cell_type": "code",
   "execution_count": 69,
   "id": "878386b8",
   "metadata": {
    "ExecuteTime": {
     "end_time": "2025-03-06T21:34:45.488284Z",
     "start_time": "2025-03-06T21:34:45.472657Z"
    }
   },
   "outputs": [
    {
     "data": {
      "text/plain": [
       "torch.int32"
      ]
     },
     "execution_count": 69,
     "metadata": {},
     "output_type": "execute_result"
    }
   ],
   "source": [
    "u.dtype"
   ]
  },
  {
   "cell_type": "code",
   "execution_count": 70,
   "id": "84bd5eab",
   "metadata": {
    "ExecuteTime": {
     "end_time": "2025-03-06T21:34:47.002653Z",
     "start_time": "2025-03-06T21:34:46.981522Z"
    }
   },
   "outputs": [
    {
     "data": {
      "text/plain": [
       "tensor([1, 1], dtype=torch.int32)"
      ]
     },
     "execution_count": 70,
     "metadata": {},
     "output_type": "execute_result"
    }
   ],
   "source": [
    "z = u+v\n",
    "z"
   ]
  },
  {
   "cell_type": "code",
   "execution_count": 79,
   "id": "918371f6",
   "metadata": {
    "ExecuteTime": {
     "end_time": "2025-03-06T21:37:31.781772Z",
     "start_time": "2025-03-06T21:37:31.757367Z"
    }
   },
   "outputs": [
    {
     "data": {
      "text/plain": [
       "tensor([2, 1], dtype=torch.int32)"
      ]
     },
     "execution_count": 79,
     "metadata": {},
     "output_type": "execute_result"
    }
   ],
   "source": [
    "u+1"
   ]
  },
  {
   "cell_type": "code",
   "execution_count": 71,
   "id": "49e120d4",
   "metadata": {
    "ExecuteTime": {
     "end_time": "2025-03-06T21:34:57.317902Z",
     "start_time": "2025-03-06T21:34:57.304908Z"
    }
   },
   "outputs": [
    {
     "data": {
      "text/plain": [
       "tensor([0, 0], dtype=torch.int32)"
      ]
     },
     "execution_count": 71,
     "metadata": {},
     "output_type": "execute_result"
    }
   ],
   "source": [
    "u*v"
   ]
  },
  {
   "cell_type": "code",
   "execution_count": 72,
   "id": "ba308571",
   "metadata": {
    "ExecuteTime": {
     "end_time": "2025-03-06T21:35:28.597570Z",
     "start_time": "2025-03-06T21:35:28.579686Z"
    }
   },
   "outputs": [
    {
     "data": {
      "text/plain": [
       "tensor([0, 2], dtype=torch.int32)"
      ]
     },
     "execution_count": 72,
     "metadata": {},
     "output_type": "execute_result"
    }
   ],
   "source": [
    "y= v*2\n",
    "y"
   ]
  },
  {
   "cell_type": "code",
   "execution_count": 74,
   "id": "1bbb4ad6",
   "metadata": {
    "ExecuteTime": {
     "end_time": "2025-03-06T21:36:41.237992Z",
     "start_time": "2025-03-06T21:36:41.214098Z"
    }
   },
   "outputs": [
    {
     "data": {
      "text/plain": [
       "tensor(0, dtype=torch.int32)"
      ]
     },
     "execution_count": 74,
     "metadata": {},
     "output_type": "execute_result"
    }
   ],
   "source": [
    "#for dot product\n",
    "torch.dot(u,v)"
   ]
  },
  {
   "cell_type": "code",
   "execution_count": 80,
   "id": "3628b582",
   "metadata": {
    "ExecuteTime": {
     "end_time": "2025-03-06T21:37:58.096532Z",
     "start_time": "2025-03-06T21:37:57.939816Z"
    }
   },
   "outputs": [
    {
     "ename": "RuntimeError",
     "evalue": "mean(): could not infer output dtype. Input dtype must be either a floating point or complex dtype. Got: Int",
     "output_type": "error",
     "traceback": [
      "\u001b[1;31m---------------------------------------------------------------------------\u001b[0m",
      "\u001b[1;31mRuntimeError\u001b[0m                              Traceback (most recent call last)",
      "\u001b[1;32m~\\AppData\\Local\\Temp\\ipykernel_19000\\1101948879.py\u001b[0m in \u001b[0;36m<module>\u001b[1;34m\u001b[0m\n\u001b[1;32m----> 1\u001b[1;33m \u001b[0mu\u001b[0m\u001b[1;33m.\u001b[0m\u001b[0mmean\u001b[0m\u001b[1;33m(\u001b[0m\u001b[1;33m)\u001b[0m\u001b[1;33m\u001b[0m\u001b[1;33m\u001b[0m\u001b[0m\n\u001b[0m",
      "\u001b[1;31mRuntimeError\u001b[0m: mean(): could not infer output dtype. Input dtype must be either a floating point or complex dtype. Got: Int"
     ]
    }
   ],
   "source": [
    "u.mean()"
   ]
  },
  {
   "cell_type": "code",
   "execution_count": 83,
   "id": "6b3deb86",
   "metadata": {
    "ExecuteTime": {
     "end_time": "2025-03-06T21:38:56.910401Z",
     "start_time": "2025-03-06T21:38:56.870143Z"
    }
   },
   "outputs": [
    {
     "data": {
      "text/plain": [
       "tensor(0.5000)"
      ]
     },
     "execution_count": 83,
     "metadata": {},
     "output_type": "execute_result"
    }
   ],
   "source": [
    "u.type(torch.float32).mean()"
   ]
  },
  {
   "cell_type": "code",
   "execution_count": 84,
   "id": "be28358b",
   "metadata": {
    "ExecuteTime": {
     "end_time": "2025-03-06T21:39:17.438519Z",
     "start_time": "2025-03-06T21:39:17.418784Z"
    }
   },
   "outputs": [
    {
     "data": {
      "text/plain": [
       "tensor(1, dtype=torch.int32)"
      ]
     },
     "execution_count": 84,
     "metadata": {},
     "output_type": "execute_result"
    }
   ],
   "source": [
    "u.max()"
   ]
  },
  {
   "cell_type": "code",
   "execution_count": 85,
   "id": "07bb6c36",
   "metadata": {
    "ExecuteTime": {
     "end_time": "2025-03-06T21:40:31.774555Z",
     "start_time": "2025-03-06T21:40:31.739725Z"
    }
   },
   "outputs": [],
   "source": [
    "x = torch.tensor([0, np.pi/2, np.pi])\n",
    "y= torch.sin(x)"
   ]
  },
  {
   "cell_type": "code",
   "execution_count": 86,
   "id": "cd4be715",
   "metadata": {
    "ExecuteTime": {
     "end_time": "2025-03-06T21:40:33.992031Z",
     "start_time": "2025-03-06T21:40:33.971052Z"
    }
   },
   "outputs": [
    {
     "data": {
      "text/plain": [
       "tensor([0.0000, 1.5708, 3.1416])"
      ]
     },
     "execution_count": 86,
     "metadata": {},
     "output_type": "execute_result"
    }
   ],
   "source": [
    "x"
   ]
  },
  {
   "cell_type": "code",
   "execution_count": 87,
   "id": "fefb9460",
   "metadata": {
    "ExecuteTime": {
     "end_time": "2025-03-06T21:40:36.059931Z",
     "start_time": "2025-03-06T21:40:36.046567Z"
    }
   },
   "outputs": [
    {
     "data": {
      "text/plain": [
       "tensor([ 0.0000e+00,  1.0000e+00, -8.7423e-08])"
      ]
     },
     "execution_count": 87,
     "metadata": {},
     "output_type": "execute_result"
    }
   ],
   "source": [
    "y"
   ]
  },
  {
   "cell_type": "code",
   "execution_count": 92,
   "id": "8cd4607c",
   "metadata": {
    "ExecuteTime": {
     "end_time": "2025-03-06T21:42:05.513649Z",
     "start_time": "2025-03-06T21:42:05.490689Z"
    }
   },
   "outputs": [
    {
     "data": {
      "text/plain": [
       "tensor([ 0,  2,  5,  7, 10], dtype=torch.int32)"
      ]
     },
     "execution_count": 92,
     "metadata": {},
     "output_type": "execute_result"
    }
   ],
   "source": [
    "torch.linspace(0,10, steps = 5, dtype = torch.int)"
   ]
  },
  {
   "cell_type": "code",
   "execution_count": 93,
   "id": "bfd3f0e3",
   "metadata": {
    "ExecuteTime": {
     "end_time": "2025-03-06T21:42:54.890890Z",
     "start_time": "2025-03-06T21:42:54.868616Z"
    }
   },
   "outputs": [
    {
     "data": {
      "text/plain": [
       "tensor([0.0000, 0.6981, 1.3963, 2.0944, 2.7925, 3.4907, 4.1888, 4.8869, 5.5851,\n",
       "        6.2832])"
      ]
     },
     "execution_count": 93,
     "metadata": {},
     "output_type": "execute_result"
    }
   ],
   "source": [
    "torch.linspace(0,2*np.pi, steps = 10,)"
   ]
  },
  {
   "cell_type": "code",
   "execution_count": null,
   "id": "39b111ca",
   "metadata": {},
   "outputs": [],
   "source": []
  }
 ],
 "metadata": {
  "kernelspec": {
   "display_name": "Python 3 (ipykernel)",
   "language": "python",
   "name": "python3"
  },
  "language_info": {
   "codemirror_mode": {
    "name": "ipython",
    "version": 3
   },
   "file_extension": ".py",
   "mimetype": "text/x-python",
   "name": "python",
   "nbconvert_exporter": "python",
   "pygments_lexer": "ipython3",
   "version": "3.9.6"
  }
 },
 "nbformat": 4,
 "nbformat_minor": 5
}
