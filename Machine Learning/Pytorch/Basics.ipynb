{
 "cells": [
  {
   "cell_type": "code",
   "execution_count": 35,
   "id": "18730866",
   "metadata": {
    "ExecuteTime": {
     "end_time": "2025-03-06T21:18:15.741459Z",
     "start_time": "2025-03-06T21:18:15.724820Z"
    }
   },
   "outputs": [],
   "source": [
    "import torch\n",
    "import numpy as np"
   ]
  },
  {
   "cell_type": "markdown",
   "id": "888ee859",
   "metadata": {},
   "source": [
    "A tensor contains elements of a single data type.  \n",
    "When dealing with real numbers, the tensor type could either be a float tensor or a double tensor."
   ]
  },
  {
   "cell_type": "markdown",
   "id": "db3b5228",
   "metadata": {},
   "source": [
    "When dealing with unsigned integers that are used in 8 bit images, the tensor type is a byte tensor."
   ]
  },
  {
   "cell_type": "code",
   "execution_count": 3,
   "id": "345c5421",
   "metadata": {
    "ExecuteTime": {
     "end_time": "2025-03-06T21:02:17.534350Z",
     "start_time": "2025-03-06T21:02:17.490158Z"
    }
   },
   "outputs": [
    {
     "data": {
      "text/plain": [
       "torch.int64"
      ]
     },
     "execution_count": 3,
     "metadata": {},
     "output_type": "execute_result"
    }
   ],
   "source": [
    "a0 = torch.tensor([0, 1, 3, 4])\n",
    "a0.dtype"
   ]
  },
  {
   "cell_type": "code",
   "execution_count": 4,
   "id": "1a4371f4",
   "metadata": {
    "ExecuteTime": {
     "end_time": "2025-03-06T21:02:18.050913Z",
     "start_time": "2025-03-06T21:02:17.999695Z"
    }
   },
   "outputs": [
    {
     "data": {
      "text/plain": [
       "tensor(0)"
      ]
     },
     "execution_count": 4,
     "metadata": {},
     "output_type": "execute_result"
    }
   ],
   "source": [
    "a0[0]"
   ]
  },
  {
   "cell_type": "code",
   "execution_count": 12,
   "id": "ec6ff333",
   "metadata": {
    "ExecuteTime": {
     "end_time": "2025-03-06T21:04:40.880426Z",
     "start_time": "2025-03-06T21:04:40.870427Z"
    }
   },
   "outputs": [
    {
     "data": {
      "text/plain": [
       "(torch.int32, 'torch.IntTensor')"
      ]
     },
     "execution_count": 12,
     "metadata": {},
     "output_type": "execute_result"
    }
   ],
   "source": [
    "#to set type\n",
    "a1 = torch.tensor([0, 1, 3, 4], dtype=torch.int32)\n",
    "a1.dtype, a1.type() "
   ]
  },
  {
   "cell_type": "code",
   "execution_count": 11,
   "id": "cbbf6d98",
   "metadata": {
    "ExecuteTime": {
     "end_time": "2025-03-06T21:04:11.302843Z",
     "start_time": "2025-03-06T21:04:11.290703Z"
    }
   },
   "outputs": [
    {
     "data": {
      "text/plain": [
       "'torch.FloatTensor'"
      ]
     },
     "execution_count": 11,
     "metadata": {},
     "output_type": "execute_result"
    }
   ],
   "source": [
    "a2 = torch.tensor([0, 1, 3, 4], dtype=torch.float32)\n",
    "a2.type()"
   ]
  },
  {
   "cell_type": "code",
   "execution_count": 7,
   "id": "94604f53",
   "metadata": {
    "ExecuteTime": {
     "end_time": "2025-03-06T21:02:29.528162Z",
     "start_time": "2025-03-06T21:02:29.440480Z"
    }
   },
   "outputs": [
    {
     "data": {
      "text/plain": [
       "tensor([0., 1., 3., 4.])"
      ]
     },
     "execution_count": 7,
     "metadata": {},
     "output_type": "execute_result"
    }
   ],
   "source": [
    "a2"
   ]
  },
  {
   "cell_type": "code",
   "execution_count": 8,
   "id": "072e7def",
   "metadata": {
    "ExecuteTime": {
     "end_time": "2025-03-06T21:03:19.514379Z",
     "start_time": "2025-03-06T21:03:19.502163Z"
    }
   },
   "outputs": [
    {
     "data": {
      "text/plain": [
       "torch.float32"
      ]
     },
     "execution_count": 8,
     "metadata": {},
     "output_type": "execute_result"
    }
   ],
   "source": [
    "a2_2 = torch.FloatTensor([0,1,2,3])\n",
    "a2_2.dtype"
   ]
  },
  {
   "cell_type": "code",
   "execution_count": 9,
   "id": "613c6839",
   "metadata": {
    "ExecuteTime": {
     "end_time": "2025-03-06T21:03:23.611576Z",
     "start_time": "2025-03-06T21:03:23.599540Z"
    }
   },
   "outputs": [
    {
     "data": {
      "text/plain": [
       "tensor([0., 1., 2., 3.])"
      ]
     },
     "execution_count": 9,
     "metadata": {},
     "output_type": "execute_result"
    }
   ],
   "source": [
    "a2_2"
   ]
  },
  {
   "cell_type": "code",
   "execution_count": 13,
   "id": "4a668e47",
   "metadata": {
    "ExecuteTime": {
     "end_time": "2025-03-06T21:06:12.552994Z",
     "start_time": "2025-03-06T21:06:12.532615Z"
    }
   },
   "outputs": [
    {
     "data": {
      "text/plain": [
       "'torch.IntTensor'"
      ]
     },
     "execution_count": 13,
     "metadata": {},
     "output_type": "execute_result"
    }
   ],
   "source": [
    "a1.type()"
   ]
  },
  {
   "cell_type": "code",
   "execution_count": 14,
   "id": "14edac74",
   "metadata": {
    "ExecuteTime": {
     "end_time": "2025-03-06T21:06:40.784217Z",
     "start_time": "2025-03-06T21:06:40.774950Z"
    }
   },
   "outputs": [],
   "source": [
    "a1 = a1.type(torch.FloatTensor)"
   ]
  },
  {
   "cell_type": "code",
   "execution_count": 15,
   "id": "94f34128",
   "metadata": {
    "ExecuteTime": {
     "end_time": "2025-03-06T21:06:49.298346Z",
     "start_time": "2025-03-06T21:06:49.276234Z"
    }
   },
   "outputs": [
    {
     "data": {
      "text/plain": [
       "torch.float32"
      ]
     },
     "execution_count": 15,
     "metadata": {},
     "output_type": "execute_result"
    }
   ],
   "source": [
    "a1.dtype"
   ]
  },
  {
   "cell_type": "code",
   "execution_count": 16,
   "id": "0d1e3b3d",
   "metadata": {
    "ExecuteTime": {
     "end_time": "2025-03-06T21:07:16.492831Z",
     "start_time": "2025-03-06T21:07:16.480838Z"
    }
   },
   "outputs": [
    {
     "data": {
      "text/plain": [
       "torch.Size([4])"
      ]
     },
     "execution_count": 16,
     "metadata": {},
     "output_type": "execute_result"
    }
   ],
   "source": [
    "a1.size()"
   ]
  },
  {
   "cell_type": "code",
   "execution_count": 17,
   "id": "97da99b2",
   "metadata": {
    "ExecuteTime": {
     "end_time": "2025-03-06T21:07:45.057877Z",
     "start_time": "2025-03-06T21:07:45.043884Z"
    }
   },
   "outputs": [
    {
     "data": {
      "text/plain": [
       "1"
      ]
     },
     "execution_count": 17,
     "metadata": {},
     "output_type": "execute_result"
    }
   ],
   "source": [
    "#Rank or dimension\n",
    "a1.ndimension()"
   ]
  },
  {
   "cell_type": "code",
   "execution_count": 19,
   "id": "2e119ebd",
   "metadata": {
    "ExecuteTime": {
     "end_time": "2025-03-06T21:08:53.025400Z",
     "start_time": "2025-03-06T21:08:53.010394Z"
    }
   },
   "outputs": [
    {
     "data": {
      "text/plain": [
       "(torch.Size([2, 2]), 2)"
      ]
     },
     "execution_count": 19,
     "metadata": {},
     "output_type": "execute_result"
    }
   ],
   "source": [
    "a11 = torch.Tensor([[1,2],[3,4]])\n",
    "\n",
    "a11.size(), a11.ndimension()"
   ]
  },
  {
   "cell_type": "markdown",
   "id": "62963238",
   "metadata": {},
   "source": [
    "**Converting 1d to 2d**"
   ]
  },
  {
   "cell_type": "code",
   "execution_count": 20,
   "id": "89f676f2",
   "metadata": {
    "ExecuteTime": {
     "end_time": "2025-03-06T21:10:26.237571Z",
     "start_time": "2025-03-06T21:10:26.211726Z"
    }
   },
   "outputs": [
    {
     "data": {
      "text/plain": [
       "tensor([[0.],\n",
       "        [1.],\n",
       "        [3.],\n",
       "        [4.]])"
      ]
     },
     "execution_count": 20,
     "metadata": {},
     "output_type": "execute_result"
    }
   ],
   "source": [
    "a1_col = a1.view(4,1)\n",
    "a1_col"
   ]
  },
  {
   "cell_type": "code",
   "execution_count": 23,
   "id": "58457fa6",
   "metadata": {
    "ExecuteTime": {
     "end_time": "2025-03-06T21:10:44.183315Z",
     "start_time": "2025-03-06T21:10:44.167398Z"
    }
   },
   "outputs": [
    {
     "data": {
      "text/plain": [
       "2"
      ]
     },
     "execution_count": 23,
     "metadata": {},
     "output_type": "execute_result"
    }
   ],
   "source": [
    "a1_col.ndim"
   ]
  },
  {
   "cell_type": "code",
   "execution_count": 25,
   "id": "61b69886",
   "metadata": {
    "ExecuteTime": {
     "end_time": "2025-03-06T21:11:02.647057Z",
     "start_time": "2025-03-06T21:11:02.629509Z"
    }
   },
   "outputs": [
    {
     "data": {
      "text/plain": [
       "torch.Size([4, 1])"
      ]
     },
     "execution_count": 25,
     "metadata": {},
     "output_type": "execute_result"
    }
   ],
   "source": [
    "a1_col.size()"
   ]
  },
  {
   "cell_type": "code",
   "execution_count": 26,
   "id": "a09ea548",
   "metadata": {
    "ExecuteTime": {
     "end_time": "2025-03-06T21:12:57.218425Z",
     "start_time": "2025-03-06T21:12:57.196250Z"
    }
   },
   "outputs": [
    {
     "data": {
      "text/plain": [
       "tensor([[0.],\n",
       "        [1.],\n",
       "        [3.],\n",
       "        [4.]])"
      ]
     },
     "execution_count": 26,
     "metadata": {},
     "output_type": "execute_result"
    }
   ],
   "source": [
    "#if num of elements is unknown\n",
    "a1.view(-1,1) #-1 --> num of elements as rows, 1 column"
   ]
  },
  {
   "cell_type": "code",
   "execution_count": 34,
   "id": "ed81c1e9",
   "metadata": {
    "ExecuteTime": {
     "end_time": "2025-03-06T21:14:06.077882Z",
     "start_time": "2025-03-06T21:14:06.065234Z"
    }
   },
   "outputs": [
    {
     "data": {
      "text/plain": [
       "tensor([[[0.]],\n",
       "\n",
       "        [[1.]],\n",
       "\n",
       "        [[3.]],\n",
       "\n",
       "        [[4.]]])"
      ]
     },
     "execution_count": 34,
     "metadata": {},
     "output_type": "execute_result"
    }
   ],
   "source": [
    "a1.view(-1,1,1)"
   ]
  },
  {
   "cell_type": "markdown",
   "id": "c91a0388",
   "metadata": {},
   "source": [
    "**From - to numpy array**"
   ]
  },
  {
   "cell_type": "code",
   "execution_count": 46,
   "id": "13b11c42",
   "metadata": {
    "ExecuteTime": {
     "end_time": "2025-03-06T21:21:32.229763Z",
     "start_time": "2025-03-06T21:21:32.216086Z"
    }
   },
   "outputs": [
    {
     "data": {
      "text/plain": [
       "array([0, 1, 2, 3])"
      ]
     },
     "execution_count": 46,
     "metadata": {},
     "output_type": "execute_result"
    }
   ],
   "source": [
    "arr = np.array([0,1,2,3])\n",
    "arr"
   ]
  },
  {
   "cell_type": "code",
   "execution_count": 47,
   "id": "089b12a8",
   "metadata": {
    "ExecuteTime": {
     "end_time": "2025-03-06T21:21:32.621337Z",
     "start_time": "2025-03-06T21:21:32.604754Z"
    }
   },
   "outputs": [
    {
     "data": {
      "text/plain": [
       "tensor([0, 1, 2, 3], dtype=torch.int32)"
      ]
     },
     "execution_count": 47,
     "metadata": {},
     "output_type": "execute_result"
    }
   ],
   "source": [
    "tensor_arr = torch.from_numpy(arr)\n",
    "tensor_arr"
   ]
  },
  {
   "cell_type": "code",
   "execution_count": 48,
   "id": "5511ee83",
   "metadata": {
    "ExecuteTime": {
     "end_time": "2025-03-06T21:21:33.005629Z",
     "start_time": "2025-03-06T21:21:32.987330Z"
    }
   },
   "outputs": [
    {
     "data": {
      "text/plain": [
       "array([0, 1, 2, 3])"
      ]
     },
     "execution_count": 48,
     "metadata": {},
     "output_type": "execute_result"
    }
   ],
   "source": [
    "back_numpy = tensor_arr.numpy()\n",
    "back_numpy"
   ]
  },
  {
   "cell_type": "code",
   "execution_count": 49,
   "id": "f848219a",
   "metadata": {
    "ExecuteTime": {
     "end_time": "2025-03-06T21:21:33.520519Z",
     "start_time": "2025-03-06T21:21:33.501008Z"
    }
   },
   "outputs": [
    {
     "data": {
      "text/plain": [
       "2"
      ]
     },
     "execution_count": 49,
     "metadata": {},
     "output_type": "execute_result"
    }
   ],
   "source": [
    "back_numpy[2]"
   ]
  },
  {
   "cell_type": "code",
   "execution_count": 50,
   "id": "3b721c33",
   "metadata": {
    "ExecuteTime": {
     "end_time": "2025-03-06T21:21:36.169423Z",
     "start_time": "2025-03-06T21:21:36.152309Z"
    }
   },
   "outputs": [],
   "source": [
    "arr[2]= 10"
   ]
  },
  {
   "cell_type": "code",
   "execution_count": 51,
   "id": "4984ee81",
   "metadata": {
    "ExecuteTime": {
     "end_time": "2025-03-06T21:21:36.669340Z",
     "start_time": "2025-03-06T21:21:36.647867Z"
    }
   },
   "outputs": [
    {
     "data": {
      "text/plain": [
       "tensor(10, dtype=torch.int32)"
      ]
     },
     "execution_count": 51,
     "metadata": {},
     "output_type": "execute_result"
    }
   ],
   "source": [
    "tensor_arr[2]"
   ]
  },
  {
   "cell_type": "code",
   "execution_count": 52,
   "id": "a7a2967e",
   "metadata": {
    "ExecuteTime": {
     "end_time": "2025-03-06T21:21:37.104020Z",
     "start_time": "2025-03-06T21:21:37.087411Z"
    }
   },
   "outputs": [
    {
     "data": {
      "text/plain": [
       "10"
      ]
     },
     "execution_count": 52,
     "metadata": {},
     "output_type": "execute_result"
    }
   ],
   "source": [
    "back_numpy[2]"
   ]
  },
  {
   "cell_type": "code",
   "execution_count": null,
   "id": "e016c133",
   "metadata": {},
   "outputs": [],
   "source": [
    "tensor_df = torch.from_numpy(series.values)"
   ]
  },
  {
   "cell_type": "code",
   "execution_count": 53,
   "id": "d9bf07f6",
   "metadata": {
    "ExecuteTime": {
     "end_time": "2025-03-06T21:23:42.138328Z",
     "start_time": "2025-03-06T21:23:42.125970Z"
    }
   },
   "outputs": [
    {
     "data": {
      "text/plain": [
       "[0, 1, 10, 3]"
      ]
     },
     "execution_count": 53,
     "metadata": {},
     "output_type": "execute_result"
    }
   ],
   "source": [
    "list_tensor = tensor_arr.tolist()\n",
    "list_tensor"
   ]
  },
  {
   "cell_type": "code",
   "execution_count": 54,
   "id": "f766fd8c",
   "metadata": {
    "ExecuteTime": {
     "end_time": "2025-03-06T21:24:05.300502Z",
     "start_time": "2025-03-06T21:24:05.279545Z"
    }
   },
   "outputs": [
    {
     "data": {
      "text/plain": [
       "tensor([ 0,  1, 10,  3], dtype=torch.int32)"
      ]
     },
     "execution_count": 54,
     "metadata": {},
     "output_type": "execute_result"
    }
   ],
   "source": [
    "list_tensor[1]=45\n",
    "tensor_arr"
   ]
  },
  {
   "cell_type": "code",
   "execution_count": 55,
   "id": "f8830737",
   "metadata": {
    "ExecuteTime": {
     "end_time": "2025-03-06T21:24:27.964883Z",
     "start_time": "2025-03-06T21:24:27.946260Z"
    }
   },
   "outputs": [
    {
     "data": {
      "text/plain": [
       "([0, 45, 10, 3],\n",
       " tensor([ 0,  1, 10,  3], dtype=torch.int32),\n",
       " array([ 0,  1, 10,  3]),\n",
       " array([ 0,  1, 10,  3]))"
      ]
     },
     "execution_count": 55,
     "metadata": {},
     "output_type": "execute_result"
    }
   ],
   "source": [
    "list_tensor, tensor_arr, back_numpy, arr"
   ]
  },
  {
   "cell_type": "code",
   "execution_count": 56,
   "id": "e9be3006",
   "metadata": {
    "ExecuteTime": {
     "end_time": "2025-03-06T21:24:46.010066Z",
     "start_time": "2025-03-06T21:24:46.002067Z"
    }
   },
   "outputs": [],
   "source": [
    "arr[1]=55"
   ]
  },
  {
   "cell_type": "code",
   "execution_count": 57,
   "id": "3e5ff712",
   "metadata": {
    "ExecuteTime": {
     "end_time": "2025-03-06T21:24:50.813089Z",
     "start_time": "2025-03-06T21:24:50.799464Z"
    }
   },
   "outputs": [
    {
     "data": {
      "text/plain": [
       "([0, 45, 10, 3],\n",
       " tensor([ 0, 55, 10,  3], dtype=torch.int32),\n",
       " array([ 0, 55, 10,  3]),\n",
       " array([ 0, 55, 10,  3]))"
      ]
     },
     "execution_count": 57,
     "metadata": {},
     "output_type": "execute_result"
    }
   ],
   "source": [
    "list_tensor, tensor_arr, back_numpy, arr"
   ]
  },
  {
   "cell_type": "markdown",
   "id": "07507c36",
   "metadata": {},
   "source": [
    "**Note that individual values of a tensor are also tensors.**"
   ]
  },
  {
   "cell_type": "code",
   "execution_count": 58,
   "id": "788d3408",
   "metadata": {
    "ExecuteTime": {
     "end_time": "2025-03-06T21:25:46.970922Z",
     "start_time": "2025-03-06T21:25:46.960929Z"
    }
   },
   "outputs": [
    {
     "data": {
      "text/plain": [
       "tensor(0, dtype=torch.int32)"
      ]
     },
     "execution_count": 58,
     "metadata": {},
     "output_type": "execute_result"
    }
   ],
   "source": [
    "tensor_arr[0]"
   ]
  },
  {
   "cell_type": "code",
   "execution_count": 59,
   "id": "0ec5e040",
   "metadata": {
    "ExecuteTime": {
     "end_time": "2025-03-06T21:26:17.433765Z",
     "start_time": "2025-03-06T21:26:17.422773Z"
    }
   },
   "outputs": [
    {
     "data": {
      "text/plain": [
       "0"
      ]
     },
     "execution_count": 59,
     "metadata": {},
     "output_type": "execute_result"
    }
   ],
   "source": [
    "#to return number\n",
    "tensor_arr[0].item()"
   ]
  },
  {
   "cell_type": "code",
   "execution_count": null,
   "id": "ce61c6b9",
   "metadata": {},
   "outputs": [],
   "source": []
  }
 ],
 "metadata": {
  "kernelspec": {
   "display_name": "Python 3 (ipykernel)",
   "language": "python",
   "name": "python3"
  },
  "language_info": {
   "codemirror_mode": {
    "name": "ipython",
    "version": 3
   },
   "file_extension": ".py",
   "mimetype": "text/x-python",
   "name": "python",
   "nbconvert_exporter": "python",
   "pygments_lexer": "ipython3",
   "version": "3.9.6"
  }
 },
 "nbformat": 4,
 "nbformat_minor": 5
}
