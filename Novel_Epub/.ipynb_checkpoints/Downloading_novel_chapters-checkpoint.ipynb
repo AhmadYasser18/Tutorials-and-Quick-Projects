{
 "cells": [
  {
   "cell_type": "code",
   "execution_count": 1,
   "id": "aefe9f5b",
   "metadata": {
    "ExecuteTime": {
     "end_time": "2025-02-10T18:18:52.202456Z",
     "start_time": "2025-02-10T18:18:51.888406Z"
    }
   },
   "outputs": [],
   "source": [
    "import requests\n",
    "from bs4 import BeautifulSoup\n",
    "import csv\n",
    "\n",
    "from ebooklib import epub, ITEM_DOCUMENT"
   ]
  },
  {
   "cell_type": "markdown",
   "id": "c9d820e3",
   "metadata": {},
   "source": [
    "# Scraping the chapters from the website"
   ]
  },
  {
   "cell_type": "code",
   "execution_count": 101,
   "id": "52b34ba8",
   "metadata": {
    "ExecuteTime": {
     "end_time": "2025-02-07T16:59:16.186827Z",
     "start_time": "2025-02-07T16:59:16.169713Z"
    }
   },
   "outputs": [],
   "source": [
    "ch_num = 68\n",
    "end_ch = 70\n",
    "\n",
    "novel_tbd = 'the-extras-academy-survival-guide'\n",
    "\n",
    "title = novel_tbd.replace('-',' ').title()"
   ]
  },
  {
   "cell_type": "code",
   "execution_count": 102,
   "id": "25f674dc",
   "metadata": {
    "ExecuteTime": {
     "end_time": "2025-02-07T16:59:16.620213Z",
     "start_time": "2025-02-07T16:59:16.604583Z"
    }
   },
   "outputs": [],
   "source": [
    "url = f'https://novelbin.com/b/{novel_tbd}/chapter-'"
   ]
  },
  {
   "cell_type": "code",
   "execution_count": 103,
   "id": "19dfc2e6",
   "metadata": {
    "ExecuteTime": {
     "end_time": "2025-02-07T16:59:17.858888Z",
     "start_time": "2025-02-07T16:59:17.008534Z"
    }
   },
   "outputs": [],
   "source": [
    "source = requests.get(url+str(ch_num)).text\n",
    "#source"
   ]
  },
  {
   "cell_type": "code",
   "execution_count": 104,
   "id": "3616001a",
   "metadata": {
    "ExecuteTime": {
     "end_time": "2025-02-07T16:59:18.369983Z",
     "start_time": "2025-02-07T16:59:18.288936Z"
    }
   },
   "outputs": [],
   "source": [
    "soup = BeautifulSoup(source, 'lxml')\n",
    "#soup"
   ]
  },
  {
   "cell_type": "code",
   "execution_count": 105,
   "id": "f55a5b8e",
   "metadata": {
    "ExecuteTime": {
     "end_time": "2025-02-07T16:59:18.737691Z",
     "start_time": "2025-02-07T16:59:18.729444Z"
    }
   },
   "outputs": [],
   "source": [
    "#title = soup.title.text.split(' #')[0]"
   ]
  },
  {
   "cell_type": "code",
   "execution_count": 106,
   "id": "e4a07f62",
   "metadata": {
    "ExecuteTime": {
     "end_time": "2025-02-07T16:59:22.818478Z",
     "start_time": "2025-02-07T16:59:22.797401Z"
    }
   },
   "outputs": [],
   "source": [
    "content = soup.find('div', class_=\"chr-c\" ).text\n",
    "\n",
    "content = content.split('\\n')\n",
    "\n",
    "ch_title = ''\n",
    "i=0\n",
    "\n",
    "\n",
    "while ch_title == '':\n",
    "    ch_title = content[i]\n",
    "    i+=1\n",
    "ch_title = f'Chapter {ch_num} {ch_title}'"
   ]
  },
  {
   "cell_type": "code",
   "execution_count": 107,
   "id": "ce70f92e",
   "metadata": {
    "ExecuteTime": {
     "end_time": "2025-02-07T16:59:23.501752Z",
     "start_time": "2025-02-07T16:59:23.486752Z"
    }
   },
   "outputs": [
    {
     "data": {
      "text/plain": [
       "'Chapter 68 Surviving Winter (1)'"
      ]
     },
     "execution_count": 107,
     "metadata": {},
     "output_type": "execute_result"
    }
   ],
   "source": [
    "ch_title"
   ]
  },
  {
   "cell_type": "code",
   "execution_count": 108,
   "id": "ffd9f205",
   "metadata": {
    "ExecuteTime": {
     "end_time": "2025-02-07T16:59:24.203404Z",
     "start_time": "2025-02-07T16:59:24.194479Z"
    }
   },
   "outputs": [],
   "source": [
    "#content = print('\\n'.join(content[i:]))"
   ]
  },
  {
   "cell_type": "code",
   "execution_count": 109,
   "id": "725d37af",
   "metadata": {
    "ExecuteTime": {
     "end_time": "2025-02-07T16:59:24.686381Z",
     "start_time": "2025-02-07T16:59:24.670756Z"
    }
   },
   "outputs": [],
   "source": [
    "content = ''.join(f\"<p>{p.strip()}</p>\" for p in content[i:] if p.strip())"
   ]
  },
  {
   "cell_type": "markdown",
   "id": "82bac71d",
   "metadata": {},
   "source": [
    "# Saving to Epub"
   ]
  },
  {
   "cell_type": "code",
   "execution_count": 110,
   "id": "7802775c",
   "metadata": {
    "ExecuteTime": {
     "end_time": "2025-02-07T16:59:25.619606Z",
     "start_time": "2025-02-07T16:59:25.607743Z"
    }
   },
   "outputs": [],
   "source": [
    "novel = epub.EpubBook()"
   ]
  },
  {
   "cell_type": "code",
   "execution_count": 111,
   "id": "9602cb9f",
   "metadata": {
    "ExecuteTime": {
     "end_time": "2025-02-07T16:59:26.055382Z",
     "start_time": "2025-02-07T16:59:26.040078Z"
    }
   },
   "outputs": [],
   "source": [
    "#adding cover\n",
    "with open(\"the-extras-academy-survival-guide.jpg\", \"rb\") as img:\n",
    "    novel.set_cover(\"the-extras-academy-survival-guide.jpg\", img.read())"
   ]
  },
  {
   "cell_type": "code",
   "execution_count": 112,
   "id": "159cc725",
   "metadata": {
    "ExecuteTime": {
     "end_time": "2025-02-07T16:59:29.317606Z",
     "start_time": "2025-02-07T16:59:29.303613Z"
    }
   },
   "outputs": [
    {
     "data": {
      "text/plain": [
       "'The Extras Academy Survival Guide'"
      ]
     },
     "execution_count": 112,
     "metadata": {},
     "output_type": "execute_result"
    }
   ],
   "source": [
    "title"
   ]
  },
  {
   "cell_type": "code",
   "execution_count": 113,
   "id": "36779e39",
   "metadata": {
    "ExecuteTime": {
     "end_time": "2025-02-07T16:59:34.933631Z",
     "start_time": "2025-02-07T16:59:34.914151Z"
    }
   },
   "outputs": [],
   "source": [
    "#Setting title and language\n",
    "novel.set_title(title)\n",
    "\n",
    "novel.set_language(\"en\")\n",
    "\n",
    "spine_novel = ['nav']\n",
    "TOC = []"
   ]
  },
  {
   "cell_type": "code",
   "execution_count": 114,
   "id": "bed4ac32",
   "metadata": {
    "ExecuteTime": {
     "end_time": "2025-02-07T16:59:35.765935Z",
     "start_time": "2025-02-07T16:59:35.746358Z"
    }
   },
   "outputs": [],
   "source": [
    "novel_chapter = epub.EpubHtml(title=ch_title, file_name=f\"chapter{ch_num}.xhtml\", lang='en')\n",
    "\n",
    "novel_chapter.set_content(f\"\"\"<html><body><h1>{ch_title}</h1>{content}</body></html>\"\"\")"
   ]
  },
  {
   "cell_type": "code",
   "execution_count": 115,
   "id": "1486aeae",
   "metadata": {
    "ExecuteTime": {
     "end_time": "2025-02-07T16:59:36.333507Z",
     "start_time": "2025-02-07T16:59:36.312624Z"
    }
   },
   "outputs": [
    {
     "data": {
      "text/plain": [
       "<ebooklib.epub.EpubHtml at 0x1df81f31ac0>"
      ]
     },
     "execution_count": 115,
     "metadata": {},
     "output_type": "execute_result"
    }
   ],
   "source": [
    "novel.add_item(novel_chapter)"
   ]
  },
  {
   "cell_type": "code",
   "execution_count": 116,
   "id": "803518d1",
   "metadata": {
    "ExecuteTime": {
     "end_time": "2025-02-07T16:59:37.018318Z",
     "start_time": "2025-02-07T16:59:37.008971Z"
    }
   },
   "outputs": [],
   "source": [
    "# Add navigation and define spine\n",
    "\n",
    "spine_novel.append(novel_chapter)\n",
    "TOC.append(novel_chapter)\n",
    "\n",
    "novel.add_item(epub.EpubNav())\n",
    "novel.add_item(epub.EpubNcx())\n",
    "\n",
    "novel.spine = spine_novel\n",
    "novel.toc = tuple(TOC)"
   ]
  },
  {
   "cell_type": "code",
   "execution_count": 117,
   "id": "ebc35a6b",
   "metadata": {
    "ExecuteTime": {
     "end_time": "2025-02-07T16:59:38.068033Z",
     "start_time": "2025-02-07T16:59:38.036821Z"
    }
   },
   "outputs": [
    {
     "name": "stdout",
     "output_type": "stream",
     "text": [
      "EPUB created successfully!\n"
     ]
    }
   ],
   "source": [
    "# Write the EPUB file\n",
    "epub.write_epub(f\"{title}.epub\", novel)\n",
    "print(\"EPUB created successfully!\")"
   ]
  },
  {
   "cell_type": "markdown",
   "id": "43712cc6",
   "metadata": {},
   "source": [
    "<hr>\n",
    "\n",
    "<h2 style=\"text-align:center;\">Completed</h2>\n",
    "\n",
    "<hr>"
   ]
  },
  {
   "cell_type": "markdown",
   "id": "5ace9d6f",
   "metadata": {},
   "source": [
    "## Adding Cover to EPUB"
   ]
  },
  {
   "cell_type": "code",
   "execution_count": 135,
   "id": "f9be5b21",
   "metadata": {
    "ExecuteTime": {
     "end_time": "2025-02-07T17:27:44.907030Z",
     "start_time": "2025-02-07T17:27:44.885503Z"
    }
   },
   "outputs": [],
   "source": [
    "epub_file = \"83 - .epub\"\n",
    "book = epub.read_epub(epub_file)\n",
    "\n",
    "# Add the cover image\n",
    "with open(\"the-extras-academy-survival-guide.jpg\", \"rb\") as img:\n",
    "    book.set_cover(\"the-extras-academy-survival-guide.jpg\", img.read())\n",
    "\n",
    "# Write the updated EPUB with the new cover\n",
    "output_file = \"updated_file_with_cover.epub\"\n",
    "#epub.write_epub(output_file, book)\n",
    "\n",
    "#print(f\"Cover added successfully. Saved as {output_file}\")"
   ]
  },
  {
   "cell_type": "markdown",
   "id": "509f72f7",
   "metadata": {},
   "source": [
    "<hr>\n",
    "\n",
    "<h2 style=\"text-align:center;\">Ongoing</h2>\n",
    "\n",
    "<hr>"
   ]
  },
  {
   "cell_type": "markdown",
   "id": "5de324d8",
   "metadata": {},
   "source": [
    "___\n",
    "\n",
    "<h2 style=\"text-align:center;\">Multiple Chapters</h2>\n",
    "\n",
    "<hr>"
   ]
  },
  {
   "cell_type": "code",
   "execution_count": 80,
   "id": "5b738943",
   "metadata": {
    "ExecuteTime": {
     "end_time": "2025-02-07T16:50:58.651451Z",
     "start_time": "2025-02-07T16:50:58.642342Z"
    }
   },
   "outputs": [],
   "source": [
    "#novel_tbd = input('Enter Novel:')\n",
    "#start = int(input('Start from Chapter:'))\n",
    "#end_ch = int(input('Until Chapter:'))"
   ]
  },
  {
   "cell_type": "code",
   "execution_count": 4,
   "id": "b8c27eb1",
   "metadata": {
    "ExecuteTime": {
     "end_time": "2025-02-10T18:19:20.361670Z",
     "start_time": "2025-02-10T18:19:20.346679Z"
    }
   },
   "outputs": [],
   "source": [
    "#Input Data\n",
    "novel_tbd = 'the-extras-academy-survival-guide'\n",
    "start_ch = 68\n",
    "end_ch = 72"
   ]
  },
  {
   "cell_type": "code",
   "execution_count": 6,
   "id": "3d58c2ae",
   "metadata": {
    "ExecuteTime": {
     "end_time": "2025-02-10T18:19:24.300131Z",
     "start_time": "2025-02-10T18:19:23.699417Z"
    }
   },
   "outputs": [],
   "source": [
    "source = requests.get(url+str(68)).text #to be changed to url only .get(url\n",
    "soup = BeautifulSoup(source, 'lxml')\n",
    "    \n",
    "content = soup.find('div', class_=\"chr-c\" ).text.strip().split('\\n')\n",
    "ch_title = soup.h2.text.strip() + ' ' +content[0]\n",
    "\n",
    "content = ''.join(content[1:])"
   ]
  },
  {
   "cell_type": "markdown",
   "id": "453dfd5e",
   "metadata": {
    "ExecuteTime": {
     "end_time": "2025-02-10T18:55:10.784554Z",
     "start_time": "2025-02-10T18:55:10.754501Z"
    }
   },
   "source": [
    "Run"
   ]
  },
  {
   "cell_type": "code",
   "execution_count": 29,
   "id": "0956cec3",
   "metadata": {
    "ExecuteTime": {
     "end_time": "2025-02-10T18:57:16.920461Z",
     "start_time": "2025-02-10T18:57:16.911235Z"
    }
   },
   "outputs": [],
   "source": [
    "novel = epub.EpubBook()\n",
    "\n",
    "url = f'https://novelbin.com/b/{novel_tbd}/chapter-'\n",
    "\n",
    "#adding cover\n",
    "with open(\"the-extras-academy-survival-guide.jpg\", \"rb\") as img:\n",
    "    novel.set_cover(\"the-extras-academy-survival-guide.jpg\", img.read())\n",
    "\n",
    "#Setting title and language\n",
    "title = novel_tbd.replace('-',' ').title()\n",
    "novel.set_title(title)\n",
    "\n",
    "novel.set_language(\"en\")\n",
    "\n",
    "spine_novel = ['nav']\n",
    "TOC =[]"
   ]
  },
  {
   "cell_type": "code",
   "execution_count": 30,
   "id": "4564b146",
   "metadata": {
    "ExecuteTime": {
     "end_time": "2025-02-10T18:57:20.257474Z",
     "start_time": "2025-02-10T18:57:17.274502Z"
    }
   },
   "outputs": [
    {
     "name": "stdout",
     "output_type": "stream",
     "text": [
      "Fetching Chapter 68...\n",
      "<p>If a human’s life is like the four seasons, a spirit’s life is definitely a long winter.</p><p>Th\n",
      "Fetching Chapter 69...\n",
      "<p>Anyway human luck is innate.</p><p>Claire is an assistant professor who has no idea when she will\n",
      "Fetching Chapter 70...\n",
      "<p>There is always a quiet atmosphere on Aken Island during the vacation season.</p><p>The buildings\n",
      "Fetching Chapter 71...\n",
      "<p>Winter (4) Winter had finally arrived on Mt. Orn, and it was full of bare tree branches, with onl\n",
      "Fetching Chapter 72...\n",
      "<p>Lortel smiled.</p><p>I heard a rumor that there were a lot of big names among the new students co\n"
     ]
    }
   ],
   "source": [
    "for ch_num in range(start_ch, end_ch+1):\n",
    "    print(f'Fetching Chapter {ch_num}...')\n",
    "    \n",
    "    try:\n",
    "        source = requests.get(url+str(ch_num)).text #to be changed to url only .get(url\n",
    "        soup = BeautifulSoup(source, 'lxml')\n",
    "    \n",
    "        content = soup.find('div', class_=\"chr-c\" ).text.strip().split('\\n')\n",
    "        \n",
    "        ch_title = ''\n",
    "        i=0\n",
    "\n",
    "        while ch_title == '':\n",
    "            ch_title = content[i]\n",
    "            i+=1\n",
    "\n",
    "        ch_title = f'Chapter {ch_num} {ch_title}'    \n",
    "\n",
    "        content = ''.join(f\"<p>{p.strip()}</p>\" for p in content[i:] if p.strip())\n",
    "        \n",
    "        novel_chapter = epub.EpubHtml(title=ch_title, file_name=f\"chapter{ch_num}.xhtml\", lang='en')\n",
    "        novel_chapter.set_content(f\"\"\"<html><body><h1>{ch_title}</h1>{content}</body></html>\"\"\")\n",
    "\n",
    "        novel.add_item(novel_chapter)\n",
    "\n",
    "        spine_novel.append(novel_chapter)\n",
    "        TOC.append(novel_chapter)\n",
    "\n",
    "    except:\n",
    "        print(f\"Error fetching or processing chapter {ch_num}: {e}\")\n",
    "        \n",
    "        "
   ]
  },
  {
   "cell_type": "code",
   "execution_count": 31,
   "id": "591ec4d5",
   "metadata": {
    "ExecuteTime": {
     "end_time": "2025-02-10T18:57:20.288600Z",
     "start_time": "2025-02-10T18:57:20.264703Z"
    }
   },
   "outputs": [],
   "source": [
    "novel.add_item(epub.EpubNav())\n",
    "novel.add_item(epub.EpubNcx())\n",
    "\n",
    "novel.spine = spine_novel\n",
    "novel.toc = tuple(TOC)"
   ]
  },
  {
   "cell_type": "code",
   "execution_count": 32,
   "id": "19750d8b",
   "metadata": {
    "ExecuteTime": {
     "end_time": "2025-02-10T18:57:26.652558Z",
     "start_time": "2025-02-10T18:57:26.589044Z"
    }
   },
   "outputs": [
    {
     "name": "stdout",
     "output_type": "stream",
     "text": [
      "EPUB created successfully!\n"
     ]
    }
   ],
   "source": [
    "# Write the EPUB file\n",
    "epub.write_epub(f\"{title} 1.epub\", novel)\n",
    "print(\"EPUB created successfully!\")"
   ]
  },
  {
   "cell_type": "code",
   "execution_count": 125,
   "id": "6305ae2a",
   "metadata": {
    "ExecuteTime": {
     "end_time": "2025-02-07T17:17:33.850092Z",
     "start_time": "2025-02-07T17:17:33.834779Z"
    }
   },
   "outputs": [],
   "source": [
    "#title = soup.title.text.split(' #')[0]\n",
    "#novel.set_title(title)"
   ]
  },
  {
   "cell_type": "code",
   "execution_count": null,
   "id": "c98cd85b",
   "metadata": {},
   "outputs": [],
   "source": []
  },
  {
   "cell_type": "markdown",
   "id": "c916beeb",
   "metadata": {},
   "source": [
    "___\n",
    "\n",
    "<h2 style=\"text-align:center;\">Completed</h2>\n",
    "\n",
    "<hr>"
   ]
  },
  {
   "cell_type": "markdown",
   "id": "496037d3",
   "metadata": {},
   "source": [
    "### Updating multiple to use link from 'next' button "
   ]
  },
  {
   "cell_type": "code",
   "execution_count": null,
   "id": "20f74e9b",
   "metadata": {},
   "outputs": [],
   "source": []
  }
 ],
 "metadata": {
  "kernelspec": {
   "display_name": "Python 3 (ipykernel)",
   "language": "python",
   "name": "python3"
  },
  "language_info": {
   "codemirror_mode": {
    "name": "ipython",
    "version": 3
   },
   "file_extension": ".py",
   "mimetype": "text/x-python",
   "name": "python",
   "nbconvert_exporter": "python",
   "pygments_lexer": "ipython3",
   "version": "3.9.6"
  }
 },
 "nbformat": 4,
 "nbformat_minor": 5
}
