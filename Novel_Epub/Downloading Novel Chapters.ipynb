{
 "cells": [
  {
   "cell_type": "code",
   "execution_count": 85,
   "id": "aefe9f5b",
   "metadata": {
    "ExecuteTime": {
     "end_time": "2025-02-06T20:39:37.719939Z",
     "start_time": "2025-02-06T20:39:37.493745Z"
    }
   },
   "outputs": [],
   "source": [
    "import requests\n",
    "from bs4 import BeautifulSoup\n",
    "import csv\n",
    "\n",
    "from ebooklib import epub"
   ]
  },
  {
   "cell_type": "code",
   "execution_count": 86,
   "id": "c0f49cca",
   "metadata": {
    "ExecuteTime": {
     "end_time": "2025-02-06T20:39:42.613501Z",
     "start_time": "2025-02-06T20:39:42.605504Z"
    }
   },
   "outputs": [],
   "source": [
    "#import docx"
   ]
  },
  {
   "cell_type": "markdown",
   "id": "c9d820e3",
   "metadata": {},
   "source": [
    "# Scraping the chapters from the website"
   ]
  },
  {
   "cell_type": "code",
   "execution_count": 87,
   "id": "25f674dc",
   "metadata": {
    "ExecuteTime": {
     "end_time": "2025-02-06T20:39:43.686970Z",
     "start_time": "2025-02-06T20:39:43.680974Z"
    }
   },
   "outputs": [],
   "source": [
    "url = 'https://novelbin.com/b/the-extras-academy-survival-guide/chapter-'"
   ]
  },
  {
   "cell_type": "code",
   "execution_count": 100,
   "id": "52b34ba8",
   "metadata": {
    "ExecuteTime": {
     "end_time": "2025-02-06T20:42:25.409566Z",
     "start_time": "2025-02-06T20:42:25.403567Z"
    }
   },
   "outputs": [],
   "source": [
    "chapter = {}\n",
    "\n",
    "ch_num = 68\n",
    "end_ch = 70"
   ]
  },
  {
   "cell_type": "code",
   "execution_count": 89,
   "id": "19dfc2e6",
   "metadata": {
    "ExecuteTime": {
     "end_time": "2025-02-06T20:39:47.217099Z",
     "start_time": "2025-02-06T20:39:46.110281Z"
    }
   },
   "outputs": [],
   "source": [
    "source = requests.get(url+str(ch_num)).text\n",
    "\n",
    "source"
   ]
  },
  {
   "cell_type": "code",
   "execution_count": 91,
   "id": "3616001a",
   "metadata": {
    "ExecuteTime": {
     "end_time": "2025-02-06T20:39:51.663647Z",
     "start_time": "2025-02-06T20:39:51.504587Z"
    }
   },
   "outputs": [],
   "source": [
    "soup = BeautifulSoup(source, 'lxml')\n",
    "\n",
    "soup"
   ]
  },
  {
   "cell_type": "code",
   "execution_count": 93,
   "id": "e4a07f62",
   "metadata": {
    "ExecuteTime": {
     "end_time": "2025-02-06T20:39:55.865368Z",
     "start_time": "2025-02-06T20:39:55.843385Z"
    }
   },
   "outputs": [],
   "source": [
    "content = soup.find('div', class_=\"chr-c\" ).text\n",
    "\n",
    "content = content.split('\\n')\n",
    "\n",
    "ch_title = ''\n",
    "i=0\n",
    "\n",
    "\n",
    "while ch_title == '':\n",
    "    ch_title = content[i]\n",
    "    i+=1\n",
    "\n",
    "ch_title"
   ]
  },
  {
   "cell_type": "code",
   "execution_count": 95,
   "id": "ffd9f205",
   "metadata": {
    "ExecuteTime": {
     "end_time": "2025-02-06T20:40:09.874931Z",
     "start_time": "2025-02-06T20:40:09.864918Z"
    }
   },
   "outputs": [],
   "source": [
    "content = '\\n'.join(content[i:])\n",
    "chapter['Content'] = content"
   ]
  },
  {
   "cell_type": "code",
   "execution_count": 96,
   "id": "b6baa821",
   "metadata": {
    "ExecuteTime": {
     "end_time": "2025-02-06T20:40:13.926355Z",
     "start_time": "2025-02-06T20:40:13.907369Z"
    }
   },
   "outputs": [],
   "source": [
    "title = soup.title.text"
   ]
  },
  {
   "cell_type": "code",
   "execution_count": 97,
   "id": "b8877b25",
   "metadata": {
    "ExecuteTime": {
     "end_time": "2025-02-06T20:40:17.211131Z",
     "start_time": "2025-02-06T20:40:17.192137Z"
    }
   },
   "outputs": [
    {
     "name": "stdout",
     "output_type": "stream",
     "text": [
      "The Extra’s Academy Survival Guide #Chapter 68\n"
     ]
    }
   ],
   "source": [
    "if 'Chapter' in title:\n",
    "    for i in range(len(title)):\n",
    "        if title[i].isnumeric() and not title[i+1].isnumeric():\n",
    "            \n",
    "            title = title[:i+1]\n",
    "            title = title.split('#')[-1] +' '+ ch_title\n",
    "            \n",
    "            chapter['title'] = title\n",
    "            break"
   ]
  },
  {
   "cell_type": "code",
   "execution_count": 98,
   "id": "c5f707fd",
   "metadata": {
    "ExecuteTime": {
     "end_time": "2025-02-06T20:40:35.727928Z",
     "start_time": "2025-02-06T20:40:35.705941Z"
    }
   },
   "outputs": [
    {
     "data": {
      "text/plain": [
       "'Chapter 68 Surviving Winter (1)'"
      ]
     },
     "execution_count": 98,
     "metadata": {},
     "output_type": "execute_result"
    }
   ],
   "source": [
    "chapter['title']"
   ]
  },
  {
   "cell_type": "code",
   "execution_count": 101,
   "id": "91956bcd",
   "metadata": {
    "ExecuteTime": {
     "end_time": "2025-02-06T20:42:30.715868Z",
     "start_time": "2025-02-06T20:42:30.707871Z"
    }
   },
   "outputs": [],
   "source": [
    "if ch_num < end_ch:\n",
    "    ch_num+=1   "
   ]
  },
  {
   "cell_type": "markdown",
   "id": "82bac71d",
   "metadata": {},
   "source": [
    "# Saving to Epub"
   ]
  },
  {
   "cell_type": "code",
   "execution_count": null,
   "id": "93c17221",
   "metadata": {},
   "outputs": [],
   "source": [
    "#To be added"
   ]
  },
  {
   "cell_type": "code",
   "execution_count": null,
   "id": "e6106552",
   "metadata": {},
   "outputs": [],
   "source": []
  }
 ],
 "metadata": {
  "kernelspec": {
   "display_name": "Python 3 (ipykernel)",
   "language": "python",
   "name": "python3"
  },
  "language_info": {
   "codemirror_mode": {
    "name": "ipython",
    "version": 3
   },
   "file_extension": ".py",
   "mimetype": "text/x-python",
   "name": "python",
   "nbconvert_exporter": "python",
   "pygments_lexer": "ipython3",
   "version": "3.9.6"
  }
 },
 "nbformat": 4,
 "nbformat_minor": 5
}
