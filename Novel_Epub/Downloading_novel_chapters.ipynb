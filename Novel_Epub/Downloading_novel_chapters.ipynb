{
 "cells": [
  {
   "cell_type": "code",
   "execution_count": 41,
   "id": "aefe9f5b",
   "metadata": {
    "ExecuteTime": {
     "end_time": "2025-02-06T21:36:22.670396Z",
     "start_time": "2025-02-06T21:36:22.651410Z"
    }
   },
   "outputs": [],
   "source": [
    "import requests\n",
    "from bs4 import BeautifulSoup\n",
    "import csv\n",
    "\n",
    "from ebooklib import epub, ITEM_DOCUMENT"
   ]
  },
  {
   "cell_type": "code",
   "execution_count": 86,
   "id": "c0f49cca",
   "metadata": {
    "ExecuteTime": {
     "end_time": "2025-02-06T20:39:42.613501Z",
     "start_time": "2025-02-06T20:39:42.605504Z"
    }
   },
   "outputs": [],
   "source": [
    "#import docx"
   ]
  },
  {
   "cell_type": "markdown",
   "id": "c9d820e3",
   "metadata": {},
   "source": [
    "# Scraping the chapters from the website"
   ]
  },
  {
   "cell_type": "code",
   "execution_count": 3,
   "id": "25f674dc",
   "metadata": {
    "ExecuteTime": {
     "end_time": "2025-02-06T21:08:38.136592Z",
     "start_time": "2025-02-06T21:08:38.129600Z"
    }
   },
   "outputs": [],
   "source": [
    "url = 'https://novelbin.com/b/the-extras-academy-survival-guide/chapter-'"
   ]
  },
  {
   "cell_type": "code",
   "execution_count": 246,
   "id": "52b34ba8",
   "metadata": {
    "ExecuteTime": {
     "end_time": "2025-02-06T23:31:50.438574Z",
     "start_time": "2025-02-06T23:31:50.429574Z"
    }
   },
   "outputs": [],
   "source": [
    "ch_num = 68\n",
    "end_ch = 70"
   ]
  },
  {
   "cell_type": "code",
   "execution_count": 263,
   "id": "19dfc2e6",
   "metadata": {
    "ExecuteTime": {
     "end_time": "2025-02-06T23:32:56.223887Z",
     "start_time": "2025-02-06T23:32:55.727942Z"
    }
   },
   "outputs": [],
   "source": [
    "source = requests.get(url+str(ch_num)).text\n",
    "#source"
   ]
  },
  {
   "cell_type": "code",
   "execution_count": 264,
   "id": "3616001a",
   "metadata": {
    "ExecuteTime": {
     "end_time": "2025-02-06T23:32:57.127453Z",
     "start_time": "2025-02-06T23:32:57.041996Z"
    }
   },
   "outputs": [],
   "source": [
    "soup = BeautifulSoup(source, 'lxml')\n",
    "\n",
    "#soup"
   ]
  },
  {
   "cell_type": "code",
   "execution_count": 265,
   "id": "e4a07f62",
   "metadata": {
    "ExecuteTime": {
     "end_time": "2025-02-06T23:32:58.655848Z",
     "start_time": "2025-02-06T23:32:58.626863Z"
    }
   },
   "outputs": [
    {
     "data": {
      "text/plain": [
       "'Getting through winter (2)'"
      ]
     },
     "execution_count": 265,
     "metadata": {},
     "output_type": "execute_result"
    }
   ],
   "source": [
    "content = soup.find('div', class_=\"chr-c\" ).text\n",
    "\n",
    "content = content.split('\\n')\n",
    "\n",
    "ch_title = ''\n",
    "i=0\n",
    "\n",
    "\n",
    "while ch_title == '':\n",
    "    ch_title = content[i]\n",
    "    i+=1\n",
    "\n",
    "ch_title"
   ]
  },
  {
   "cell_type": "code",
   "execution_count": 266,
   "id": "ffd9f205",
   "metadata": {
    "ExecuteTime": {
     "end_time": "2025-02-06T23:33:01.210427Z",
     "start_time": "2025-02-06T23:33:01.195436Z"
    }
   },
   "outputs": [],
   "source": [
    "content = '\\n'.join(content[i:])"
   ]
  },
  {
   "cell_type": "code",
   "execution_count": 267,
   "id": "b6baa821",
   "metadata": {
    "ExecuteTime": {
     "end_time": "2025-02-06T23:33:01.701175Z",
     "start_time": "2025-02-06T23:33:01.693180Z"
    }
   },
   "outputs": [],
   "source": [
    "title = soup.title.text"
   ]
  },
  {
   "cell_type": "code",
   "execution_count": 268,
   "id": "031fdfc3",
   "metadata": {
    "ExecuteTime": {
     "end_time": "2025-02-06T23:33:04.355993Z",
     "start_time": "2025-02-06T23:33:04.332301Z"
    }
   },
   "outputs": [
    {
     "data": {
      "text/plain": [
       "'The Extra’s Academy Survival Guide #Chapter 69 - Read The Extra’s Academy Survival Guide Chapter 69 Online - All Page - Novel Bin'"
      ]
     },
     "execution_count": 268,
     "metadata": {},
     "output_type": "execute_result"
    }
   ],
   "source": [
    "title"
   ]
  },
  {
   "cell_type": "code",
   "execution_count": 269,
   "id": "b8877b25",
   "metadata": {
    "ExecuteTime": {
     "end_time": "2025-02-06T23:33:05.559594Z",
     "start_time": "2025-02-06T23:33:05.536608Z"
    }
   },
   "outputs": [],
   "source": [
    "if 'Chapter' in title:\n",
    "    for i in range(len(title)-1):\n",
    "        if title[i].isnumeric() and not title[i+1].isnumeric():\n",
    "            \n",
    "            title = title[:i+1].split('#')\n",
    "            ch_title = title[-1] +' '+ str(ch_title)\n",
    "            title = title[0]\n",
    "            break"
   ]
  },
  {
   "cell_type": "code",
   "execution_count": 270,
   "id": "c5f707fd",
   "metadata": {
    "ExecuteTime": {
     "end_time": "2025-02-06T23:33:06.319896Z",
     "start_time": "2025-02-06T23:33:06.297909Z"
    }
   },
   "outputs": [
    {
     "data": {
      "text/plain": [
       "'The Extra’s Academy Survival Guide '"
      ]
     },
     "execution_count": 270,
     "metadata": {},
     "output_type": "execute_result"
    }
   ],
   "source": [
    "title"
   ]
  },
  {
   "cell_type": "code",
   "execution_count": 271,
   "id": "61d1054d",
   "metadata": {
    "ExecuteTime": {
     "end_time": "2025-02-06T23:33:08.110165Z",
     "start_time": "2025-02-06T23:33:08.087161Z"
    }
   },
   "outputs": [
    {
     "data": {
      "text/plain": [
       "'Chapter 69 Getting through winter (2)'"
      ]
     },
     "execution_count": 271,
     "metadata": {},
     "output_type": "execute_result"
    }
   ],
   "source": [
    "ch_title"
   ]
  },
  {
   "cell_type": "code",
   "execution_count": null,
   "id": "089d2cdd",
   "metadata": {},
   "outputs": [],
   "source": []
  },
  {
   "cell_type": "code",
   "execution_count": 272,
   "id": "91956bcd",
   "metadata": {
    "ExecuteTime": {
     "end_time": "2025-02-06T23:33:10.699758Z",
     "start_time": "2025-02-06T23:33:10.685628Z"
    }
   },
   "outputs": [],
   "source": [
    "if ch_num < end_ch:\n",
    "    ch_num+=1   "
   ]
  },
  {
   "cell_type": "markdown",
   "id": "82bac71d",
   "metadata": {},
   "source": [
    "# Saving to Epub"
   ]
  },
  {
   "cell_type": "code",
   "execution_count": 257,
   "id": "0f42562a",
   "metadata": {
    "ExecuteTime": {
     "end_time": "2025-02-06T23:32:07.339058Z",
     "start_time": "2025-02-06T23:32:07.318054Z"
    }
   },
   "outputs": [],
   "source": [
    "novel = epub.EpubBook()"
   ]
  },
  {
   "cell_type": "code",
   "execution_count": 258,
   "id": "70f49f2a",
   "metadata": {
    "ExecuteTime": {
     "end_time": "2025-02-06T23:32:08.540177Z",
     "start_time": "2025-02-06T23:32:08.530176Z"
    }
   },
   "outputs": [],
   "source": [
    "#adding cover\n",
    "with open(\"the-extras-academy-survival-guide.jpg\", \"rb\") as img:\n",
    "    novel.set_cover(\"the-extras-academy-survival-guide.jpg\", img.read())"
   ]
  },
  {
   "cell_type": "code",
   "execution_count": 259,
   "id": "050394f9",
   "metadata": {
    "ExecuteTime": {
     "end_time": "2025-02-06T23:32:09.700713Z",
     "start_time": "2025-02-06T23:32:09.687720Z"
    }
   },
   "outputs": [],
   "source": [
    "#Setting title and language\n",
    "novel.set_title(novel_title)\n",
    "\n",
    "novel.set_language(\"en\")"
   ]
  },
  {
   "cell_type": "code",
   "execution_count": 273,
   "id": "822424ee",
   "metadata": {
    "ExecuteTime": {
     "end_time": "2025-02-06T23:33:17.051169Z",
     "start_time": "2025-02-06T23:33:17.042174Z"
    }
   },
   "outputs": [],
   "source": [
    "novel_chapter = epub.EpubHtml(title=title,\n",
    "                              file_name=f\"Chapter {ch_num}.xhtml\",\n",
    "                              lang='en')\n",
    "novel_chapter.set_content(f\"<html><h1>Chapter {ch_num}</h1><body>{content}</body></html>\")"
   ]
  },
  {
   "cell_type": "code",
   "execution_count": 274,
   "id": "34981337",
   "metadata": {
    "ExecuteTime": {
     "end_time": "2025-02-06T23:33:18.804830Z",
     "start_time": "2025-02-06T23:33:18.787838Z"
    }
   },
   "outputs": [
    {
     "data": {
      "text/plain": [
       "<ebooklib.epub.EpubHtml at 0x251f92c8430>"
      ]
     },
     "execution_count": 274,
     "metadata": {},
     "output_type": "execute_result"
    }
   ],
   "source": [
    "novel.add_item(novel_chapter)"
   ]
  },
  {
   "cell_type": "code",
   "execution_count": 262,
   "id": "bdb42dfb",
   "metadata": {
    "ExecuteTime": {
     "end_time": "2025-02-06T23:32:25.135104Z",
     "start_time": "2025-02-06T23:32:25.120110Z"
    }
   },
   "outputs": [],
   "source": [
    "# Add navigation and define spine\n",
    "novel.add_item(epub.EpubNav())\n",
    "novel.add_item(epub.EpubNcx())\n",
    "\n",
    "novel.spine = [\"nav\", novel_chapter]"
   ]
  },
  {
   "cell_type": "code",
   "execution_count": 275,
   "id": "60ac2bbb",
   "metadata": {
    "ExecuteTime": {
     "end_time": "2025-02-06T23:33:23.890633Z",
     "start_time": "2025-02-06T23:33:23.880639Z"
    }
   },
   "outputs": [],
   "source": [
    "novel.spine.append(novel_chapter)"
   ]
  },
  {
   "cell_type": "code",
   "execution_count": 239,
   "id": "1a57d138",
   "metadata": {
    "ExecuteTime": {
     "end_time": "2025-02-06T23:28:14.536708Z",
     "start_time": "2025-02-06T23:28:14.516716Z"
    }
   },
   "outputs": [
    {
     "name": "stdout",
     "output_type": "stream",
     "text": [
      "Title: cover.xhtml\n",
      "Done\n",
      "Title: Chapter 68.xhtml\n",
      "Done\n",
      "1\n",
      "<html><h1>Chapter 68</h1><body>If a human’s life is like the four seasons, a spirit’s life is definitely a long winter.\n",
      "\n",
      "\n",
      "The giant wind wolf was protecting the forest, looking at everything dying.\n",
      "*\n",
      "“You’re too good-looking, that’s the problem, Yenika.”\n",
      "Laplace Bakery, located at the entrance of the living building, is a historic tea shop with a history with Sylvania Academy.\n",
      "A terrace with an atmosphere full of the taste of refreshments and the scent of flowers, managed by a former imperial pastry chef and located large on the route leading to Gyosu-dong.\n",
      "The appearance that seems to embody the romance of a girl is the secret to maintaining its own territory even in the commercial area of Seongdong-dong, which is being encroached one by one by Elte Trading Company.\n",
      "Since Jenica was a girl of that age, she had no choice but to tag along when Clara said she was going to have a bite at Laplace Bakery.\n",
      "A three-tiered dessert tray is filled with cakes of all kinds of dazzling colors. He had just taken a cup of black tea with a brilliant light shining in his eyes.\n",
      "“It’s good to try hard in everything, but it’s hard when you’re too successful. Do you know what I’m saying, Yenika?”\n",
      "“Yes?”\n",
      "“You also have to know how to give yourself a gap if necessary.”\n",
      "Jenica’s best friends, Clara and Anis, looked the same as usual, but they looked strangely more solemn today.\n",
      "It was the exact opposite of the academic atmosphere that was slowly becoming relaxed ahead of winter break.\n",
      "“What’s going on… Clara? You look so stern.”\n",
      "“Clara is going back to her parents’ house this vacation. I’m worried while she’s away.”\n",
      "Anise sipped her black tea with a cheerful expression.\n",
      "“Really? Well, last year, I went back to my parents’ house every vacation and helped with the work… so I feel anxious when I’m away from school. I know how it feels.”\n",
      "“That’s not true, Yenika! It’s not my academic schedule that worries me, it’s your love life!”Nôv(el)B\\\\jnn\n",
      "There is no hesitation in Clara’s blunt tone.\n",
      "Jenica took a deep breath after hearing those words, and as if asking what was wrong, Clara attacked her even more.\n",
      "“To put it bluntly, you were infatuated with that Ed Rothtaylor.”\n",
      "“Clara. Your expressions are too direct.”\n",
      "“I came with a firm decision today, Anise. Do you know why I lavished on Laplace Bakery’s finest refreshments? I need this much bait to catch Yenika, who seems so busy these days.”\n",
      "“You mean bait… It looks like I was caught.”\n",
      "Strictly speaking, the most accurate expression would be to be caught, but Anise did not necessarily express it explicitly.\n",
      "“And… my love story, what on earth is that…”\n",
      "“Yenika, if you’ve come this far, let’s not leave it out. I think you’ve slowly reached the danger line, Yenika.”\n",
      "You might think that Jenica Thane did a good job of hiding her love life, but it meant absolutely nothing to her best friends, Clara and Anis. Yenica’s inner thoughts are no different from a transparent glass window.\n",
      "“Danger line above?”\n",
      "“Yes, Yenika. To put it bluntly, you are a good ‘friend.’”\n",
      "Clara was talking openly with her arms crossed, and the elegant Anis was sipping tea and humming next to her.\n",
      "“It’s difficult for you to suddenly praise me like that…”\n",
      "“It’s a nice thing to say, but… it’s not a compliment, Yenika.”\n",
      "Clara glared at Jenica with a serious face.\n",
      "“When Yenika first fell for a person like Ed, she felt like she had lost her country… but as time went by and her evaluation of that person changed quite a bit, she started to accept it. So, the situation ended up like this, right?”\n",
      "“Okay, Clara…”\n",
      "“There’s no point in blushing and shaking your head now, Yenika. I think I can just leave now that I’m here. I’ve endured enough.”\n",
      "Only then did Jenica realize that this was all a trap for Clara and Anis.\n",
      "The reason for reserving the private terrace, which is said to be the most expensive at Laplace Bakery, was also to lead Jenica to a closed space out of fear that there would be people nearby eavesdropping.\n",
      "“Yenika, you are now ending your relationship as a good ‘friend’… You are following the golden pattern of the loser in relationships.”\n",
      "I heard an auditory hallucination as if a thunderbolt had struck.\n",
      "“What do you mean by that, Clara?”\n",
      "“Have you been with that child recently and said that your heart was pounding so hard that you couldn’t speak, or that you couldn’t look at your face because your heart was pounding?”\n",
      "“Why are you suddenly saying that?!”\n",
      "“Are you there? Answer me!”\n",
      "Isn’t it too direct a prescription for Yenika, who has no immunity?\n",
      "Anise, who was sitting quietly next to the story and listening to the story, felt very worried, but did not immediately intervene.\n",
      "“That’s…!”\n",
      "Yenika just swallowed her breath.\n",
      "Yes. I’m sure it’s because I’ve spent a lot of time with Ed Ross-Taylor compared to when I first met him… Now, when I sit next to him, I feel comfortable and warm rather than excited and nervous, so I feel like I’m being healed. If you think back to when you first became involved with him, it’s safe to say things have changed dramatically.\n",
      "Since it wasn’t a particularly negative feeling, I didn’t think it was that dangerous. Rather, I thought it was progress.\n",
      "“Do you know what to call such a comfortable and trustworthy human relationship? It’s called family or best friends. It’s just a relationship where you help Yenika however you want!”\n",
      "“Then… it doesn’t work…?”\n",
      "“Oh, Burns! What does emotional exchange mean if it only goes one way? You have to make him think of you desperately too! If he follows you around while saying he only likes you, is that a romantic relationship? It’s a following!”\n",
      "A dagger-like stab flies into Yenika’s chest.\n",
      "Suddenly, the faint sound of applause and the cheers of animals resound. Clara couldn’t hear it at all, but Anis, who had some level of spirit sensitivity, could vaguely hear it.\n",
      "It seems that the lower-level spirits who signed a master-servant contract with Yenika were words that they could not bear to utter. It felt refreshing.\n",
      "“I’ve been thinking about the wrong way to approach Yenika. Your charm is that you’re always gentle, bright, and kind, so trying to push around and be bad would be damaging to your charm. Definitely… I agree with Mr. Bell’s opinion in this regard. “I think this was more reasonable.”\n",
      "“What kind of exchange of opinions took place without me…?”\n",
      "“That’s enough, Jenika. Anyway, it’s already winter break. If you keep doing this, you open your eyes and cut your nose. Anyway, the man has a smooth face and strangely feminine clothes, so I shouldn’t drag on any longer. I need to slow down. But at a time like this, I “Don’t you think I’ll be anxious about having to go back to my hometown? Huh?”\n",
      "In front of Clara, who was venting her anger, Yenika had no choice but to sit still and listen to the story.\n",
      "He didn’t know why he felt like he was being scolded, but he felt like he was a criminal, so he stayed quiet.\n",
      "More than anything, Jenica trusts Clara.\n",
      "“Because Clara is very knowledgeable. And she’s good at human relations, so… I guess that’s right… right?”\n",
      "“Yes, Yenika! Listen to me!”\n",
      "Clara’s worries about returning home were slowly reaching their limit.\n",
      "“Anyway… this is what I felt while looking at Yenika recently… Yenika, you are hopelessly untalented when it comes to push and pull. No matter how you look at it, you need to revise your strategy.”\n",
      "“Ugh…”\n",
      "Jenica was speechless because there was nothing to point out.\n",
      "The skill of using love as bait to irritate, tickle, and tease others… seems like Lortel would be much more skilled at it than Yenica. She is a girl who has made it her business to play with people’s hearts from the beginning.\n",
      "I knew well that no matter how hard I tried, I wouldn’t be able to get my money’s worth.\n",
      "“In that sense, we have to change direction… Like I said at the beginning, the problem is that you are too good-looking, Yenika.”\n",
      "“What do you mean by that…?”\n",
      "“Listen, Yenika. You need to be a little meaner.”\n",
      "When I first see Yenika, I tend to think that she looks youthful and youthful on the inside due to her lively and lively appearance. In fact, there are parts like that. Like being extremely disciplined or being timid in strange ways.\n",
      "However, when it comes to the important parts, it is surprisingly sound and flawless.\n",
      "Despite this, he is confident in his self-management, works hard in everything, is altruistic, and is quite tolerant. He has a popular, cute appearance, is at the top of his grade, and is also very powerful.\n",
      "He’s such a perfect person that I’m proud to be his best friend… but now, that doesn’t always work as an advantage!\n",
      "“Listen carefully and follow along, Yenika.”\n",
      "Clara took on a serious mood and pronounced each word one by one while making direct eye contact with Yenika.\n",
      "“Protection instinct.”\n",
      "“See.. protect…?”\n",
      "“Protection instinct.”\n",
      "Yenica swallowed her saliva and with difficulty followed those words.\n",
      "“Originally, all men’s psychology is the same. Do you think she would like it if she was dependable, supportive, and positive like Yenika? No. Rather, she shows a difficult and weak side, so I have to constantly reassure her. Oh, I am helping this woman. She is dependent on me. “He’s relying on me emotionally. Continually confirm this to build his self-esteem and stimulate his protective instincts.”\n",
      "Anise exclaimed inwardly.\n",
      "Clara doesn’t have much dating experience, but surprisingly, the story gets to the point…!\n",
      "Is this the intuition of someone who has read shady behind-the-scenes love stories and all kinds of romance novels… and has ‘learned’ about dating…!\n",
      "“This suits Yenika better than some trivial push and pull.”\n",
      "“Well… that’s a bit ambiguous…”\n",
      "She expresses a dissenting opinion, which is unbecoming of Yenika. When Clara asks what that means, Yenica looks down, twirls her fingers, and speaks with difficulty.\n",
      "“Well… actually… I’m already leaning on you a lot emotionally…?”\n",
      "The reason why you can feel as if you have been relieved and healed even after living a bachelor’s life on thin ice or a dexterity life is because when you go to camp, Ed always greets you in the same way next to the campfire.\n",
      "When Ed withdrew his intention to come to the Dex building, one part of me was disappointed, but another part of me thought it was okay… That’s also why I thought it was okay.\n",
      "“But doesn’t Ed Rosstaylor know anything about that…?”\n",
      "“I guess that’s true… It certainly seems like Ed is having a hard time just living at camp and maintaining his bachelor’s life at the same time…”\n",
      "This was also one of the fundamental problems.\n",
      "Because he lives a life like an iron man, he has no time to turn his attention to dating. What Bel Maia pointed out was exactly correct.\n",
      "To get through this part, you really have no choice but to grab the man named Ed and shake him.\n",
      "“Then it’s just a lack of stimulation. Reveal your inner self more and get comforted! Aren’t you worried about the spectacle, Yenika? Wow, this would really be so difficult if I didn’t help… I’m worried!”\n",
      "“There’s no way such concerns could arise overnight…! Most of them have been resolved to some extent!”\n",
      "“Then create worries…! If you create worries that didn’t exist, they will inevitably arise!”\n",
      "“I’m so sorry if I made you worry by lying!”\n",
      "He had a history of acting harshly, but when Ed apologized sincerely, he couldn’t resist and lowered his head.\n",
      "Yenica’s conscience cannot withstand lies that do not work. However, if they have genuine concerns, most of them are able to solve them in their own way due to their ability.\n",
      "“But if you say you have something to worry about…”\n",
      "“What if you say you do?”\n",
      "Yenika thinks, “Hmm…” and then confesses it.\n",
      "“These days, Ed has been planning to use some tricks to make a contract with a high-ranking spirit…” “…”\n",
      "“\n",
      "I also lay in bed suffering for a few days after making a contract with Tarkan, but if Ed, who still lacks sensitivity, uses some tricks to make a contract, Wouldn’t it rather be damaging his body…? But Ed is the type of person who is greedy for his own growth… Also, it could work out well… Once you’ve decided, sometimes it’s right to push ahead boldly… I wonder if these opinions are just a distraction… Anyway, I’m a bit worried about that…”\n",
      "Seriously. It was something she said, but Clara patted her forehead with both hands and leaned against the backrest.\n",
      "Anis also sighed heavily and lifted the teacup to her mouth. In the end, even if the story goes this far, this girl is like this. How can she be like this when her nature is like this? Should I do it?\n",
      "That innocent girl tilted her head and looked at Clara and Anis. I actually liked that aspect of her, and when I thought about the fact that she became best friends with Jenica, I actually didn’t hate her.\n",
      "“I think it will be soon.”\n",
      "Laplace Bakery’s high-end store . After eating a lot of snacks and leaving Yenika with a satisfied look on her face… Clara and Anis walked side by side through the residential building.\n",
      "Clara did not think that Anis’ words were unexpected. Clara also had a certain intuition. However,\n",
      "the fact that Anis did not say a single proper word during the conversation with Yenika is quite unnatural. Whenever the\n",
      "three of them got together, they would always talk chatter… but today, Anis calmly only drank tea. Anis was drinking it all in.\n",
      "Unlike Clara, Anis is well-versed in relationships between men and women, but she was the last to realize that the person Yenika was attracted to was Ed. This was\n",
      "because she was busy with her work as a teaching assistant and her grades were so good that she was distracted.\n",
      "Freckles Clara, with her spiky hair, appears to be full of vitality, but her family is surprisingly well-off.\n",
      "On the other hand, Anis has an old-fashioned and elegant appearance, but is environmentally very poor. Therefore, she cannot neglect her work as a teaching assistant.\n",
      "“I know Clara well, too. “But…”\n",
      "“Yes. As expected, Yenika seems to be emotionally very concentrated.”\n",
      "Is life at Dex Hall the problem? Or is there some other reason?\n",
      "There are times when Yenika feels like she is overdoing things. She can’t hold back and explodes. If we consider this to be the Glaskan incident, there is a high possibility that Jenica’s concerns have not yet been resolved.\n",
      "It is a very subtle difference, so ordinary people cannot feel it, but Anis and Clara could feel it.\n",
      "If there is some trigger, it seems that they may reach their psychological limit again. A feeling… A feeling that some fundamental concerns have not been resolved…\n",
      "Still, I feel like I am being healed or my psychological weight is being relieved periodically.\n",
      "That person is most likely Ed Rothtaylor. I have\n",
      "such concerns from my best friends. It’s shameful that she didn’t confess and mentally look forward to it. If she didn’t reveal her worries in the end even though she kept secretly thinking about it until the end of the day… that was Yenika’s choice. I can’t say anything about it.\n",
      "However, Anise’s opinion is There was something a little different from Clara.\n",
      "“Clara noticed Yenika’s love first and seemed to have changed her opinion of the man after contacting Mr. Bell and the school staff… but my opinion is different.” Only then did\n",
      "Clara say . I felt like I knew what Anis was thinking.\n",
      "The reason she didn’t say anything while drinking tea while Yenica and Clara were arguing.\n",
      "“I’m not sure if I can completely trust that guy yet.”\n",
      "“Really…? Well, the mere fact that my reputation is improving is unsettling.” ”\n",
      "That’s true, but… the decisive reason is…”\n",
      "Anise lifted the thumb and index fingers of both hands and interlocked them to create a square. Then, she placed the faces of passers-by in it. “Contemplation.”\n",
      "“\n",
      "…”\n",
      "“Just looking at it, it’s a playboy’s physiognomy. “If you rely emotionally on a man who is obsessed with women, you will only end up getting hurt by Yenika.” I think it\n",
      "would be a bit too much to make such a conclusion just based on appearance… but it is difficult to refute that when you think of Ed Rothtaylor’s appearance. In fact, It’s true.\n",
      "“But it’s a bit too much to make a conclusion just based on the appearance…”\n",
      "As if reading Clara’s thoughts, Anise immediately says so.\n",
      "“I think we need some verification work of our own. At least I have to confirm that he is not a prostitute.”\n",
      "“How?”\n",
      "“Is there any good way?”\n",
      "Anise loosens the ribbon tying the back of her hair and sweeps her straight gray-brown hair to the side of her shoulder. She blinks her eyelashes, which are moderately long. He smiles naturally with a face full of cowardice.\n",
      "“Wow.” really? Aren’t you overdoing it? You don’t have that thick of a face.”\n",
      "“Well, what great skill would be needed. If you’re really a slut, you’ll fall for it even\n",
      "if you just flirt a little, right?” “What if you really fall for it and you’re convinced that he’s a slut?”\n",
      "Anis spoke matter-of-factly with her characteristic aristocratic smile.\n",
      "“If that’s the case, I’ll take responsibility and break up with Yenika. I have to let it go.”\n",
      "… It’s scary.\n",
      "Clara and Anise’s opinions weren’t always the same, but I never thought they would come out this strongly. Their thoughts on Yenika were always the same, but their methods were different.\n",
      "“Anis . You don’t have much contact with that guy. From what I heard, you don’t live in a dorm, so\n",
      "you’re a bit shy…” “Well, there’s no rule that says you can’t flirt just because you don’t see each other often… Still, it’s true that it’s easier to flirt if you share a lot of time. Don’t worry Clara. Because everyone has their own thoughts.” It\n",
      "‘s when Anis has this kind of confidence that she feels the most uneasy.\n",
      "You shouldn’t mistake her for always being a calm and elegant person just by looking at her appearance.\n",
      "“You know my advisor, right?”\n",
      "“Assistant Professor Claire?”\n",
      "“Yes. Due to the workload this time, we decided to receive a lot of support from bachelor’s scholarship students. It was definitely very busy even before that due to a lack of manpower in the lab.” Anis is Claire’s chief teaching assistant. Since they have been together since the first semester of their first year, Assistant Professor Claire tended to trust Anis a lot.\n",
      "“From what I heard, she was very busy.\n",
      "I heard that men also applied for undergraduate scholarships. If I recommend it to the professor, he might be attracted to our lab. These days, they tend to give us a generous amount of manpower.”\n",
      "“…”\n",
      "“We already have to process documents for the academic society, and we didn’t have enough manpower to take charge of the placement test for new students during the vacation… but it worked out well. Killing two birds\n",
      "with one stone.” Anis said and nodded with a firm face.\n",
      "Clara looked at Anis with an anxious face.\n",
      "Was it really a good thing that she decided to go back to her parents’ house during this vacation? When she returned after vacation, there was an upheaval in human relationships. It must not be happening.\n",
      "Was it a good idea to bring Ed Rothtaylor into Assistant Professor Claire’s lab for this trivial reason?\n",
      "I couldn’t shake that thought.\n",
      "* [New finished product]\n",
      "Wooden wall After making grooves in the wooden plywood and fixing them together. I tied it with a rope once more and set it upright.\n",
      "It prevents wild animals from approaching the camp and blocks drafts to some extent.\n",
      "Production difficulty: ●●◐○○ [Production skill level has increased.]\n",
      "Winter has come.\n",
      "The snow that seemed cozy has piled up. It’s a disaster to see.\n",
      "I woke up in the morning, cleared away all the snow along the camp route, and put up the wall to block the draft, and the sun was already high\n",
      ". It’s been a while since I made a policy not to overwork myself just because I have a lot of work to do.\n",
      "Until late in the afternoon. I turned off the heating and lay down in the cabin with the intention of lying down and resting.\n",
      "It would be too cold at night… Let’s get up around sunset and finish the firewood and food work. Still, thanks to the cold weather, the preservation of the food itself was poor. It’s good news that things are getting better.\n",
      "Plus, tomorrow I’ll be called in to do some work for a bachelor’s scholarship student. They said it won’t be too physically demanding and they’ll give me the work as long as it doesn’t take up too much of my time. They said I\n",
      "could take the paperwork and the like back to the dormitory and handle it. … Well, anyway, you just need to be able to juggle it with survival life.\n",
      "There was a lot to do. I\n",
      "had to go to the Elte Sanghoe branch in the residential building to find out what was going on with the magic engineering supplies, and also check my grades on the end-of-semester exam. As for the\n",
      "camp, right away. There is no problem with living… but just periodically clearing snow is hard work. Even for\n",
      "the roof of the cabin, the shelter tents or simple facilities erected outside can collapse under the weight of the snow if you are not careful. Make sure to check the condition regularly. There is a need.\n",
      "Still… I received a certain amount of tuition exemption through an undergraduate scholarship, and negotiated to receive tuition benefits for the remaining amount that was not exempted in exchange for giving up my right to move into the dormitory. Somehow, the tuition issue has been resolved until the next semester.\n",
      "That alone made me feel like a lot of things had been mentally liberated, so my shoulders have become much lighter these days.\n",
      "To some extent, we spent some money to replenish supplies. I now have the freedom to lead a leisurely camp life. It’s no longer necessary to split every day and live like a crazy person like in the early days.\n",
      "I stopped dividing my day into hours. I divided my work into five sections: morning, lunch, afternoon, evening, and night, and made a plan for my work. Still, I was still busy… It depends on people adapting, but compared to before, I felt like a fairy.\n",
      "When I opened my eyes in the late afternoon, Lucy was lying on the blanket.\n",
      "He was sleeping diagonally with me, spread out in the shape of a cross. I have no intention of waking up when I hear the sound of my body breathing softly.\n",
      "“…”\n",
      "I was about to pick up Lucy and throw her back into the wooden rest area that was reserved for her, but… I thought it wouldn’t be a good idea to throw her outside in this cold winter.\n",
      "The cold wouldn’t be much of a problem for Lucy, who was wrapped in all kinds of protective magic anyway… but it was still a matter of mood.\n",
      "I just threw Lucy on the bed in the cabin, opened the door, and came out and woke up to the cold air.\n",
      "As I take a deep breath, steam comes out from the corner of my mouth. The refreshing air of the winter forest suddenly awakened my consciousness.\n",
      "“…I’ll do it soon.”\n",
      "No matter what you do, you have to take risks.\n",
      "If you hesitate for no reason and miss the right time, things become more ambiguous.\n",
      "There can be no better time than now.\n",
      "I repeated this to myself and took out a ring with a golden phoenix carved from my chest.\n",
      "And he clenched his fists and held them up to his chest.\n",
      "“Are you even listening?”\n",
      "I don’t know if it will exist or not. Still, I dare to call that name.\n",
      "“…Merylda.”\n",
      "The wind blew.\n",
      "Despite the cold winter wind, it felt strangely cozy.\n",
      "\n",
      "</body></html>\n",
      "Title: nav.xhtml\n",
      "Done\n"
     ]
    }
   ],
   "source": [
    "#Preview\n",
    "\n",
    "for item in novel.get_items():\n",
    "    if item.get_type() == ITEM_DOCUMENT:\n",
    "        try:\n",
    "            print(f\"Title: {item.get_name()}\")\n",
    "            \n",
    "            print('Done')\n",
    "        except:\n",
    "            continue\n",
    "    if 'Chapter' in item.get_name():\n",
    "        print('1')\n",
    "        print(item.content)"
   ]
  },
  {
   "cell_type": "code",
   "execution_count": 279,
   "id": "8bbf8e5b",
   "metadata": {
    "ExecuteTime": {
     "end_time": "2025-02-06T23:34:50.796698Z",
     "start_time": "2025-02-06T23:34:50.758713Z"
    }
   },
   "outputs": [
    {
     "name": "stdout",
     "output_type": "stream",
     "text": [
      "EPUB created successfully!\n"
     ]
    }
   ],
   "source": [
    "# Write the EPUB file\n",
    "epub.write_epub(f\"{novel_title}.epub\", novel)\n",
    "print(\"EPUB created successfully!\")"
   ]
  },
  {
   "cell_type": "code",
   "execution_count": 231,
   "id": "e6106552",
   "metadata": {
    "ExecuteTime": {
     "end_time": "2025-02-06T23:24:39.404145Z",
     "start_time": "2025-02-06T23:24:39.393151Z"
    }
   },
   "outputs": [
    {
     "data": {
      "text/plain": [
       "'<html>\\n<h1>Chapter 68</h1>\\n<p>If a human’s life is like the four seasons, a spirit’s life is definitely a long winter.\\n\\n\\nThe giant wind wolf was protecting the forest, looking at everything dying.\\n*\\n“You’re too good-looking, that’s the problem, Yenika.”\\nLaplace Bakery, located at the entrance of the living building, is a historic tea shop with a history with Sylvania Academy.\\nA terrace with an atmosphere full of the taste of refreshments and the scent of flowers, managed by a former imperial pastry chef and located large on the route leading to Gyosu-dong.\\nThe appearance that seems to embody the romance of a girl is the secret to maintaining its own territory even in the commercial area of Seongdong-dong, which is being encroached one by one by Elte Trading Company.\\nSince Jenica was a girl of that age, she had no choice but to tag along when Clara said she was going to have a bite at Laplace Bakery.\\nA three-tiered dessert tray is filled with cakes of all kinds of dazzling colors. He had just taken a cup of black tea with a brilliant light shining in his eyes.\\n“It’s good to try hard in everything, but it’s hard when you’re too successful. Do you know what I’m saying, Yenika?”\\n“Yes?”\\n“You also have to know how to give yourself a gap if necessary.”\\nJenica’s best friends, Clara and Anis, looked the same as usual, but they looked strangely more solemn today.\\nIt was the exact opposite of the academic atmosphere that was slowly becoming relaxed ahead of winter break.\\n“What’s going on… Clara? You look so stern.”\\n“Clara is going back to her parents’ house this vacation. I’m worried while she’s away.”\\nAnise sipped her black tea with a cheerful expression.\\n“Really? Well, last year, I went back to my parents’ house every vacation and helped with the work… so I feel anxious when I’m away from school. I know how it feels.”\\n“That’s not true, Yenika! It’s not my academic schedule that worries me, it’s your love life!”Nôv(el)B\\\\\\\\jnn\\nThere is no hesitation in Clara’s blunt tone.\\nJenica took a deep breath after hearing those words, and as if asking what was wrong, Clara attacked her even more.\\n“To put it bluntly, you were infatuated with that Ed Rothtaylor.”\\n“Clara. Your expressions are too direct.”\\n“I came with a firm decision today, Anise. Do you know why I lavished on Laplace Bakery’s finest refreshments? I need this much bait to catch Yenika, who seems so busy these days.”\\n“You mean bait… It looks like I was caught.”\\nStrictly speaking, the most accurate expression would be to be caught, but Anise did not necessarily express it explicitly.\\n“And… my love story, what on earth is that…”\\n“Yenika, if you’ve come this far, let’s not leave it out. I think you’ve slowly reached the danger line, Yenika.”\\nYou might think that Jenica Thane did a good job of hiding her love life, but it meant absolutely nothing to her best friends, Clara and Anis. Yenica’s inner thoughts are no different from a transparent glass window.\\n“Danger line above?”\\n“Yes, Yenika. To put it bluntly, you are a good ‘friend.’”\\nClara was talking openly with her arms crossed, and the elegant Anis was sipping tea and humming next to her.\\n“It’s difficult for you to suddenly praise me like that…”\\n“It’s a nice thing to say, but… it’s not a compliment, Yenika.”\\nClara glared at Jenica with a serious face.\\n“When Yenika first fell for a person like Ed, she felt like she had lost her country… but as time went by and her evaluation of that person changed quite a bit, she started to accept it. So, the situation ended up like this, right?”\\n“Okay, Clara…”\\n“There’s no point in blushing and shaking your head now, Yenika. I think I can just leave now that I’m here. I’ve endured enough.”\\nOnly then did Jenica realize that this was all a trap for Clara and Anis.\\nThe reason for reserving the private terrace, which is said to be the most expensive at Laplace Bakery, was also to lead Jenica to a closed space out of fear that there would be people nearby eavesdropping.\\n“Yenika, you are now ending your relationship as a good ‘friend’… You are following the golden pattern of the loser in relationships.”\\nI heard an auditory hallucination as if a thunderbolt had struck.\\n“What do you mean by that, Clara?”\\n“Have you been with that child recently and said that your heart was pounding so hard that you couldn’t speak, or that you couldn’t look at your face because your heart was pounding?”\\n“Why are you suddenly saying that?!”\\n“Are you there? Answer me!”\\nIsn’t it too direct a prescription for Yenika, who has no immunity?\\nAnise, who was sitting quietly next to the story and listening to the story, felt very worried, but did not immediately intervene.\\n“That’s…!”\\nYenika just swallowed her breath.\\nYes. I’m sure it’s because I’ve spent a lot of time with Ed Ross-Taylor compared to when I first met him… Now, when I sit next to him, I feel comfortable and warm rather than excited and nervous, so I feel like I’m being healed. If you think back to when you first became involved with him, it’s safe to say things have changed dramatically.\\nSince it wasn’t a particularly negative feeling, I didn’t think it was that dangerous. Rather, I thought it was progress.\\n“Do you know what to call such a comfortable and trustworthy human relationship? It’s called family or best friends. It’s just a relationship where you help Yenika however you want!”\\n“Then… it doesn’t work…?”\\n“Oh, Burns! What does emotional exchange mean if it only goes one way? You have to make him think of you desperately too! If he follows you around while saying he only likes you, is that a romantic relationship? It’s a following!”\\nA dagger-like stab flies into Yenika’s chest.\\nSuddenly, the faint sound of applause and the cheers of animals resound. Clara couldn’t hear it at all, but Anis, who had some level of spirit sensitivity, could vaguely hear it.\\nIt seems that the lower-level spirits who signed a master-servant contract with Yenika were words that they could not bear to utter. It felt refreshing.\\n“I’ve been thinking about the wrong way to approach Yenika. Your charm is that you’re always gentle, bright, and kind, so trying to push around and be bad would be damaging to your charm. Definitely… I agree with Mr. Bell’s opinion in this regard. “I think this was more reasonable.”\\n“What kind of exchange of opinions took place without me…?”\\n“That’s enough, Jenika. Anyway, it’s already winter break. If you keep doing this, you open your eyes and cut your nose. Anyway, the man has a smooth face and strangely feminine clothes, so I shouldn’t drag on any longer. I need to slow down. But at a time like this, I “Don’t you think I’ll be anxious about having to go back to my hometown? Huh?”\\nIn front of Clara, who was venting her anger, Yenika had no choice but to sit still and listen to the story.\\nHe didn’t know why he felt like he was being scolded, but he felt like he was a criminal, so he stayed quiet.\\nMore than anything, Jenica trusts Clara.\\n“Because Clara is very knowledgeable. And she’s good at human relations, so… I guess that’s right… right?”\\n“Yes, Yenika! Listen to me!”\\nClara’s worries about returning home were slowly reaching their limit.\\n“Anyway… this is what I felt while looking at Yenika recently… Yenika, you are hopelessly untalented when it comes to push and pull. No matter how you look at it, you need to revise your strategy.”\\n“Ugh…”\\nJenica was speechless because there was nothing to point out.\\nThe skill of using love as bait to irritate, tickle, and tease others… seems like Lortel would be much more skilled at it than Yenica. She is a girl who has made it her business to play with people’s hearts from the beginning.\\nI knew well that no matter how hard I tried, I wouldn’t be able to get my money’s worth.\\n“In that sense, we have to change direction… Like I said at the beginning, the problem is that you are too good-looking, Yenika.”\\n“What do you mean by that…?”\\n“Listen, Yenika. You need to be a little meaner.”\\nWhen I first see Yenika, I tend to think that she looks youthful and youthful on the inside due to her lively and lively appearance. In fact, there are parts like that. Like being extremely disciplined or being timid in strange ways.\\nHowever, when it comes to the important parts, it is surprisingly sound and flawless.\\nDespite this, he is confident in his self-management, works hard in everything, is altruistic, and is quite tolerant. He has a popular, cute appearance, is at the top of his grade, and is also very powerful.\\nHe’s such a perfect person that I’m proud to be his best friend… but now, that doesn’t always work as an advantage!\\n“Listen carefully and follow along, Yenika.”\\nClara took on a serious mood and pronounced each word one by one while making direct eye contact with Yenika.\\n“Protection instinct.”\\n“See.. protect…?”\\n“Protection instinct.”\\nYenica swallowed her saliva and with difficulty followed those words.\\n“Originally, all men’s psychology is the same. Do you think she would like it if she was dependable, supportive, and positive like Yenika? No. Rather, she shows a difficult and weak side, so I have to constantly reassure her. Oh, I am helping this woman. She is dependent on me. “He’s relying on me emotionally. Continually confirm this to build his self-esteem and stimulate his protective instincts.”\\nAnise exclaimed inwardly.\\nClara doesn’t have much dating experience, but surprisingly, the story gets to the point…!\\nIs this the intuition of someone who has read shady behind-the-scenes love stories and all kinds of romance novels… and has ‘learned’ about dating…!\\n“This suits Yenika better than some trivial push and pull.”\\n“Well… that’s a bit ambiguous…”\\nShe expresses a dissenting opinion, which is unbecoming of Yenika. When Clara asks what that means, Yenica looks down, twirls her fingers, and speaks with difficulty.\\n“Well… actually… I’m already leaning on you a lot emotionally…?”\\nThe reason why you can feel as if you have been relieved and healed even after living a bachelor’s life on thin ice or a dexterity life is because when you go to camp, Ed always greets you in the same way next to the campfire.\\nWhen Ed withdrew his intention to come to the Dex building, one part of me was disappointed, but another part of me thought it was okay… That’s also why I thought it was okay.\\n“But doesn’t Ed Rosstaylor know anything about that…?”\\n“I guess that’s true… It certainly seems like Ed is having a hard time just living at camp and maintaining his bachelor’s life at the same time…”\\nThis was also one of the fundamental problems.\\nBecause he lives a life like an iron man, he has no time to turn his attention to dating. What Bel Maia pointed out was exactly correct.\\nTo get through this part, you really have no choice but to grab the man named Ed and shake him.\\n“Then it’s just a lack of stimulation. Reveal your inner self more and get comforted! Aren’t you worried about the spectacle, Yenika? Wow, this would really be so difficult if I didn’t help… I’m worried!”\\n“There’s no way such concerns could arise overnight…! Most of them have been resolved to some extent!”\\n“Then create worries…! If you create worries that didn’t exist, they will inevitably arise!”\\n“I’m so sorry if I made you worry by lying!”\\nHe had a history of acting harshly, but when Ed apologized sincerely, he couldn’t resist and lowered his head.\\nYenica’s conscience cannot withstand lies that do not work. However, if they have genuine concerns, most of them are able to solve them in their own way due to their ability.\\n“But if you say you have something to worry about…”\\n“What if you say you do?”\\nYenika thinks, “Hmm…” and then confesses it.\\n“These days, Ed has been planning to use some tricks to make a contract with a high-ranking spirit…” “…”\\n“\\nI also lay in bed suffering for a few days after making a contract with Tarkan, but if Ed, who still lacks sensitivity, uses some tricks to make a contract, Wouldn’t it rather be damaging his body…? But Ed is the type of person who is greedy for his own growth… Also, it could work out well… Once you’ve decided, sometimes it’s right to push ahead boldly… I wonder if these opinions are just a distraction… Anyway, I’m a bit worried about that…”\\nSeriously. It was something she said, but Clara patted her forehead with both hands and leaned against the backrest.\\nAnis also sighed heavily and lifted the teacup to her mouth. In the end, even if the story goes this far, this girl is like this. How can she be like this when her nature is like this? Should I do it?\\nThat innocent girl tilted her head and looked at Clara and Anis. I actually liked that aspect of her, and when I thought about the fact that she became best friends with Jenica, I actually didn’t hate her.\\n“I think it will be soon.”\\nLaplace Bakery’s high-end store . After eating a lot of snacks and leaving Yenika with a satisfied look on her face… Clara and Anis walked side by side through the residential building.\\nClara did not think that Anis’ words were unexpected. Clara also had a certain intuition. However,\\nthe fact that Anis did not say a single proper word during the conversation with Yenika is quite unnatural. Whenever the\\nthree of them got together, they would always talk chatter… but today, Anis calmly only drank tea. Anis was drinking it all in.\\nUnlike Clara, Anis is well-versed in relationships between men and women, but she was the last to realize that the person Yenika was attracted to was Ed. This was\\nbecause she was busy with her work as a teaching assistant and her grades were so good that she was distracted.\\nFreckles Clara, with her spiky hair, appears to be full of vitality, but her family is surprisingly well-off.\\nOn the other hand, Anis has an old-fashioned and elegant appearance, but is environmentally very poor. Therefore, she cannot neglect her work as a teaching assistant.\\n“I know Clara well, too. “But…”\\n“Yes. As expected, Yenika seems to be emotionally very concentrated.”\\nIs life at Dex Hall the problem? Or is there some other reason?\\nThere are times when Yenika feels like she is overdoing things. She can’t hold back and explodes. If we consider this to be the Glaskan incident, there is a high possibility that Jenica’s concerns have not yet been resolved.\\nIt is a very subtle difference, so ordinary people cannot feel it, but Anis and Clara could feel it.\\nIf there is some trigger, it seems that they may reach their psychological limit again. A feeling… A feeling that some fundamental concerns have not been resolved…\\nStill, I feel like I am being healed or my psychological weight is being relieved periodically.\\nThat person is most likely Ed Rothtaylor. I have\\nsuch concerns from my best friends. It’s shameful that she didn’t confess and mentally look forward to it. If she didn’t reveal her worries in the end even though she kept secretly thinking about it until the end of the day… that was Yenika’s choice. I can’t say anything about it.\\nHowever, Anise’s opinion is There was something a little different from Clara.\\n“Clara noticed Yenika’s love first and seemed to have changed her opinion of the man after contacting Mr. Bell and the school staff… but my opinion is different.” Only then did\\nClara say . I felt like I knew what Anis was thinking.\\nThe reason she didn’t say anything while drinking tea while Yenica and Clara were arguing.\\n“I’m not sure if I can completely trust that guy yet.”\\n“Really…? Well, the mere fact that my reputation is improving is unsettling.” ”\\nThat’s true, but… the decisive reason is…”\\nAnise lifted the thumb and index fingers of both hands and interlocked them to create a square. Then, she placed the faces of passers-by in it. “Contemplation.”\\n“\\n…”\\n“Just looking at it, it’s a playboy’s physiognomy. “If you rely emotionally on a man who is obsessed with women, you will only end up getting hurt by Yenika.” I think it\\nwould be a bit too much to make such a conclusion just based on appearance… but it is difficult to refute that when you think of Ed Rothtaylor’s appearance. In fact, It’s true.\\n“But it’s a bit too much to make a conclusion just based on the appearance…”\\nAs if reading Clara’s thoughts, Anise immediately says so.\\n“I think we need some verification work of our own. At least I have to confirm that he is not a prostitute.”\\n“How?”\\n“Is there any good way?”\\nAnise loosens the ribbon tying the back of her hair and sweeps her straight gray-brown hair to the side of her shoulder. She blinks her eyelashes, which are moderately long. He smiles naturally with a face full of cowardice.\\n“Wow.” really? Aren’t you overdoing it? You don’t have that thick of a face.”\\n“Well, what great skill would be needed. If you’re really a slut, you’ll fall for it even\\nif you just flirt a little, right?” “What if you really fall for it and you’re convinced that he’s a slut?”\\nAnis spoke matter-of-factly with her characteristic aristocratic smile.\\n“If that’s the case, I’ll take responsibility and break up with Yenika. I have to let it go.”\\n… It’s scary.\\nClara and Anise’s opinions weren’t always the same, but I never thought they would come out this strongly. Their thoughts on Yenika were always the same, but their methods were different.\\n“Anis . You don’t have much contact with that guy. From what I heard, you don’t live in a dorm, so\\nyou’re a bit shy…” “Well, there’s no rule that says you can’t flirt just because you don’t see each other often… Still, it’s true that it’s easier to flirt if you share a lot of time. Don’t worry Clara. Because everyone has their own thoughts.” It\\n‘s when Anis has this kind of confidence that she feels the most uneasy.\\nYou shouldn’t mistake her for always being a calm and elegant person just by looking at her appearance.\\n“You know my advisor, right?”\\n“Assistant Professor Claire?”\\n“Yes. Due to the workload this time, we decided to receive a lot of support from bachelor’s scholarship students. It was definitely very busy even before that due to a lack of manpower in the lab.” Anis is Claire’s chief teaching assistant. Since they have been together since the first semester of their first year, Assistant Professor Claire tended to trust Anis a lot.\\n“From what I heard, she was very busy.\\nI heard that men also applied for undergraduate scholarships. If I recommend it to the professor, he might be attracted to our lab. These days, they tend to give us a generous amount of manpower.”\\n“…”\\n“We already have to process documents for the academic society, and we didn’t have enough manpower to take charge of the placement test for new students during the vacation… but it worked out well. Killing two birds\\nwith one stone.” Anis said and nodded with a firm face.\\nClara looked at Anis with an anxious face.\\nWas it really a good thing that she decided to go back to her parents’ house during this vacation? When she returned after vacation, there was an upheaval in human relationships. It must not be happening.\\nWas it a good idea to bring Ed Rothtaylor into Assistant Professor Claire’s lab for this trivial reason?\\nI couldn’t shake that thought.\\n* [New finished product]\\nWooden wall After making grooves in the wooden plywood and fixing them together. I tied it with a rope once more and set it upright.\\nIt prevents wild animals from approaching the camp and blocks drafts to some extent.\\nProduction difficulty: ●●◐○○ [Production skill level has increased.]\\nWinter has come.\\nThe snow that seemed cozy has piled up. It’s a disaster to see.\\nI woke up in the morning, cleared away all the snow along the camp route, and put up the wall to block the draft, and the sun was already high\\n. It’s been a while since I made a policy not to overwork myself just because I have a lot of work to do.\\nUntil late in the afternoon. I turned off the heating and lay down in the cabin with the intention of lying down and resting.\\nIt would be too cold at night… Let’s get up around sunset and finish the firewood and food work. Still, thanks to the cold weather, the preservation of the food itself was poor. It’s good news that things are getting better.\\nPlus, tomorrow I’ll be called in to do some work for a bachelor’s scholarship student. They said it won’t be too physically demanding and they’ll give me the work as long as it doesn’t take up too much of my time. They said I\\ncould take the paperwork and the like back to the dormitory and handle it. … Well, anyway, you just need to be able to juggle it with survival life.\\nThere was a lot to do. I\\nhad to go to the Elte Sanghoe branch in the residential building to find out what was going on with the magic engineering supplies, and also check my grades on the end-of-semester exam. As for the\\ncamp, right away. There is no problem with living… but just periodically clearing snow is hard work. Even for\\nthe roof of the cabin, the shelter tents or simple facilities erected outside can collapse under the weight of the snow if you are not careful. Make sure to check the condition regularly. There is a need.\\nStill… I received a certain amount of tuition exemption through an undergraduate scholarship, and negotiated to receive tuition benefits for the remaining amount that was not exempted in exchange for giving up my right to move into the dormitory. Somehow, the tuition issue has been resolved until the next semester.\\nThat alone made me feel like a lot of things had been mentally liberated, so my shoulders have become much lighter these days.\\nTo some extent, we spent some money to replenish supplies. I now have the freedom to lead a leisurely camp life. It’s no longer necessary to split every day and live like a crazy person like in the early days.\\nI stopped dividing my day into hours. I divided my work into five sections: morning, lunch, afternoon, evening, and night, and made a plan for my work. Still, I was still busy… It depends on people adapting, but compared to before, I felt like a fairy.\\nWhen I opened my eyes in the late afternoon, Lucy was lying on the blanket.\\nHe was sleeping diagonally with me, spread out in the shape of a cross. I have no intention of waking up when I hear the sound of my body breathing softly.\\n“…”\\nI was about to pick up Lucy and throw her back into the wooden rest area that was reserved for her, but… I thought it wouldn’t be a good idea to throw her outside in this cold winter.\\nThe cold wouldn’t be much of a problem for Lucy, who was wrapped in all kinds of protective magic anyway… but it was still a matter of mood.\\nI just threw Lucy on the bed in the cabin, opened the door, and came out and woke up to the cold air.\\nAs I take a deep breath, steam comes out from the corner of my mouth. The refreshing air of the winter forest suddenly awakened my consciousness.\\n“…I’ll do it soon.”\\nNo matter what you do, you have to take risks.\\nIf you hesitate for no reason and miss the right time, things become more ambiguous.\\nThere can be no better time than now.\\nI repeated this to myself and took out a ring with a golden phoenix carved from my chest.\\nAnd he clenched his fists and held them up to his chest.\\n“Are you even listening?”\\nI don’t know if it will exist or not. Still, I dare to call that name.\\n“…Merylda.”\\nThe wind blew.\\nDespite the cold winter wind, it felt strangely cozy.\\n\\n</p>\\n</html>'"
      ]
     },
     "execution_count": 231,
     "metadata": {},
     "output_type": "execute_result"
    }
   ],
   "source": [
    "f\"\"\"<html>\n",
    "<h1>Chapter {ch_num}</h1>\n",
    "<p>{content}</p>\n",
    "</html>\"\"\""
   ]
  },
  {
   "cell_type": "code",
   "execution_count": 277,
   "id": "cda19bd5",
   "metadata": {
    "ExecuteTime": {
     "end_time": "2025-02-06T23:33:41.458054Z",
     "start_time": "2025-02-06T23:33:41.431070Z"
    }
   },
   "outputs": [
    {
     "name": "stderr",
     "output_type": "stream",
     "text": [
      "C:\\Users\\HP 15\\AppData\\Local\\Programs\\Python\\Python39\\lib\\site-packages\\ebooklib\\epub.py:1395: UserWarning: In the future version we will turn default option ignore_ncx to True.\n",
      "  warnings.warn('In the future version we will turn default option ignore_ncx to True.')\n"
     ]
    }
   ],
   "source": [
    "trial = epub.read_epub(\"The Extra’s Academy Survival Guide.epub\")"
   ]
  },
  {
   "cell_type": "code",
   "execution_count": 278,
   "id": "bb59bdc8",
   "metadata": {
    "ExecuteTime": {
     "end_time": "2025-02-06T23:33:42.488127Z",
     "start_time": "2025-02-06T23:33:42.467119Z"
    }
   },
   "outputs": [
    {
     "name": "stdout",
     "output_type": "stream",
     "text": [
      "<EpubCover:cover-img:the-extras-academy-survival-guide.jpg>\n",
      "<EpubHtml:cover:cover.xhtml>\n",
      "<EpubHtml:chapter_0:Chapter 69.xhtml>\n",
      "<EpubNav:nav:nav.xhtml>\n",
      "<EpubNcx:ncx>\n",
      "<EpubHtml:chapter_1:Chapter 70.xhtml>\n"
     ]
    }
   ],
   "source": [
    "for i in trial.get_items():\n",
    "    print(i)"
   ]
  },
  {
   "cell_type": "code",
   "execution_count": null,
   "id": "1edb0362",
   "metadata": {},
   "outputs": [],
   "source": []
  },
  {
   "cell_type": "code",
   "execution_count": null,
   "id": "cf5627e1",
   "metadata": {},
   "outputs": [],
   "source": []
  },
  {
   "cell_type": "code",
   "execution_count": null,
   "id": "ee696065",
   "metadata": {},
   "outputs": [],
   "source": []
  },
  {
   "cell_type": "code",
   "execution_count": null,
   "id": "355c3e70",
   "metadata": {},
   "outputs": [],
   "source": []
  },
  {
   "cell_type": "code",
   "execution_count": null,
   "id": "b696d54d",
   "metadata": {},
   "outputs": [],
   "source": []
  },
  {
   "cell_type": "code",
   "execution_count": 283,
   "id": "72663110",
   "metadata": {
    "ExecuteTime": {
     "end_time": "2025-02-06T23:52:07.436004Z",
     "start_time": "2025-02-06T23:52:05.524123Z"
    }
   },
   "outputs": [
    {
     "name": "stdout",
     "output_type": "stream",
     "text": [
      "Chapter 68..........\n",
      "Chapter Added\n",
      "Chapter 69..........\n",
      "Chapter Added\n",
      "Chapter 70..........\n",
      "Chapter Added\n"
     ]
    }
   ],
   "source": [
    "#ch_num = 68\n",
    "sta = 68\n",
    "end_ch = 70\n",
    "\n",
    "novel = epub.EpubBook()\n",
    "\n",
    "#adding cover\n",
    "with open(\"the-extras-academy-survival-guide.jpg\", \"rb\") as img:\n",
    "    novel.set_cover(\"the-extras-academy-survival-guide.jpg\", img.read())\n",
    "\n",
    "#Setting title and language\n",
    "novel.set_title(title)\n",
    "\n",
    "novel.set_language(\"en\")\n",
    "\n",
    "spine_novel = ['nav']\n",
    "TOC =[]\n",
    "for ch_num in range(sta, end_ch+1):\n",
    "    print(f'Chapter {ch_num}....', end='')\n",
    "    \n",
    "    source = requests.get(url+str(ch_num)).text\n",
    "    soup = BeautifulSoup(source, 'lxml')\n",
    "\n",
    "    ch_content = soup.find('div', class_=\"chr-c\" ).text\n",
    "\n",
    "    ##Removing Chapter title from chapter content\n",
    "    ch_content = ch_content.split('\\n')\n",
    "\n",
    "    ch_title = ''\n",
    "    i=0\n",
    "\n",
    "    while ch_title == '':\n",
    "        ch_title = ch_content[i]\n",
    "        i+=1\n",
    "\n",
    "    ch_content = '\\n'.join(ch_content[i:])\n",
    "\n",
    "    title = soup.title.text\n",
    "\n",
    "    ##Assigning Chapter number and name to ch_title\n",
    "    if 'Chapter' in title:\n",
    "        for i in range(len(title)-1):\n",
    "            if title[i].isnumeric() and not title[i+1].isnumeric():\n",
    "\n",
    "                title = title[:i+1].split('#')\n",
    "                ch_title = title[-1] +' '+ str(ch_title)\n",
    "                title = title[0]\n",
    "\n",
    "                break      \n",
    "    print('......')\n",
    "    #Adding content\n",
    "    novel_chapter = epub.EpubHtml(title=ch_title,\n",
    "                                  file_name=f\"chapter{ch_num}.xhtml\",\n",
    "                                  lang='en')\n",
    "    novel_chapter.set_content(f\"\"\"<html><h1>Chapter {ch_num}</h1><body>{content}</body></html>\"\"\")\n",
    "\n",
    "    novel.add_item(novel_chapter)\n",
    "    \n",
    "    spine_novel.append(novel_chapter)\n",
    "    TOC.append(novel_chapter)\n",
    "    print('Chapter Added')\n",
    "    #if ch_num < end_ch:\n",
    "     #   ch_num+=1"
   ]
  },
  {
   "cell_type": "code",
   "execution_count": 289,
   "id": "6a674316",
   "metadata": {
    "ExecuteTime": {
     "end_time": "2025-02-06T23:54:17.724616Z",
     "start_time": "2025-02-06T23:54:17.666780Z"
    }
   },
   "outputs": [
    {
     "name": "stdout",
     "output_type": "stream",
     "text": [
      "Title: cover.xhtml\n",
      "Done\n",
      "Title: chapter68.xhtml\n",
      "Done\n",
      "Title: chapter69.xhtml\n",
      "Done\n",
      "Title: chapter70.xhtml\n",
      "Done\n",
      "Title: nav.xhtml\n",
      "Done\n",
      "Title: nav.xhtml\n",
      "Done\n",
      "EPUB created successfully!\n"
     ]
    },
    {
     "name": "stderr",
     "output_type": "stream",
     "text": [
      "C:\\Users\\HP 15\\AppData\\Local\\Programs\\Python\\Python39\\lib\\zipfile.py:1505: UserWarning: Duplicate name: 'EPUB/nav.xhtml'\n",
      "  return self._open_to_write(zinfo, force_zip64=force_zip64)\n",
      "C:\\Users\\HP 15\\AppData\\Local\\Programs\\Python\\Python39\\lib\\zipfile.py:1505: UserWarning: Duplicate name: 'EPUB/toc.ncx'\n",
      "  return self._open_to_write(zinfo, force_zip64=force_zip64)\n"
     ]
    }
   ],
   "source": [
    "# Add navigation and define spine\n",
    "novel.add_item(epub.EpubNav())\n",
    "novel.add_item(epub.EpubNcx())\n",
    "\n",
    "novel.spine = spine_novel\n",
    "\n",
    "novel.toc = tuple(TOC)\n",
    "#Preview\n",
    "\n",
    "for item in novel.get_items():\n",
    "    if item.get_type() == ITEM_DOCUMENT:\n",
    "        try:\n",
    "            print(f\"Title: {item.get_name()}\")\n",
    "            \n",
    "            print('Done')\n",
    "        except:\n",
    "            continue\n",
    "    if 'Chapter' in item.get_name():\n",
    "        print('1')\n",
    "        print(item.content)\n",
    "\n",
    "\n",
    "# Write the EPUB file\n",
    "epub.write_epub(f\"{novel_title}.zip\", novel)\n",
    "print(\"EPUB created successfully!\")\n"
   ]
  },
  {
   "cell_type": "code",
   "execution_count": null,
   "id": "9ac56d56",
   "metadata": {},
   "outputs": [],
   "source": []
  },
  {
   "cell_type": "code",
   "execution_count": null,
   "id": "59a1b215",
   "metadata": {},
   "outputs": [],
   "source": []
  }
 ],
 "metadata": {
  "kernelspec": {
   "display_name": "Python 3 (ipykernel)",
   "language": "python",
   "name": "python3"
  },
  "language_info": {
   "codemirror_mode": {
    "name": "ipython",
    "version": 3
   },
   "file_extension": ".py",
   "mimetype": "text/x-python",
   "name": "python",
   "nbconvert_exporter": "python",
   "pygments_lexer": "ipython3",
   "version": "3.9.6"
  }
 },
 "nbformat": 4,
 "nbformat_minor": 5
}
