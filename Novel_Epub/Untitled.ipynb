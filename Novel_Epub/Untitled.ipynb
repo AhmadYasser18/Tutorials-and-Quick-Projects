{
 "cells": [
  {
   "cell_type": "code",
   "execution_count": 122,
   "id": "bf70bb1b",
   "metadata": {
    "ExecuteTime": {
     "end_time": "2025-02-07T18:02:58.763265Z",
     "start_time": "2025-02-07T18:02:58.752338Z"
    }
   },
   "outputs": [],
   "source": [
    "start_ch = 459\n",
    "end_ch = 482\n",
    "\n",
    "extra_chaps = ['epl1-vol-11-epilogue', 'v11ex1-vol-11-extra-1-early-truth', 'v11ex2-vol-11-extra-2-a-brief-repit']\n",
    "\n",
    "chaps = [i for i in range(start_ch, end_ch+1)]\n",
    "chaps += extra_chaps"
   ]
  },
  {
   "cell_type": "code",
   "execution_count": 1,
   "id": "e2c70622",
   "metadata": {
    "ExecuteTime": {
     "end_time": "2025-02-09T04:28:44.842140Z",
     "start_time": "2025-02-09T04:28:42.852872Z"
    }
   },
   "outputs": [],
   "source": [
    "from ebooklib import epub\n",
    "from ebooklib import ITEM_DOCUMENT\n",
    "import requests\n",
    "from bs4 import BeautifulSoup\n",
    "\n",
    "start_ch = 459\n",
    "end_ch = 482\n",
    "\n",
    "extra_chaps = ['epl1-vol-11-epilogue', 'v11ex1-vol-11-extra-1-early-truth', 'v11ex2-vol-11-extra-2-a-brief-repit']\n",
    "\n",
    "chaps = [str(i) for i in range(start_ch, end_ch+1)]\n",
    "chaps += extra_chaps\n",
    "\n",
    "novel_tbd = 'the-beginning-after-the-end'\n",
    "\n",
    "url = f'https://novelbin.com/b/{novel_tbd}/chapter-'\n",
    "\n",
    "novel = epub.EpubBook()\n",
    "\n",
    "# Adding cover\n",
    "with open(\"TBATE_Vol11.jpg\", \"rb\") as img:\n",
    "    novel.set_cover(\"TBATE_Vol11.jpg\", img.read())\n",
    "    \n",
    "# Setting metadata\n",
    "title = novel_tbd.replace('-',' ').title()\n",
    "novel.set_title(title)\n",
    "novel.set_language(\"en\")"
   ]
  },
  {
   "cell_type": "code",
   "execution_count": 164,
   "id": "d1d2ccfa",
   "metadata": {
    "ExecuteTime": {
     "end_time": "2025-02-07T18:38:06.822161Z",
     "start_time": "2025-02-07T18:38:06.812160Z"
    }
   },
   "outputs": [
    {
     "data": {
      "text/plain": [
       "'https://novelbin.com/b/the-beginning-after-the-end/chapter-459'"
      ]
     },
     "execution_count": 164,
     "metadata": {},
     "output_type": "execute_result"
    }
   ],
   "source": [
    "url + str(start_ch)"
   ]
  },
  {
   "cell_type": "code",
   "execution_count": 2,
   "id": "a0079090",
   "metadata": {
    "ExecuteTime": {
     "end_time": "2025-02-09T04:28:59.130395Z",
     "start_time": "2025-02-09T04:28:59.100023Z"
    }
   },
   "outputs": [
    {
     "data": {
      "text/plain": [
       "'https://novelbin.com/b/the-beginning-after-the-end/chapter-'"
      ]
     },
     "execution_count": 2,
     "metadata": {},
     "output_type": "execute_result"
    }
   ],
   "source": [
    "url"
   ]
  },
  {
   "cell_type": "code",
   "execution_count": 3,
   "id": "72548e64",
   "metadata": {
    "ExecuteTime": {
     "end_time": "2025-02-09T04:29:09.140060Z",
     "start_time": "2025-02-09T04:29:08.182048Z"
    }
   },
   "outputs": [],
   "source": [
    "source = requests.get(url + str(start_ch)).text\n",
    "soup = BeautifulSoup(source, 'lxml')"
   ]
  },
  {
   "cell_type": "code",
   "execution_count": 4,
   "id": "d83745f8",
   "metadata": {
    "ExecuteTime": {
     "end_time": "2025-02-09T04:29:18.296743Z",
     "start_time": "2025-02-09T04:29:18.280745Z"
    }
   },
   "outputs": [],
   "source": [
    "ch_title = soup.h2.text.strip()\n",
    "ch_num = ch_title.split(':')[0]\n",
    "\n",
    "ch_content = soup.find('div', class_=\"chr-c\").text.split('\\n')\n",
    "#title = soup.title.text.strip()"
   ]
  },
  {
   "cell_type": "code",
   "execution_count": 12,
   "id": "d6568768",
   "metadata": {
    "ExecuteTime": {
     "end_time": "2025-02-09T04:31:19.940392Z",
     "start_time": "2025-02-09T04:31:19.914891Z"
    }
   },
   "outputs": [
    {
     "data": {
      "text/plain": [
       "<a class=\"btn btn-success\" href=\"https://novelbin.com/b/the-beginning-after-the-end/cchapter-459-collisions\" id=\"next_chap\" title=\"Chapter 459: Collisions\">\n",
       "<span class=\"hidden-xs\">Next Chapter</span>\n",
       "<span class=\"glyphicon glyphicon-chevron-right\"></span></a>"
      ]
     },
     "execution_count": 12,
     "metadata": {},
     "output_type": "execute_result"
    }
   ],
   "source": [
    "next_ch = soup.find('a', {'id':'next_chap'})\n",
    "next_ch"
   ]
  },
  {
   "cell_type": "code",
   "execution_count": 13,
   "id": "225d5c84",
   "metadata": {
    "ExecuteTime": {
     "end_time": "2025-02-09T04:31:39.853815Z",
     "start_time": "2025-02-09T04:31:39.832864Z"
    }
   },
   "outputs": [],
   "source": [
    "next_ch = soup.find('a', {'id':'next_chap'})\n",
    "url = None\n",
    "for ch in chaps:\n",
    "    if str(ch) in next_ch['href']:\n",
    "        url = next_ch['href']\n",
    "        break   "
   ]
  },
  {
   "cell_type": "code",
   "execution_count": 14,
   "id": "444e309e",
   "metadata": {
    "ExecuteTime": {
     "end_time": "2025-02-09T04:31:43.065148Z",
     "start_time": "2025-02-09T04:31:43.048184Z"
    }
   },
   "outputs": [
    {
     "data": {
      "text/plain": [
       "'https://novelbin.com/b/the-beginning-after-the-end/cchapter-459-collisions'"
      ]
     },
     "execution_count": 14,
     "metadata": {},
     "output_type": "execute_result"
    }
   ],
   "source": [
    "url"
   ]
  },
  {
   "cell_type": "code",
   "execution_count": 141,
   "id": "7e3885f9",
   "metadata": {
    "ExecuteTime": {
     "end_time": "2025-02-07T18:22:00.701355Z",
     "start_time": "2025-02-07T18:22:00.681320Z"
    }
   },
   "outputs": [
    {
     "data": {
      "text/plain": [
       "['',\n",
       " '',\n",
       " '',\n",
       " '',\n",
       " 'Chapter 458: Remembrance Kezess’s eyes shifted to lavender as he inspected me closely. After a lingering moment, he gave a satisfied nod. “Our agreement is one that requires a certain give and take. I trust that what you reciprocate reflects gratitude and not simply empty words.” “Of course,” I answered readily. After all, if I reciprocate your own behavior, there won’t be much to owe. “Now, perhaps you can tell me more about your conversation with Oludari,” Kezess said, leaving the Path of Insight to stand beside it. He gestured to the worn ring in the stone. “And then, I think it is well past time that we resume the transference of your aetheric insight, as agreed.” “Give and take,” I said, repeating his earlier words. “With the dragons’ failure to protect the people of Dicathen from their own bloody conflict, it feels unjust to ask me to hold up my own end of the bargain.” Kezess frowned ever so slightly, and his lips curled as he opened his mouth to respond. I raised a hand. “But I don’t come empty handed. Instead, I have a different sort of information.” As we’d been talking, I had considered this moment carefully. Outright refusing to deliver Kezess any new insights would lead to a conflict, one I wasn’t prepared to push to its conclusion, but if I bowed to his demands without countering, I would unbalance our tenuous relationship and give him more power over me. “Sylvie is having visions,” I said without preamble. Kezess’s eyes darkened as he stared at me, but he didn’t interrupt. I explained everything, starting with the vision itself and then going back through the details of the events following her rebirth, including her seizure and what she experienced during it—although I left out the part about how she experienced it in the Relictombs. When I was finished, Kezess turned away and stared out one of the windows encircling the tower chamber. Three young dragons were chasing each other around the mountain cliffs in some kind of martial training exercise. “You should have brought her to me immediately. Here, I might be able to help her. But traipsing around Dicathen as your glorified pet…” He spun, and his eyes were like purple lightning. “Sylvie must be careful. Dragons rarely gain the sort of visions you describe. And any unintentional engagement of her aether arts could lead to dire consequences. From what you’ve said, it seems as though she was lucky to escape this dream world at all.” “She has already come a long way in her understanding. I had thought perhaps she could find additional training here in Epheotus…if we both knew she’d be safe.” “Safe?” Kezess said, the word sharp as a blade. “Would my granddaughter be safe here, at the seat of my power? What notions you get, Arthur. Do you truly think me so horrible that I seem a threat to my own blood in your eyes?” “I apologize for my phrasing,” I responded placatingly. “Of course, what I meant was that she would be accorded the same freedom she has now, to come and go as she pleases, to continue participating in the war against Agrona, to—” “Yes, yes, I understand,” he said, interrupting me and waving my words away. “If it will put both of you at ease, then you have my word I will not lock my granddaughter in the highest tower and refuse to let her leave with you again should you commit to the staggering kindness of…allowing her to visit.” Kezess took a withdrawn breath, and there was a subtle shift in his outward demeanor. “I accept this information in exchange for time on the Path. In truth, there would be little time for such a thing anyway. There is to be a ceremony of respect and returning here for the dragon who fell in Dicathen. As the Matali clan’s lord, I will host the ceremony within my own clan’s mausoleum, and then her remains will be returned to their clan-home for a proper funeral.” “I see,” I said, my thoughts moving to what was next. “Many lost their lives there, but the death of any one person doesn’t lessen the impact of any other’s demise. I’m sorry for your loss, of course. If Windsom would be so kind as to return me to Dicathen, I will get out of your hair.” “On the contrary,” Kezess said, his brows raising slightly, “I would like you to attend.” “For what purpose?” I asked, confused by his unexpected request. “As the representative of your people, on behalf of whom this dragon warrior sacrificed herself, it would be a great show of respect,” he explained. I considered his words and the meaning behind them. He has now sent two asura to their deaths in Dicathen, I thought, knowing that must have impacted Kezess’s relationship with these clans. It would be politically expedient for him to parade me around in front of these asura, but I couldn’t disagree with his logic. Although I was still furious with the dragons for how they’d handled the pursuit of Oludari, they were nonetheless my allies, and a show of respect at that moment could help keep it that way. And, although it felt calculating even to let myself think it, I also knew that it was a unique opportunity to gauge how the other asura felt about Kezess’s decisions and the war against Agrona. “Of course. I’d be honored,” I said after gathering my thoughts. “Without bargaining or argument? Perhaps we’re getting somewhere after all” Kezess said, his brow rising a fraction of an inch. “The mausoleum is being prepared as we speak.” With those simple words, the tower gave an uncomfortable jerk, and suddenly we were standing within an expansive hall carved entirely of bright white stone. Pillars ran the length, while the walls were all set with statues, paintings, and small structures like…tombs. The center of the hall was dominated by a large marble table, atop which rested an armored figure. Servants were hurriedly rushing around the space, but they all stopped as we appeared, bowing deeply. Kezess dismissed their attention with a faint gesture, and they rushed back to their work. I watched, curious, as one young asuran woman breathed out a cloud of embers. They froze in the air around her, and she began plucking the embers one by one and placing them around that corner of the chamber. The result was dozens of dimly flickering flames providing a gentle but warm light. Near here, a man was flying near the ceiling, dark vines uncoiling from his arm to stick on the stone. As he slowly drifted along, the vines began to grow, spilling down to the floor. Yet another servant came along behind him, whispering to the vines. As she spoke, leaves feathered into being up and down the vines, perfect autumn leaves in muted reds, brows, and oranges. Even more were carting in food and drink of all sorts, some carrying wide golden trays, others with huge casks of drink tossed over a shoulder. One even balanced several dozen golden plates and goblets on small whirlwinds that trailed after him like a row of ducklings. The mausoleum was rich with the scent of food, bringing back long unthought of memories of my training here. I stepped up to the central table, taking a closer look at the fallen asura. She looked identical to her sister with her long blonde hair and white plate armor. A tower shield rested on her left side while a longspear lay to her right. Kezess rested a hand on the edge of the bier for a few seconds as we stood in silence. Wordlessly, he then turned and began to walk along the mausoleum’s outer edge, gazing at each artifact of his clan that we passed before eventually coming to a stop at a large mural of a man who looked a lot like Kezess himself. His hair was cut short and he wore a thick goatee and mustache, but the eyes and facial features were nearly identical. “A relative of yours?” I asked, gazing up at the painting. “One of the ancient members of our clan who brought us into Epheotus,” he said softly. I focused on the nameplate beneath the portrait. “Kezess of Clan Indrath, first of his name. And which one are you?” I asked, cocking a brow. His lips twitched in a suppressed smile. “Too many to count now.” He was silent for a while, just staring thoughtfully up at the mural. “We dragons have labored alongside aether since the days even before Epheotus was formed. And yet never have we had such an opportunity as now to deepen our insight. This ‘godrune,’ Aroa’s Requiem as the djinn called it, was quite interesting, but nothing a suitably sufficient understanding of aether, time, and the aevum branch couldn’t simulate without the godrune itself. I need to see more.” I paced toward the next tomb, an ornately carved structure of pillars supporting a pitched roof over a featureless sarcophagus, all carved out of cool blue stone that twinkled as I moved. “But I think that’s exactly the point,” I said, letting my eyes drift across the sparkling tomb as my thoughts raced. “The djinn had mastered the art of manifesting magical knowledge in the form of runes. You said it yourself, it’s how they made themselves as powerful as they were. The spellforms that Agrona has copied for his people do the same thing for mana, but because mana itself is much easier to directly control, forcing it into shape and capturing it as a rune is much easier as well.” “I see,” Kezess mused, moving to stand beside me and pressing his palm against a carved pillar. “These ‘keystones,’ then, are the djinn’s attempt to forge aetheric insight into a rune that can be placed by unlocking the stone itself.” “Not exactly,” I explained, ordering my thoughts carefully. “The keystones themselves don’t forge the godrune. They contain…raw information, a sort of puzzle, that by working through, you gain insight and the godrune forms. But a keystone isn’t required to form a godrune.” His mouth opened slightly, his brows shooting up his face before he could control his expression again, wiping the surprise away. “You have godrunes that weren’t formed by the keystones?” Slowly, I nodded. “The Destruction rune.” I raised a hand to forestall the coming question. “It doesn’t reside with my physical form, but that of my companion, Regis.” “So you can…spontaneously manifest a godrune.” He paused for a second. “By gaining sufficient insight into the principle guiding the power gained?” “That’s my understanding,” I confirmed. Kezess’s gaze sharpened as he refocused on me. “And that is all?” I gave him a wry smile and continued on toward the next artifact in line, a towering statue of a stoic woman, her likeness captured in a moment of contemplation. The warm, cream-colored marble made her look almost alive. Behind us, a dragon was conjuring down the vines to hide the portrait of Kezess the first. Another dragon had now joined the first two, and wherever they touched the vines, a black flower bloomed. “It is, but hopefully not for long,” I continued, circling around to a topic I had hoped to cover with him. “Of the four keystones hidden within the Relictombs, I have found three. The fourth, however, can’t be opened without the third, and that one was taken from its guardian before I arrived. Quite some time ago, or so it seems.” Kezess’s eyes lost focus as he looked into the distance. “I know nothing of these keystones beyond what I have learned from you and your time walking the Path of Insight. But…” He turned, walking away from the statue and across the hall. There, a shrine of sorts was set up. Several silver candles burned, giving off a sweetly scented smoke that rose up to frame a portrait affixed to the wall. The painting portrayed a woman with very light blonde hair done up in a series of braids that wrapped around her head like a crown. She was a very handsome woman with a refined and noble look. I didn’t recognize her at first, but as I took in her iridescent lavender eyes—captured with stunning detail in the painting—I realized who I was looking at. “Sylvia…” I said under my breath, an unexpected wave of emotion washing over me. “I…never saw her in this form.” Kezess gently waved his hand in front of the altar, and the smoke coiled and whirled. Through the silver smoke, I saw not the woman but the draconic form I could still picture as clearly as if I’d left her only yesterday, pearl white and covered in glowing golden runes. Then the smoke settled, and the portrait returned to its original state. “Fate is a strange thing, Arthur,” Kezess mused, both his tone and expression unreadable as he looked at the image of his daughter. “Despite our inability to communicate or cooperate, I did learn a few things from the djinn. They had discovered the interwoven connection between aether and Fate itself, believing it to be a fourth aspect. I always thought they must have hidden this knowledge in the Relictombs. I feared, in fact, that Agrona had captured some piece of it.” His eyes jumped to my face. “I can see it now. Four keys designed to unlock within the user depths of insight meant to then, in turn, open the way to understanding Fate itself.” I hesitated, unsure how to respond, but Kezess let out a small, knowing chuckle. “No need to deny it now. I’ve been puzzling over what this Aroa’s Requiem meant, and what little of the other godrune you gave me. Realmheart…an ode to my daughter, I presume?” He scrutinized Sylvia’s picture for several seconds before continuing. “Now it makes sense. The djinn, along with my own daughter, sent you on a journey to gain control over Fate itself.” Kezess gazed up at the portrait again, and I saw real sorrow bleed through for the first time. “Sylvia’s final betrayal…” “Not a betrayal,” I said firmly, squaring up against him. “She knew who I was, even then. She must have believed this was the best way forward. You couldn’t have reached the keystones, and neither could any agent you might have recruited from Dicathen. How many people would you have sent to their deaths in search of the keystones had you known sooner?” “It hardly matters now,” Kezess answered, his voice flat. “Do you even understand what you’re asking me?” He turned his back on Sylvia’s image. “To help you, I am by implication condoning your acquisition of whatever insight the djinn have secreted away. For that level of power to be condensed into one human…” He gave a small shake of his head, and his voice lowered as if he were speaking to himself. “Perhaps it would be more prudent simply to kill you now, prevent anyone at all from gaining this knowledge, just as I did before.” My instincts kicked in, urging me to step back and shift my footing into a battle stance, but I held my ground. The room flickered, the light jumping slightly, and Kezess was no longer standing in front of me. I spun, finding him standing ten feet behind me, his eyes the blazing amethyst of my aetheric lightning. “The djinn who told me about Fate also told me something else.” Kezess seemed to crackle with power, a pressure unrelated to his King’s Force building in the mausoleum. The other dragons seemed momentarily frozen, their gazes carefully averted, their faces blank. “A small faction had broken away, was attempting to reclaim this knowledge, which he said had been locked away.” “Do you think one of these djinn might have taken the keystone, then?” I asked, keeping the tension from my voice. “Perhaps, but no sign of such a thing ever came to my attention. If they did, the keystone you seek likely burned with their world.” Kezess gave a small shake of his head. “Perhaps it is for the better.” I stood thunderstruck. I was so certain that it had been some agent of Agrona, one of thousands upon thousands of ascenders he had sent to their deaths in the Relictombs, who had taken it. Could the answer really have been right under my nose the entire time? After all, who had sheltered the rebel djinn as the rest of their kin carried on with their work, even as the dragons burned their civilization to the ground? “Sylvia herself set me on this path,” I finally answered, looking back at her picture and trying to reconcile the woman’s face with the person I had known. “She thought it was so important that she embedded knowledge of how to find the ruins housing these keystones in my core.” “My daughter had many strange and, in the end, unfortunate ideas,” Kezess said matter of factly, his aggression vanishing as quickly as it had surfaced. “Do not forget that it was her own uninformed love for a creature as cruel and vicious as Agrona that resulted in her death. But I think we are done for the moment. Before the ceremony, however, perhaps you would like to…freshen up.” His gaze flicked up and down my clothes, which were still stained from the earlier battle. “After the ceremony, Windsom will return you to Dicathen, and I will ensure Guardian Charon emphasizes the protection of your people in future altercations.” *** After being taken to a bath and given a change of clothes in the form of a perfectly tailored suit of some soft black fabric I couldn’t identify, I returned to the mausoleum. It was almost gloomy, like a forest at twilight, after having been completely transformed. With the tombs and sculptures hidden by curtains of flowering vines, the remaining space was smaller and more personal. Ornate tables were lined with golden trays of food and both bottles and casks of drink. Golden goblets stood like rows of little soldiers between each cask, and every table was flanked by a servant. An altar had been set up at the foot of the dragon’s funeral bier, on which sat a shallow bowl of oily red liquid. From the center of the bowl, a bittersweet incense was burning and putting off thin coils of smoke. Windsom was standing at attention by the door as if waiting for me to arrive. His military style uniform looked even more crisp than usual, and there was an unreadable heaviness to his alien eyes. He gestured me in with a simple wave. “Hello again, Arthur,” he began, his voice crisp and devoid of any emotion. “Lord Indrath has requested that you occupy this position of honor with me. As this is a ceremony of returning and is being hosted by Lord Indrath, we act as his envoys, the first to welcome any who attend.” Despite my surprise, I moved to stand beside Windsom. My arrival was timely, as the first guest stepped through the door only a minute or two later. The black-bearded dragon from the battle missed half a step as he saw me, his hand going to his cheek. There was no physical mark to show where I’d struck him, but clearly the mental scar was still fresh. He had left behind his armor, appearing in a fine black suit much like my own. “Welcome, Sarvash of the Matali clan,” Windsom said, extending both his hands. The dragon, Sarvash, wrapped both hands around Windsom’s right. Windsom’s left hand then pressed against the back of Sarvash’s right. They held this ritualistic posture for a couple seconds, then broke away. Behind Sarvash, the other survivor of the battle in Sapin walked arm in arm with another man. She had likewise left behind her bright white armor, as well as her shield and spear, and now wore her hair in a long braid down her left side, standing out in stark contrast to the darkness of her mourning dress. The man holding her arm was slightly shorter than her, and much rounder. His own hair was gray-blond, thinning slightly on the top. He was clean-shaven, revealing round cheeks beneath umbral gray eyes. Baggy black cloth draped from his large frame. “Welcome, Anakasha of the Matali clan,” Windsom said, reaching out for the woman’s hands. “Windsom of the Indrath clan. It is a great honor for one of such rank to welcome my fallen sister’s return to Epheotus. On behalf of my clan and clan-friends, thank you.” “The honor is mine,” Windsom replied solemnly. At the same time, Sarvash reached for my own hands, his nostrils flaring and his gaze focused on the floor instead of me. Copying Windsom, I took his hands. He released me almost immediately and continued into the mausoleum, where one of Kezess’s many servants escorted him to the bier resting at the center of the room. Anakasha, the deceased dragon’s twin sister, moved from Windsom to me. Unlike Sarvash, she held my gaze with deadly intensity as we repeated the formal greeting. “I’m sorry for your loss,” I said consolingly. A fine line formed between her brows as she gave me the smallest of frowns, then she pulled away. Beside me, Windsom was introducing the third asura. “Welcome, Lord Ankor of the Matali clan.” They exchanged the formal handshake, and then he was standing in front of me. He held out his hands in an automated fashion, seemingly oblivious to me beyond my mere presence. We shook, but his red-rimmed gaze never met my own, and when he turned away after a couple seconds, he stared around as if lost until Anakasha took him by the arm again. A different dragon bowed to them and then followed after Sarvash and the other. More dragons arrived after that, some introduced as members of the Indrath clan, others of Clan Matali. There were a few dragons from other clans, and even a couple pantheons, though there were no members of the Thyestes clan, including Kordri. I found my thoughts drifting off. My course after Epheotus still wasn’t clear, and the decision weighed heavily on me. Getting to Oludari before Windsom whisked him back to Epheotus was pressing, but the keystone was even more so—and this was perhaps the first time I’d had a real lead, shallow as it was. Despite that, I was also separated from my companions and family, and I felt a growing urge to reconnect with them as well. But a decision would need to be made, and soon. “Welcome, Lord Eccleiah, representative of the leviathan race among the Great Eight.” I reached automatically for the next pair of hands, then I saw who I was shaking hands with, and my focus was wrenched back to the present. The man in front of me was as different from the dragons as a dwarf was from an elf. He had pale skin, so light it was almost blue, and was so wrinkled he looked to be a hundred years old. Which means he’s probably many times over that. Ridges ran along his temples, open like gills, and beneath them, his eyes were milky white in color. His hands were cold against my own, but his grip was firm and confident. “Ah, the Leywin boy. At last.” “Welcome, Lady Zelyna of the Eccleiah clan,” Windsom said next to me, taking the hands of a fearsome looking woman. She had a similar aquatic look to her as the old man, with aquamarine skin that darkened to a deep, navy blue around the ridges that ran along her temples. A shock of sea-green hair grew like a mohawk and floated above her, almost as if she were standing underwater. Her dark garb and her expression—just as dark—both suggested she could be there either to mourn the fallen dragon…or to pick a fight. When her stormy blue eyes turned to me, I strongly expected the latter. Lord Eccleiah’s right hand released mine, and his arm swept around my shoulder with unexpected familiarity. “Let me introduce you to my daughter, Zelyna. Zely, this is Arthur Leywin. A human! They’re from the land of Dicathen, if you didn’t know. Fascinating, isn’t it?” Zelyna released Windsom as if his hands were covered in feces, and she crossed her arms and glowered. “I know who he is well enough, father.” A muscle in her jaw twitched. “The lesser who killed Aldir…” Windsom cleared his throat. “Please, if you would be so kind, make your way into the mausoleum. You will find the Matali clan over there, as you can see, should you wish to offer your condolences.” A bright-eyed young servant bowed and offered her arm to Zelyna, but she ignored her, choosing instead to force a falsely sweet smile onto her purple lips. “Of course. Thank you, Loathsome—I mean, Windsom. Forgive me my stumbling tongue, it is a long journey to Mount Geolus.” The smile slipped away and she shot me through with a blistering glare, then whisked off to Lord Matali without waiting for the servant. Meanwhile, Lord Eccleiah still had his arm around my shoulder. “Oh, don’t worry about her, Arthur. Is she outwardly upset with you? Yes, but as you executed the man she hoped to wed, I’m certain you can understand why. Being magnanimous, you won’t hold her hostility against her. Besides, I strongly doubt she’ll run you through with anything but her eyes.” “I—what?” I blinked over at the asura. “Ah, but, although Aldir and I were old friends, I have led my people far too long not to understand such necessities.” Lord Eccleiah paused and looked at me knowingly, his nose a scant few inches from mine. “But let us speak no more of this sad tale, because we are here in support not of the Thyestes clan but of Lord Matali and his people.” He gave my shoulder a friendly squeeze. “Come, join me, and I will teach you the traditional mourning words of our race.” “I’m afraid I can’t, my lord. It would be remiss of me to abandon my duties—” “Oh, I believe we are the last,” Lord Eccleiah said happily as he steered me away from Windsom. But we didn’t approach Lord Matali or his daughter, or even the bier at the center of the room. Instead, we circled around the bulk of the attendees and made our way to the back corner of the chamber. Once there, his thin but powerful arm slid off my shoulder. I scanned the room, but no one was paying us any mind, except perhaps for Zelyna; I thought I caught her looking away just as I turned. “What do you really want with me?” I asked softly, quiet enough to make sure we wouldn’t easily be overheard. “I’ve met enough asuras to know this dotty old uncle routine is just a pantomime put on to lower my guard.” The leviathan smiled warmly. “I won’t blame you for thinking so. Indeed, spending all your time with the likes of the Indrath clan and even Wren Kain IV, it would be quite unlikely for you to come to any other conclusion. But I assure you, I am not inclined to falsely represent myself, not for you or any other. I am too old for such a thing, and it isn’t in the leviathan’s nature. Which is exactly why Zel—forgive me, Zelyna—will have such a difficult time not outwardly showing her desire to pick her teeth with your bones.” I let out a surprised laugh, then sobered. “Were she and Aldir really…?” Lord Eccleiah smiled fondly, but I detected a wry bent to the emotion behind it. “Ah, well, perhaps it was more complicated than that, but I won’t risk her ire further by talking any more about it. It has been a very long time indeed since we leviathans held the tradition whereby rulership was passed down to the young who proved capable of murdering and devouring their parent, but I would hate to give my daughter reason to resurrect the tradition.” His eyes twinkled as his smile softened. “Forgive me. I simply wanted to exercise my curiosity about the lesser bonded to a dragon and gifted with an asuran physique. And all that despite having no mana signature, none at all. You are the most interesting development to come from the old world for a long, long time.” “The old world?” I asked. “Most don’t think of it as such, perhaps.” One side of his browless forehead scrunched up. “But then, most asuras don’t think of it—or the lessers who live there—at all, despite the connection that still binds our world to yours. But never mind all that. Lord Indrath will be arriving momentarily.” He held out his hand, palm up. Resting on his palm were three small, bright blue pearls. As I let him roll them into my own hand, I realized they were full of liquid. “A gift from the Eccleiah clan to the Leywin clan. Tears of the Mother…or mourning pearls, if you prefer. Powerful elixirs.” “Thank you, Lord Eccleiah,” I said, rolling the marble-sized pearls around on my palm and watching the bright blue liquid inside bubble as it shifted. “Veruhn. Let us leave the ‘lord’ stuff for meetings of the Great Eight, shall we?”@@novelbin@@ “Thank you, Veruhn. But my…clan has done nothing to earn such a gift,” I said, trying to hand them back. “This is not a gift of earning,” he replied, taking half a step back. “It is a gift of respect, of…acknowledgement. Such things are meant to be given, yes?” Before I could respond, there was a flaring of mana and the sudden appearance of a heavy weight on me. Looking around, I immediately found Kezess standing beside the bier, his back to me. The pressure receded immediately. “Thank you all for coming,” he said as all eyes turned to him. “And thank you to the Matali clan for allowing Clan Indrath to host this returning ceremony. It is a tragedy of unparalleled proportions whenever a dragon warrior is taken before their due time. And yet we also celebrate those who sacrifice themselves in the defense of their clan, their race, and their home, as Avhilasha did when she faced the soldiers of our oldest enemy, Agrona Vritra.” There was some hostile mumbling at Agrona’s name. “Now, join with me in showing our respect for the fallen. Anoint yourselves with her heart’s blood so that we may all be, in this moment, one clan, the asuran clan, bound together from now back into time immemorial, a single lineage in our remembrance.” Kezess stepped around to the front of the bier and dipped two fingers into the red liquid. He touched his red-stained fingertips to his temple, then splashed the last couple drops across the deceased dragon’s white armor. Stepping aside, he bowed his head. Anakasha stepped forward next. When she dipped her fingers, she touched just below the corner of her right eye, and a red tear ran down her cheek. Then she, too, flicked a few drops of crimson across her sister’s armor before moving to stand beside the bier, her hands resting atop it next to the spear. Lord Ankor approached the bowl next, but he only stood there, incense slowly rising to frame his face. After waiting several seconds too long, Sarvash stepped forward and helped the unusual dragon dab his fingers. He smeared the substance haphazardly across his face, then flicked the remnants all over the altar around the bowl. Sarvash quickly made his own obeisance, and together they moved to Anakasha’s side. I felt Lord Eccleiah lean in beside me. “Go. They will all expect you to forgo this ritual, or to go very last per your station as a lesser. It will emphasize that you are here as an equal to show respect to the dead if you do not wait.” Not seeing any reason why the old leviathan would mislead me, I joined a queue beginning to form. More than one dragon gave me a surprised look or did a double take, but no one intervened with my presence there. When it was my turn, I dipped three fingers in the liquid—it was thick and oily to the touch—and dragged it across my closed eyes like warpaint. “I am not blind to your sacrifice,” I said softly, repeating the words I had given her sister. From the periphery of my vision, I saw Anakasha’s eyes narrow as she watched me closely. Carefully flicking the last couple drops of ointment over Avhilasha’s armor, I stepped aside, moving to stand beside Kezess, my head similarly bowed. The ritual continued until everyone had anointed both themself and the deceased. By the end, her armor was so spattered with dots of red that it looked as though she’d just returned from the battlefield. After the anointing, the remembrance began. It was true to its name: a retelling of Avhilasha’s life by her clan, her family, trainers, and friends. One elder joked about her hatching with a spear in her hand, while a young dragon recounted how she had out-trained him every day for forty years straight, and no matter what he did, he could never keep up. Her sister described their endlessly rivalry for the respect of their parents and lord before telling the story of a hunt they had taken together when they were only seventy years old, and how her sister had both managed to save her life and still slay the seven-headed serpent without taking a wound. Over the next two hours, these and many more tales were shared, some amusing, others impressive or even startling, but all tinged with somberness and loss. When it was done, Kezess stepped in front of the bier again. “And so we remember the fallen warrior, her deeds both great and small, and the shape of her in our shared lives entwined by her heart’s blood. Please, stay as long as you wish, nourish your body with our food and drink, your mind with conversation, and your spirit with shared mourning.” The low hum of conversation that followed his statement was like a dull roar after the solemn focus of the earlier story-sharing. I noticed that several asura immediately went to the Matali clan and handed over a series of small items. Gifts, I expected. Reaching into my pocket, I rolled the three pearls around, wondering. A surreptitious glance at Lord Eccleiah, who was sampling some kind of rolled and skewered sea creature, did nothing to reinforce my sudden suspicion. What was it he said? “Such things are meant to be given.” The leviathan would have known about the gift-giving, of course. Had he correctly assumed I didn’t, and prepared me for it ahead of time? But why? Would it be an insult to give away what he gave me? I thought about the words again and made up my mind. When a four-eyed pantheon stepped away from Anakasha, I approached. “Lady Matali,” I said soberly, pulling the three orbs out of my pocket. I cupped them in both hands and bowed slightly, holding them out. “Your sister’s sacrifice was made for my people. I know what I give you today in return is nothing compared to the sacrifice of the Matali clan, but I want you to have these: three Tears of the Mother to mark this day of mourning.” There was a sudden burst of murmuring from throughout the mausoleum, but the tall asuran woman only stared down at my offering, looking shocked. It was Lord Ankor who reached out, but he didn’t take them. Instead, he closed my hands around the pearls and gave me a quivering smile, his eyes glistening with tears yet to form. Sarvash looked pale and crestfallen. Anakasha herself was unreadable, her gaze distant. Neither said anything, and so, with the pearls still clutched in my hands, I bowed a little deeper, stepped back, and turned away, uncertain if I had read the situation correctly. But I caught the old leviathan’s eye for just an instant as I turned, and he winked before stuffing a skewer in his mouth. Suddenly uncomfortable, I moved away from the crowd, contemplating whether to return Lord Eccleiah’s gift back to him. By the time I tore my gaze from the pearls once more, the leviathan was gone. Unable to find him through the crowd, however, I made my way long the edge of the dark curtains hiding the Indrath tombs. My mind trying to accept why Veruhn had given me such a valuable gift. Keeping myself from second guessing, I imbued the extradimensional storage rune on my arm and sent the pearls within, not wanting anything to happen to them. Remembrance. Another item in my storage rune called out to me. I felt a wave of sentimentality wash over me as I considered the item, but I didn’t immediately withdraw it. Glancing around, I assured myself that no one was paying too close attention, and I slipped through the black-flowered vines and into the small alcove on the other side. I let out a breath I didn’t realize I had been holding, and my shoulders sagged as I relaxed. The noise of the subdued conversations was muffled, the burning sensation of so many gazes following me cooled, and I let myself sink down into the isolation, casting off the obligatory noble veneer like a cloak. Lady Sylvia Indrath watched me from her portrait on the wall. I withdrew her core, holding it delicately in both hands. There was no aether left in it, or any mana for that matter. No message, no hint at how to continue. It was simply the empty, dried out organ of a deceased dragon. Soon enough, the asura lying on the bier thirty feet away would be little more than this. But she had been. I’d heard her stories, seen her sacrifice. Despite my rage at how the dragons had failed to protect the people on that mountain, I also acknowledged that they had been ready to lay down their lives to fight the Wraiths. The core in my hands wasn’t Sylvia any more than the spear and shield resting beside Avhilasha were her. I still couldn’t wrap my head around what Nico meant by sending it to me, but I was pretty sure that he himself didn’t know. He was fumbling, scrambling to do whatever he could to help Cecilia. Just like back on Earth. I closed my eyes, leaned forward, and pressed my head against the core’s rough surface. I hadn’t been here for her own remembrance ceremony—didn’t even know if Kezess had given her one—but she deserved something, no matter how small. There were doors inset in the front of the shine holding the silver candles. I opened them, and inside was a small bowl full of oily red liquid. An empty incense holder stuck up from the center of the bowl. Carefully dipping in the tip of a single finger, I closed my eyes and pressed it to my forehead between my brows. “You opened my eyes to a life I had yet to live. Saved me twice from a death come far too soon. Trusted me with a vision of the future you wouldn’t live to see. And”—my voice grew rough—“most important of all, welcomed me into your family in name and act.” I let a single drop of ointment drip on the core and set it carefully on top of the incense holder. “I’m sorry Sylvie couldn’t be here, but I will bring her someday. When she is safe.” I carefully closed the doors and stood, a subtle weight off my shoulder as I left the core behind. The eyes of the portrait seemed to follow me, perfectly capturing that unknowable depth of understanding that Sylvia had reflected when alive. Swallowing the emotion creeping up the back of my throat, I slipped through the vines and met the ocean blue eyes of Zelyna standing a few feet away. She frowned and turned away.',\n",
       " '',\n",
       " '']"
      ]
     },
     "execution_count": 141,
     "metadata": {},
     "output_type": "execute_result"
    }
   ],
   "source": [
    "soup.find('div', class_=\"chr-c\").text.split('\\n')"
   ]
  },
  {
   "cell_type": "code",
   "execution_count": 143,
   "id": "98bfa5a6",
   "metadata": {
    "ExecuteTime": {
     "end_time": "2025-02-07T18:22:55.559599Z",
     "start_time": "2025-02-07T18:22:55.516703Z"
    }
   },
   "outputs": [
    {
     "data": {
      "text/plain": [
       "'Chapter 458: Remembrance'"
      ]
     },
     "execution_count": 143,
     "metadata": {},
     "output_type": "execute_result"
    }
   ],
   "source": []
  },
  {
   "cell_type": "code",
   "execution_count": 15,
   "id": "b3b3980a",
   "metadata": {
    "ExecuteTime": {
     "end_time": "2025-02-09T04:35:26.364376Z",
     "start_time": "2025-02-09T04:35:19.817472Z"
    }
   },
   "outputs": [
    {
     "name": "stdout",
     "output_type": "stream",
     "text": [
      "Fetching Chapter 450...\n",
      "Error fetching or processing chapter 450: 'NoneType' object has no attribute 'text'\n",
      "Fetching Chapter 451...\n",
      "Error fetching or processing chapter 451: 'NoneType' object has no attribute 'text'\n",
      "Fetching Chapter 452...\n",
      "Error fetching or processing chapter 452: 'NoneType' object has no attribute 'text'\n",
      "Fetching Chapter 453...\n",
      "Error fetching or processing chapter 453: 'NoneType' object has no attribute 'text'\n",
      "Fetching Chapter 454...\n",
      "Error fetching or processing chapter 454: 'NoneType' object has no attribute 'text'\n",
      "Fetching Chapter 455...\n",
      "Error fetching or processing chapter 455: 'NoneType' object has no attribute 'text'\n"
     ]
    }
   ],
   "source": [
    "spine_novel = ['nav']\n",
    "TOC = []\n",
    "\n",
    "start_ch, end_ch = 450, 455\n",
    "\n",
    "for ch_num in range(start_ch, end_ch + 1):\n",
    "    print(f'Fetching Chapter {ch_num}...')\n",
    "    try:\n",
    "        source = requests.get(url + str(ch_num)).text\n",
    "        soup = BeautifulSoup(source, 'lxml')\n",
    "\n",
    "        # Extract chapter content\n",
    "        ch_content = soup.find('div', class_=\"chr-c\").text.strip()\n",
    "        ch_content = '\\n'.join(line.strip() for line in ch_content.splitlines() if line.strip())\n",
    "\n",
    "        title = soup.title.text.strip()\n",
    "        ch_title = f\"Chapter {ch_num} - {title}\"\n",
    "\n",
    "        # Create chapter\n",
    "        novel_chapter = epub.EpubHtml(title=ch_title, file_name=f\"chapter{ch_num}.xhtml\", lang='en')\n",
    "        novel_chapter.set_content(f\"\"\"<html><body><h1>{ch_title}</h1><p>{ch_content}</p></body></html>\"\"\")\n",
    "\n",
    "        novel.add_item(novel_chapter)\n",
    "        spine_novel.append(novel_chapter)\n",
    "        TOC.append(novel_chapter)\n",
    "\n",
    "        print(f\"Chapter {ch_num} Added.\")\n",
    "    \n",
    "    except Exception as e:\n",
    "        print(f\"Error fetching or processing chapter {ch_num}: {e}\")\n"
   ]
  },
  {
   "cell_type": "code",
   "execution_count": null,
   "id": "eff68c44",
   "metadata": {},
   "outputs": [],
   "source": [
    "# Add navigation and define spine\n",
    "novel.add_item(epub.EpubNav())\n",
    "novel.add_item(epub.EpubNcx())\n",
    "\n",
    "novel.spine = spine_novel\n",
    "novel.toc = tuple(TOC)\n",
    "\n",
    "# Write the EPUB file\n",
    "epub.write_epub(f\"{title}.epub\", novel)\n",
    "print(\"EPUB created successfully!\")"
   ]
  },
  {
   "cell_type": "code",
   "execution_count": null,
   "id": "557428c1",
   "metadata": {},
   "outputs": [],
   "source": []
  },
  {
   "cell_type": "code",
   "execution_count": null,
   "id": "4540ad1d",
   "metadata": {},
   "outputs": [],
   "source": []
  },
  {
   "cell_type": "code",
   "execution_count": null,
   "id": "7bdfc294",
   "metadata": {},
   "outputs": [],
   "source": [
    "#if all chapters were covered then next_ch would be out of range thus url = None\n",
    "while url:\n",
    "    break        "
   ]
  },
  {
   "cell_type": "code",
   "execution_count": null,
   "id": "8dd29f8a",
   "metadata": {},
   "outputs": [],
   "source": []
  },
  {
   "cell_type": "code",
   "execution_count": null,
   "id": "a3d5973a",
   "metadata": {},
   "outputs": [],
   "source": []
  },
  {
   "cell_type": "code",
   "execution_count": 16,
   "id": "7af9051d",
   "metadata": {
    "ExecuteTime": {
     "end_time": "2025-02-09T04:39:55.358121Z",
     "start_time": "2025-02-09T04:39:36.871934Z"
    }
   },
   "outputs": [
    {
     "name": "stdout",
     "output_type": "stream",
     "text": [
      "Fetching Chapter 459...\n",
      "Chapter 459 Added.\n",
      "Fetching Chapter 460...\n",
      "Chapter 460 Added.\n",
      "Fetching Chapter 461...\n",
      "Chapter 461 Added.\n",
      "Fetching Chapter 462...\n",
      "Chapter 462 Added.\n",
      "Fetching Chapter 463...\n",
      "Chapter 463 Added.\n",
      "Fetching Chapter 464...\n",
      "Chapter 464 Added.\n",
      "Fetching Chapter 465...\n",
      "Chapter 465 Added.\n",
      "Fetching Chapter 466...\n",
      "Chapter 466 Added.\n",
      "Fetching Chapter 467...\n",
      "Chapter 467 Added.\n",
      "Fetching Chapter 468...\n",
      "Chapter 468 Added.\n",
      "Fetching Chapter 469...\n",
      "Chapter 469 Added.\n",
      "Fetching Chapter 470...\n",
      "Chapter 470 Added.\n",
      "Fetching Chapter 471...\n",
      "Chapter 471 Added.\n",
      "Fetching Chapter 472...\n",
      "Chapter 472 Added.\n",
      "Fetching Chapter 473...\n",
      "Chapter 473 Added.\n",
      "Fetching Chapter 474...\n",
      "Chapter 474 Added.\n",
      "Fetching Chapter 475...\n",
      "Chapter 475 Added.\n",
      "Fetching Chapter 476...\n",
      "Chapter 476 Added.\n",
      "Fetching Chapter 477...\n",
      "Chapter 477 Added.\n",
      "Fetching Chapter 478...\n",
      "Chapter 478 Added.\n",
      "Fetching Chapter 479...\n",
      "Chapter 479 Added.\n",
      "Fetching Chapter 480...\n",
      "Chapter 480 Added.\n",
      "Fetching Chapter 481...\n",
      "Chapter 481 Added.\n",
      "Fetching Chapter 482...\n",
      "Chapter 482 Added.\n",
      "EPUB created successfully!\n"
     ]
    }
   ],
   "source": [
    "#Working DO NOT TOUCH\n",
    "from ebooklib import epub\n",
    "from ebooklib import ITEM_DOCUMENT\n",
    "import requests\n",
    "from bs4 import BeautifulSoup\n",
    "\n",
    "start_ch = 459\n",
    "end_ch = 462\n",
    "#end_ch = 482\n",
    "url = f'https://novelbin.com/b/{novel_tbd}/chapter-'\n",
    "\n",
    "novel = epub.EpubBook()\n",
    "\n",
    "# Adding cover\n",
    "with open(\"TBATE_Vol11.jpg\", \"rb\") as img:\n",
    "    novel.set_cover(\"TBATE_Vol11.jpg\", img.read())\n",
    "\n",
    "# Setting metadata\n",
    "title = novel_tbd.replace('-',' ').title()\n",
    "novel.set_title(title)\n",
    "novel.set_language(\"en\")\n",
    "\n",
    "spine_novel = ['nav']\n",
    "TOC = []\n",
    "\n",
    "for ch_num in range(start_ch, end_ch + 1):\n",
    "    print(f'Fetching Chapter {ch_num}...')\n",
    "    try:\n",
    "        source = requests.get(url + str(ch_num)).text\n",
    "        soup = BeautifulSoup(source, 'lxml')\n",
    "\n",
    "        # Extract chapter content\n",
    "        ch_content = soup.find('div', class_=\"chr-c\").text.strip()\n",
    "        ch_content = '\\n'.join(line.strip() for line in ch_content.splitlines() if line.strip())\n",
    "\n",
    "        title = soup.title.text.strip()\n",
    "        ch_title = f\"Chapter {ch_num} - {title}\"\n",
    "\n",
    "        # Create chapter\n",
    "        novel_chapter = epub.EpubHtml(title=ch_title, file_name=f\"chapter{ch_num}.xhtml\", lang='en')\n",
    "        novel_chapter.set_content(f\"\"\"<html><body><h1>{ch_title}</h1><p>{ch_content}</p></body></html>\"\"\")\n",
    "\n",
    "        novel.add_item(novel_chapter)\n",
    "        spine_novel.append(novel_chapter)\n",
    "        TOC.append(novel_chapter)\n",
    "\n",
    "        print(f\"Chapter {ch_num} Added.\")\n",
    "    \n",
    "    except Exception as e:\n",
    "        print(f\"Error fetching or processing chapter {ch_num}: {e}\")\n",
    "\n",
    "# Add navigation and define spine\n",
    "novel.add_item(epub.EpubNav())\n",
    "novel.add_item(epub.EpubNcx())\n",
    "\n",
    "novel.spine = spine_novel\n",
    "novel.toc = tuple(TOC)\n",
    "\n",
    "# Write the EPUB file\n",
    "epub.write_epub(f\"{title}.epub\", novel)\n",
    "print(\"EPUB created successfully!\")\n"
   ]
  },
  {
   "cell_type": "code",
   "execution_count": 5,
   "id": "e4f3cd97",
   "metadata": {
    "ExecuteTime": {
     "end_time": "2025-02-07T12:59:54.110137Z",
     "start_time": "2025-02-07T12:59:54.092065Z"
    }
   },
   "outputs": [
    {
     "data": {
      "text/plain": [
       "'Spending Winter (3)\\nThere is always a quiet atmosphere on Aken Island during the vacation season.\\nThe buildings in the faculty building, which were crowded with people during the semester, are now empty. Less than half of the students stay at school instead of going back to their hometowns, so the atmosphere is similar wherever they go.\\nThe summer vacation season in the residential area is also the off-season, so many store owners take a breather and relax.\\n“Hmm…”\\nI straightened my clothes while looking at the window of the academic building at the entrance to the professor building. I adjusted the buttons on the sleeves and pulled the collar of the coat to match the overall line.\\nWhen I retrieved the school uniform that had been left for washing and put it on, it was indeed crisp and clean.\\nIt is very difficult to manage school uniforms by yourself. I am greatly indebted to Bel Maia for this part.\\n“Since laundry volume is always produced in large quantities anyway, adding one more uniform does not significantly change the amount of work.”\\n“Still, it doesn’t change the fact that there’s more work to do, but I’m thankful in these busy times.”\\n“Since you were a member of the Ofilis building to begin with, it’s a relief, and since you’re an acquaintance of the people I serve, I can be flexible to that extent. You don’t have to feel too burdened, so please let me know when it’s time to do laundry again.”\\nBelle Maia, whom I met for the first time in a while, has not changed. Indeed, his conduct is top-notch.\\nThe plain senior maid’s attire was changed to a more flashy maid’s outfit, but the tone and dull expression without any major emotional changes remained the same.\\nHer hair must have gotten a little longer recently, and there’s a rose pin the size of a fingernail attached to the particularly long side of her hair on the right side.\\n“You said the restoration of Ofilis Hall was completed? It’s almost time for new students to join the company, so the maids must be having a hard time.”\\n“Master Ed. But why do you still respect me?”\\n“It’s comfortable to be treated with respect.”\\n“I’m comfortable with the bottom.”\\n“I am comfortable with respect.”\\nIt feels like there’s a strange war of nerves going on.\\nIn fact, if you reach the position of head maid, you will narrowly fall into the ‘senior level’ position among the academic staff… It is a burdensome position for me, who is no longer a nobleman or a student at Ofilis Hall.\\nI didn’t want to mess up the genealogy later, so I just treated her with respect, but it was very uncomfortable for Belle. Anyway, she is a natural maid.\\n“Anyway, now that the restoration of Ofilis Hall has been completed, I feel like my workplace is becoming more stable.”\\n“It’s a bit surprising that the restoration was completed in almost one semester. It seems like the academic department put all their effort into the restoration.”\\n“It is one of the most important facilities among the dormitory facilities. Most of the students who were staying in the temporary dormitory have been assigned rooms and have started to move in. The same goes for new students.”\\nThe second semester of the second year has come to an end and winter vacation marks the end of the year.\\nThe test scores were okay, and the closing ceremony was completed smoothly, so there is a peaceful atmosphere once again in the school.\\nFrom an academic administration perspective, winter vacation is a preparation period to start the next semester.\\nA season to complete tasks that must be completed between one semester and the next. Since it is such a transitional period, it is a time when many things change within the university.\\nEach professor’s lab is busy preparing the academic schedule for the next semester, and research work itself continues without a break.\\nThe same goes for new students moving into the dormitory. Because each student’s circumstances and schedules are different, many students enroll in advance during the long winter vacation period according to their schedule.\\n“By the way, I actually wanted to ask you something, so I came here in person.”\\nBelle said that and stood on the street for a moment.\\nOnce you reach the position of head maid, you will have more responsibilities and your butt will become heavy.\\nWhen he asked why he had come to visit in person when he could have just ordered a low-ranking maid to deliver the school uniforms that were requested to be washed… it was because he had something to say after all.\\n“Starting this vacation, there are seven new students at Ofilis Hall that we will need to attend to.”\\nAmong that many new students, only 7. This number directly shows how high the hurdles to joining the Ofilis building are.\\n“One of them had a familiar name, so I came to check.”\\n“Tanya Rosstaylor?”\\n“…Yes. In fact, you already applied for the dormitory before the vacation started.”\\nNew students can move into their designated dormitory at any time during vacation. This is to give you time to prepare for the start of the semester.\\nStill, most of them complete their preparation at home and enter the university only around the time of the placement test. If you come early, there is nothing to do.\\n“Currently, you have been assigned a room in the renovated Ofilis building and are in the process of moving… Isn’t this your position?”\\n“…”\\nI have been excommunicated from the Ross Taylor family.\\nTanya is the beloved daughter of the Ross Taylor family.\\n“And since you are my sister, you know her better than me… but it seems like she is holding a grudge against Master Ed for tarnishing the family’s honor.”\\n“okay.”\\n“…”\\nBell just stares at me, probably not satisfied with the dry response.\\n“Are you okay? I am in a position where I can only judge based on the personal information and first impressions I received in advance, but… I could sense from just a brief glance that Lady Tanya is someone who attaches great importance to the family’s honor.”\\n“I understand what you mean.”\\nYour flesh and blood despise you. If one day you start to be looked down on by a family member with whom you shared a brilliant upbringing, it will definitely be mentally difficult.\\nIn short, Belle was worried and came to warn me in advance. Should I at least prepare my mind?\\n“Thank you for your concern.”\\nI already know Tanya well.\\n〈The Failed Swordsman of Sylvania〉 Act 3, Scene 3. The first person in Sylvania history to seek the honor of first-year student council president in an episode centered on political warfare.\\nAs usual, characters from the Ross Taylor family are villains.\\nThis is Tanya, who looks up to noble honor and glory. In this star-filled Sylvania, being the youngest student council president must seem like a desirable fruition.\\nI closed my eyes gently.\\nVillainous daughter.\\nTanya is the stereotype of that magical word, but she should not be dismissed as simply a wasteful villain. This is because Tanya also has her own natural talent.\\nTanya is a political genius.\\nHe is a person who has learned on his own how to bring legitimacy to himself by discussing causes, dividing sides, flawing the opponent, and misleading the issue.\\nPolitical warfare ultimately becomes a fight in dirty mud. At least that’s the case with Tanya’s values.\\nPolitics is not a process of finding the best option, but is often a process of finding a less bad option.\\nIf there is a worst evil and a lesser evil, the public has no choice but to side with the lesser evil.\\nIn political warfare, victory ultimately comes down to who can become the lesser evil.\\nThose are the values that Tanya Rosstaylor instinctively learned.\\nThe reason he came to Sylvania so early was probably to secure as much power as possible before the semester started.\\nI will go around meeting and cajoling influential and powerful figures within the university.\\nIn the process, what will we do with Ed Ross-Taylor, who was born in the same blood?\\nAlthough we are blood relatives, since I have been excommunicated, it is safe to say that we are strangers for now.\\nStill, given Tanya’s personality, I don’t think she would just let someone who tarnished her family’s name stand by, but I can’t tell whether she would harbor a grudge against me enough to take active measures.\\nBecause… I don’t know! Not anyone else, me!\\nI have played Sylvania’s failed swordsman countless times. I am somewhat familiar with Tanya, who appears as a fairly significant villain… but ironically, I don’t know anything about myself.\\nEd Rothtaylor is a flashy villain who appears briefly in the beginning and then disappears…!\\nIt’s not even covered properly in the setting book, and even if it’s a later story, it’s nothing special, and it’s really just an extra…!\\nWhat kind of attitude did he live in at the Ross Taylor mansion, what was his evaluation within the family, what was his relationship with Tanya Ross Taylor… There is nothing that can be said to be a real clue. There isn’t a single one…!\\nHowever, considering the history of this body… we can at least infer that it would not have been treated very well.\\nIt would be nice if he was treated like an ordinary person, but it would be nice if he wasn’t looked down upon because he was arrogant and had no ability.\\n“Well, I’m busy right now… If Tanya doesn’t show some signs first, I won’t have any reason to be concerned.”\\n“If you say that, I don’t think I have anything more to say as a mere user.”\\n“Anyway, I’m grateful. It was already a headache to have to wash my school uniform again because I was working on a scholarship.”\\n“It’s okay. It seems like Lady Lucy has been taking care of us a lot lately, but it’s also because we’re not sure how to handle things, so I feel very uncomfortable.”\\n“Have you even considered that?”\\nBelle glanced at her chin and spoke while squinting.\\n“Recently, when I was washing Lucy’s clothes, a lot of blonde hair came out. When I was washing Master Ed’s clothes, a lot of things like the smell of the scented candle used in Lucy’s clothes and pure white hair came out… so I just made that inference.”\\nLucy has definitely started to cling to me more these days.\\nIf I’m not doing any physical work, I feel like I’ve been lying on my stomach on my knees or taking a nap and waking up to find myself snoring on my stomach more often.\\nAs Belle said, I was in a strangely awkward position, but to have noticed that much after just washing my clothes… What would I have done if I hadn’t been a maid…?\\n“Well… you don’t have to worry about such things, Mr. Bell. Just sharing ingredients and helping out like this once in a while is a blessing to me. If you had a maid, you would have a lot to worry about other than that, right? “Work handling… human relations…” ”\\nThere are so many talented people in the business handling department, and since management and supervision work has become the main task, I feel like it has become easier because the physical labor itself has decreased. And in the human relations department, it’s Master Ed rather than me. … Um…”\\nBelle continued her story, looked at my washed school uniform for a moment, and trailed off.\\n“No. Worrying too much would also be a burden. No matter how complicated the interpersonal relationships around Master Ed become, it is up to Master Ed to take care of it.”\\n“?”\\n“I won’t interfere with the topic. Whatever you ladies decide… it will all be your own choice.”\\nAfter saying that and exhaling one by one, the breath blew out and scattered aimlessly into the sky.\\n“The weather has become much colder. Master Ed, please take care of your health as well. If you suffer from a minor illness in the winter, you will have a hard time. Your face is reddish and you must have a slight fever.”\\n“…Do you see a lot?”\\nIndeed, this is a person who has held the ace position among the maids at Ofilis Hall for several years. Can you check your health just by looking at your face?\\n“I think I’ll have to live with a mild fever for a while due to the circumstances.”\\n“If you don’t take good care of your body, there are many people around you who will be offended in various ways. Anyway, your health is the best. It looks like it will get colder in the future, so please be careful.”\\nAnd Belle looked at me intently and spoke once more.\\n“…But are you really going to continue to respect me?”\\nIndeed… it’s terrible…\\nActually, I thought about timing it well and just leaving it alone…\\nbut at this point, I’m starting to get angry too…?\\n*\\n“Thank you to the bachelor’s scholarship students for coming. “My name is Anise Haylan, and I am working as a senior assistant in Professor Claire’s lab.”\\n“Uh…uh…uh…”\\n“At the moment, Assistant Professor Clare is busy handling the conference agenda and checking the academic education schedule for next semester. You’ve been awake for 44 hours. Because the deadline for the agenda is tomorrow. So now communication is impossible. I, the senior assistant, will relay important matters on your behalf.”\\nBehind Anise, who is smiling with a sparkling face, you can see a blonde woman lying face down on her desk. Her\\nglasses are off to one side and her face is devastated. The figure taking a break looked more like a zombie than a human.\\nIn one corner of the fairly spacious laboratory, there were three male students, including me, standing. They were bachelor’s scholarship students, one from each grade.\\nClevious Nortondale, Ed Ross Taylor, and Onyx Pelomere. In order, they are 1st, 2nd, and 3rd years. Although they are scheduled to go up one grade soon.\\n“What?” Ed Rosstaylor… Why are you here…?”\\nI was a little surprised when I saw Clevius’ appearance.\\nHe is a descendant of the Nortondale family, the best swordsmen on the continent, but due to a mistake he made when he was young, the family almost treated him as an abandoned child. Thanks to this, my self-esteem has plummeted and my attitude towards everything is negative.\\nI knew that I would not receive sufficient support from my family. Well, I thought I\\nwould continue to attend school somehow, but was this how I was covering the shortfall in tuition? .\\nIn addition, there was a third-year senior named Onyx with a sturdy build, and this was a complete first meeting. From what I heard, he was part of the same combat club as Clevius.\\n“What we, the bachelor’s scholarship students, are going to do is learn the basics of the new student placement test that will be held soon. Supervises preparation and test day management. In fact, you can consider this as your main task.”\\nAnise was still smiling and put several documents down on the table.\\n“This is the plan for the freshman class placement test that Assistant Professor Claire put a lot of thought into over the last week.”\\nProfessor Glast every year. The freshmen class placement test was in charge of. This year, Assistant Professor Claire is in charge.\\nOf course, we know the results.\\nNot a single student has been assigned to the Ministry of Magic’s Class A according to Assistant Professor Claire’s placement test.\\nIn a way, it is Professor Glast. It could be said to be even worse than that, but in fact, it is not because the professor in charge has a bad personality… It is because there is a fundamental flaw in the test design.\\nIn fact, it is not even a flaw, it is just that the level of difficulty is too difficult. It is clearly a mistake in the work of Assistant Professor Claire. This is it.\\nThe freshmen just accepted it because they didn’t know what it was, so it was so hard to get into Class A. They had to work hard and be promoted to Class A. Still, it\\nwas fairer than Professor Glast, who just tried to select Class A students according to his own uneven standards. What’s funny is that it was strange to say that it was unfair since no one was able to enter Class A.@@novelbin@@\\n“Last year, it was held in the forest due north of Aken Island, but today it will be held in the right mountain in the northwest corner. It is more like a hill than a mountain, but the road is rough so it will take some time to climb. It may not be possible, but we need to prepare for the possibility of a shipwreck.”\\nAken Island becomes busier the further south you go. On the other hand, the further north you go, the more quiet and natural it becomes. It\\nis connected to the Nofaren Peninsula on the protruding continent. This is because there are only two bridges, one in the southeast\\nand the other in the southwest. The area around the bridge connecting the continent is a major transportation hub, so it was natural that the further north you go, the less people touch it. The\\nright mountain on the northwest side of Aken Island naturally maintained its beautiful appearance. . Apparently, Assistant Professor Claire chose the mountain as the location for the placement test.\\n“The basic outline is similar to last year’s test. We will place magic stones here and there on Mt. Orn, and each student will use their mana sensitivity to find the magic stones. And when you find the magic stone, offer it to the ‘Altar of Replacement’ at the top of the mountain and the test is over. You can get a grade A. The grading criteria below are well documented in the documents.”\\n“…I think there will be too many Class A students?”\\nOnyx Pelomere. A third-year member of the Combat Club with a sturdy build asked an obvious question.\\n“If you are a student of the Magic Department , Wouldn’t it be easy to simply find a magic stone? There may even be people who can find them through simple labor without magic power. All I have to do is offer it up on the altar of the summit and that’s it?”\\n“Of course, there is no clear path to the summit. Starting halfway up, magic equipment with all kinds of hallucinatory magic and dazzling magic will be laid out, and at the top, you’ll have to deal with monsters of intermediate or higher level.” “You’re going to\\nsolve the monsters? What if someone gets injured?”\\n“Of course it’s hallucination magic. However, if you do not defeat the illusion, the path will not clear. If you don’t have combat experience, it won’t be easy.”\\nIn short, the test includes finding the magic stone, reaching the top, exterminating the demonic illusions, and successfully offering the magic stone to the altar… and whether each element is successful or not. This is the grading standard.\\n“Senior Onyx assists Assistant Professor Claire in drawing up a procurement plan and arrangement plan for magical engineering supplies, and Clevious assists the Trix Building by submitting documents and receiving the necessary equipment that had been requested in advance. And Ed. “Ross Taylor…”\\nPerhaps because she was the only second-year classmate, Anis spoke to me in an easy manner.\\nThen, she strode towards me, smiled brightly, and made a friendly offer to me.\\n“Go on a field trip with me.” She\\nwas actually saying it. Even though we had never shared a relationship before, I was very impressed by his friendly smile.'"
      ]
     },
     "execution_count": 5,
     "metadata": {},
     "output_type": "execute_result"
    }
   ],
   "source": [
    "ch_content"
   ]
  },
  {
   "cell_type": "code",
   "execution_count": null,
   "id": "2205350c",
   "metadata": {},
   "outputs": [],
   "source": []
  },
  {
   "cell_type": "code",
   "execution_count": null,
   "id": "0ce4c8ec",
   "metadata": {},
   "outputs": [],
   "source": []
  },
  {
   "cell_type": "code",
   "execution_count": null,
   "id": "4299bf44",
   "metadata": {},
   "outputs": [],
   "source": []
  },
  {
   "cell_type": "code",
   "execution_count": null,
   "id": "5da7c7c9",
   "metadata": {},
   "outputs": [],
   "source": []
  },
  {
   "cell_type": "code",
   "execution_count": null,
   "id": "65893b2e",
   "metadata": {},
   "outputs": [],
   "source": []
  }
 ],
 "metadata": {
  "kernelspec": {
   "display_name": "Python 3 (ipykernel)",
   "language": "python",
   "name": "python3"
  },
  "language_info": {
   "codemirror_mode": {
    "name": "ipython",
    "version": 3
   },
   "file_extension": ".py",
   "mimetype": "text/x-python",
   "name": "python",
   "nbconvert_exporter": "python",
   "pygments_lexer": "ipython3",
   "version": "3.9.6"
  }
 },
 "nbformat": 4,
 "nbformat_minor": 5
}
