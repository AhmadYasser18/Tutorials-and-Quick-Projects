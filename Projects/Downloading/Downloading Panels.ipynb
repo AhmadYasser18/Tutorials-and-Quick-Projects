{
 "cells": [
  {
   "cell_type": "code",
   "execution_count": 1,
   "id": "d50c0af2",
   "metadata": {
    "ExecuteTime": {
     "end_time": "2022-08-01T20:41:59.850286Z",
     "start_time": "2022-08-01T20:41:57.522399Z"
    }
   },
   "outputs": [],
   "source": [
    "import requests\n",
    "from bs4 import BeautifulSoup\n",
    "import io\n",
    "from PIL import Image\n",
    "import os "
   ]
  },
  {
   "cell_type": "code",
   "execution_count": 2,
   "id": "701f1d22",
   "metadata": {
    "ExecuteTime": {
     "end_time": "2022-08-01T20:45:30.225468Z",
     "start_time": "2022-08-01T20:45:30.215471Z"
    }
   },
   "outputs": [],
   "source": [
    "#Enter chapters' link\n",
    "link=\"https://omniscient-readers.com/manga/omniscient-reader-chapter-1-0/\""
   ]
  },
  {
   "cell_type": "code",
   "execution_count": 16,
   "id": "b8645ef1",
   "metadata": {
    "ExecuteTime": {
     "end_time": "2022-08-01T21:33:50.496134Z",
     "start_time": "2022-08-01T21:33:47.175637Z"
    }
   },
   "outputs": [],
   "source": [
    "#Enter starting chapter\n",
    "ch=str()\n",
    "\n",
    "html_file=requests.get(link).text\n",
    "soup = BeautifulSoup(html_file, 'lxml')\n",
    "chapters=soup.find('ul',class_='su-posts su-posts-list-loop')\n",
    "\n",
    "for c in chapters.find_all('a'):\n",
    "    if ch==c.text.split()[-1]:\n",
    "        ch_link=c['href']"
   ]
  },
  {
   "cell_type": "code",
   "execution_count": null,
   "id": "3656e6c9",
   "metadata": {
    "ExecuteTime": {
     "end_time": "2022-08-01T21:51:57.383332Z",
     "start_time": "2022-08-01T21:50:59.348514Z"
    }
   },
   "outputs": [],
   "source": [
    "#Enter number of wanted chapters\n",
    "chaps_num= \n",
    "\n",
    "counter=0\n",
    "\n",
    "while True:\n",
    "    \n",
    "    html_file=requests.get(ch_link).text\n",
    "    soup = BeautifulSoup(html_file, 'lxml')\n",
    "    \n",
    "    chapter=' '.join(soup.title.text.split()[2:4])\n",
    "    print(chapter)\n",
    "    \n",
    "    panels=[i['src'] for i in soup.find_all('img') if 'chapter' in i['alt']]\n",
    "    p=1\n",
    "    part=1\n",
    "    print(f'passed panels {len(panels)}')\n",
    "    panelslist=[]\n",
    "    first=True\n",
    "    for i,j in enumerate(panels):\n",
    "        print(f'in panel:{p}')\n",
    "        try:\n",
    "            image_content=requests.get(j).content\n",
    "        except:\n",
    "            print(f'Error, panel:{p}//{len(panels)}')\n",
    "            image1.save(f'{chapter}part{part}.pdf', \"PDF\" ,resolution=100.0, save_all=True, append_images=panelslist)\n",
    "            part+=1\n",
    "            first=True\n",
    "            continue\n",
    "            break\n",
    "        image_file=io.BytesIO(image_content)\n",
    "            \n",
    "        if first:\n",
    "            image1=Image.open(image_file)\n",
    "            p+=1\n",
    "            first=False\n",
    "            print(f'finished panel:{p}')\n",
    "            continue\n",
    "                \n",
    "        panelslist.append(Image.open(image_file))\n",
    "        print(f'finished panel:{p}')\n",
    "        p+=1\n",
    "        \n",
    "        \n",
    "    image1.save(f'{chapter}.pdf', \"PDF\" ,resolution=100.0, save_all=True, append_images=panelslist)        \n",
    "            \n",
    "    \n",
    "    counter+=1\n",
    "        \n",
    "    if counter==chaps_num:\n",
    "        break\n",
    "    \n",
    "    try:\n",
    "        ch_link=soup.find('div' ,class_=\"col-md-6 next-post\").find('a')['href']\n",
    "    \n",
    "    except:      \n",
    "        print(f'Done.\\n{counter} downloaded')\n",
    "        break\n",
    "            "
   ]
  },
  {
   "cell_type": "code",
   "execution_count": null,
   "id": "85155733",
   "metadata": {},
   "outputs": [],
   "source": []
  }
 ],
 "metadata": {
  "kernelspec": {
   "display_name": "Python 3 (ipykernel)",
   "language": "python",
   "name": "python3"
  },
  "language_info": {
   "codemirror_mode": {
    "name": "ipython",
    "version": 3
   },
   "file_extension": ".py",
   "mimetype": "text/x-python",
   "name": "python",
   "nbconvert_exporter": "python",
   "pygments_lexer": "ipython3",
   "version": "3.9.6"
  }
 },
 "nbformat": 4,
 "nbformat_minor": 5
}
