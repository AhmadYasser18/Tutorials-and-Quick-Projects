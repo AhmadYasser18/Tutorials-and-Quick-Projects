{
 "cells": [
  {
   "cell_type": "code",
   "execution_count": 1,
   "id": "f8f06128",
   "metadata": {
    "ExecuteTime": {
     "end_time": "2022-04-05T21:10:03.231848Z",
     "start_time": "2022-04-05T21:10:03.199855Z"
    }
   },
   "outputs": [],
   "source": [
    "from instascrape import Reel"
   ]
  },
  {
   "cell_type": "code",
   "execution_count": 4,
   "id": "06e17fa0",
   "metadata": {
    "ExecuteTime": {
     "end_time": "2022-04-05T21:12:13.319508Z",
     "start_time": "2022-04-05T21:12:13.303506Z"
    }
   },
   "outputs": [],
   "source": [
    "link='https://www.instagram.com/p/CbK3_J2Kwt-/'"
   ]
  },
  {
   "cell_type": "code",
   "execution_count": 5,
   "id": "0797a014",
   "metadata": {
    "ExecuteTime": {
     "end_time": "2022-04-05T21:12:13.651355Z",
     "start_time": "2022-04-05T21:12:13.635504Z"
    }
   },
   "outputs": [],
   "source": [
    "insta=Reel(link)"
   ]
  },
  {
   "cell_type": "code",
   "execution_count": 7,
   "id": "b2c19029",
   "metadata": {
    "ExecuteTime": {
     "end_time": "2022-04-05T21:17:31.539280Z",
     "start_time": "2022-04-05T21:17:31.515283Z"
    }
   },
   "outputs": [],
   "source": [
    "SESSIONID=\"17ffb95af16-deb454\""
   ]
  },
  {
   "cell_type": "code",
   "execution_count": 8,
   "id": "2bcf6bab",
   "metadata": {
    "ExecuteTime": {
     "end_time": "2022-04-05T21:17:32.231314Z",
     "start_time": "2022-04-05T21:17:32.208787Z"
    }
   },
   "outputs": [],
   "source": [
    "header = {\n",
    "    \"User-Agent\": \"Mozilla/5.0 (Windows NT 10.0; Win64; x64)\\\n",
    "    AppleWebKit/537.36 (KHTML, like Gecko) Chrome/79.0.3945.74 \\\n",
    "    Safari/537.36 Edg/79.0.309.43\",\n",
    "    \"cookie\": f'sessionid={SESSIONID};'\n",
    "}\n",
    " "
   ]
  },
  {
   "cell_type": "code",
   "execution_count": 10,
   "id": "2edc5f68",
   "metadata": {
    "ExecuteTime": {
     "end_time": "2022-04-05T21:18:54.637131Z",
     "start_time": "2022-04-05T21:18:52.906803Z"
    }
   },
   "outputs": [],
   "source": [
    "insta.scrape(headers=header)"
   ]
  },
  {
   "cell_type": "code",
   "execution_count": 16,
   "id": "ce10e34e",
   "metadata": {
    "ExecuteTime": {
     "end_time": "2022-04-05T21:20:53.789783Z",
     "start_time": "2022-04-05T21:20:48.769367Z"
    }
   },
   "outputs": [],
   "source": [
    "insta.download(fp=\"C:\\\\Users\\\\HP 15\\\\Desktop\\\\Ahmad\\\\reel.mp4\")"
   ]
  },
  {
   "cell_type": "code",
   "execution_count": null,
   "id": "fd89e5ec",
   "metadata": {},
   "outputs": [],
   "source": []
  }
 ],
 "metadata": {
  "kernelspec": {
   "display_name": "Python 3 (ipykernel)",
   "language": "python",
   "name": "python3"
  },
  "language_info": {
   "codemirror_mode": {
    "name": "ipython",
    "version": 3
   },
   "file_extension": ".py",
   "mimetype": "text/x-python",
   "name": "python",
   "nbconvert_exporter": "python",
   "pygments_lexer": "ipython3",
   "version": "3.9.6"
  }
 },
 "nbformat": 4,
 "nbformat_minor": 5
}
